{
  "nbformat": 4,
  "nbformat_minor": 0,
  "metadata": {
    "colab": {
      "name": "Session 4.ipynb",
      "provenance": [],
      "include_colab_link": true
    },
    "kernelspec": {
      "name": "python3",
      "display_name": "Python 3"
    },
    "accelerator": "GPU",
    "widgets": {
      "application/vnd.jupyter.widget-state+json": {
        "3fadc0f6b14f4655be7cec599d0eb10a": {
          "model_module": "@jupyter-widgets/controls",
          "model_name": "HBoxModel",
          "state": {
            "_view_name": "HBoxView",
            "_dom_classes": [],
            "_model_name": "HBoxModel",
            "_view_module": "@jupyter-widgets/controls",
            "_model_module_version": "1.5.0",
            "_view_count": null,
            "_view_module_version": "1.5.0",
            "box_style": "",
            "layout": "IPY_MODEL_b31598d0c01948ff8532469555853820",
            "_model_module": "@jupyter-widgets/controls",
            "children": [
              "IPY_MODEL_ddd21fc2c5b84af38d921fb7985398d4",
              "IPY_MODEL_13afe71cda214c1196d73413303be545"
            ]
          }
        },
        "b31598d0c01948ff8532469555853820": {
          "model_module": "@jupyter-widgets/base",
          "model_name": "LayoutModel",
          "state": {
            "_view_name": "LayoutView",
            "grid_template_rows": null,
            "right": null,
            "justify_content": null,
            "_view_module": "@jupyter-widgets/base",
            "overflow": null,
            "_model_module_version": "1.2.0",
            "_view_count": null,
            "flex_flow": null,
            "width": null,
            "min_width": null,
            "border": null,
            "align_items": null,
            "bottom": null,
            "_model_module": "@jupyter-widgets/base",
            "top": null,
            "grid_column": null,
            "overflow_y": null,
            "overflow_x": null,
            "grid_auto_flow": null,
            "grid_area": null,
            "grid_template_columns": null,
            "flex": null,
            "_model_name": "LayoutModel",
            "justify_items": null,
            "grid_row": null,
            "max_height": null,
            "align_content": null,
            "visibility": null,
            "align_self": null,
            "height": null,
            "min_height": null,
            "padding": null,
            "grid_auto_rows": null,
            "grid_gap": null,
            "max_width": null,
            "order": null,
            "_view_module_version": "1.2.0",
            "grid_template_areas": null,
            "object_position": null,
            "object_fit": null,
            "grid_auto_columns": null,
            "margin": null,
            "display": null,
            "left": null
          }
        },
        "ddd21fc2c5b84af38d921fb7985398d4": {
          "model_module": "@jupyter-widgets/controls",
          "model_name": "FloatProgressModel",
          "state": {
            "_view_name": "ProgressView",
            "style": "IPY_MODEL_8ee483401dd94d31b491da784075b349",
            "_dom_classes": [],
            "description": "",
            "_model_name": "FloatProgressModel",
            "bar_style": "success",
            "max": 1,
            "_view_module": "@jupyter-widgets/controls",
            "_model_module_version": "1.5.0",
            "value": 1,
            "_view_count": null,
            "_view_module_version": "1.5.0",
            "orientation": "horizontal",
            "min": 0,
            "description_tooltip": null,
            "_model_module": "@jupyter-widgets/controls",
            "layout": "IPY_MODEL_a53609138e464f51a6794bfb0caff5e3"
          }
        },
        "13afe71cda214c1196d73413303be545": {
          "model_module": "@jupyter-widgets/controls",
          "model_name": "HTMLModel",
          "state": {
            "_view_name": "HTMLView",
            "style": "IPY_MODEL_5f3eb12b3a9a4064bd48336fffcfda86",
            "_dom_classes": [],
            "description": "",
            "_model_name": "HTMLModel",
            "placeholder": "​",
            "_view_module": "@jupyter-widgets/controls",
            "_model_module_version": "1.5.0",
            "value": " 26427392/? [00:04&lt;00:00, 6074408.69it/s]",
            "_view_count": null,
            "_view_module_version": "1.5.0",
            "description_tooltip": null,
            "_model_module": "@jupyter-widgets/controls",
            "layout": "IPY_MODEL_cd1854a02ea94a9594465152ca470f6d"
          }
        },
        "8ee483401dd94d31b491da784075b349": {
          "model_module": "@jupyter-widgets/controls",
          "model_name": "ProgressStyleModel",
          "state": {
            "_view_name": "StyleView",
            "_model_name": "ProgressStyleModel",
            "description_width": "initial",
            "_view_module": "@jupyter-widgets/base",
            "_model_module_version": "1.5.0",
            "_view_count": null,
            "_view_module_version": "1.2.0",
            "bar_color": null,
            "_model_module": "@jupyter-widgets/controls"
          }
        },
        "a53609138e464f51a6794bfb0caff5e3": {
          "model_module": "@jupyter-widgets/base",
          "model_name": "LayoutModel",
          "state": {
            "_view_name": "LayoutView",
            "grid_template_rows": null,
            "right": null,
            "justify_content": null,
            "_view_module": "@jupyter-widgets/base",
            "overflow": null,
            "_model_module_version": "1.2.0",
            "_view_count": null,
            "flex_flow": null,
            "width": null,
            "min_width": null,
            "border": null,
            "align_items": null,
            "bottom": null,
            "_model_module": "@jupyter-widgets/base",
            "top": null,
            "grid_column": null,
            "overflow_y": null,
            "overflow_x": null,
            "grid_auto_flow": null,
            "grid_area": null,
            "grid_template_columns": null,
            "flex": null,
            "_model_name": "LayoutModel",
            "justify_items": null,
            "grid_row": null,
            "max_height": null,
            "align_content": null,
            "visibility": null,
            "align_self": null,
            "height": null,
            "min_height": null,
            "padding": null,
            "grid_auto_rows": null,
            "grid_gap": null,
            "max_width": null,
            "order": null,
            "_view_module_version": "1.2.0",
            "grid_template_areas": null,
            "object_position": null,
            "object_fit": null,
            "grid_auto_columns": null,
            "margin": null,
            "display": null,
            "left": null
          }
        },
        "5f3eb12b3a9a4064bd48336fffcfda86": {
          "model_module": "@jupyter-widgets/controls",
          "model_name": "DescriptionStyleModel",
          "state": {
            "_view_name": "StyleView",
            "_model_name": "DescriptionStyleModel",
            "description_width": "",
            "_view_module": "@jupyter-widgets/base",
            "_model_module_version": "1.5.0",
            "_view_count": null,
            "_view_module_version": "1.2.0",
            "_model_module": "@jupyter-widgets/controls"
          }
        },
        "cd1854a02ea94a9594465152ca470f6d": {
          "model_module": "@jupyter-widgets/base",
          "model_name": "LayoutModel",
          "state": {
            "_view_name": "LayoutView",
            "grid_template_rows": null,
            "right": null,
            "justify_content": null,
            "_view_module": "@jupyter-widgets/base",
            "overflow": null,
            "_model_module_version": "1.2.0",
            "_view_count": null,
            "flex_flow": null,
            "width": null,
            "min_width": null,
            "border": null,
            "align_items": null,
            "bottom": null,
            "_model_module": "@jupyter-widgets/base",
            "top": null,
            "grid_column": null,
            "overflow_y": null,
            "overflow_x": null,
            "grid_auto_flow": null,
            "grid_area": null,
            "grid_template_columns": null,
            "flex": null,
            "_model_name": "LayoutModel",
            "justify_items": null,
            "grid_row": null,
            "max_height": null,
            "align_content": null,
            "visibility": null,
            "align_self": null,
            "height": null,
            "min_height": null,
            "padding": null,
            "grid_auto_rows": null,
            "grid_gap": null,
            "max_width": null,
            "order": null,
            "_view_module_version": "1.2.0",
            "grid_template_areas": null,
            "object_position": null,
            "object_fit": null,
            "grid_auto_columns": null,
            "margin": null,
            "display": null,
            "left": null
          }
        },
        "fbd47ce796154375a78070ec5abd87e9": {
          "model_module": "@jupyter-widgets/controls",
          "model_name": "HBoxModel",
          "state": {
            "_view_name": "HBoxView",
            "_dom_classes": [],
            "_model_name": "HBoxModel",
            "_view_module": "@jupyter-widgets/controls",
            "_model_module_version": "1.5.0",
            "_view_count": null,
            "_view_module_version": "1.5.0",
            "box_style": "",
            "layout": "IPY_MODEL_993ea16b5ae9471ca83eac363a4b2a48",
            "_model_module": "@jupyter-widgets/controls",
            "children": [
              "IPY_MODEL_ca5742de1c70465cb0c31e25ae9296e7",
              "IPY_MODEL_56bb3e3d46804c798cd21675975cd417"
            ]
          }
        },
        "993ea16b5ae9471ca83eac363a4b2a48": {
          "model_module": "@jupyter-widgets/base",
          "model_name": "LayoutModel",
          "state": {
            "_view_name": "LayoutView",
            "grid_template_rows": null,
            "right": null,
            "justify_content": null,
            "_view_module": "@jupyter-widgets/base",
            "overflow": null,
            "_model_module_version": "1.2.0",
            "_view_count": null,
            "flex_flow": null,
            "width": null,
            "min_width": null,
            "border": null,
            "align_items": null,
            "bottom": null,
            "_model_module": "@jupyter-widgets/base",
            "top": null,
            "grid_column": null,
            "overflow_y": null,
            "overflow_x": null,
            "grid_auto_flow": null,
            "grid_area": null,
            "grid_template_columns": null,
            "flex": null,
            "_model_name": "LayoutModel",
            "justify_items": null,
            "grid_row": null,
            "max_height": null,
            "align_content": null,
            "visibility": null,
            "align_self": null,
            "height": null,
            "min_height": null,
            "padding": null,
            "grid_auto_rows": null,
            "grid_gap": null,
            "max_width": null,
            "order": null,
            "_view_module_version": "1.2.0",
            "grid_template_areas": null,
            "object_position": null,
            "object_fit": null,
            "grid_auto_columns": null,
            "margin": null,
            "display": null,
            "left": null
          }
        },
        "ca5742de1c70465cb0c31e25ae9296e7": {
          "model_module": "@jupyter-widgets/controls",
          "model_name": "FloatProgressModel",
          "state": {
            "_view_name": "ProgressView",
            "style": "IPY_MODEL_e880e1bc84e54848be4e2f67c22f48f1",
            "_dom_classes": [],
            "description": "",
            "_model_name": "FloatProgressModel",
            "bar_style": "success",
            "max": 1,
            "_view_module": "@jupyter-widgets/controls",
            "_model_module_version": "1.5.0",
            "value": 1,
            "_view_count": null,
            "_view_module_version": "1.5.0",
            "orientation": "horizontal",
            "min": 0,
            "description_tooltip": null,
            "_model_module": "@jupyter-widgets/controls",
            "layout": "IPY_MODEL_86377fb355494d7ebb839a695614eb95"
          }
        },
        "56bb3e3d46804c798cd21675975cd417": {
          "model_module": "@jupyter-widgets/controls",
          "model_name": "HTMLModel",
          "state": {
            "_view_name": "HTMLView",
            "style": "IPY_MODEL_f44dd3fba5694bbfb76f08e3dc57b042",
            "_dom_classes": [],
            "description": "",
            "_model_name": "HTMLModel",
            "placeholder": "​",
            "_view_module": "@jupyter-widgets/controls",
            "_model_module_version": "1.5.0",
            "value": " 32768/? [00:02&lt;00:00, 14735.82it/s]",
            "_view_count": null,
            "_view_module_version": "1.5.0",
            "description_tooltip": null,
            "_model_module": "@jupyter-widgets/controls",
            "layout": "IPY_MODEL_4cc953d9711149dd937e185e9e5c8082"
          }
        },
        "e880e1bc84e54848be4e2f67c22f48f1": {
          "model_module": "@jupyter-widgets/controls",
          "model_name": "ProgressStyleModel",
          "state": {
            "_view_name": "StyleView",
            "_model_name": "ProgressStyleModel",
            "description_width": "initial",
            "_view_module": "@jupyter-widgets/base",
            "_model_module_version": "1.5.0",
            "_view_count": null,
            "_view_module_version": "1.2.0",
            "bar_color": null,
            "_model_module": "@jupyter-widgets/controls"
          }
        },
        "86377fb355494d7ebb839a695614eb95": {
          "model_module": "@jupyter-widgets/base",
          "model_name": "LayoutModel",
          "state": {
            "_view_name": "LayoutView",
            "grid_template_rows": null,
            "right": null,
            "justify_content": null,
            "_view_module": "@jupyter-widgets/base",
            "overflow": null,
            "_model_module_version": "1.2.0",
            "_view_count": null,
            "flex_flow": null,
            "width": null,
            "min_width": null,
            "border": null,
            "align_items": null,
            "bottom": null,
            "_model_module": "@jupyter-widgets/base",
            "top": null,
            "grid_column": null,
            "overflow_y": null,
            "overflow_x": null,
            "grid_auto_flow": null,
            "grid_area": null,
            "grid_template_columns": null,
            "flex": null,
            "_model_name": "LayoutModel",
            "justify_items": null,
            "grid_row": null,
            "max_height": null,
            "align_content": null,
            "visibility": null,
            "align_self": null,
            "height": null,
            "min_height": null,
            "padding": null,
            "grid_auto_rows": null,
            "grid_gap": null,
            "max_width": null,
            "order": null,
            "_view_module_version": "1.2.0",
            "grid_template_areas": null,
            "object_position": null,
            "object_fit": null,
            "grid_auto_columns": null,
            "margin": null,
            "display": null,
            "left": null
          }
        },
        "f44dd3fba5694bbfb76f08e3dc57b042": {
          "model_module": "@jupyter-widgets/controls",
          "model_name": "DescriptionStyleModel",
          "state": {
            "_view_name": "StyleView",
            "_model_name": "DescriptionStyleModel",
            "description_width": "",
            "_view_module": "@jupyter-widgets/base",
            "_model_module_version": "1.5.0",
            "_view_count": null,
            "_view_module_version": "1.2.0",
            "_model_module": "@jupyter-widgets/controls"
          }
        },
        "4cc953d9711149dd937e185e9e5c8082": {
          "model_module": "@jupyter-widgets/base",
          "model_name": "LayoutModel",
          "state": {
            "_view_name": "LayoutView",
            "grid_template_rows": null,
            "right": null,
            "justify_content": null,
            "_view_module": "@jupyter-widgets/base",
            "overflow": null,
            "_model_module_version": "1.2.0",
            "_view_count": null,
            "flex_flow": null,
            "width": null,
            "min_width": null,
            "border": null,
            "align_items": null,
            "bottom": null,
            "_model_module": "@jupyter-widgets/base",
            "top": null,
            "grid_column": null,
            "overflow_y": null,
            "overflow_x": null,
            "grid_auto_flow": null,
            "grid_area": null,
            "grid_template_columns": null,
            "flex": null,
            "_model_name": "LayoutModel",
            "justify_items": null,
            "grid_row": null,
            "max_height": null,
            "align_content": null,
            "visibility": null,
            "align_self": null,
            "height": null,
            "min_height": null,
            "padding": null,
            "grid_auto_rows": null,
            "grid_gap": null,
            "max_width": null,
            "order": null,
            "_view_module_version": "1.2.0",
            "grid_template_areas": null,
            "object_position": null,
            "object_fit": null,
            "grid_auto_columns": null,
            "margin": null,
            "display": null,
            "left": null
          }
        },
        "e79d9b52995d4f1f9132ef8bf7e57ead": {
          "model_module": "@jupyter-widgets/controls",
          "model_name": "HBoxModel",
          "state": {
            "_view_name": "HBoxView",
            "_dom_classes": [],
            "_model_name": "HBoxModel",
            "_view_module": "@jupyter-widgets/controls",
            "_model_module_version": "1.5.0",
            "_view_count": null,
            "_view_module_version": "1.5.0",
            "box_style": "",
            "layout": "IPY_MODEL_930b9cc7e52e449ab6e2a49eaf91fb22",
            "_model_module": "@jupyter-widgets/controls",
            "children": [
              "IPY_MODEL_6c8438fc45894425b256b572a7918063",
              "IPY_MODEL_41a8b4998fa5475388bae40433d4fcca"
            ]
          }
        },
        "930b9cc7e52e449ab6e2a49eaf91fb22": {
          "model_module": "@jupyter-widgets/base",
          "model_name": "LayoutModel",
          "state": {
            "_view_name": "LayoutView",
            "grid_template_rows": null,
            "right": null,
            "justify_content": null,
            "_view_module": "@jupyter-widgets/base",
            "overflow": null,
            "_model_module_version": "1.2.0",
            "_view_count": null,
            "flex_flow": null,
            "width": null,
            "min_width": null,
            "border": null,
            "align_items": null,
            "bottom": null,
            "_model_module": "@jupyter-widgets/base",
            "top": null,
            "grid_column": null,
            "overflow_y": null,
            "overflow_x": null,
            "grid_auto_flow": null,
            "grid_area": null,
            "grid_template_columns": null,
            "flex": null,
            "_model_name": "LayoutModel",
            "justify_items": null,
            "grid_row": null,
            "max_height": null,
            "align_content": null,
            "visibility": null,
            "align_self": null,
            "height": null,
            "min_height": null,
            "padding": null,
            "grid_auto_rows": null,
            "grid_gap": null,
            "max_width": null,
            "order": null,
            "_view_module_version": "1.2.0",
            "grid_template_areas": null,
            "object_position": null,
            "object_fit": null,
            "grid_auto_columns": null,
            "margin": null,
            "display": null,
            "left": null
          }
        },
        "6c8438fc45894425b256b572a7918063": {
          "model_module": "@jupyter-widgets/controls",
          "model_name": "FloatProgressModel",
          "state": {
            "_view_name": "ProgressView",
            "style": "IPY_MODEL_a66c71837743443cae7e16ab211c96d5",
            "_dom_classes": [],
            "description": "",
            "_model_name": "FloatProgressModel",
            "bar_style": "success",
            "max": 1,
            "_view_module": "@jupyter-widgets/controls",
            "_model_module_version": "1.5.0",
            "value": 1,
            "_view_count": null,
            "_view_module_version": "1.5.0",
            "orientation": "horizontal",
            "min": 0,
            "description_tooltip": null,
            "_model_module": "@jupyter-widgets/controls",
            "layout": "IPY_MODEL_5a9b5771254945efae77b4b267c00d27"
          }
        },
        "41a8b4998fa5475388bae40433d4fcca": {
          "model_module": "@jupyter-widgets/controls",
          "model_name": "HTMLModel",
          "state": {
            "_view_name": "HTMLView",
            "style": "IPY_MODEL_90946196a40a445aac5a92b989e11709",
            "_dom_classes": [],
            "description": "",
            "_model_name": "HTMLModel",
            "placeholder": "​",
            "_view_module": "@jupyter-widgets/controls",
            "_model_module_version": "1.5.0",
            "value": " 4423680/? [00:01&lt;00:00, 2868963.57it/s]",
            "_view_count": null,
            "_view_module_version": "1.5.0",
            "description_tooltip": null,
            "_model_module": "@jupyter-widgets/controls",
            "layout": "IPY_MODEL_4fbd3cae7b774d398f19587380914408"
          }
        },
        "a66c71837743443cae7e16ab211c96d5": {
          "model_module": "@jupyter-widgets/controls",
          "model_name": "ProgressStyleModel",
          "state": {
            "_view_name": "StyleView",
            "_model_name": "ProgressStyleModel",
            "description_width": "initial",
            "_view_module": "@jupyter-widgets/base",
            "_model_module_version": "1.5.0",
            "_view_count": null,
            "_view_module_version": "1.2.0",
            "bar_color": null,
            "_model_module": "@jupyter-widgets/controls"
          }
        },
        "5a9b5771254945efae77b4b267c00d27": {
          "model_module": "@jupyter-widgets/base",
          "model_name": "LayoutModel",
          "state": {
            "_view_name": "LayoutView",
            "grid_template_rows": null,
            "right": null,
            "justify_content": null,
            "_view_module": "@jupyter-widgets/base",
            "overflow": null,
            "_model_module_version": "1.2.0",
            "_view_count": null,
            "flex_flow": null,
            "width": null,
            "min_width": null,
            "border": null,
            "align_items": null,
            "bottom": null,
            "_model_module": "@jupyter-widgets/base",
            "top": null,
            "grid_column": null,
            "overflow_y": null,
            "overflow_x": null,
            "grid_auto_flow": null,
            "grid_area": null,
            "grid_template_columns": null,
            "flex": null,
            "_model_name": "LayoutModel",
            "justify_items": null,
            "grid_row": null,
            "max_height": null,
            "align_content": null,
            "visibility": null,
            "align_self": null,
            "height": null,
            "min_height": null,
            "padding": null,
            "grid_auto_rows": null,
            "grid_gap": null,
            "max_width": null,
            "order": null,
            "_view_module_version": "1.2.0",
            "grid_template_areas": null,
            "object_position": null,
            "object_fit": null,
            "grid_auto_columns": null,
            "margin": null,
            "display": null,
            "left": null
          }
        },
        "90946196a40a445aac5a92b989e11709": {
          "model_module": "@jupyter-widgets/controls",
          "model_name": "DescriptionStyleModel",
          "state": {
            "_view_name": "StyleView",
            "_model_name": "DescriptionStyleModel",
            "description_width": "",
            "_view_module": "@jupyter-widgets/base",
            "_model_module_version": "1.5.0",
            "_view_count": null,
            "_view_module_version": "1.2.0",
            "_model_module": "@jupyter-widgets/controls"
          }
        },
        "4fbd3cae7b774d398f19587380914408": {
          "model_module": "@jupyter-widgets/base",
          "model_name": "LayoutModel",
          "state": {
            "_view_name": "LayoutView",
            "grid_template_rows": null,
            "right": null,
            "justify_content": null,
            "_view_module": "@jupyter-widgets/base",
            "overflow": null,
            "_model_module_version": "1.2.0",
            "_view_count": null,
            "flex_flow": null,
            "width": null,
            "min_width": null,
            "border": null,
            "align_items": null,
            "bottom": null,
            "_model_module": "@jupyter-widgets/base",
            "top": null,
            "grid_column": null,
            "overflow_y": null,
            "overflow_x": null,
            "grid_auto_flow": null,
            "grid_area": null,
            "grid_template_columns": null,
            "flex": null,
            "_model_name": "LayoutModel",
            "justify_items": null,
            "grid_row": null,
            "max_height": null,
            "align_content": null,
            "visibility": null,
            "align_self": null,
            "height": null,
            "min_height": null,
            "padding": null,
            "grid_auto_rows": null,
            "grid_gap": null,
            "max_width": null,
            "order": null,
            "_view_module_version": "1.2.0",
            "grid_template_areas": null,
            "object_position": null,
            "object_fit": null,
            "grid_auto_columns": null,
            "margin": null,
            "display": null,
            "left": null
          }
        },
        "a79ce9311af14aa2971e224718afef9c": {
          "model_module": "@jupyter-widgets/controls",
          "model_name": "HBoxModel",
          "state": {
            "_view_name": "HBoxView",
            "_dom_classes": [],
            "_model_name": "HBoxModel",
            "_view_module": "@jupyter-widgets/controls",
            "_model_module_version": "1.5.0",
            "_view_count": null,
            "_view_module_version": "1.5.0",
            "box_style": "",
            "layout": "IPY_MODEL_2451994e2afd45a1b6e18088c24e2d5c",
            "_model_module": "@jupyter-widgets/controls",
            "children": [
              "IPY_MODEL_31aef5687d6e4240bd2ffe17cc9cc158",
              "IPY_MODEL_6e0cddd371da4e5ab984fc76b04cb29d"
            ]
          }
        },
        "2451994e2afd45a1b6e18088c24e2d5c": {
          "model_module": "@jupyter-widgets/base",
          "model_name": "LayoutModel",
          "state": {
            "_view_name": "LayoutView",
            "grid_template_rows": null,
            "right": null,
            "justify_content": null,
            "_view_module": "@jupyter-widgets/base",
            "overflow": null,
            "_model_module_version": "1.2.0",
            "_view_count": null,
            "flex_flow": null,
            "width": null,
            "min_width": null,
            "border": null,
            "align_items": null,
            "bottom": null,
            "_model_module": "@jupyter-widgets/base",
            "top": null,
            "grid_column": null,
            "overflow_y": null,
            "overflow_x": null,
            "grid_auto_flow": null,
            "grid_area": null,
            "grid_template_columns": null,
            "flex": null,
            "_model_name": "LayoutModel",
            "justify_items": null,
            "grid_row": null,
            "max_height": null,
            "align_content": null,
            "visibility": null,
            "align_self": null,
            "height": null,
            "min_height": null,
            "padding": null,
            "grid_auto_rows": null,
            "grid_gap": null,
            "max_width": null,
            "order": null,
            "_view_module_version": "1.2.0",
            "grid_template_areas": null,
            "object_position": null,
            "object_fit": null,
            "grid_auto_columns": null,
            "margin": null,
            "display": null,
            "left": null
          }
        },
        "31aef5687d6e4240bd2ffe17cc9cc158": {
          "model_module": "@jupyter-widgets/controls",
          "model_name": "FloatProgressModel",
          "state": {
            "_view_name": "ProgressView",
            "style": "IPY_MODEL_0c1e27636e8a48f2b4cef60a593c6f49",
            "_dom_classes": [],
            "description": "",
            "_model_name": "FloatProgressModel",
            "bar_style": "success",
            "max": 1,
            "_view_module": "@jupyter-widgets/controls",
            "_model_module_version": "1.5.0",
            "value": 1,
            "_view_count": null,
            "_view_module_version": "1.5.0",
            "orientation": "horizontal",
            "min": 0,
            "description_tooltip": null,
            "_model_module": "@jupyter-widgets/controls",
            "layout": "IPY_MODEL_32d9f98a3d5c4e8390d0af3982122c89"
          }
        },
        "6e0cddd371da4e5ab984fc76b04cb29d": {
          "model_module": "@jupyter-widgets/controls",
          "model_name": "HTMLModel",
          "state": {
            "_view_name": "HTMLView",
            "style": "IPY_MODEL_b57d64e8ebb045609232f42c7de29fd8",
            "_dom_classes": [],
            "description": "",
            "_model_name": "HTMLModel",
            "placeholder": "​",
            "_view_module": "@jupyter-widgets/controls",
            "_model_module_version": "1.5.0",
            "value": " 8192/? [00:00&lt;00:00, 15556.81it/s]",
            "_view_count": null,
            "_view_module_version": "1.5.0",
            "description_tooltip": null,
            "_model_module": "@jupyter-widgets/controls",
            "layout": "IPY_MODEL_fa0a1078aaae4bd7aee423999c01a627"
          }
        },
        "0c1e27636e8a48f2b4cef60a593c6f49": {
          "model_module": "@jupyter-widgets/controls",
          "model_name": "ProgressStyleModel",
          "state": {
            "_view_name": "StyleView",
            "_model_name": "ProgressStyleModel",
            "description_width": "initial",
            "_view_module": "@jupyter-widgets/base",
            "_model_module_version": "1.5.0",
            "_view_count": null,
            "_view_module_version": "1.2.0",
            "bar_color": null,
            "_model_module": "@jupyter-widgets/controls"
          }
        },
        "32d9f98a3d5c4e8390d0af3982122c89": {
          "model_module": "@jupyter-widgets/base",
          "model_name": "LayoutModel",
          "state": {
            "_view_name": "LayoutView",
            "grid_template_rows": null,
            "right": null,
            "justify_content": null,
            "_view_module": "@jupyter-widgets/base",
            "overflow": null,
            "_model_module_version": "1.2.0",
            "_view_count": null,
            "flex_flow": null,
            "width": null,
            "min_width": null,
            "border": null,
            "align_items": null,
            "bottom": null,
            "_model_module": "@jupyter-widgets/base",
            "top": null,
            "grid_column": null,
            "overflow_y": null,
            "overflow_x": null,
            "grid_auto_flow": null,
            "grid_area": null,
            "grid_template_columns": null,
            "flex": null,
            "_model_name": "LayoutModel",
            "justify_items": null,
            "grid_row": null,
            "max_height": null,
            "align_content": null,
            "visibility": null,
            "align_self": null,
            "height": null,
            "min_height": null,
            "padding": null,
            "grid_auto_rows": null,
            "grid_gap": null,
            "max_width": null,
            "order": null,
            "_view_module_version": "1.2.0",
            "grid_template_areas": null,
            "object_position": null,
            "object_fit": null,
            "grid_auto_columns": null,
            "margin": null,
            "display": null,
            "left": null
          }
        },
        "b57d64e8ebb045609232f42c7de29fd8": {
          "model_module": "@jupyter-widgets/controls",
          "model_name": "DescriptionStyleModel",
          "state": {
            "_view_name": "StyleView",
            "_model_name": "DescriptionStyleModel",
            "description_width": "",
            "_view_module": "@jupyter-widgets/base",
            "_model_module_version": "1.5.0",
            "_view_count": null,
            "_view_module_version": "1.2.0",
            "_model_module": "@jupyter-widgets/controls"
          }
        },
        "fa0a1078aaae4bd7aee423999c01a627": {
          "model_module": "@jupyter-widgets/base",
          "model_name": "LayoutModel",
          "state": {
            "_view_name": "LayoutView",
            "grid_template_rows": null,
            "right": null,
            "justify_content": null,
            "_view_module": "@jupyter-widgets/base",
            "overflow": null,
            "_model_module_version": "1.2.0",
            "_view_count": null,
            "flex_flow": null,
            "width": null,
            "min_width": null,
            "border": null,
            "align_items": null,
            "bottom": null,
            "_model_module": "@jupyter-widgets/base",
            "top": null,
            "grid_column": null,
            "overflow_y": null,
            "overflow_x": null,
            "grid_auto_flow": null,
            "grid_area": null,
            "grid_template_columns": null,
            "flex": null,
            "_model_name": "LayoutModel",
            "justify_items": null,
            "grid_row": null,
            "max_height": null,
            "align_content": null,
            "visibility": null,
            "align_self": null,
            "height": null,
            "min_height": null,
            "padding": null,
            "grid_auto_rows": null,
            "grid_gap": null,
            "max_width": null,
            "order": null,
            "_view_module_version": "1.2.0",
            "grid_template_areas": null,
            "object_position": null,
            "object_fit": null,
            "grid_auto_columns": null,
            "margin": null,
            "display": null,
            "left": null
          }
        }
      }
    }
  },
  "cells": [
    {
      "cell_type": "markdown",
      "metadata": {
        "id": "view-in-github",
        "colab_type": "text"
      },
      "source": [
        "<a href=\"https://colab.research.google.com/github/AkshitAggarwal/TSAI_EVA5B2_Phase1/blob/main/Session_04/Session_4.ipynb\" target=\"_parent\"><img src=\"https://colab.research.google.com/assets/colab-badge.svg\" alt=\"Open In Colab\"/></a>"
      ]
    },
    {
      "cell_type": "markdown",
      "metadata": {
        "id": "_oMNMiQVFeGC"
      },
      "source": [
        "![Pytorch](https://miro.medium.com/max/1024/1*KKADWARPMxHb-WMxCgW_xA.png)\n",
        "# Pytorch\n",
        "\n",
        "An open source machine learning framework that accelerates the path from research prototyping to production deployment.\n",
        "\n",
        "It is a deep learning framework and a scientific computing package.\n",
        "\n",
        "It has several components that you'd like to be aware of (from future perspective):\n",
        "* PyTorch is production ready. With **torchScript**, PyTorch provides ease-of-use and flexiblility in _eager_ mode, while seamlessly  transitioning to graph mode for speed, optimization, and functionality in C++ runtime environments.\n",
        "* **TorchServe** is an easy to use tool for deploying PyTorch models at scale. It is cloud and environment agnostic and supports features such as multi-model serving, logging, metrics and the creation of RESTful endpoints for application integration.\n",
        "* Optimized performance in both research and production by taking advantage of native support for asynchronous execution of collective operations and peer-to-peer communication that is accessible from Python and C++.\n",
        "* PyTorch supports an end-to-end workflow from Python to deployment on iOS and Android. It extends the PyTorch API to cover common preprocessing and integration tasks needed for incorporating ML in mobile applications.\n",
        "* An active community of researchers and developers have built a rich ecosystem of tools and libraries for extending PyTorch and supporting development in areas from computer vision to reinforcement learning.\n",
        "* Export models in the standard **ONNX** (Open Neural Network Exchange) format for direct access to ONNX-compatible platforms, runtimes, visualizers, and more.\n",
        "* The C++ frontend is a pure C++ interface to PyTorch that follows the design and architecture of the established Python frontend. It is intended to enable research in high performance, low latency and bare metal C++ applications.\n",
        "* PyTorch is well supported on major cloud platforms, providing frictionless development and easy scaling through prebuilt images, large scale training on GPUs, ability to run models in a production scale environment, and more.\n",
        "\n",
        "| **PyTorch**  | **TensorFlow**  | \n",
        "|---|---|\n",
        "| Dynamic Computation Graphs  | Had to integrate Keras to add Dynamic Graphs, else static graphs  |\n",
        "| Have explicit GPU and CPU controls  | 2.0 has made this slighyl easy compared to earlier  |\n",
        "| More Pythonic in nature  | Steep learning curve  |\n",
        "| Good Documentation | Best possible documentation |\n",
        "| External tool for visualization and logging | TensorBoard |\n",
        "| Lighter to work with | Large deployment dependencies |\n",
        "| _Debugging is difficult_ | _Better debugging capabilities_ |\n",
        "\n",
        "\n",
        "![comparison](https://lh5.googleusercontent.com/zzyvL0d5zSIvytHxpKnAR7ZT-kGCRH0gmi20spP6pZL1pc-pb5fAkJDL5-vNV9WZl-Gx2xE4-oIgBXta2etwdTWunx_69mf5f-X_WAA9S0UWTcYlGBMuEiFZW2EdK6fznokEHf10Vs-uVkcIew)\n",
        "\n",
        "Note: In the above graph anything over 50% means more mentions for PyTorch than TensorFlow for that conference.\n",
        "\n",
        "![confs](https://lh5.googleusercontent.com/04_hje2EqkzRzek_xOKwuwqySJLY7QjyEGaKg1L1VU2oIehDGDP2jvFNkMhILGjy1i2hz4akepffOdNNmAWAWmVjSq0mRRANR8dQTyial18BDxyj6lq54f7NVSGzOcW47yjgRSeAf6OUEVzTsw)\n"
      ]
    },
    {
      "cell_type": "markdown",
      "metadata": {
        "id": "l1_wwwpfJTaK"
      },
      "source": [
        "## Scientific Computing\n",
        "\n",
        "The scientific computing aspect of PyTorch is primarily a result of PyTorch's tensor Library and associated tensor operations\n",
        "\n",
        "A tensor is an n-dimensional array. \n",
        "\n",
        "![tensor](https://res.cloudinary.com/practicaldev/image/fetch/s--VaxrSdrA--/c_limit%2Cf_auto%2Cfl_progressive%2Cq_auto%2Cw_880/https://thepracticaldev.s3.amazonaws.com/i/bp6ux6ppf5t5amwkxklq.jpg)\n",
        "\n",
        "\n",
        "### Numpy\n",
        "One of the most popular scientific computing package for working with Tensors is numpy. \n",
        "![numpy](https://res-3.cloudinary.com/crunchbase-production/image/upload/c_lpad,h_256,w_256,f_auto,q_auto:eco/gxgj1nsz0eq3rg13j7kk)\n",
        "\n",
        "Numpy is the go-to package for nD arrays. PyTorch's tensor library mirrors numpy nD array capabilities very closely and in addition is highly interoprable with numpy. In PyTorch GPU support for tensors is inbuilt, and it is vey easy to move arrays from numpy (CPU) to GPU. "
      ]
    },
    {
      "cell_type": "markdown",
      "metadata": {
        "id": "6BguzIDcJ7-A"
      },
      "source": [
        "![packages](https://lh5.googleusercontent.com/CQQ-OeIV6tQs-iVeHW7wX4CTyfz4m8N1SkZuaWDPWTKoSVtlhwOZaVOF3E_mrK1GVGNx55GJ34uVYbXtIiNuixcjt_kRdHizBZN6RtZj_84VCYapXcbgESAG-SLkEh4kuXbkSIzowrOLSZ1vLQ)\n",
        "![pack](https://manalelaidouni.github.io/assets/img/pexels/Pytorch-package-hierarchy.jpg)\n",
        "\n",
        "#### PyTorch Philosophy\n",
        "\n",
        "* Stay out of the way\n",
        "* Cater to the impatient\n",
        "* Promote linear code-flow\n",
        "* Full interop with the Python ecosystem\n",
        "* Be as fasst as anything else\n",
        "\n",
        "#### Debugging\n",
        "\n",
        "* PyTorch is Python Extension\n",
        "* You can use any Python Debugger\n",
        "* Even _print_ function works on PyTorch objects\n",
        "\n",
        "## Why it got so popular?\n",
        "\n",
        "To solve deep neural networks, we need to calculate derivates, and to do this computationally, deep learning frameworks use what are called **computational graphs**. \n",
        "![cgs](https://blog.paperspace.com/content/images/2019/03/full_graph.png)\n",
        "\n",
        "PyTorch introduced **Dynamic Computational Graphs**, a first in the industry. It means that the graph is generated on the fly as the operations occur in contrast to _static graphs_ that are fully determined before actual action occur. \n",
        "\n",
        "Experimentation, advanced models and quick tests need Dynamic Computation Graphs as a back-end feature. \n",
        "\n",
        "### PyTorch's Computational Graph\n",
        "\n",
        "![quick](https://www.miracleyoo.com/2019/12/11/Pytorch-Core-Code-Research/image-20191128215740348.png)"
      ]
    },
    {
      "cell_type": "markdown",
      "metadata": {
        "id": "YK94B5VTOm2F"
      },
      "source": [
        "# Tensors\n",
        "\n",
        "We are interested in our data, but it is not stored at a location that is easy to work with (think of coordinate system that starts at 356, -1900, 300).\n",
        "\n",
        "![locatio](https://www.miracleyoo.com/2019/12/11/Pytorch-Core-Code-Research/image-20191128192741907.png)\n",
        "\n",
        "![tensors](https://www.miracleyoo.com/2019/12/11/Pytorch-Core-Code-Research/image-20191203093005864.png)\n",
        "\n"
      ]
    },
    {
      "cell_type": "markdown",
      "metadata": {
        "id": "2hs-wQxvPofn"
      },
      "source": [
        "# Autograd\n",
        "![auto](https://lh3.googleusercontent.com/proxy/dk7UyJzsrYFgRP6fv8wrztdEBGde1mf6zs0vtKuGY7uhE9ASSL50oeDHDEY7YjwMR2X2V2N0Jf1gFWTlY7SbQuASxhd4vq5ylPsyuyfnWGDM)\n",
        "\n",
        "![whatitdoes](https://lh3.googleusercontent.com/proxy/r0LQgLuiYku8WlovS2xtJYiVRT-9YnMQ3zzHSzUODIPTPMFUfqniLu6YtPbHbJDO4L0jkoIYTcuWGFoPeWbkiID2OtPw8I9mx3g2-seMfOed)"
      ]
    },
    {
      "cell_type": "markdown",
      "metadata": {
        "id": "Xppn4RfyRq7T"
      },
      "source": [
        "# Let's do some coding now. \n",
        "\n",
        "### Pytorch's tensors are similar to Numpy's ndarrays"
      ]
    },
    {
      "cell_type": "code",
      "metadata": {
        "id": "-7BkQS9PJTvh",
        "colab": {
          "base_uri": "https://localhost:8080/"
        },
        "outputId": "162d012a-39dc-41e0-a221-8506300ea8db"
      },
      "source": [
        "# Pytorch's tensors are similar to Numpy's ndarrays\n",
        "!pip install torch\n"
      ],
      "execution_count": 1,
      "outputs": [
        {
          "output_type": "stream",
          "text": [
            "Requirement already satisfied: torch in /usr/local/lib/python3.6/dist-packages (1.7.0+cu101)\n",
            "Requirement already satisfied: dataclasses in /usr/local/lib/python3.6/dist-packages (from torch) (0.8)\n",
            "Requirement already satisfied: typing-extensions in /usr/local/lib/python3.6/dist-packages (from torch) (3.7.4.3)\n",
            "Requirement already satisfied: numpy in /usr/local/lib/python3.6/dist-packages (from torch) (1.18.5)\n",
            "Requirement already satisfied: future in /usr/local/lib/python3.6/dist-packages (from torch) (0.16.0)\n"
          ],
          "name": "stdout"
        }
      ]
    },
    {
      "cell_type": "code",
      "metadata": {
        "id": "CGedN6jBRwv8",
        "colab": {
          "base_uri": "https://localhost:8080/"
        },
        "outputId": "912c40e1-eaaa-4167-9133-d43185adc6e1"
      },
      "source": [
        "import torch\n",
        "V0 = torch.tensor(1.3)\n",
        "V1 = torch.tensor([1., 2., 3.])\n",
        "V2 = torch.tensor([[1., 2.], [4., 5.]])\n",
        "print(f'{V0}, {V1}, {V2}')"
      ],
      "execution_count": 2,
      "outputs": [
        {
          "output_type": "stream",
          "text": [
            "1.2999999523162842, tensor([1., 2., 3.]), tensor([[1., 2.],\n",
            "        [4., 5.]])\n"
          ],
          "name": "stdout"
        }
      ]
    },
    {
      "cell_type": "code",
      "metadata": {
        "id": "eBkgzxeQR7eC",
        "colab": {
          "base_uri": "https://localhost:8080/"
        },
        "outputId": "1fead8b2-9bf3-4a12-cee2-ef499a0451c7"
      },
      "source": [
        "import numpy as np\n",
        "V0 = np.array(1.3)\n",
        "V1 = np.array([1., 2., 3.])\n",
        "V2 = np.array([[1., 2.], [4., 5.]])\n",
        "print(f'{V0}, {V1}, {V2}')"
      ],
      "execution_count": 2,
      "outputs": [
        {
          "output_type": "stream",
          "text": [
            "1.3, [1. 2. 3.], [[1. 2.]\n",
            " [4. 5.]]\n"
          ],
          "name": "stdout"
        }
      ]
    },
    {
      "cell_type": "markdown",
      "metadata": {
        "id": "5zVxGdBSSrsD"
      },
      "source": [
        "### Creating a Tensor from Numpy array"
      ]
    },
    {
      "cell_type": "code",
      "metadata": {
        "id": "BxCFMU_WSF3R"
      },
      "source": [
        "numpy_array = np.array([1, 2, 3])"
      ],
      "execution_count": null,
      "outputs": []
    },
    {
      "cell_type": "code",
      "metadata": {
        "id": "RAT3ax3ZSwhD"
      },
      "source": [
        "t1 = torch.Tensor(numpy_array)     \n",
        "# Constructor - same as torch.FloatTensor\n",
        "# uses a default float32 tensor, can be changed\n",
        "# all other tensor inherits from this main tensor class\n",
        "\n",
        "# torch.tensor(data, dtype=None, device=None, requires_grad=False) → Tensor\n",
        "\n",
        "\n",
        "t2 = torch.tensor(numpy_array)     \n",
        "# Factory Function\n",
        "# produces a new tensor with same dtype\n",
        "# does not share underlying memory with numpy\n",
        "# always copies the data\n",
        "# torch.tensor(x) is equivalent to x.clone().detach()\n",
        "# recommended to use\n",
        "\n",
        "t3 = torch.as_tensor(numpy_array)  \n",
        "# Factory Function\n",
        "# produces a new tensor with same dtype\n",
        "# share underlying memory with numpy, changing one will change other\n",
        "# can accepts any array like Python data structure \n",
        "# always tried to avoid copies of the data (like using numpy's stored values directly)\n",
        "# HAVE TO MANUALLY ADD requires_grad_() function, or does not support requires_grad flag. \n",
        "# recommended to use\n",
        "\n",
        "t4 = torch.from_numpy(numpy_array) \n",
        "# Factory Function\n",
        "# produces a new tensor with same dtype\n",
        "# can accept only numpy arrays\n",
        "# share underlying memory with numpy, changing one will change other"
      ],
      "execution_count": null,
      "outputs": []
    },
    {
      "cell_type": "code",
      "metadata": {
        "id": "10YlWeQZVdeD",
        "colab": {
          "base_uri": "https://localhost:8080/"
        },
        "outputId": "3a48bb41-4449-4efc-9c7d-6ff92210e84c"
      },
      "source": [
        "numpy_array.dtype, t1.dtype, t2.dtype, t3.dtype, t4.dtype"
      ],
      "execution_count": null,
      "outputs": [
        {
          "output_type": "execute_result",
          "data": {
            "text/plain": [
              "(dtype('int64'), torch.float32, torch.int64, torch.int64, torch.int64)"
            ]
          },
          "metadata": {
            "tags": []
          },
          "execution_count": 17
        }
      ]
    },
    {
      "cell_type": "markdown",
      "metadata": {
        "id": "Ex9KIdiHVmva"
      },
      "source": [
        "### Sharing memory for performance: copy vs share\n",
        "\n",
        "| Share Data |Copy Data |\n",
        "|----|----|\n",
        "|torch.as_tensor() | torch.tensor() |\n",
        "|torch.from_numpy() | torch.Tensor() |   \n",
        "  \n",
        "> **Zero Memory Copy** ⇋ Very Efficient\n",
        "\n",
        "### Something to keep in mind\n",
        "* Since numpy.array objects are allocated on CPU, the `as_tensor()` function must copy the data from the CPU to the GPU when a GPU is being used\n",
        "* The memory sharing of `as_tensor()` doesn't work with built-in Python data structure like list\n",
        "* The `as_tensor()` call requires developer knowledge of the sharing feature. This is necessary so we don't make an unwanted change in the underlying data without realising it\n",
        "* The `as_tensor()` performance improvement will be greater when there are a lot of back and forth operations between `numpy.array` objects and tensor objects. \n",
        "\n",
        "\n"
      ]
    },
    {
      "cell_type": "code",
      "metadata": {
        "id": "a9K7b7zmWA5D",
        "colab": {
          "base_uri": "https://localhost:8080/"
        },
        "outputId": "2221ef32-3e25-4ca9-a7e8-46fe5cd521e3"
      },
      "source": [
        "a = 4\n",
        "print(id(a))\n",
        "a = a * 4\n",
        "print(id(a))"
      ],
      "execution_count": null,
      "outputs": [
        {
          "output_type": "stream",
          "text": [
            "10914592\n",
            "10914976\n"
          ],
          "name": "stdout"
        }
      ]
    },
    {
      "cell_type": "code",
      "metadata": {
        "id": "8Ro7RrPiVe5m",
        "colab": {
          "base_uri": "https://localhost:8080/"
        },
        "outputId": "123244c1-6bd4-4c9a-b95a-864f06397999"
      },
      "source": [
        "numpy_array *= 4\n",
        "t1, t2, t3, t4"
      ],
      "execution_count": null,
      "outputs": [
        {
          "output_type": "execute_result",
          "data": {
            "text/plain": [
              "(tensor([1., 2., 3.]),\n",
              " tensor([1, 2, 3]),\n",
              " tensor([ 4,  8, 12]),\n",
              " tensor([ 4,  8, 12]))"
            ]
          },
          "metadata": {
            "tags": []
          },
          "execution_count": 19
        }
      ]
    },
    {
      "cell_type": "code",
      "metadata": {
        "id": "8d64ihCPWcp0",
        "colab": {
          "base_uri": "https://localhost:8080/"
        },
        "outputId": "6ea8598e-6b44-4d07-b990-9039bfa2645f"
      },
      "source": [
        "# numpy_array = np.array([1, 2, 3])*4\n",
        "# numpy_array"
      ],
      "execution_count": null,
      "outputs": [
        {
          "output_type": "execute_result",
          "data": {
            "text/plain": [
              "array([ 4,  8, 12])"
            ]
          },
          "metadata": {
            "tags": []
          },
          "execution_count": 10
        }
      ]
    },
    {
      "cell_type": "code",
      "metadata": {
        "id": "BrWoVL2EWqG0",
        "colab": {
          "base_uri": "https://localhost:8080/"
        },
        "outputId": "1edf3683-4880-4746-f1ad-0b0c6a50ed91"
      },
      "source": [
        "t1 *= 2\n",
        "t1, numpy_array"
      ],
      "execution_count": null,
      "outputs": [
        {
          "output_type": "execute_result",
          "data": {
            "text/plain": [
              "(tensor([2., 4., 6.]), array([ 4,  8, 12]))"
            ]
          },
          "metadata": {
            "tags": []
          },
          "execution_count": 20
        }
      ]
    },
    {
      "cell_type": "code",
      "metadata": {
        "id": "J_uzPg80WyKV",
        "colab": {
          "base_uri": "https://localhost:8080/"
        },
        "outputId": "adec5690-2f4e-47e6-faf1-85069511c9f6"
      },
      "source": [
        "t2 *= 2\n",
        "t2, numpy_array"
      ],
      "execution_count": null,
      "outputs": [
        {
          "output_type": "execute_result",
          "data": {
            "text/plain": [
              "(tensor([2, 4, 6]), array([ 4,  8, 12]))"
            ]
          },
          "metadata": {
            "tags": []
          },
          "execution_count": 21
        }
      ]
    },
    {
      "cell_type": "code",
      "metadata": {
        "id": "Aie7JiGDW1gN",
        "colab": {
          "base_uri": "https://localhost:8080/"
        },
        "outputId": "0ce4b948-6810-49db-ddc8-41df80b34b72"
      },
      "source": [
        "t3 *= 2\n",
        "t3, numpy_array"
      ],
      "execution_count": null,
      "outputs": [
        {
          "output_type": "execute_result",
          "data": {
            "text/plain": [
              "(tensor([ 8, 16, 24]), array([ 8, 16, 24]))"
            ]
          },
          "metadata": {
            "tags": []
          },
          "execution_count": 22
        }
      ]
    },
    {
      "cell_type": "code",
      "metadata": {
        "id": "hSPjrKPhW3lJ",
        "colab": {
          "base_uri": "https://localhost:8080/"
        },
        "outputId": "7c47c7b6-bb3f-4134-f2e8-5084b958fcc7"
      },
      "source": [
        "t4"
      ],
      "execution_count": null,
      "outputs": [
        {
          "output_type": "execute_result",
          "data": {
            "text/plain": [
              "tensor([ 8, 16, 24])"
            ]
          },
          "metadata": {
            "tags": []
          },
          "execution_count": 23
        }
      ]
    },
    {
      "cell_type": "code",
      "metadata": {
        "id": "Lr6qgf9rW6Sx",
        "colab": {
          "base_uri": "https://localhost:8080/"
        },
        "outputId": "3116fb0b-376c-42db-ee53-7407430269cf"
      },
      "source": [
        "t4 *= 2\n",
        "t1, t2, t3, t4, numpy_array"
      ],
      "execution_count": null,
      "outputs": [
        {
          "output_type": "execute_result",
          "data": {
            "text/plain": [
              "(tensor([2., 4., 6.]),\n",
              " tensor([2, 4, 6]),\n",
              " tensor([16, 32, 48]),\n",
              " tensor([16, 32, 48]),\n",
              " array([16, 32, 48]))"
            ]
          },
          "metadata": {
            "tags": []
          },
          "execution_count": 24
        }
      ]
    },
    {
      "cell_type": "code",
      "metadata": {
        "id": "oON16oBSXMbV",
        "colab": {
          "base_uri": "https://localhost:8080/"
        },
        "outputId": "508eae61-9db0-4262-dd9a-3b729acb3cd4"
      },
      "source": [
        "t5 = t4.cuda()\n",
        "\n",
        "t5.device, t4.device"
      ],
      "execution_count": null,
      "outputs": [
        {
          "output_type": "execute_result",
          "data": {
            "text/plain": [
              "(device(type='cuda', index=0), device(type='cpu'))"
            ]
          },
          "metadata": {
            "tags": []
          },
          "execution_count": 25
        }
      ]
    },
    {
      "cell_type": "code",
      "metadata": {
        "id": "sSoRYN7UXRXb",
        "colab": {
          "base_uri": "https://localhost:8080/"
        },
        "outputId": "4572c2fb-d7d8-4cae-8e64-a315aacc960e"
      },
      "source": [
        "t3 + t4"
      ],
      "execution_count": null,
      "outputs": [
        {
          "output_type": "execute_result",
          "data": {
            "text/plain": [
              "tensor([32, 64, 96])"
            ]
          },
          "metadata": {
            "tags": []
          },
          "execution_count": 26
        }
      ]
    },
    {
      "cell_type": "code",
      "metadata": {
        "id": "k3isbv3vXbE5",
        "colab": {
          "base_uri": "https://localhost:8080/",
          "height": 173
        },
        "outputId": "2569f523-72f0-4bdb-aad7-3b6bf481094b"
      },
      "source": [
        "t4 + t5 #Can't add tensors which are on different devices. "
      ],
      "execution_count": 3,
      "outputs": [
        {
          "output_type": "error",
          "ename": "NameError",
          "evalue": "ignored",
          "traceback": [
            "\u001b[0;31m---------------------------------------------------------------------------\u001b[0m",
            "\u001b[0;31mNameError\u001b[0m                                 Traceback (most recent call last)",
            "\u001b[0;32m<ipython-input-3-8cd63e229131>\u001b[0m in \u001b[0;36m<module>\u001b[0;34m()\u001b[0m\n\u001b[0;32m----> 1\u001b[0;31m \u001b[0mt4\u001b[0m \u001b[0;34m+\u001b[0m \u001b[0mt5\u001b[0m \u001b[0;31m#Can't add tensors which are on different devices.\u001b[0m\u001b[0;34m\u001b[0m\u001b[0;34m\u001b[0m\u001b[0m\n\u001b[0m",
            "\u001b[0;31mNameError\u001b[0m: name 't4' is not defined"
          ]
        }
      ]
    },
    {
      "cell_type": "code",
      "metadata": {
        "id": "C6K_jNpiXcwx",
        "colab": {
          "base_uri": "https://localhost:8080/"
        },
        "outputId": "a821ccde-acfc-4324-aa81-f98b510aa271"
      },
      "source": [
        "import torch\n",
        "torch.eye(4) #Identical Tensor"
      ],
      "execution_count": 6,
      "outputs": [
        {
          "output_type": "execute_result",
          "data": {
            "text/plain": [
              "tensor([[1., 0., 0., 0.],\n",
              "        [0., 1., 0., 0.],\n",
              "        [0., 0., 1., 0.],\n",
              "        [0., 0., 0., 1.]])"
            ]
          },
          "metadata": {
            "tags": []
          },
          "execution_count": 6
        }
      ]
    },
    {
      "cell_type": "code",
      "metadata": {
        "id": "h7p2BoQVXlV0",
        "colab": {
          "base_uri": "https://localhost:8080/"
        },
        "outputId": "d32964ad-15c8-4f64-bd72-0e369dbb46c0"
      },
      "source": [
        "torch.zeros(2, 2) #Tensor of all zeroes"
      ],
      "execution_count": 7,
      "outputs": [
        {
          "output_type": "execute_result",
          "data": {
            "text/plain": [
              "tensor([[0., 0.],\n",
              "        [0., 0.]])"
            ]
          },
          "metadata": {
            "tags": []
          },
          "execution_count": 7
        }
      ]
    },
    {
      "cell_type": "code",
      "metadata": {
        "id": "5w5sRVwmXp4w",
        "colab": {
          "base_uri": "https://localhost:8080/"
        },
        "outputId": "224de336-dad9-4229-d5e6-d417dc708e17"
      },
      "source": [
        "torch.ones(2, 2)"
      ],
      "execution_count": null,
      "outputs": [
        {
          "output_type": "execute_result",
          "data": {
            "text/plain": [
              "tensor([[1., 1.],\n",
              "        [1., 1.]])"
            ]
          },
          "metadata": {
            "tags": []
          },
          "execution_count": 31
        }
      ]
    },
    {
      "cell_type": "code",
      "metadata": {
        "id": "_Jkp7_QeXrxS",
        "colab": {
          "base_uri": "https://localhost:8080/"
        },
        "outputId": "5b9e3703-d5c3-441f-e048-766222c1dd4f"
      },
      "source": [
        "torch.rand(2, 2)"
      ],
      "execution_count": null,
      "outputs": [
        {
          "output_type": "execute_result",
          "data": {
            "text/plain": [
              "tensor([[0.9012, 0.3654],\n",
              "        [0.9190, 0.4373]])"
            ]
          },
          "metadata": {
            "tags": []
          },
          "execution_count": 32
        }
      ]
    },
    {
      "cell_type": "code",
      "metadata": {
        "id": "VSOl7Jm0Xtcm",
        "colab": {
          "base_uri": "https://localhost:8080/"
        },
        "outputId": "27839e9a-8a9e-45f7-b7a3-e1bea0313665"
      },
      "source": [
        "# We can use normal indexing as in NumPy\n",
        "\n",
        "data = torch.tensor([[1, 2, 3], [4, 5, 6]])\n",
        "\n",
        "data[1, 0], data[0, : 2]"
      ],
      "execution_count": 8,
      "outputs": [
        {
          "output_type": "execute_result",
          "data": {
            "text/plain": [
              "(tensor(4), tensor([1, 2]))"
            ]
          },
          "metadata": {
            "tags": []
          },
          "execution_count": 8
        }
      ]
    },
    {
      "cell_type": "markdown",
      "metadata": {
        "id": "e0Tq5AwCX-54"
      },
      "source": [
        "#### Torch.tensor attributes\n",
        "\n",
        "| Attribute | Data Type | Description | \n",
        "|----|----|----|\n",
        "|data|array_like | list, tuple, NumPy ndarray, scalar |\n",
        "|dtype| torch.dtype | The tensor's data type|\n",
        "|requires_grad | bool| Should autograd record operation |\n",
        "|device | torch.device | Allocated on CPU or CUDA (GPU) |"
      ]
    },
    {
      "cell_type": "code",
      "metadata": {
        "id": "EDQDCUQ8X0Ek"
      },
      "source": [
        "t = torch.tensor(data=(1, 2, 3), dtype=torch.float32, device='cpu', requires_grad = False)"
      ],
      "execution_count": 9,
      "outputs": []
    },
    {
      "cell_type": "code",
      "metadata": {
        "id": "hta9qC8PX-Ye",
        "colab": {
          "base_uri": "https://localhost:8080/"
        },
        "outputId": "278cc6bd-7120-41e2-9503-04e336510aea"
      },
      "source": [
        "help(torch.tensor)"
      ],
      "execution_count": 10,
      "outputs": [
        {
          "output_type": "stream",
          "text": [
            "Help on built-in function tensor:\n",
            "\n",
            "tensor(...)\n",
            "    tensor(data, *, dtype=None, device=None, requires_grad=False, pin_memory=False) -> Tensor\n",
            "    \n",
            "    Constructs a tensor with :attr:`data`.\n",
            "    \n",
            "    .. warning::\n",
            "    \n",
            "        :func:`torch.tensor` always copies :attr:`data`. If you have a Tensor\n",
            "        ``data`` and want to avoid a copy, use :func:`torch.Tensor.requires_grad_`\n",
            "        or :func:`torch.Tensor.detach`.\n",
            "        If you have a NumPy ``ndarray`` and want to avoid a copy, use\n",
            "        :func:`torch.as_tensor`.\n",
            "    \n",
            "    .. warning::\n",
            "    \n",
            "        When data is a tensor `x`, :func:`torch.tensor` reads out 'the data' from whatever it is passed,\n",
            "        and constructs a leaf variable. Therefore ``torch.tensor(x)`` is equivalent to ``x.clone().detach()``\n",
            "        and ``torch.tensor(x, requires_grad=True)`` is equivalent to ``x.clone().detach().requires_grad_(True)``.\n",
            "        The equivalents using ``clone()`` and ``detach()`` are recommended.\n",
            "    \n",
            "    Args:\n",
            "        data (array_like): Initial data for the tensor. Can be a list, tuple,\n",
            "            NumPy ``ndarray``, scalar, and other types.\n",
            "    \n",
            "    Keyword args:\n",
            "        dtype (:class:`torch.dtype`, optional): the desired data type of returned tensor.\n",
            "            Default: if ``None``, infers data type from :attr:`data`.\n",
            "        device (:class:`torch.device`, optional): the desired device of returned tensor.\n",
            "            Default: if ``None``, uses the current device for the default tensor type\n",
            "            (see :func:`torch.set_default_tensor_type`). :attr:`device` will be the CPU\n",
            "            for CPU tensor types and the current CUDA device for CUDA tensor types.\n",
            "        requires_grad (bool, optional): If autograd should record operations on the\n",
            "            returned tensor. Default: ``False``.\n",
            "        pin_memory (bool, optional): If set, returned tensor would be allocated in\n",
            "            the pinned memory. Works only for CPU tensors. Default: ``False``.\n",
            "    \n",
            "    \n",
            "    Example::\n",
            "    \n",
            "        >>> torch.tensor([[0.1, 1.2], [2.2, 3.1], [4.9, 5.2]])\n",
            "        tensor([[ 0.1000,  1.2000],\n",
            "                [ 2.2000,  3.1000],\n",
            "                [ 4.9000,  5.2000]])\n",
            "    \n",
            "        >>> torch.tensor([0, 1])  # Type inference on data\n",
            "        tensor([ 0,  1])\n",
            "    \n",
            "        >>> torch.tensor([[0.11111, 0.222222, 0.3333333]],\n",
            "                         dtype=torch.float64,\n",
            "                         device=torch.device('cuda:0'))  # creates a torch.cuda.DoubleTensor\n",
            "        tensor([[ 0.1111,  0.2222,  0.3333]], dtype=torch.float64, device='cuda:0')\n",
            "    \n",
            "        >>> torch.tensor(3.14159)  # Create a scalar (zero-dimensional tensor)\n",
            "        tensor(3.1416)\n",
            "    \n",
            "        >>> torch.tensor([])  # Create an empty tensor (of size (0,))\n",
            "        tensor([])\n",
            "\n"
          ],
          "name": "stdout"
        }
      ]
    },
    {
      "cell_type": "code",
      "metadata": {
        "id": "tEQ-ZLIPYOJd",
        "colab": {
          "base_uri": "https://localhost:8080/",
          "height": 191
        },
        "outputId": "c91d3cd5-35d5-4ea6-fe59-75c80fafe20e"
      },
      "source": [
        "t = torch.as_tensor(data=[1, 2, 3], dtype=torch.float32, device='cpu', requires_grad = False)\n",
        "t"
      ],
      "execution_count": 11,
      "outputs": [
        {
          "output_type": "error",
          "ename": "TypeError",
          "evalue": "ignored",
          "traceback": [
            "\u001b[0;31m---------------------------------------------------------------------------\u001b[0m",
            "\u001b[0;31mTypeError\u001b[0m                                 Traceback (most recent call last)",
            "\u001b[0;32m<ipython-input-11-4b2c619e6fbe>\u001b[0m in \u001b[0;36m<module>\u001b[0;34m()\u001b[0m\n\u001b[0;32m----> 1\u001b[0;31m \u001b[0mt\u001b[0m \u001b[0;34m=\u001b[0m \u001b[0mtorch\u001b[0m\u001b[0;34m.\u001b[0m\u001b[0mas_tensor\u001b[0m\u001b[0;34m(\u001b[0m\u001b[0mdata\u001b[0m\u001b[0;34m=\u001b[0m\u001b[0;34m[\u001b[0m\u001b[0;36m1\u001b[0m\u001b[0;34m,\u001b[0m \u001b[0;36m2\u001b[0m\u001b[0;34m,\u001b[0m \u001b[0;36m3\u001b[0m\u001b[0;34m]\u001b[0m\u001b[0;34m,\u001b[0m \u001b[0mdtype\u001b[0m\u001b[0;34m=\u001b[0m\u001b[0mtorch\u001b[0m\u001b[0;34m.\u001b[0m\u001b[0mfloat32\u001b[0m\u001b[0;34m,\u001b[0m \u001b[0mdevice\u001b[0m\u001b[0;34m=\u001b[0m\u001b[0;34m'cpu'\u001b[0m\u001b[0;34m,\u001b[0m \u001b[0mrequires_grad\u001b[0m \u001b[0;34m=\u001b[0m \u001b[0;32mFalse\u001b[0m\u001b[0;34m)\u001b[0m\u001b[0;34m\u001b[0m\u001b[0;34m\u001b[0m\u001b[0m\n\u001b[0m\u001b[1;32m      2\u001b[0m \u001b[0mt\u001b[0m\u001b[0;34m\u001b[0m\u001b[0;34m\u001b[0m\u001b[0m\n",
            "\u001b[0;31mTypeError\u001b[0m: as_tensor() got an unexpected keyword argument 'requires_grad'"
          ]
        }
      ]
    },
    {
      "cell_type": "code",
      "metadata": {
        "id": "i-yJj-buYUwp",
        "colab": {
          "base_uri": "https://localhost:8080/"
        },
        "outputId": "cfe3dee8-4517-40b4-c083-a1332a45a76f"
      },
      "source": [
        "t = torch.as_tensor(data=[1, 2, 3], dtype=torch.float32, device='cpu')\n",
        "t"
      ],
      "execution_count": null,
      "outputs": [
        {
          "output_type": "execute_result",
          "data": {
            "text/plain": [
              "tensor([1., 2., 3.])"
            ]
          },
          "metadata": {
            "tags": []
          },
          "execution_count": 37
        }
      ]
    },
    {
      "cell_type": "code",
      "metadata": {
        "id": "XbnganVXYXsd",
        "colab": {
          "base_uri": "https://localhost:8080/"
        },
        "outputId": "a555a668-3255-4ef2-f0ba-a551cbe4c322"
      },
      "source": [
        "t.requires_grad_()\n"
      ],
      "execution_count": 12,
      "outputs": [
        {
          "output_type": "execute_result",
          "data": {
            "text/plain": [
              "tensor([1., 2., 3.], requires_grad=True)"
            ]
          },
          "metadata": {
            "tags": []
          },
          "execution_count": 12
        }
      ]
    },
    {
      "cell_type": "markdown",
      "metadata": {
        "id": "GdGel35qYfbb"
      },
      "source": [
        "## Autograd\n",
        "\n",
        "* Automatic differentiation for all operations on Tensors\n",
        "* The backward graph is automatically defined by the forward graph!\n"
      ]
    },
    {
      "cell_type": "code",
      "metadata": {
        "id": "GAUUIuaYYaKH"
      },
      "source": [
        "from torch.autograd import grad\n",
        "\n",
        "x1 = torch.tensor(2, requires_grad=True, dtype=torch.float16)\n",
        "x2 = torch.tensor(3, requires_grad=True, dtype=torch.float16)\n",
        "x3 = torch.tensor(1, requires_grad=True, dtype=torch.float16)\n",
        "x4 = torch.tensor(4, requires_grad=True, dtype=torch.float16)"
      ],
      "execution_count": 13,
      "outputs": []
    },
    {
      "cell_type": "code",
      "metadata": {
        "id": "4SzJnOjKYtZT",
        "colab": {
          "base_uri": "https://localhost:8080/"
        },
        "outputId": "03cb42b9-f721-40e5-d4cc-5d514c604e6a"
      },
      "source": [
        "z1 = x1*x2\n",
        "z2 =  x3*x4\n",
        "\n",
        "f = z1 + z2\n",
        "\n",
        "df_dx = grad(outputs=f, inputs=[x1, x2, x3, x4]) # what if you forget an element here? 🤐\n",
        "\n",
        "print(f'gradient of x1 = {df_dx[0]}')\n",
        "print(f'gradient of x2 = {df_dx[1]}')\n",
        "print(f'gradient of x3 = {df_dx[2]}')\n",
        "print(f'gradient of x4 = {df_dx[3]}')"
      ],
      "execution_count": 14,
      "outputs": [
        {
          "output_type": "stream",
          "text": [
            "gradient of x1 = 3.0\n",
            "gradient of x2 = 2.0\n",
            "gradient of x3 = 4.0\n",
            "gradient of x4 = 1.0\n"
          ],
          "name": "stdout"
        }
      ]
    },
    {
      "cell_type": "code",
      "metadata": {
        "id": "2SXG4horY7gU",
        "colab": {
          "base_uri": "https://localhost:8080/"
        },
        "outputId": "be2827e2-4058-4198-fa43-bc2cf03cb6e8"
      },
      "source": [
        "from torch.autograd import grad\n",
        "\n",
        "x1 = torch.tensor(2, requires_grad=True, dtype=torch.float16)\n",
        "x2 = torch.tensor(3, requires_grad=True, dtype=torch.float16)\n",
        "x3 = torch.tensor(1, requires_grad=True, dtype=torch.float16)\n",
        "x4 = torch.tensor(4, requires_grad=True, dtype=torch.float16)\n",
        "\n",
        "z1 = x1*x2\n",
        "z2 =  x3*x4\n",
        "\n",
        "f = z1 + z2\n",
        "f.backward()\n",
        "\n",
        "print(f'gradient of x1 = {df_dx[0]}')\n",
        "print(f'gradient of x2 = {df_dx[1]}')\n",
        "print(f'gradient of x3 = {df_dx[2]}')\n",
        "print(f'gradient of x4 = {df_dx[3]}')"
      ],
      "execution_count": 15,
      "outputs": [
        {
          "output_type": "stream",
          "text": [
            "gradient of x1 = 3.0\n",
            "gradient of x2 = 2.0\n",
            "gradient of x3 = 4.0\n",
            "gradient of x4 = 1.0\n"
          ],
          "name": "stdout"
        }
      ]
    },
    {
      "cell_type": "markdown",
      "metadata": {
        "id": "OAB2KZ4UZef2"
      },
      "source": [
        "### Tensor Operation Types\n",
        "\n",
        "1. Reshaping Operations\n",
        "2. Element-wise Operations\n",
        "3. Reduction Operations\n",
        "4. Access Operations\n",
        "\n"
      ]
    },
    {
      "cell_type": "code",
      "metadata": {
        "id": "kAkW9Bw_ZarT"
      },
      "source": [
        "t = torch.tensor([\n",
        "    [0, 0, 0, 0],\n",
        "    [1, 1, 1, 1],\n",
        "    [2, 2, 2, 2]\n",
        "], dtype=torch.float32)"
      ],
      "execution_count": null,
      "outputs": []
    },
    {
      "cell_type": "code",
      "metadata": {
        "id": "H8fIV3sBZjQ0",
        "colab": {
          "base_uri": "https://localhost:8080/"
        },
        "outputId": "3c7203f6-848e-44cd-851c-129adabf7fbb"
      },
      "source": [
        "# we have two ways to access the shape of tensors\n",
        "t.shape, t.size()"
      ],
      "execution_count": null,
      "outputs": [
        {
          "output_type": "execute_result",
          "data": {
            "text/plain": [
              "(torch.Size([3, 4]), torch.Size([3, 4]))"
            ]
          },
          "metadata": {
            "tags": []
          },
          "execution_count": 43
        }
      ]
    },
    {
      "cell_type": "code",
      "metadata": {
        "id": "bRXWAvd7ZlUx",
        "colab": {
          "base_uri": "https://localhost:8080/"
        },
        "outputId": "5ae9830f-c00b-4055-deaa-e7f407dd7fd0"
      },
      "source": [
        "# we can get the rank or dimensions of a matrix by\n",
        "len(t.shape)"
      ],
      "execution_count": null,
      "outputs": [
        {
          "output_type": "execute_result",
          "data": {
            "text/plain": [
              "2"
            ]
          },
          "metadata": {
            "tags": []
          },
          "execution_count": 44
        }
      ]
    },
    {
      "cell_type": "code",
      "metadata": {
        "id": "bpuYCbD5Z4Fu",
        "colab": {
          "base_uri": "https://localhost:8080/"
        },
        "outputId": "93fdeac0-2715-4815-e1d8-2acf47918f0c"
      },
      "source": [
        "# we can also learn about the total elements in a tensor by\n",
        "torch.tensor(t.shape).prod()"
      ],
      "execution_count": null,
      "outputs": [
        {
          "output_type": "execute_result",
          "data": {
            "text/plain": [
              "tensor(12)"
            ]
          },
          "metadata": {
            "tags": []
          },
          "execution_count": 45
        }
      ]
    },
    {
      "cell_type": "code",
      "metadata": {
        "id": "i22agMm-Z-fU",
        "colab": {
          "base_uri": "https://localhost:8080/"
        },
        "outputId": "1da9655a-905c-48bf-ef07-7040d3410803"
      },
      "source": [
        "# or by using numel\n",
        "t.numel()"
      ],
      "execution_count": null,
      "outputs": [
        {
          "output_type": "execute_result",
          "data": {
            "text/plain": [
              "12"
            ]
          },
          "metadata": {
            "tags": []
          },
          "execution_count": 46
        }
      ]
    },
    {
      "cell_type": "markdown",
      "metadata": {
        "id": "sSeCGEURaC1Q"
      },
      "source": [
        "### Why knowing these is important? \n",
        "\n",
        "When we reshape a tensor, the reshaping operation must account for all of numel (or total number of elements). We if we have 12 elements, we can only build 1x12, 12x1, 6x2, 2x6, 3x4, 4x3 reshaped tensors"
      ]
    },
    {
      "cell_type": "code",
      "metadata": {
        "id": "3T62PZzcaAsX",
        "colab": {
          "base_uri": "https://localhost:8080/"
        },
        "outputId": "7a3369d7-41cf-42f5-8980-2aa1025613cd"
      },
      "source": [
        "t"
      ],
      "execution_count": null,
      "outputs": [
        {
          "output_type": "execute_result",
          "data": {
            "text/plain": [
              "tensor([[0., 0., 0., 0.],\n",
              "        [1., 1., 1., 1.],\n",
              "        [2., 2., 2., 2.]])"
            ]
          },
          "metadata": {
            "tags": []
          },
          "execution_count": 47
        }
      ]
    },
    {
      "cell_type": "code",
      "metadata": {
        "id": "f_t6L_dIaPZY",
        "colab": {
          "base_uri": "https://localhost:8080/"
        },
        "outputId": "81f2b83d-17c6-4d30-c908-7290ccc45ae0"
      },
      "source": [
        "t.reshape(1, 12)"
      ],
      "execution_count": null,
      "outputs": [
        {
          "output_type": "execute_result",
          "data": {
            "text/plain": [
              "tensor([[0., 0., 0., 0., 1., 1., 1., 1., 2., 2., 2., 2.]])"
            ]
          },
          "metadata": {
            "tags": []
          },
          "execution_count": 48
        }
      ]
    },
    {
      "cell_type": "code",
      "metadata": {
        "id": "yvloKqIzaQlz",
        "colab": {
          "base_uri": "https://localhost:8080/"
        },
        "outputId": "e3a5a7fe-b0af-401c-9c03-022666c8e896"
      },
      "source": [
        "t.reshape(2, 6)"
      ],
      "execution_count": null,
      "outputs": [
        {
          "output_type": "execute_result",
          "data": {
            "text/plain": [
              "tensor([[0., 0., 0., 0., 1., 1.],\n",
              "        [1., 1., 2., 2., 2., 2.]])"
            ]
          },
          "metadata": {
            "tags": []
          },
          "execution_count": 49
        }
      ]
    },
    {
      "cell_type": "code",
      "metadata": {
        "id": "0Ih5jbTGaSAh",
        "colab": {
          "base_uri": "https://localhost:8080/"
        },
        "outputId": "9b65c194-cdbd-4558-adae-1bf2a9bc3983"
      },
      "source": [
        "t.reshape(6, 2)"
      ],
      "execution_count": null,
      "outputs": [
        {
          "output_type": "execute_result",
          "data": {
            "text/plain": [
              "tensor([[0., 0.],\n",
              "        [0., 0.],\n",
              "        [1., 1.],\n",
              "        [1., 1.],\n",
              "        [2., 2.],\n",
              "        [2., 2.]])"
            ]
          },
          "metadata": {
            "tags": []
          },
          "execution_count": 50
        }
      ]
    },
    {
      "cell_type": "code",
      "metadata": {
        "id": "zIzuvDcIaTt2",
        "colab": {
          "base_uri": "https://localhost:8080/"
        },
        "outputId": "5727c635-2c67-4f3a-9be5-a5d5104f520c"
      },
      "source": [
        "t.reshape(3, 4)"
      ],
      "execution_count": null,
      "outputs": [
        {
          "output_type": "execute_result",
          "data": {
            "text/plain": [
              "tensor([[0., 0., 0., 0.],\n",
              "        [1., 1., 1., 1.],\n",
              "        [2., 2., 2., 2.]])"
            ]
          },
          "metadata": {
            "tags": []
          },
          "execution_count": 51
        }
      ]
    },
    {
      "cell_type": "code",
      "metadata": {
        "id": "qTVUoT7NaVnK",
        "colab": {
          "base_uri": "https://localhost:8080/"
        },
        "outputId": "f70eea6d-cc1a-46d6-eb46-12315625592e"
      },
      "source": [
        "t.reshape(4, 3)"
      ],
      "execution_count": null,
      "outputs": [
        {
          "output_type": "execute_result",
          "data": {
            "text/plain": [
              "tensor([[0., 0., 0.],\n",
              "        [0., 1., 1.],\n",
              "        [1., 1., 2.],\n",
              "        [2., 2., 2.]])"
            ]
          },
          "metadata": {
            "tags": []
          },
          "execution_count": 53
        }
      ]
    },
    {
      "cell_type": "markdown",
      "metadata": {
        "id": "9AlQ0xMeaZ9w"
      },
      "source": [
        "**Can we change the rank of a tensor?** \n",
        "\n",
        "Of course, but we need to take care of the original numel"
      ]
    },
    {
      "cell_type": "code",
      "metadata": {
        "id": "a7aHrcAjaW6p",
        "colab": {
          "base_uri": "https://localhost:8080/"
        },
        "outputId": "66c77ead-b6cf-4d31-a0f1-db9493b59ec4"
      },
      "source": [
        "t.reshape(2, 2, 3)"
      ],
      "execution_count": null,
      "outputs": [
        {
          "output_type": "execute_result",
          "data": {
            "text/plain": [
              "tensor([[[0., 0., 0.],\n",
              "         [0., 1., 1.]],\n",
              "\n",
              "        [[1., 1., 2.],\n",
              "         [2., 2., 2.]]])"
            ]
          },
          "metadata": {
            "tags": []
          },
          "execution_count": 54
        }
      ]
    },
    {
      "cell_type": "markdown",
      "metadata": {
        "id": "lKZ1ITURauX5"
      },
      "source": [
        "**Squeezing a Tensor**\n",
        "\n",
        "Removes all the dimensions that have a length of 1\n",
        "\n",
        "**Unsqueezing a Tensor**\n",
        "Adds a dimension that has a length of 1. "
      ]
    },
    {
      "cell_type": "code",
      "metadata": {
        "id": "jBeSN-hcaoTW",
        "colab": {
          "base_uri": "https://localhost:8080/"
        },
        "outputId": "68a32a9c-ce96-49f1-de31-1a538d569201"
      },
      "source": [
        "print(t.reshape(1, 12))\n",
        "print(t.reshape(1, 12).shape)"
      ],
      "execution_count": null,
      "outputs": [
        {
          "output_type": "stream",
          "text": [
            "tensor([[0., 0., 0., 0., 1., 1., 1., 1., 2., 2., 2., 2.]])\n",
            "torch.Size([1, 12])\n"
          ],
          "name": "stdout"
        }
      ]
    },
    {
      "cell_type": "code",
      "metadata": {
        "id": "TD8OeEtWa2BP",
        "colab": {
          "base_uri": "https://localhost:8080/"
        },
        "outputId": "5807af95-4137-4881-93f9-8140c7636612"
      },
      "source": [
        "print(t.reshape(1, 12).squeeze())\n",
        "print(t.reshape(1, 12).squeeze().shape)"
      ],
      "execution_count": null,
      "outputs": [
        {
          "output_type": "stream",
          "text": [
            "tensor([0., 0., 0., 0., 1., 1., 1., 1., 2., 2., 2., 2.])\n",
            "torch.Size([12])\n"
          ],
          "name": "stdout"
        }
      ]
    },
    {
      "cell_type": "code",
      "metadata": {
        "id": "-Yr0qwP5a-J5",
        "colab": {
          "base_uri": "https://localhost:8080/"
        },
        "outputId": "3b0caba0-fdd1-460b-c734-0f8720c2a44a"
      },
      "source": [
        "print(t.reshape(1, 12).squeeze().unsqueeze(dim=0))\n",
        "print(t.reshape(1, 12).squeeze().unsqueeze(dim=0).shape)"
      ],
      "execution_count": null,
      "outputs": [
        {
          "output_type": "stream",
          "text": [
            "tensor([[0., 0., 0., 0., 1., 1., 1., 1., 2., 2., 2., 2.]])\n",
            "torch.Size([1, 12])\n"
          ],
          "name": "stdout"
        }
      ]
    },
    {
      "cell_type": "markdown",
      "metadata": {
        "id": "-uxXCAWNbHBL"
      },
      "source": [
        "**Use cases?**\n",
        "\n",
        "Neural networks are always trained in a batch of samples. This is troubling because when we want to test 1 image, we do not have an array, we only have 1 image. Well we unsqueeze it to fake a batch.\n",
        "\n",
        "We use this function that is very common, called Flatten. This essentially create a new tensor that is only 1D. This is done to connect our data to next Fully Connected Layers. We use squeeze function for this. \n",
        "\n",
        "Let's implement such a function. "
      ]
    },
    {
      "cell_type": "code",
      "metadata": {
        "id": "DSIfF857bFwH"
      },
      "source": [
        "def flatten(t):\n",
        "  t = t.reshape(1, -1)\n",
        "  # In PyTorch this forces PyTorch to figure out the next dimension automatically so numel remains constant.\n",
        "  # i.e. if tensor was of 2x3x4 dimensions (1, -1) will calculate 24 for us and get us a 1x24 tensor. \n",
        "  t = t.squeeze()\n",
        "  # now we need to squeeze it since it is still acting like a 2D array.\n",
        "  return t"
      ],
      "execution_count": null,
      "outputs": []
    },
    {
      "cell_type": "code",
      "metadata": {
        "id": "VnC4VHu5bj7h",
        "colab": {
          "base_uri": "https://localhost:8080/"
        },
        "outputId": "6e9fb7eb-d37d-4a80-826f-d9c3c79d1b23"
      },
      "source": [
        "t.shape"
      ],
      "execution_count": null,
      "outputs": [
        {
          "output_type": "execute_result",
          "data": {
            "text/plain": [
              "torch.Size([3, 4])"
            ]
          },
          "metadata": {
            "tags": []
          },
          "execution_count": 59
        }
      ]
    },
    {
      "cell_type": "code",
      "metadata": {
        "id": "P5m5qfIOblc1",
        "colab": {
          "base_uri": "https://localhost:8080/"
        },
        "outputId": "58d5265b-cdb1-4f35-de4f-b859bc83e6b2"
      },
      "source": [
        "flatten(t)"
      ],
      "execution_count": null,
      "outputs": [
        {
          "output_type": "execute_result",
          "data": {
            "text/plain": [
              "tensor([0., 0., 0., 0., 1., 1., 1., 1., 2., 2., 2., 2.])"
            ]
          },
          "metadata": {
            "tags": []
          },
          "execution_count": 60
        }
      ]
    },
    {
      "cell_type": "code",
      "metadata": {
        "id": "bwZY37scbm0I",
        "colab": {
          "base_uri": "https://localhost:8080/"
        },
        "outputId": "94c0f38f-06b1-4e31-e374-7f21e1e62f92"
      },
      "source": [
        "t.reshape(1, -1)"
      ],
      "execution_count": null,
      "outputs": [
        {
          "output_type": "execute_result",
          "data": {
            "text/plain": [
              "tensor([[0., 0., 0., 0., 1., 1., 1., 1., 2., 2., 2., 2.]])"
            ]
          },
          "metadata": {
            "tags": []
          },
          "execution_count": 61
        }
      ]
    },
    {
      "cell_type": "markdown",
      "metadata": {
        "id": "sU0qQZIRbxsx"
      },
      "source": [
        "**Tensor Concatenation**"
      ]
    },
    {
      "cell_type": "code",
      "metadata": {
        "id": "h43m7XP7bsKj",
        "colab": {
          "base_uri": "https://localhost:8080/"
        },
        "outputId": "6c45483f-f99a-42ef-f30a-b25244a9af0a"
      },
      "source": [
        "t1 = torch.tensor([\n",
        "    [1, 2],\n",
        "    [3, 4]\n",
        "])\n",
        "\n",
        "t2 = torch.tensor([\n",
        "    [5, 6],\n",
        "    [7, 8]\n",
        "])\n",
        "\n",
        "torch.cat((t1, t2), dim=0)\n"
      ],
      "execution_count": null,
      "outputs": [
        {
          "output_type": "execute_result",
          "data": {
            "text/plain": [
              "tensor([[1, 2],\n",
              "        [3, 4],\n",
              "        [5, 6],\n",
              "        [7, 8]])"
            ]
          },
          "metadata": {
            "tags": []
          },
          "execution_count": 63
        }
      ]
    },
    {
      "cell_type": "code",
      "metadata": {
        "id": "PGHP8h1qb1Iv",
        "colab": {
          "base_uri": "https://localhost:8080/"
        },
        "outputId": "9141645d-81db-4cd1-b340-69a308df5e44"
      },
      "source": [
        "torch.cat((t1, t2), dim=1)"
      ],
      "execution_count": null,
      "outputs": [
        {
          "output_type": "execute_result",
          "data": {
            "text/plain": [
              "tensor([[1, 2, 5, 6],\n",
              "        [3, 4, 7, 8]])"
            ]
          },
          "metadata": {
            "tags": []
          },
          "execution_count": 64
        }
      ]
    },
    {
      "cell_type": "markdown",
      "metadata": {
        "id": "us4twbIBb8B3"
      },
      "source": [
        "**More on Flatten, and batches**"
      ]
    },
    {
      "cell_type": "code",
      "metadata": {
        "id": "lEiKwSi_b3cv"
      },
      "source": [
        "img1 = torch.tensor([\n",
        "  [1, 1, 1, 1],\n",
        "  [1, 1, 1, 1],\n",
        "  [1, 1, 1, 1],\n",
        "  [1, 1, 1, 1]\n",
        "])\n",
        "\n",
        "img2 = torch.tensor([\n",
        "  [2, 2, 2, 2],\n",
        "  [2, 2, 2, 2],\n",
        "  [2, 2, 2, 2],\n",
        "  [2, 2, 2, 2]\n",
        "])\n",
        "\n",
        "img3 = torch.tensor([\n",
        "  [3, 3, 3, 3],\n",
        "  [3, 3, 3, 3],\n",
        "  [3, 3, 3, 3],\n",
        "  [3, 3, 3, 3]\n",
        "])"
      ],
      "execution_count": null,
      "outputs": []
    },
    {
      "cell_type": "markdown",
      "metadata": {
        "id": "b21QHJUucCUf"
      },
      "source": [
        "Assume that above we have 3 4x4 black and white images. \n",
        "\n",
        "But we feed batches to our neural networks. How do we convert this into a batch (one of the many ways)"
      ]
    },
    {
      "cell_type": "code",
      "metadata": {
        "id": "S2da15TQb_kt",
        "colab": {
          "base_uri": "https://localhost:8080/"
        },
        "outputId": "148d27a7-d16e-4d78-99d9-af565ac46706"
      },
      "source": [
        "img1.shape"
      ],
      "execution_count": null,
      "outputs": [
        {
          "output_type": "execute_result",
          "data": {
            "text/plain": [
              "torch.Size([4, 4])"
            ]
          },
          "metadata": {
            "tags": []
          },
          "execution_count": 66
        }
      ]
    },
    {
      "cell_type": "code",
      "metadata": {
        "id": "aO62gZjucIsk",
        "colab": {
          "base_uri": "https://localhost:8080/"
        },
        "outputId": "9ca462fb-092c-421f-ca8e-2564ffcea38a"
      },
      "source": [
        "batch = torch.stack((img1, img2, img3))\n",
        "batch.shape"
      ],
      "execution_count": null,
      "outputs": [
        {
          "output_type": "execute_result",
          "data": {
            "text/plain": [
              "torch.Size([3, 4, 4])"
            ]
          },
          "metadata": {
            "tags": []
          },
          "execution_count": 67
        }
      ]
    },
    {
      "cell_type": "code",
      "metadata": {
        "id": "ZAHmJoAGcLHM",
        "colab": {
          "base_uri": "https://localhost:8080/"
        },
        "outputId": "e5522fc3-f0b4-47e9-90a2-ed0722f1734a"
      },
      "source": [
        "batch"
      ],
      "execution_count": null,
      "outputs": [
        {
          "output_type": "execute_result",
          "data": {
            "text/plain": [
              "tensor([[[1, 1, 1, 1],\n",
              "         [1, 1, 1, 1],\n",
              "         [1, 1, 1, 1],\n",
              "         [1, 1, 1, 1]],\n",
              "\n",
              "        [[2, 2, 2, 2],\n",
              "         [2, 2, 2, 2],\n",
              "         [2, 2, 2, 2],\n",
              "         [2, 2, 2, 2]],\n",
              "\n",
              "        [[3, 3, 3, 3],\n",
              "         [3, 3, 3, 3],\n",
              "         [3, 3, 3, 3],\n",
              "         [3, 3, 3, 3]]])"
            ]
          },
          "metadata": {
            "tags": []
          },
          "execution_count": 68
        }
      ]
    },
    {
      "cell_type": "markdown",
      "metadata": {
        "id": "wM-MF7dvcTYm"
      },
      "source": [
        "3 above represents our batch size, and 4x4 represents the shape of our images. But that is not how NN expects the data to be. It needs to be explicitly specified that we have 1 channel and that channel has 4x4 size data, so"
      ]
    },
    {
      "cell_type": "code",
      "metadata": {
        "id": "Z7EszuQ5cNKC",
        "colab": {
          "base_uri": "https://localhost:8080/"
        },
        "outputId": "60d5315e-1374-434a-a035-ec8b0bfa3cb6"
      },
      "source": [
        "batch = batch.reshape(3, 1, 4, 4)\n",
        "batch"
      ],
      "execution_count": null,
      "outputs": [
        {
          "output_type": "execute_result",
          "data": {
            "text/plain": [
              "tensor([[[[1, 1, 1, 1],\n",
              "          [1, 1, 1, 1],\n",
              "          [1, 1, 1, 1],\n",
              "          [1, 1, 1, 1]]],\n",
              "\n",
              "\n",
              "        [[[2, 2, 2, 2],\n",
              "          [2, 2, 2, 2],\n",
              "          [2, 2, 2, 2],\n",
              "          [2, 2, 2, 2]]],\n",
              "\n",
              "\n",
              "        [[[3, 3, 3, 3],\n",
              "          [3, 3, 3, 3],\n",
              "          [3, 3, 3, 3],\n",
              "          [3, 3, 3, 3]]]])"
            ]
          },
          "metadata": {
            "tags": []
          },
          "execution_count": 69
        }
      ]
    },
    {
      "cell_type": "code",
      "metadata": {
        "id": "RcYVOt7Lce4v",
        "colab": {
          "base_uri": "https://localhost:8080/"
        },
        "outputId": "559e4da4-e5e2-4219-ec02-62ffd01bc837"
      },
      "source": [
        "# let's get our first image\n",
        "\n",
        "batch[0]"
      ],
      "execution_count": null,
      "outputs": [
        {
          "output_type": "execute_result",
          "data": {
            "text/plain": [
              "tensor([[[1, 1, 1, 1],\n",
              "         [1, 1, 1, 1],\n",
              "         [1, 1, 1, 1],\n",
              "         [1, 1, 1, 1]]])"
            ]
          },
          "metadata": {
            "tags": []
          },
          "execution_count": 70
        }
      ]
    },
    {
      "cell_type": "code",
      "metadata": {
        "id": "oteVqF7wcwbq",
        "colab": {
          "base_uri": "https://localhost:8080/"
        },
        "outputId": "8ab6c599-f363-467a-dc1b-e804e4d9db5e"
      },
      "source": [
        "# let's get the first channel of our first image\n",
        "\n",
        "batch[0][0]"
      ],
      "execution_count": null,
      "outputs": [
        {
          "output_type": "execute_result",
          "data": {
            "text/plain": [
              "tensor([[1, 1, 1, 1],\n",
              "        [1, 1, 1, 1],\n",
              "        [1, 1, 1, 1],\n",
              "        [1, 1, 1, 1]])"
            ]
          },
          "metadata": {
            "tags": []
          },
          "execution_count": 71
        }
      ]
    },
    {
      "cell_type": "code",
      "metadata": {
        "id": "ZdDXqMYJcybh",
        "colab": {
          "base_uri": "https://localhost:8080/"
        },
        "outputId": "ee99888c-e8eb-4c8f-cee8-ca897e5ff4d6"
      },
      "source": [
        "# let's get the first row of our first channel of our first image\n",
        "\n",
        "batch[0][0][0]"
      ],
      "execution_count": null,
      "outputs": [
        {
          "output_type": "execute_result",
          "data": {
            "text/plain": [
              "tensor([1, 1, 1, 1])"
            ]
          },
          "metadata": {
            "tags": []
          },
          "execution_count": 72
        }
      ]
    },
    {
      "cell_type": "code",
      "metadata": {
        "id": "7YHx4Z7mc0Xt",
        "colab": {
          "base_uri": "https://localhost:8080/"
        },
        "outputId": "8ab5bf3e-1f4b-4da2-b309-4924d90da510"
      },
      "source": [
        "# let's get the first pixel of the first row of our first channel of our first image\n",
        "\n",
        "batch[0][0][0][0]"
      ],
      "execution_count": null,
      "outputs": [
        {
          "output_type": "execute_result",
          "data": {
            "text/plain": [
              "tensor(1)"
            ]
          },
          "metadata": {
            "tags": []
          },
          "execution_count": 73
        }
      ]
    },
    {
      "cell_type": "code",
      "metadata": {
        "id": "nuv-9iUHc13J",
        "colab": {
          "base_uri": "https://localhost:8080/"
        },
        "outputId": "41c37b18-63e8-460f-f2d9-40cf7cf5c4e4"
      },
      "source": [
        "batch.reshape(1, -1)[0]"
      ],
      "execution_count": null,
      "outputs": [
        {
          "output_type": "execute_result",
          "data": {
            "text/plain": [
              "tensor([1, 1, 1, 1, 1, 1, 1, 1, 1, 1, 1, 1, 1, 1, 1, 1, 2, 2, 2, 2, 2, 2, 2, 2,\n",
              "        2, 2, 2, 2, 2, 2, 2, 2, 3, 3, 3, 3, 3, 3, 3, 3, 3, 3, 3, 3, 3, 3, 3, 3])"
            ]
          },
          "metadata": {
            "tags": []
          },
          "execution_count": 74
        }
      ]
    },
    {
      "cell_type": "code",
      "metadata": {
        "id": "xnD3m-yvc65L",
        "colab": {
          "base_uri": "https://localhost:8080/"
        },
        "outputId": "8bcd25e5-6cdb-4092-ac7a-41d5534a9e04"
      },
      "source": [
        "batch.reshape(-1)"
      ],
      "execution_count": null,
      "outputs": [
        {
          "output_type": "execute_result",
          "data": {
            "text/plain": [
              "tensor([1, 1, 1, 1, 1, 1, 1, 1, 1, 1, 1, 1, 1, 1, 1, 1, 2, 2, 2, 2, 2, 2, 2, 2,\n",
              "        2, 2, 2, 2, 2, 2, 2, 2, 3, 3, 3, 3, 3, 3, 3, 3, 3, 3, 3, 3, 3, 3, 3, 3])"
            ]
          },
          "metadata": {
            "tags": []
          },
          "execution_count": 75
        }
      ]
    },
    {
      "cell_type": "code",
      "metadata": {
        "id": "mxcHE00Uc_Tn",
        "colab": {
          "base_uri": "https://localhost:8080/"
        },
        "outputId": "da8e360b-044b-4269-9af8-b1a92b52fbe1"
      },
      "source": [
        "batch.reshape(batch.numel())"
      ],
      "execution_count": null,
      "outputs": [
        {
          "output_type": "execute_result",
          "data": {
            "text/plain": [
              "tensor([1, 1, 1, 1, 1, 1, 1, 1, 1, 1, 1, 1, 1, 1, 1, 1, 2, 2, 2, 2, 2, 2, 2, 2,\n",
              "        2, 2, 2, 2, 2, 2, 2, 2, 3, 3, 3, 3, 3, 3, 3, 3, 3, 3, 3, 3, 3, 3, 3, 3])"
            ]
          },
          "metadata": {
            "tags": []
          },
          "execution_count": 76
        }
      ]
    },
    {
      "cell_type": "code",
      "metadata": {
        "id": "a7f1tPQvdCBK",
        "colab": {
          "base_uri": "https://localhost:8080/"
        },
        "outputId": "8fc567fe-12cc-4faa-b2aa-e5eaafc4a1ea"
      },
      "source": [
        "batch.flatten()"
      ],
      "execution_count": null,
      "outputs": [
        {
          "output_type": "execute_result",
          "data": {
            "text/plain": [
              "tensor([1, 1, 1, 1, 1, 1, 1, 1, 1, 1, 1, 1, 1, 1, 1, 1, 2, 2, 2, 2, 2, 2, 2, 2,\n",
              "        2, 2, 2, 2, 2, 2, 2, 2, 3, 3, 3, 3, 3, 3, 3, 3, 3, 3, 3, 3, 3, 3, 3, 3])"
            ]
          },
          "metadata": {
            "tags": []
          },
          "execution_count": 77
        }
      ]
    },
    {
      "cell_type": "markdown",
      "metadata": {
        "id": "8YFfsbSGdkhf"
      },
      "source": [
        "*But* what if we wanted to flatten the images but not collapse them into a single dim? Above data is anyways useless for our DNN"
      ]
    },
    {
      "cell_type": "code",
      "metadata": {
        "id": "SduUhQtodDnf",
        "colab": {
          "base_uri": "https://localhost:8080/"
        },
        "outputId": "77852078-979b-4797-9cf9-e4b732861981"
      },
      "source": [
        "batch.shape"
      ],
      "execution_count": null,
      "outputs": [
        {
          "output_type": "execute_result",
          "data": {
            "text/plain": [
              "torch.Size([3, 1, 4, 4])"
            ]
          },
          "metadata": {
            "tags": []
          },
          "execution_count": 78
        }
      ]
    },
    {
      "cell_type": "code",
      "metadata": {
        "id": "Jn6BC4rtduqp",
        "colab": {
          "base_uri": "https://localhost:8080/"
        },
        "outputId": "cc0616f4-55aa-4736-e71b-753e59e8b655"
      },
      "source": [
        "batch.reshape(3, -1)"
      ],
      "execution_count": null,
      "outputs": [
        {
          "output_type": "execute_result",
          "data": {
            "text/plain": [
              "tensor([[1, 1, 1, 1, 1, 1, 1, 1, 1, 1, 1, 1, 1, 1, 1, 1],\n",
              "        [2, 2, 2, 2, 2, 2, 2, 2, 2, 2, 2, 2, 2, 2, 2, 2],\n",
              "        [3, 3, 3, 3, 3, 3, 3, 3, 3, 3, 3, 3, 3, 3, 3, 3]])"
            ]
          },
          "metadata": {
            "tags": []
          },
          "execution_count": 79
        }
      ]
    },
    {
      "cell_type": "code",
      "metadata": {
        "id": "nK2kDRvJdx5U",
        "colab": {
          "base_uri": "https://localhost:8080/"
        },
        "outputId": "86ccc2a0-47a2-40d9-82ca-88dac8116ae0"
      },
      "source": [
        "# or inbuilt method\n",
        "batch.flatten(start_dim=1).shape"
      ],
      "execution_count": null,
      "outputs": [
        {
          "output_type": "execute_result",
          "data": {
            "text/plain": [
              "torch.Size([3, 16])"
            ]
          },
          "metadata": {
            "tags": []
          },
          "execution_count": 80
        }
      ]
    },
    {
      "cell_type": "code",
      "metadata": {
        "id": "xdAl7fxad3Nt",
        "colab": {
          "base_uri": "https://localhost:8080/"
        },
        "outputId": "09ec2148-ed3a-4c0b-8036-3208db4b7947"
      },
      "source": [
        "# or inbuilt method\n",
        "batch.flatten(start_dim=1)"
      ],
      "execution_count": null,
      "outputs": [
        {
          "output_type": "execute_result",
          "data": {
            "text/plain": [
              "tensor([[1, 1, 1, 1, 1, 1, 1, 1, 1, 1, 1, 1, 1, 1, 1, 1],\n",
              "        [2, 2, 2, 2, 2, 2, 2, 2, 2, 2, 2, 2, 2, 2, 2, 2],\n",
              "        [3, 3, 3, 3, 3, 3, 3, 3, 3, 3, 3, 3, 3, 3, 3, 3]])"
            ]
          },
          "metadata": {
            "tags": []
          },
          "execution_count": 81
        }
      ]
    },
    {
      "cell_type": "code",
      "metadata": {
        "id": "9OsaCfnEd5XS"
      },
      "source": [
        "t1 = torch.tensor([\n",
        "    [1, 2],\n",
        "    [3, 4]\n",
        "], dtype=torch.float32)\n",
        "\n",
        "t2 = torch.tensor([\n",
        "    [5, 6],\n",
        "    [7, 8]\n",
        "], dtype=torch.float32)"
      ],
      "execution_count": null,
      "outputs": []
    },
    {
      "cell_type": "code",
      "metadata": {
        "id": "_R6flejOd7aw",
        "colab": {
          "base_uri": "https://localhost:8080/"
        },
        "outputId": "1b70ee0d-0378-4b32-ba4c-866b33dbe4e9"
      },
      "source": [
        "t1 + t2 "
      ],
      "execution_count": null,
      "outputs": [
        {
          "output_type": "execute_result",
          "data": {
            "text/plain": [
              "tensor([[ 6.,  8.],\n",
              "        [10., 12.]])"
            ]
          },
          "metadata": {
            "tags": []
          },
          "execution_count": 83
        }
      ]
    },
    {
      "cell_type": "code",
      "metadata": {
        "id": "LqDRBhmEd8UM",
        "colab": {
          "base_uri": "https://localhost:8080/"
        },
        "outputId": "dc3f055f-6c56-495a-d09e-0d5a6825da1b"
      },
      "source": [
        "t1 + 2"
      ],
      "execution_count": null,
      "outputs": [
        {
          "output_type": "execute_result",
          "data": {
            "text/plain": [
              "tensor([[3., 4.],\n",
              "        [5., 6.]])"
            ]
          },
          "metadata": {
            "tags": []
          },
          "execution_count": 84
        }
      ]
    },
    {
      "cell_type": "code",
      "metadata": {
        "id": "0Kb80k0Bd9Ml",
        "colab": {
          "base_uri": "https://localhost:8080/"
        },
        "outputId": "8478e2c8-1bc2-4ab5-c721-cd61baa43ea9"
      },
      "source": [
        "t1 / 2"
      ],
      "execution_count": null,
      "outputs": [
        {
          "output_type": "execute_result",
          "data": {
            "text/plain": [
              "tensor([[0.5000, 1.0000],\n",
              "        [1.5000, 2.0000]])"
            ]
          },
          "metadata": {
            "tags": []
          },
          "execution_count": 85
        }
      ]
    },
    {
      "cell_type": "code",
      "metadata": {
        "id": "wztWvLy6d-GC",
        "colab": {
          "base_uri": "https://localhost:8080/"
        },
        "outputId": "f0f7b03e-51b7-4503-c0a8-5fab15c6b662"
      },
      "source": [
        "print(t1.add(2))\n",
        "\n",
        "print(t1.sub(2))\n",
        "\n",
        "print(t1.mul(2))\n",
        "\n",
        "print(t1.div(2))"
      ],
      "execution_count": null,
      "outputs": [
        {
          "output_type": "stream",
          "text": [
            "tensor([[3., 4.],\n",
            "        [5., 6.]])\n",
            "tensor([[-1.,  0.],\n",
            "        [ 1.,  2.]])\n",
            "tensor([[2., 4.],\n",
            "        [6., 8.]])\n",
            "tensor([[0.5000, 1.0000],\n",
            "        [1.5000, 2.0000]])\n"
          ],
          "name": "stdout"
        }
      ]
    },
    {
      "cell_type": "code",
      "metadata": {
        "id": "J9pbKihZeAti"
      },
      "source": [
        "t = torch.tensor([\n",
        "    [0, 5, 7],\n",
        "    [6, 0, 7],\n",
        "    [0, 8, 0]\n",
        "], dtype=torch.float32)"
      ],
      "execution_count": null,
      "outputs": []
    },
    {
      "cell_type": "code",
      "metadata": {
        "id": "myelPCTReMTs",
        "colab": {
          "base_uri": "https://localhost:8080/"
        },
        "outputId": "4809e841-5305-4f0b-f380-5471606a1b22"
      },
      "source": [
        "t.eq(0)"
      ],
      "execution_count": null,
      "outputs": [
        {
          "output_type": "execute_result",
          "data": {
            "text/plain": [
              "tensor([[ True, False, False],\n",
              "        [False,  True, False],\n",
              "        [ True, False,  True]])"
            ]
          },
          "metadata": {
            "tags": []
          },
          "execution_count": 88
        }
      ]
    },
    {
      "cell_type": "code",
      "metadata": {
        "id": "GXdX1dBaeOKG",
        "colab": {
          "base_uri": "https://localhost:8080/"
        },
        "outputId": "63f2a9d0-3554-4855-a361-263ea4eaefa1"
      },
      "source": [
        "t.ge(0)"
      ],
      "execution_count": null,
      "outputs": [
        {
          "output_type": "execute_result",
          "data": {
            "text/plain": [
              "tensor([[True, True, True],\n",
              "        [True, True, True],\n",
              "        [True, True, True]])"
            ]
          },
          "metadata": {
            "tags": []
          },
          "execution_count": 89
        }
      ]
    },
    {
      "cell_type": "code",
      "metadata": {
        "id": "skj0wjFDeQPB",
        "colab": {
          "base_uri": "https://localhost:8080/"
        },
        "outputId": "37831c8d-ad13-44cd-c8e4-505114c337fc"
      },
      "source": [
        "t.gt(0)"
      ],
      "execution_count": null,
      "outputs": [
        {
          "output_type": "execute_result",
          "data": {
            "text/plain": [
              "tensor([[False,  True,  True],\n",
              "        [ True, False,  True],\n",
              "        [False,  True, False]])"
            ]
          },
          "metadata": {
            "tags": []
          },
          "execution_count": 90
        }
      ]
    },
    {
      "cell_type": "code",
      "metadata": {
        "id": "t-o_KfbveSIx",
        "colab": {
          "base_uri": "https://localhost:8080/"
        },
        "outputId": "4e4b2c3b-cd3c-47fa-c820-2912297257fe"
      },
      "source": [
        "t.lt(0)"
      ],
      "execution_count": null,
      "outputs": [
        {
          "output_type": "execute_result",
          "data": {
            "text/plain": [
              "tensor([[False, False, False],\n",
              "        [False, False, False],\n",
              "        [False, False, False]])"
            ]
          },
          "metadata": {
            "tags": []
          },
          "execution_count": 91
        }
      ]
    },
    {
      "cell_type": "code",
      "metadata": {
        "id": "44X-91S7eTjM",
        "colab": {
          "base_uri": "https://localhost:8080/"
        },
        "outputId": "b9459583-770b-4c3f-f49b-f6631f7e2b93"
      },
      "source": [
        "t.le(7)"
      ],
      "execution_count": null,
      "outputs": [
        {
          "output_type": "execute_result",
          "data": {
            "text/plain": [
              "tensor([[ True,  True,  True],\n",
              "        [ True,  True,  True],\n",
              "        [ True, False,  True]])"
            ]
          },
          "metadata": {
            "tags": []
          },
          "execution_count": 92
        }
      ]
    },
    {
      "cell_type": "code",
      "metadata": {
        "id": "SoVytzLZeUaE",
        "colab": {
          "base_uri": "https://localhost:8080/"
        },
        "outputId": "d2a1ba63-6a38-499d-853d-bdda2b07712e"
      },
      "source": [
        "t.abs()"
      ],
      "execution_count": null,
      "outputs": [
        {
          "output_type": "execute_result",
          "data": {
            "text/plain": [
              "tensor([[0., 5., 7.],\n",
              "        [6., 0., 7.],\n",
              "        [0., 8., 0.]])"
            ]
          },
          "metadata": {
            "tags": []
          },
          "execution_count": 93
        }
      ]
    },
    {
      "cell_type": "code",
      "metadata": {
        "id": "Jp1JYrCCeV9X",
        "colab": {
          "base_uri": "https://localhost:8080/"
        },
        "outputId": "994544bb-1f53-4d8c-fd7c-039a71b54108"
      },
      "source": [
        "t.sqrt()"
      ],
      "execution_count": null,
      "outputs": [
        {
          "output_type": "execute_result",
          "data": {
            "text/plain": [
              "tensor([[0.0000, 2.2361, 2.6458],\n",
              "        [2.4495, 0.0000, 2.6458],\n",
              "        [0.0000, 2.8284, 0.0000]])"
            ]
          },
          "metadata": {
            "tags": []
          },
          "execution_count": 94
        }
      ]
    },
    {
      "cell_type": "code",
      "metadata": {
        "id": "FLQgiJszeaMg",
        "colab": {
          "base_uri": "https://localhost:8080/"
        },
        "outputId": "67b69790-8165-4f59-8ba9-acce0ddca02b"
      },
      "source": [
        "t.neg()"
      ],
      "execution_count": null,
      "outputs": [
        {
          "output_type": "execute_result",
          "data": {
            "text/plain": [
              "tensor([[-0., -5., -7.],\n",
              "        [-6., -0., -7.],\n",
              "        [-0., -8., -0.]])"
            ]
          },
          "metadata": {
            "tags": []
          },
          "execution_count": 95
        }
      ]
    },
    {
      "cell_type": "code",
      "metadata": {
        "id": "VNUknhv0ebEp",
        "colab": {
          "base_uri": "https://localhost:8080/"
        },
        "outputId": "ee98988b-2e16-40e2-aafb-0a77126ba02d"
      },
      "source": [
        "t.neg().abs()"
      ],
      "execution_count": null,
      "outputs": [
        {
          "output_type": "execute_result",
          "data": {
            "text/plain": [
              "tensor([[0., 5., 7.],\n",
              "        [6., 0., 7.],\n",
              "        [0., 8., 0.]])"
            ]
          },
          "metadata": {
            "tags": []
          },
          "execution_count": 96
        }
      ]
    },
    {
      "cell_type": "markdown",
      "metadata": {
        "id": "6nyRAfnled7W"
      },
      "source": [
        "# Reduction Functions\n",
        "\n",
        "A reduction operation on a tensor is an operation that reduces the number of elements contained within the tensor"
      ]
    },
    {
      "cell_type": "code",
      "metadata": {
        "id": "yzGsHAwuecDy"
      },
      "source": [
        "t = torch.tensor([\n",
        "    [0, 5, 7],\n",
        "    [6, 0, 7],\n",
        "    [0, 8, 0]\n",
        "], dtype=torch.float32)"
      ],
      "execution_count": 22,
      "outputs": []
    },
    {
      "cell_type": "code",
      "metadata": {
        "id": "RUNv-ocVegZ7",
        "colab": {
          "base_uri": "https://localhost:8080/"
        },
        "outputId": "614debb6-2eee-41ab-9fb6-1901cc07072d"
      },
      "source": [
        "t.sum()"
      ],
      "execution_count": 23,
      "outputs": [
        {
          "output_type": "execute_result",
          "data": {
            "text/plain": [
              "tensor(33.)"
            ]
          },
          "metadata": {
            "tags": []
          },
          "execution_count": 23
        }
      ]
    },
    {
      "cell_type": "code",
      "metadata": {
        "id": "QBQ_KATYehbM",
        "colab": {
          "base_uri": "https://localhost:8080/"
        },
        "outputId": "31d4206c-79b9-415c-b2ce-983681f5c488"
      },
      "source": [
        "t.prod()"
      ],
      "execution_count": null,
      "outputs": [
        {
          "output_type": "execute_result",
          "data": {
            "text/plain": [
              "tensor(0.)"
            ]
          },
          "metadata": {
            "tags": []
          },
          "execution_count": 99
        }
      ]
    },
    {
      "cell_type": "code",
      "metadata": {
        "id": "RSqvv-fbeiau",
        "colab": {
          "base_uri": "https://localhost:8080/"
        },
        "outputId": "223beb2c-c55f-4a63-ad76-78272157504f"
      },
      "source": [
        "t.mean()"
      ],
      "execution_count": null,
      "outputs": [
        {
          "output_type": "execute_result",
          "data": {
            "text/plain": [
              "tensor(3.6667)"
            ]
          },
          "metadata": {
            "tags": []
          },
          "execution_count": 100
        }
      ]
    },
    {
      "cell_type": "code",
      "metadata": {
        "id": "MNdJwq-nekNJ",
        "colab": {
          "base_uri": "https://localhost:8080/"
        },
        "outputId": "492403b8-ebbd-45da-ccbb-94b11c24cbf3"
      },
      "source": [
        "t.std()"
      ],
      "execution_count": null,
      "outputs": [
        {
          "output_type": "execute_result",
          "data": {
            "text/plain": [
              "tensor(3.5707)"
            ]
          },
          "metadata": {
            "tags": []
          },
          "execution_count": 101
        }
      ]
    },
    {
      "cell_type": "markdown",
      "metadata": {
        "id": "tgFWkhifenqk"
      },
      "source": [
        "Reduction operation do not recessarily reduce tensors to single value. We can perform operations on a specific axis as well"
      ]
    },
    {
      "cell_type": "code",
      "metadata": {
        "id": "3gbQlKjkelmK"
      },
      "source": [
        "t = torch.tensor([\n",
        "  [1, 1, 1, 1],\n",
        "  [2, 2, 2, 2],\n",
        "  [3, 3, 3, 3],\n",
        "  [4, 4, 4, 4]\n",
        "])"
      ],
      "execution_count": 24,
      "outputs": []
    },
    {
      "cell_type": "code",
      "metadata": {
        "id": "G5SjYfnIepHi",
        "colab": {
          "base_uri": "https://localhost:8080/"
        },
        "outputId": "dea8060d-0d30-4d86-b9a1-221cb5a0a129"
      },
      "source": [
        "t.sum(dim=0) # 0th axis is arrays (y-axis here), 1st axis is numbers(x-axis here)"
      ],
      "execution_count": 25,
      "outputs": [
        {
          "output_type": "execute_result",
          "data": {
            "text/plain": [
              "tensor([10, 10, 10, 10])"
            ]
          },
          "metadata": {
            "tags": []
          },
          "execution_count": 25
        }
      ]
    },
    {
      "cell_type": "code",
      "metadata": {
        "id": "Ukxag0mX2awC",
        "outputId": "46545724-279e-4c53-f0ae-41061e0c728d",
        "colab": {
          "base_uri": "https://localhost:8080/"
        }
      },
      "source": [
        "help(torch.sum)"
      ],
      "execution_count": 26,
      "outputs": [
        {
          "output_type": "stream",
          "text": [
            "Help on built-in function sum:\n",
            "\n",
            "sum(...)\n",
            "    sum(input, *, dtype=None) -> Tensor\n",
            "    \n",
            "    Returns the sum of all elements in the :attr:`input` tensor.\n",
            "    \n",
            "    Args:\n",
            "        input (Tensor): the input tensor.\n",
            "    \n",
            "    Keyword args:\n",
            "        dtype (:class:`torch.dtype`, optional): the desired data type of returned tensor.\n",
            "            If specified, the input tensor is casted to :attr:`dtype` before the operation\n",
            "            is performed. This is useful for preventing data type overflows. Default: None.\n",
            "    \n",
            "    Example::\n",
            "    \n",
            "        >>> a = torch.randn(1, 3)\n",
            "        >>> a\n",
            "        tensor([[ 0.1133, -0.9567,  0.2958]])\n",
            "        >>> torch.sum(a)\n",
            "        tensor(-0.5475)\n",
            "    \n",
            "    .. function:: sum(input, dim, keepdim=False, *, dtype=None) -> Tensor\n",
            "    \n",
            "    Returns the sum of each row of the :attr:`input` tensor in the given\n",
            "    dimension :attr:`dim`. If :attr:`dim` is a list of dimensions,\n",
            "    reduce over all of them.\n",
            "    \n",
            "    \n",
            "    If :attr:`keepdim` is ``True``, the output tensor is of the same size\n",
            "    as :attr:`input` except in the dimension(s) :attr:`dim` where it is of size 1.\n",
            "    Otherwise, :attr:`dim` is squeezed (see :func:`torch.squeeze`), resulting in the\n",
            "    output tensor having 1 (or ``len(dim)``) fewer dimension(s).\n",
            "    \n",
            "    \n",
            "    Args:\n",
            "        input (Tensor): the input tensor.\n",
            "        dim (int or tuple of ints): the dimension or dimensions to reduce.\n",
            "        keepdim (bool): whether the output tensor has :attr:`dim` retained or not.\n",
            "    \n",
            "    Keyword args:\n",
            "        dtype (:class:`torch.dtype`, optional): the desired data type of returned tensor.\n",
            "            If specified, the input tensor is casted to :attr:`dtype` before the operation\n",
            "            is performed. This is useful for preventing data type overflows. Default: None.\n",
            "    \n",
            "    Example::\n",
            "    \n",
            "        >>> a = torch.randn(4, 4)\n",
            "        >>> a\n",
            "        tensor([[ 0.0569, -0.2475,  0.0737, -0.3429],\n",
            "                [-0.2993,  0.9138,  0.9337, -1.6864],\n",
            "                [ 0.1132,  0.7892, -0.1003,  0.5688],\n",
            "                [ 0.3637, -0.9906, -0.4752, -1.5197]])\n",
            "        >>> torch.sum(a, 1)\n",
            "        tensor([-0.4598, -0.1381,  1.3708, -2.6217])\n",
            "        >>> b = torch.arange(4 * 5 * 6).view(4, 5, 6)\n",
            "        >>> torch.sum(b, (2, 1))\n",
            "        tensor([  435.,  1335.,  2235.,  3135.])\n",
            "\n"
          ],
          "name": "stdout"
        }
      ]
    },
    {
      "cell_type": "code",
      "metadata": {
        "id": "qTmWumJMesaH",
        "colab": {
          "base_uri": "https://localhost:8080/"
        },
        "outputId": "a0a394cb-b292-47b9-a7c7-2c57669a123d"
      },
      "source": [
        "t.sum(dim=1)"
      ],
      "execution_count": null,
      "outputs": [
        {
          "output_type": "execute_result",
          "data": {
            "text/plain": [
              "tensor([ 4,  8, 12, 16])"
            ]
          },
          "metadata": {
            "tags": []
          },
          "execution_count": 104
        }
      ]
    },
    {
      "cell_type": "code",
      "metadata": {
        "id": "fsygUewVew7T",
        "colab": {
          "base_uri": "https://localhost:8080/"
        },
        "outputId": "e4b94bc5-192a-4901-cfa2-a5702d047948"
      },
      "source": [
        "t.argmax(), t.max()"
      ],
      "execution_count": 27,
      "outputs": [
        {
          "output_type": "execute_result",
          "data": {
            "text/plain": [
              "(tensor(12), tensor(4))"
            ]
          },
          "metadata": {
            "tags": []
          },
          "execution_count": 27
        }
      ]
    },
    {
      "cell_type": "code",
      "metadata": {
        "id": "II9Pnl6ye3Nz",
        "colab": {
          "base_uri": "https://localhost:8080/"
        },
        "outputId": "97e5fdc3-e902-4a18-cb3b-5fe153c76312"
      },
      "source": [
        "t.argmin(), t.min()"
      ],
      "execution_count": null,
      "outputs": [
        {
          "output_type": "execute_result",
          "data": {
            "text/plain": [
              "(tensor(0), tensor(1))"
            ]
          },
          "metadata": {
            "tags": []
          },
          "execution_count": 106
        }
      ]
    },
    {
      "cell_type": "code",
      "metadata": {
        "id": "67U5-WCGe7R3",
        "colab": {
          "base_uri": "https://localhost:8080/"
        },
        "outputId": "e552ea54-356c-4c70-9cef-4e8f70a9f767"
      },
      "source": [
        "t.flatten()"
      ],
      "execution_count": 28,
      "outputs": [
        {
          "output_type": "execute_result",
          "data": {
            "text/plain": [
              "tensor([1, 1, 1, 1, 2, 2, 2, 2, 3, 3, 3, 3, 4, 4, 4, 4])"
            ]
          },
          "metadata": {
            "tags": []
          },
          "execution_count": 28
        }
      ]
    },
    {
      "cell_type": "code",
      "metadata": {
        "id": "wflSiaNP2lDS",
        "outputId": "727390b7-63cf-4169-d03f-3a8771a2b905",
        "colab": {
          "base_uri": "https://localhost:8080/"
        }
      },
      "source": [
        "t.reshape(-1)"
      ],
      "execution_count": 29,
      "outputs": [
        {
          "output_type": "execute_result",
          "data": {
            "text/plain": [
              "tensor([1, 1, 1, 1, 2, 2, 2, 2, 3, 3, 3, 3, 4, 4, 4, 4])"
            ]
          },
          "metadata": {
            "tags": []
          },
          "execution_count": 29
        }
      ]
    },
    {
      "cell_type": "code",
      "metadata": {
        "id": "Oy4bESCZe-UW"
      },
      "source": [
        "t = torch.tensor([\n",
        "    [1, 0, 0, 2],\n",
        "    [0, 3, 3, 0],\n",
        "    [4, 0, 0, 5]\n",
        "], dtype=torch.float32)"
      ],
      "execution_count": null,
      "outputs": []
    },
    {
      "cell_type": "code",
      "metadata": {
        "id": "5nYwT5cmfAVA",
        "colab": {
          "base_uri": "https://localhost:8080/"
        },
        "outputId": "0981881d-f72c-47ea-b63b-d37bd26eef4a"
      },
      "source": [
        "t.max(dim=0)"
      ],
      "execution_count": null,
      "outputs": [
        {
          "output_type": "execute_result",
          "data": {
            "text/plain": [
              "torch.return_types.max(values=tensor([4., 3., 3., 5.]), indices=tensor([2, 1, 1, 2]))"
            ]
          },
          "metadata": {
            "tags": []
          },
          "execution_count": 109
        }
      ]
    },
    {
      "cell_type": "code",
      "metadata": {
        "id": "X2E7gDHQfD3w",
        "colab": {
          "base_uri": "https://localhost:8080/"
        },
        "outputId": "85502cc5-110c-4293-c348-6968d9e7421e"
      },
      "source": [
        "t.max(dim=1)"
      ],
      "execution_count": null,
      "outputs": [
        {
          "output_type": "execute_result",
          "data": {
            "text/plain": [
              "torch.return_types.max(values=tensor([2., 3., 5.]), indices=tensor([3, 1, 3]))"
            ]
          },
          "metadata": {
            "tags": []
          },
          "execution_count": 110
        }
      ]
    },
    {
      "cell_type": "code",
      "metadata": {
        "id": "W8C8QVvrfLai",
        "colab": {
          "base_uri": "https://localhost:8080/"
        },
        "outputId": "a1594d7c-b377-49f2-a980-a0303a04464a"
      },
      "source": [
        "t.argmax(dim=0)"
      ],
      "execution_count": null,
      "outputs": [
        {
          "output_type": "execute_result",
          "data": {
            "text/plain": [
              "tensor([2, 1, 1, 2])"
            ]
          },
          "metadata": {
            "tags": []
          },
          "execution_count": 111
        }
      ]
    },
    {
      "cell_type": "code",
      "metadata": {
        "id": "LSv83zCqfN_m",
        "colab": {
          "base_uri": "https://localhost:8080/"
        },
        "outputId": "54e8e2fa-4b4b-448e-9295-21e9f1dc750d"
      },
      "source": [
        "t.mean(), t.mean().item() #item works only with scalar value tensors"
      ],
      "execution_count": null,
      "outputs": [
        {
          "output_type": "execute_result",
          "data": {
            "text/plain": [
              "(tensor(1.5000), 1.5)"
            ]
          },
          "metadata": {
            "tags": []
          },
          "execution_count": 112
        }
      ]
    },
    {
      "cell_type": "code",
      "metadata": {
        "id": "0YfG0Z4ufSIm",
        "colab": {
          "base_uri": "https://localhost:8080/"
        },
        "outputId": "832ed4d0-deac-4c09-8ecc-6adad6698b1a"
      },
      "source": [
        "# how to get multiple values out of a tensor as item only works with scalar values\n",
        "\n",
        "t.mean(dim=0).tolist(), t.mean(dim=0).tolist()[0]"
      ],
      "execution_count": null,
      "outputs": [
        {
          "output_type": "execute_result",
          "data": {
            "text/plain": [
              "([1.6666666269302368, 1.0, 1.0, 2.3333332538604736], 1.6666666269302368)"
            ]
          },
          "metadata": {
            "tags": []
          },
          "execution_count": 113
        }
      ]
    },
    {
      "cell_type": "code",
      "metadata": {
        "id": "WrMeceeRfYJa",
        "colab": {
          "base_uri": "https://localhost:8080/"
        },
        "outputId": "24f1bb4c-38e2-4b83-a946-39c166e67371"
      },
      "source": [
        "# or\n",
        "\n",
        "t.mean(dim=0).numpy(), t.mean(dim=0).numpy()[0]"
      ],
      "execution_count": null,
      "outputs": [
        {
          "output_type": "execute_result",
          "data": {
            "text/plain": [
              "(array([1.6666666, 1.       , 1.       , 2.3333333], dtype=float32), 1.6666666)"
            ]
          },
          "metadata": {
            "tags": []
          },
          "execution_count": 114
        }
      ]
    },
    {
      "cell_type": "markdown",
      "metadata": {
        "id": "DPf-OOSmfe4J"
      },
      "source": [
        "# Working with the dataset\n",
        "\n",
        "We will look at convolutional/image examples as they allow us to get a good intuition on axises and are more complex to work on just 1D data\n",
        "\n",
        "### A common nn pipeline looks like this:\n",
        "1. Prepare the data\n",
        "2. Build the model\n",
        "3. Train the model\n",
        "4. Analyze the model"
      ]
    },
    {
      "cell_type": "code",
      "metadata": {
        "id": "6ySc5IGyfdAt"
      },
      "source": [
        "import torch\n",
        "import torchvision # provide access to datasets, models, transforms, utils, etc\n",
        "import torchvision.transforms as transforms"
      ],
      "execution_count": 1,
      "outputs": []
    },
    {
      "cell_type": "code",
      "metadata": {
        "id": "Nqv_-ekRfi4Y"
      },
      "source": [
        "# let's extend the Dataset class of Pytorch to build our own sample dataset\n",
        "from torch.utils.data import Dataset\n",
        "class OHLC(Dataset):\n",
        "  def __init__(self, csv_file):\n",
        "    self.data = pd.read_csv(csv_file)\n",
        "\n",
        "  def __getitem__(self, index):\n",
        "    r = self.data.iloc[index]\n",
        "    label = torch.tensor(r.is_up_day, dtype=torch.long)\n",
        "    sample = self.normalize(torch.tensor([r.open, r.high, r.low, r.close]))\n",
        "    return sample, label\n",
        "  \n",
        "  def __len__(self):\n",
        "    return len(self.data)"
      ],
      "execution_count": 2,
      "outputs": []
    },
    {
      "cell_type": "code",
      "metadata": {
        "id": "zVDI7XKzf352",
        "colab": {
          "base_uri": "https://localhost:8080/",
          "height": 382,
          "referenced_widgets": [
            "3fadc0f6b14f4655be7cec599d0eb10a",
            "b31598d0c01948ff8532469555853820",
            "ddd21fc2c5b84af38d921fb7985398d4",
            "13afe71cda214c1196d73413303be545",
            "8ee483401dd94d31b491da784075b349",
            "a53609138e464f51a6794bfb0caff5e3",
            "5f3eb12b3a9a4064bd48336fffcfda86",
            "cd1854a02ea94a9594465152ca470f6d",
            "fbd47ce796154375a78070ec5abd87e9",
            "993ea16b5ae9471ca83eac363a4b2a48",
            "ca5742de1c70465cb0c31e25ae9296e7",
            "56bb3e3d46804c798cd21675975cd417",
            "e880e1bc84e54848be4e2f67c22f48f1",
            "86377fb355494d7ebb839a695614eb95",
            "f44dd3fba5694bbfb76f08e3dc57b042",
            "4cc953d9711149dd937e185e9e5c8082",
            "e79d9b52995d4f1f9132ef8bf7e57ead",
            "930b9cc7e52e449ab6e2a49eaf91fb22",
            "6c8438fc45894425b256b572a7918063",
            "41a8b4998fa5475388bae40433d4fcca",
            "a66c71837743443cae7e16ab211c96d5",
            "5a9b5771254945efae77b4b267c00d27",
            "90946196a40a445aac5a92b989e11709",
            "4fbd3cae7b774d398f19587380914408",
            "a79ce9311af14aa2971e224718afef9c",
            "2451994e2afd45a1b6e18088c24e2d5c",
            "31aef5687d6e4240bd2ffe17cc9cc158",
            "6e0cddd371da4e5ab984fc76b04cb29d",
            "0c1e27636e8a48f2b4cef60a593c6f49",
            "32d9f98a3d5c4e8390d0af3982122c89",
            "b57d64e8ebb045609232f42c7de29fd8",
            "fa0a1078aaae4bd7aee423999c01a627"
          ]
        },
        "outputId": "e3750ef0-e096-4ea4-8c17-1d421d89a854"
      },
      "source": [
        "# now let's work with FashionMnist\n",
        "\n",
        "train_set = torchvision.datasets.FashionMNIST(\n",
        "    root='./data'\n",
        "    ,train=True\n",
        "    ,download=True\n",
        "    ,transform=transforms.Compose([\n",
        "        transforms.ToTensor()\n",
        "    ])\n",
        ")"
      ],
      "execution_count": 3,
      "outputs": [
        {
          "output_type": "stream",
          "text": [
            "Downloading http://fashion-mnist.s3-website.eu-central-1.amazonaws.com/train-images-idx3-ubyte.gz to ./data/FashionMNIST/raw/train-images-idx3-ubyte.gz\n"
          ],
          "name": "stdout"
        },
        {
          "output_type": "display_data",
          "data": {
            "application/vnd.jupyter.widget-view+json": {
              "model_id": "3fadc0f6b14f4655be7cec599d0eb10a",
              "version_minor": 0,
              "version_major": 2
            },
            "text/plain": [
              "HBox(children=(FloatProgress(value=1.0, bar_style='info', max=1.0), HTML(value='')))"
            ]
          },
          "metadata": {
            "tags": []
          }
        },
        {
          "output_type": "stream",
          "text": [
            "Extracting ./data/FashionMNIST/raw/train-images-idx3-ubyte.gz to ./data/FashionMNIST/raw\n",
            "Downloading http://fashion-mnist.s3-website.eu-central-1.amazonaws.com/train-labels-idx1-ubyte.gz to ./data/FashionMNIST/raw/train-labels-idx1-ubyte.gz\n"
          ],
          "name": "stdout"
        },
        {
          "output_type": "display_data",
          "data": {
            "application/vnd.jupyter.widget-view+json": {
              "model_id": "fbd47ce796154375a78070ec5abd87e9",
              "version_minor": 0,
              "version_major": 2
            },
            "text/plain": [
              "HBox(children=(FloatProgress(value=1.0, bar_style='info', max=1.0), HTML(value='')))"
            ]
          },
          "metadata": {
            "tags": []
          }
        },
        {
          "output_type": "stream",
          "text": [
            "Extracting ./data/FashionMNIST/raw/train-labels-idx1-ubyte.gz to ./data/FashionMNIST/raw\n",
            "Downloading http://fashion-mnist.s3-website.eu-central-1.amazonaws.com/t10k-images-idx3-ubyte.gz to ./data/FashionMNIST/raw/t10k-images-idx3-ubyte.gz\n"
          ],
          "name": "stdout"
        },
        {
          "output_type": "display_data",
          "data": {
            "application/vnd.jupyter.widget-view+json": {
              "model_id": "e79d9b52995d4f1f9132ef8bf7e57ead",
              "version_minor": 0,
              "version_major": 2
            },
            "text/plain": [
              "HBox(children=(FloatProgress(value=1.0, bar_style='info', max=1.0), HTML(value='')))"
            ]
          },
          "metadata": {
            "tags": []
          }
        },
        {
          "output_type": "stream",
          "text": [
            "Extracting ./data/FashionMNIST/raw/t10k-images-idx3-ubyte.gz to ./data/FashionMNIST/raw\n",
            "Downloading http://fashion-mnist.s3-website.eu-central-1.amazonaws.com/t10k-labels-idx1-ubyte.gz to ./data/FashionMNIST/raw/t10k-labels-idx1-ubyte.gz\n"
          ],
          "name": "stdout"
        },
        {
          "output_type": "display_data",
          "data": {
            "application/vnd.jupyter.widget-view+json": {
              "model_id": "a79ce9311af14aa2971e224718afef9c",
              "version_minor": 0,
              "version_major": 2
            },
            "text/plain": [
              "HBox(children=(FloatProgress(value=1.0, bar_style='info', max=1.0), HTML(value='')))"
            ]
          },
          "metadata": {
            "tags": []
          }
        },
        {
          "output_type": "stream",
          "text": [
            "Extracting ./data/FashionMNIST/raw/t10k-labels-idx1-ubyte.gz to ./data/FashionMNIST/raw\n",
            "Processing...\n",
            "Done!\n"
          ],
          "name": "stdout"
        },
        {
          "output_type": "stream",
          "text": [
            "/usr/local/lib/python3.6/dist-packages/torchvision/datasets/mnist.py:480: UserWarning: The given NumPy array is not writeable, and PyTorch does not support non-writeable tensors. This means you can write to the underlying (supposedly non-writeable) NumPy array using the tensor. You may want to copy the array to protect its data or make it writeable before converting it to a tensor. This type of warning will be suppressed for the rest of this program. (Triggered internally at  /pytorch/torch/csrc/utils/tensor_numpy.cpp:141.)\n",
            "  return torch.from_numpy(parsed.astype(m[2], copy=False)).view(*s)\n"
          ],
          "name": "stderr"
        }
      ]
    },
    {
      "cell_type": "markdown",
      "metadata": {
        "id": "uigZk-s_gCi6"
      },
      "source": [
        "`torch.utils.data.DataLoader` is an iterator which provides all these features:\n",
        "* Batching the data\n",
        "* Shuffling the data\n",
        "* Load the data in parallel using multiprocessing workers."
      ]
    },
    {
      "cell_type": "code",
      "metadata": {
        "id": "1ufrJYPQf9e-"
      },
      "source": [
        "train_loader = torch.utils.data.DataLoader(train_set\n",
        "    ,batch_size=10\n",
        "    ,shuffle=True\n",
        ")"
      ],
      "execution_count": 4,
      "outputs": []
    },
    {
      "cell_type": "code",
      "metadata": {
        "id": "CvSHd5RYgVnf"
      },
      "source": [
        "import numpy as np\n",
        "import matplotlib.pyplot as plt"
      ],
      "execution_count": 5,
      "outputs": []
    },
    {
      "cell_type": "code",
      "metadata": {
        "id": "7aVCl3mvghVB",
        "colab": {
          "base_uri": "https://localhost:8080/"
        },
        "outputId": "e6446cfe-2b0d-4146-f431-d7f62207586b"
      },
      "source": [
        "len(train_set)"
      ],
      "execution_count": 6,
      "outputs": [
        {
          "output_type": "execute_result",
          "data": {
            "text/plain": [
              "60000"
            ]
          },
          "metadata": {
            "tags": []
          },
          "execution_count": 6
        }
      ]
    },
    {
      "cell_type": "code",
      "metadata": {
        "id": "pDLODjP-giVK",
        "colab": {
          "base_uri": "https://localhost:8080/"
        },
        "outputId": "b742fed6-acf5-44c2-e688-67d339d12f95"
      },
      "source": [
        "train_set.train_labels"
      ],
      "execution_count": 7,
      "outputs": [
        {
          "output_type": "stream",
          "text": [
            "/usr/local/lib/python3.6/dist-packages/torchvision/datasets/mnist.py:48: UserWarning: train_labels has been renamed targets\n",
            "  warnings.warn(\"train_labels has been renamed targets\")\n"
          ],
          "name": "stderr"
        },
        {
          "output_type": "execute_result",
          "data": {
            "text/plain": [
              "tensor([9, 0, 0,  ..., 3, 0, 5])"
            ]
          },
          "metadata": {
            "tags": []
          },
          "execution_count": 7
        }
      ]
    },
    {
      "cell_type": "code",
      "metadata": {
        "id": "lOs6sdqfgpV5",
        "colab": {
          "base_uri": "https://localhost:8080/"
        },
        "outputId": "63a7f516-d10d-4881-9600-dd960db514e6"
      },
      "source": [
        "train_set.train_labels.bincount() #frequency of each label, we have balanced class here"
      ],
      "execution_count": 8,
      "outputs": [
        {
          "output_type": "stream",
          "text": [
            "/usr/local/lib/python3.6/dist-packages/torchvision/datasets/mnist.py:48: UserWarning: train_labels has been renamed targets\n",
            "  warnings.warn(\"train_labels has been renamed targets\")\n"
          ],
          "name": "stderr"
        },
        {
          "output_type": "execute_result",
          "data": {
            "text/plain": [
              "tensor([6000, 6000, 6000, 6000, 6000, 6000, 6000, 6000, 6000, 6000])"
            ]
          },
          "metadata": {
            "tags": []
          },
          "execution_count": 8
        }
      ]
    },
    {
      "cell_type": "code",
      "metadata": {
        "id": "JdkvTcR8gumP",
        "colab": {
          "base_uri": "https://localhost:8080/"
        },
        "outputId": "2b909b85-bc49-49f0-cd58-351ece939fdd"
      },
      "source": [
        "for e in train_set:\n",
        "  print(e)\n",
        "  break"
      ],
      "execution_count": 9,
      "outputs": [
        {
          "output_type": "stream",
          "text": [
            "\n",
            "\n",
            "(tensor([[[0.0000, 0.0000, 0.0000, 0.0000, 0.0000, 0.0000, 0.0000, 0.0000,\n",
            "          0.0000, 0.0000, 0.0000, 0.0000, 0.0000, 0.0000, 0.0000, 0.0000,\n",
            "          0.0000, 0.0000, 0.0000, 0.0000, 0.0000, 0.0000, 0.0000, 0.0000,\n",
            "          0.0000, 0.0000, 0.0000, 0.0000],\n",
            "         [0.0000, 0.0000, 0.0000, 0.0000, 0.0000, 0.0000, 0.0000, 0.0000,\n",
            "          0.0000, 0.0000, 0.0000, 0.0000, 0.0000, 0.0000, 0.0000, 0.0000,\n",
            "          0.0000, 0.0000, 0.0000, 0.0000, 0.0000, 0.0000, 0.0000, 0.0000,\n",
            "          0.0000, 0.0000, 0.0000, 0.0000],\n",
            "         [0.0000, 0.0000, 0.0000, 0.0000, 0.0000, 0.0000, 0.0000, 0.0000,\n",
            "          0.0000, 0.0000, 0.0000, 0.0000, 0.0000, 0.0000, 0.0000, 0.0000,\n",
            "          0.0000, 0.0000, 0.0000, 0.0000, 0.0000, 0.0000, 0.0000, 0.0000,\n",
            "          0.0000, 0.0000, 0.0000, 0.0000],\n",
            "         [0.0000, 0.0000, 0.0000, 0.0000, 0.0000, 0.0000, 0.0000, 0.0000,\n",
            "          0.0000, 0.0000, 0.0000, 0.0000, 0.0039, 0.0000, 0.0000, 0.0510,\n",
            "          0.2863, 0.0000, 0.0000, 0.0039, 0.0157, 0.0000, 0.0000, 0.0000,\n",
            "          0.0000, 0.0039, 0.0039, 0.0000],\n",
            "         [0.0000, 0.0000, 0.0000, 0.0000, 0.0000, 0.0000, 0.0000, 0.0000,\n",
            "          0.0000, 0.0000, 0.0000, 0.0000, 0.0118, 0.0000, 0.1412, 0.5333,\n",
            "          0.4980, 0.2431, 0.2118, 0.0000, 0.0000, 0.0000, 0.0039, 0.0118,\n",
            "          0.0157, 0.0000, 0.0000, 0.0118],\n",
            "         [0.0000, 0.0000, 0.0000, 0.0000, 0.0000, 0.0000, 0.0000, 0.0000,\n",
            "          0.0000, 0.0000, 0.0000, 0.0000, 0.0235, 0.0000, 0.4000, 0.8000,\n",
            "          0.6902, 0.5255, 0.5647, 0.4824, 0.0902, 0.0000, 0.0000, 0.0000,\n",
            "          0.0000, 0.0471, 0.0392, 0.0000],\n",
            "         [0.0000, 0.0000, 0.0000, 0.0000, 0.0000, 0.0000, 0.0000, 0.0000,\n",
            "          0.0000, 0.0000, 0.0000, 0.0000, 0.0000, 0.0000, 0.6078, 0.9255,\n",
            "          0.8118, 0.6980, 0.4196, 0.6118, 0.6314, 0.4275, 0.2510, 0.0902,\n",
            "          0.3020, 0.5098, 0.2824, 0.0588],\n",
            "         [0.0000, 0.0000, 0.0000, 0.0000, 0.0000, 0.0000, 0.0000, 0.0000,\n",
            "          0.0000, 0.0000, 0.0000, 0.0039, 0.0000, 0.2706, 0.8118, 0.8745,\n",
            "          0.8549, 0.8471, 0.8471, 0.6392, 0.4980, 0.4745, 0.4784, 0.5725,\n",
            "          0.5529, 0.3451, 0.6745, 0.2588],\n",
            "         [0.0000, 0.0000, 0.0000, 0.0000, 0.0000, 0.0000, 0.0000, 0.0000,\n",
            "          0.0000, 0.0039, 0.0039, 0.0039, 0.0000, 0.7843, 0.9098, 0.9098,\n",
            "          0.9137, 0.8980, 0.8745, 0.8745, 0.8431, 0.8353, 0.6431, 0.4980,\n",
            "          0.4824, 0.7686, 0.8980, 0.0000],\n",
            "         [0.0000, 0.0000, 0.0000, 0.0000, 0.0000, 0.0000, 0.0000, 0.0000,\n",
            "          0.0000, 0.0000, 0.0000, 0.0000, 0.0000, 0.7176, 0.8824, 0.8471,\n",
            "          0.8745, 0.8941, 0.9216, 0.8902, 0.8784, 0.8706, 0.8784, 0.8667,\n",
            "          0.8745, 0.9608, 0.6784, 0.0000],\n",
            "         [0.0000, 0.0000, 0.0000, 0.0000, 0.0000, 0.0000, 0.0000, 0.0000,\n",
            "          0.0000, 0.0000, 0.0000, 0.0000, 0.0000, 0.7569, 0.8941, 0.8549,\n",
            "          0.8353, 0.7765, 0.7059, 0.8314, 0.8235, 0.8275, 0.8353, 0.8745,\n",
            "          0.8627, 0.9529, 0.7922, 0.0000],\n",
            "         [0.0000, 0.0000, 0.0000, 0.0000, 0.0000, 0.0000, 0.0000, 0.0000,\n",
            "          0.0000, 0.0039, 0.0118, 0.0000, 0.0471, 0.8588, 0.8627, 0.8314,\n",
            "          0.8549, 0.7529, 0.6627, 0.8902, 0.8157, 0.8549, 0.8784, 0.8314,\n",
            "          0.8863, 0.7725, 0.8196, 0.2039],\n",
            "         [0.0000, 0.0000, 0.0000, 0.0000, 0.0000, 0.0000, 0.0000, 0.0000,\n",
            "          0.0000, 0.0000, 0.0235, 0.0000, 0.3882, 0.9569, 0.8706, 0.8627,\n",
            "          0.8549, 0.7961, 0.7765, 0.8667, 0.8431, 0.8353, 0.8706, 0.8627,\n",
            "          0.9608, 0.4667, 0.6549, 0.2196],\n",
            "         [0.0000, 0.0000, 0.0000, 0.0000, 0.0000, 0.0000, 0.0000, 0.0000,\n",
            "          0.0000, 0.0157, 0.0000, 0.0000, 0.2157, 0.9255, 0.8941, 0.9020,\n",
            "          0.8941, 0.9412, 0.9098, 0.8353, 0.8549, 0.8745, 0.9176, 0.8510,\n",
            "          0.8510, 0.8196, 0.3608, 0.0000],\n",
            "         [0.0000, 0.0000, 0.0039, 0.0157, 0.0235, 0.0275, 0.0078, 0.0000,\n",
            "          0.0000, 0.0000, 0.0000, 0.0000, 0.9294, 0.8863, 0.8510, 0.8745,\n",
            "          0.8706, 0.8588, 0.8706, 0.8667, 0.8471, 0.8745, 0.8980, 0.8431,\n",
            "          0.8549, 1.0000, 0.3020, 0.0000],\n",
            "         [0.0000, 0.0118, 0.0000, 0.0000, 0.0000, 0.0000, 0.0000, 0.0000,\n",
            "          0.0000, 0.2431, 0.5686, 0.8000, 0.8941, 0.8118, 0.8353, 0.8667,\n",
            "          0.8549, 0.8157, 0.8275, 0.8549, 0.8784, 0.8745, 0.8588, 0.8431,\n",
            "          0.8784, 0.9569, 0.6235, 0.0000],\n",
            "         [0.0000, 0.0000, 0.0000, 0.0000, 0.0706, 0.1725, 0.3216, 0.4196,\n",
            "          0.7412, 0.8941, 0.8627, 0.8706, 0.8510, 0.8863, 0.7843, 0.8039,\n",
            "          0.8275, 0.9020, 0.8784, 0.9176, 0.6902, 0.7373, 0.9804, 0.9725,\n",
            "          0.9137, 0.9333, 0.8431, 0.0000],\n",
            "         [0.0000, 0.2235, 0.7333, 0.8157, 0.8784, 0.8667, 0.8784, 0.8157,\n",
            "          0.8000, 0.8392, 0.8157, 0.8196, 0.7843, 0.6235, 0.9608, 0.7569,\n",
            "          0.8078, 0.8745, 1.0000, 1.0000, 0.8667, 0.9176, 0.8667, 0.8275,\n",
            "          0.8627, 0.9098, 0.9647, 0.0000],\n",
            "         [0.0118, 0.7922, 0.8941, 0.8784, 0.8667, 0.8275, 0.8275, 0.8392,\n",
            "          0.8039, 0.8039, 0.8039, 0.8627, 0.9412, 0.3137, 0.5882, 1.0000,\n",
            "          0.8980, 0.8667, 0.7373, 0.6039, 0.7490, 0.8235, 0.8000, 0.8196,\n",
            "          0.8706, 0.8941, 0.8824, 0.0000],\n",
            "         [0.3843, 0.9137, 0.7765, 0.8235, 0.8706, 0.8980, 0.8980, 0.9176,\n",
            "          0.9765, 0.8627, 0.7608, 0.8431, 0.8510, 0.9451, 0.2549, 0.2863,\n",
            "          0.4157, 0.4588, 0.6588, 0.8588, 0.8667, 0.8431, 0.8510, 0.8745,\n",
            "          0.8745, 0.8784, 0.8980, 0.1137],\n",
            "         [0.2941, 0.8000, 0.8314, 0.8000, 0.7569, 0.8039, 0.8275, 0.8824,\n",
            "          0.8471, 0.7255, 0.7725, 0.8078, 0.7765, 0.8353, 0.9412, 0.7647,\n",
            "          0.8902, 0.9608, 0.9373, 0.8745, 0.8549, 0.8314, 0.8196, 0.8706,\n",
            "          0.8627, 0.8667, 0.9020, 0.2627],\n",
            "         [0.1882, 0.7961, 0.7176, 0.7608, 0.8353, 0.7725, 0.7255, 0.7451,\n",
            "          0.7608, 0.7529, 0.7922, 0.8392, 0.8588, 0.8667, 0.8627, 0.9255,\n",
            "          0.8824, 0.8471, 0.7804, 0.8078, 0.7294, 0.7098, 0.6941, 0.6745,\n",
            "          0.7098, 0.8039, 0.8078, 0.4510],\n",
            "         [0.0000, 0.4784, 0.8588, 0.7569, 0.7020, 0.6706, 0.7176, 0.7686,\n",
            "          0.8000, 0.8235, 0.8353, 0.8118, 0.8275, 0.8235, 0.7843, 0.7686,\n",
            "          0.7608, 0.7490, 0.7647, 0.7490, 0.7765, 0.7529, 0.6902, 0.6118,\n",
            "          0.6549, 0.6941, 0.8235, 0.3608],\n",
            "         [0.0000, 0.0000, 0.2902, 0.7412, 0.8314, 0.7490, 0.6863, 0.6745,\n",
            "          0.6863, 0.7098, 0.7255, 0.7373, 0.7412, 0.7373, 0.7569, 0.7765,\n",
            "          0.8000, 0.8196, 0.8235, 0.8235, 0.8275, 0.7373, 0.7373, 0.7608,\n",
            "          0.7529, 0.8471, 0.6667, 0.0000],\n",
            "         [0.0078, 0.0000, 0.0000, 0.0000, 0.2588, 0.7843, 0.8706, 0.9294,\n",
            "          0.9373, 0.9490, 0.9647, 0.9529, 0.9569, 0.8667, 0.8627, 0.7569,\n",
            "          0.7490, 0.7020, 0.7137, 0.7137, 0.7098, 0.6902, 0.6510, 0.6588,\n",
            "          0.3882, 0.2275, 0.0000, 0.0000],\n",
            "         [0.0000, 0.0000, 0.0000, 0.0000, 0.0000, 0.0000, 0.0000, 0.1569,\n",
            "          0.2392, 0.1725, 0.2824, 0.1608, 0.1373, 0.0000, 0.0000, 0.0000,\n",
            "          0.0000, 0.0000, 0.0000, 0.0000, 0.0000, 0.0000, 0.0000, 0.0000,\n",
            "          0.0000, 0.0000, 0.0000, 0.0000],\n",
            "         [0.0000, 0.0000, 0.0000, 0.0000, 0.0000, 0.0000, 0.0000, 0.0000,\n",
            "          0.0000, 0.0000, 0.0000, 0.0000, 0.0000, 0.0000, 0.0000, 0.0000,\n",
            "          0.0000, 0.0000, 0.0000, 0.0000, 0.0000, 0.0000, 0.0000, 0.0000,\n",
            "          0.0000, 0.0000, 0.0000, 0.0000],\n",
            "         [0.0000, 0.0000, 0.0000, 0.0000, 0.0000, 0.0000, 0.0000, 0.0000,\n",
            "          0.0000, 0.0000, 0.0000, 0.0000, 0.0000, 0.0000, 0.0000, 0.0000,\n",
            "          0.0000, 0.0000, 0.0000, 0.0000, 0.0000, 0.0000, 0.0000, 0.0000,\n",
            "          0.0000, 0.0000, 0.0000, 0.0000]]]), 9)\n"
          ],
          "name": "stdout"
        }
      ]
    },
    {
      "cell_type": "code",
      "metadata": {
        "id": "B4NSNONYhGuF",
        "colab": {
          "base_uri": "https://localhost:8080/"
        },
        "outputId": "77ee824a-1dde-442a-a5de-e1de56ebc34f"
      },
      "source": [
        "# so you can see we can iterate over our dataset\n",
        "\n",
        "sample = next(iter(range(10)))\n",
        "sample"
      ],
      "execution_count": 10,
      "outputs": [
        {
          "output_type": "execute_result",
          "data": {
            "text/plain": [
              "0"
            ]
          },
          "metadata": {
            "tags": []
          },
          "execution_count": 10
        }
      ]
    },
    {
      "cell_type": "code",
      "metadata": {
        "id": "yDYBW5GUhQn_",
        "colab": {
          "base_uri": "https://localhost:8080/"
        },
        "outputId": "af7b53fa-78bc-48be-b340-e83df887d750"
      },
      "source": [
        "for e in range(10):\n",
        "  print(e)\n",
        "  break"
      ],
      "execution_count": 11,
      "outputs": [
        {
          "output_type": "stream",
          "text": [
            "0\n"
          ],
          "name": "stdout"
        }
      ]
    },
    {
      "cell_type": "code",
      "metadata": {
        "id": "lSDhDTg9hRoS",
        "colab": {
          "base_uri": "https://localhost:8080/"
        },
        "outputId": "584b4fdc-a3b8-46b2-ef6c-2a9c9da887ac"
      },
      "source": [
        "sample = next(iter(train_set))\n",
        "\n",
        "len(sample)"
      ],
      "execution_count": 12,
      "outputs": [
        {
          "output_type": "execute_result",
          "data": {
            "text/plain": [
              "2"
            ]
          },
          "metadata": {
            "tags": []
          },
          "execution_count": 12
        }
      ]
    },
    {
      "cell_type": "code",
      "metadata": {
        "id": "E9aKijmmh3VF",
        "colab": {
          "base_uri": "https://localhost:8080/"
        },
        "outputId": "dee0b518-cf98-4ed7-861a-9ac1477e2dd7"
      },
      "source": [
        "type(sample)"
      ],
      "execution_count": 13,
      "outputs": [
        {
          "output_type": "execute_result",
          "data": {
            "text/plain": [
              "tuple"
            ]
          },
          "metadata": {
            "tags": []
          },
          "execution_count": 13
        }
      ]
    },
    {
      "cell_type": "code",
      "metadata": {
        "id": "z0so11iVh44W",
        "colab": {
          "base_uri": "https://localhost:8080/"
        },
        "outputId": "daa60a20-e4c1-4d9c-8108-933a10245516"
      },
      "source": [
        "sample"
      ],
      "execution_count": 14,
      "outputs": [
        {
          "output_type": "execute_result",
          "data": {
            "text/plain": [
              "(tensor([[[0.0000, 0.0000, 0.0000, 0.0000, 0.0000, 0.0000, 0.0000, 0.0000,\n",
              "           0.0000, 0.0000, 0.0000, 0.0000, 0.0000, 0.0000, 0.0000, 0.0000,\n",
              "           0.0000, 0.0000, 0.0000, 0.0000, 0.0000, 0.0000, 0.0000, 0.0000,\n",
              "           0.0000, 0.0000, 0.0000, 0.0000],\n",
              "          [0.0000, 0.0000, 0.0000, 0.0000, 0.0000, 0.0000, 0.0000, 0.0000,\n",
              "           0.0000, 0.0000, 0.0000, 0.0000, 0.0000, 0.0000, 0.0000, 0.0000,\n",
              "           0.0000, 0.0000, 0.0000, 0.0000, 0.0000, 0.0000, 0.0000, 0.0000,\n",
              "           0.0000, 0.0000, 0.0000, 0.0000],\n",
              "          [0.0000, 0.0000, 0.0000, 0.0000, 0.0000, 0.0000, 0.0000, 0.0000,\n",
              "           0.0000, 0.0000, 0.0000, 0.0000, 0.0000, 0.0000, 0.0000, 0.0000,\n",
              "           0.0000, 0.0000, 0.0000, 0.0000, 0.0000, 0.0000, 0.0000, 0.0000,\n",
              "           0.0000, 0.0000, 0.0000, 0.0000],\n",
              "          [0.0000, 0.0000, 0.0000, 0.0000, 0.0000, 0.0000, 0.0000, 0.0000,\n",
              "           0.0000, 0.0000, 0.0000, 0.0000, 0.0039, 0.0000, 0.0000, 0.0510,\n",
              "           0.2863, 0.0000, 0.0000, 0.0039, 0.0157, 0.0000, 0.0000, 0.0000,\n",
              "           0.0000, 0.0039, 0.0039, 0.0000],\n",
              "          [0.0000, 0.0000, 0.0000, 0.0000, 0.0000, 0.0000, 0.0000, 0.0000,\n",
              "           0.0000, 0.0000, 0.0000, 0.0000, 0.0118, 0.0000, 0.1412, 0.5333,\n",
              "           0.4980, 0.2431, 0.2118, 0.0000, 0.0000, 0.0000, 0.0039, 0.0118,\n",
              "           0.0157, 0.0000, 0.0000, 0.0118],\n",
              "          [0.0000, 0.0000, 0.0000, 0.0000, 0.0000, 0.0000, 0.0000, 0.0000,\n",
              "           0.0000, 0.0000, 0.0000, 0.0000, 0.0235, 0.0000, 0.4000, 0.8000,\n",
              "           0.6902, 0.5255, 0.5647, 0.4824, 0.0902, 0.0000, 0.0000, 0.0000,\n",
              "           0.0000, 0.0471, 0.0392, 0.0000],\n",
              "          [0.0000, 0.0000, 0.0000, 0.0000, 0.0000, 0.0000, 0.0000, 0.0000,\n",
              "           0.0000, 0.0000, 0.0000, 0.0000, 0.0000, 0.0000, 0.6078, 0.9255,\n",
              "           0.8118, 0.6980, 0.4196, 0.6118, 0.6314, 0.4275, 0.2510, 0.0902,\n",
              "           0.3020, 0.5098, 0.2824, 0.0588],\n",
              "          [0.0000, 0.0000, 0.0000, 0.0000, 0.0000, 0.0000, 0.0000, 0.0000,\n",
              "           0.0000, 0.0000, 0.0000, 0.0039, 0.0000, 0.2706, 0.8118, 0.8745,\n",
              "           0.8549, 0.8471, 0.8471, 0.6392, 0.4980, 0.4745, 0.4784, 0.5725,\n",
              "           0.5529, 0.3451, 0.6745, 0.2588],\n",
              "          [0.0000, 0.0000, 0.0000, 0.0000, 0.0000, 0.0000, 0.0000, 0.0000,\n",
              "           0.0000, 0.0039, 0.0039, 0.0039, 0.0000, 0.7843, 0.9098, 0.9098,\n",
              "           0.9137, 0.8980, 0.8745, 0.8745, 0.8431, 0.8353, 0.6431, 0.4980,\n",
              "           0.4824, 0.7686, 0.8980, 0.0000],\n",
              "          [0.0000, 0.0000, 0.0000, 0.0000, 0.0000, 0.0000, 0.0000, 0.0000,\n",
              "           0.0000, 0.0000, 0.0000, 0.0000, 0.0000, 0.7176, 0.8824, 0.8471,\n",
              "           0.8745, 0.8941, 0.9216, 0.8902, 0.8784, 0.8706, 0.8784, 0.8667,\n",
              "           0.8745, 0.9608, 0.6784, 0.0000],\n",
              "          [0.0000, 0.0000, 0.0000, 0.0000, 0.0000, 0.0000, 0.0000, 0.0000,\n",
              "           0.0000, 0.0000, 0.0000, 0.0000, 0.0000, 0.7569, 0.8941, 0.8549,\n",
              "           0.8353, 0.7765, 0.7059, 0.8314, 0.8235, 0.8275, 0.8353, 0.8745,\n",
              "           0.8627, 0.9529, 0.7922, 0.0000],\n",
              "          [0.0000, 0.0000, 0.0000, 0.0000, 0.0000, 0.0000, 0.0000, 0.0000,\n",
              "           0.0000, 0.0039, 0.0118, 0.0000, 0.0471, 0.8588, 0.8627, 0.8314,\n",
              "           0.8549, 0.7529, 0.6627, 0.8902, 0.8157, 0.8549, 0.8784, 0.8314,\n",
              "           0.8863, 0.7725, 0.8196, 0.2039],\n",
              "          [0.0000, 0.0000, 0.0000, 0.0000, 0.0000, 0.0000, 0.0000, 0.0000,\n",
              "           0.0000, 0.0000, 0.0235, 0.0000, 0.3882, 0.9569, 0.8706, 0.8627,\n",
              "           0.8549, 0.7961, 0.7765, 0.8667, 0.8431, 0.8353, 0.8706, 0.8627,\n",
              "           0.9608, 0.4667, 0.6549, 0.2196],\n",
              "          [0.0000, 0.0000, 0.0000, 0.0000, 0.0000, 0.0000, 0.0000, 0.0000,\n",
              "           0.0000, 0.0157, 0.0000, 0.0000, 0.2157, 0.9255, 0.8941, 0.9020,\n",
              "           0.8941, 0.9412, 0.9098, 0.8353, 0.8549, 0.8745, 0.9176, 0.8510,\n",
              "           0.8510, 0.8196, 0.3608, 0.0000],\n",
              "          [0.0000, 0.0000, 0.0039, 0.0157, 0.0235, 0.0275, 0.0078, 0.0000,\n",
              "           0.0000, 0.0000, 0.0000, 0.0000, 0.9294, 0.8863, 0.8510, 0.8745,\n",
              "           0.8706, 0.8588, 0.8706, 0.8667, 0.8471, 0.8745, 0.8980, 0.8431,\n",
              "           0.8549, 1.0000, 0.3020, 0.0000],\n",
              "          [0.0000, 0.0118, 0.0000, 0.0000, 0.0000, 0.0000, 0.0000, 0.0000,\n",
              "           0.0000, 0.2431, 0.5686, 0.8000, 0.8941, 0.8118, 0.8353, 0.8667,\n",
              "           0.8549, 0.8157, 0.8275, 0.8549, 0.8784, 0.8745, 0.8588, 0.8431,\n",
              "           0.8784, 0.9569, 0.6235, 0.0000],\n",
              "          [0.0000, 0.0000, 0.0000, 0.0000, 0.0706, 0.1725, 0.3216, 0.4196,\n",
              "           0.7412, 0.8941, 0.8627, 0.8706, 0.8510, 0.8863, 0.7843, 0.8039,\n",
              "           0.8275, 0.9020, 0.8784, 0.9176, 0.6902, 0.7373, 0.9804, 0.9725,\n",
              "           0.9137, 0.9333, 0.8431, 0.0000],\n",
              "          [0.0000, 0.2235, 0.7333, 0.8157, 0.8784, 0.8667, 0.8784, 0.8157,\n",
              "           0.8000, 0.8392, 0.8157, 0.8196, 0.7843, 0.6235, 0.9608, 0.7569,\n",
              "           0.8078, 0.8745, 1.0000, 1.0000, 0.8667, 0.9176, 0.8667, 0.8275,\n",
              "           0.8627, 0.9098, 0.9647, 0.0000],\n",
              "          [0.0118, 0.7922, 0.8941, 0.8784, 0.8667, 0.8275, 0.8275, 0.8392,\n",
              "           0.8039, 0.8039, 0.8039, 0.8627, 0.9412, 0.3137, 0.5882, 1.0000,\n",
              "           0.8980, 0.8667, 0.7373, 0.6039, 0.7490, 0.8235, 0.8000, 0.8196,\n",
              "           0.8706, 0.8941, 0.8824, 0.0000],\n",
              "          [0.3843, 0.9137, 0.7765, 0.8235, 0.8706, 0.8980, 0.8980, 0.9176,\n",
              "           0.9765, 0.8627, 0.7608, 0.8431, 0.8510, 0.9451, 0.2549, 0.2863,\n",
              "           0.4157, 0.4588, 0.6588, 0.8588, 0.8667, 0.8431, 0.8510, 0.8745,\n",
              "           0.8745, 0.8784, 0.8980, 0.1137],\n",
              "          [0.2941, 0.8000, 0.8314, 0.8000, 0.7569, 0.8039, 0.8275, 0.8824,\n",
              "           0.8471, 0.7255, 0.7725, 0.8078, 0.7765, 0.8353, 0.9412, 0.7647,\n",
              "           0.8902, 0.9608, 0.9373, 0.8745, 0.8549, 0.8314, 0.8196, 0.8706,\n",
              "           0.8627, 0.8667, 0.9020, 0.2627],\n",
              "          [0.1882, 0.7961, 0.7176, 0.7608, 0.8353, 0.7725, 0.7255, 0.7451,\n",
              "           0.7608, 0.7529, 0.7922, 0.8392, 0.8588, 0.8667, 0.8627, 0.9255,\n",
              "           0.8824, 0.8471, 0.7804, 0.8078, 0.7294, 0.7098, 0.6941, 0.6745,\n",
              "           0.7098, 0.8039, 0.8078, 0.4510],\n",
              "          [0.0000, 0.4784, 0.8588, 0.7569, 0.7020, 0.6706, 0.7176, 0.7686,\n",
              "           0.8000, 0.8235, 0.8353, 0.8118, 0.8275, 0.8235, 0.7843, 0.7686,\n",
              "           0.7608, 0.7490, 0.7647, 0.7490, 0.7765, 0.7529, 0.6902, 0.6118,\n",
              "           0.6549, 0.6941, 0.8235, 0.3608],\n",
              "          [0.0000, 0.0000, 0.2902, 0.7412, 0.8314, 0.7490, 0.6863, 0.6745,\n",
              "           0.6863, 0.7098, 0.7255, 0.7373, 0.7412, 0.7373, 0.7569, 0.7765,\n",
              "           0.8000, 0.8196, 0.8235, 0.8235, 0.8275, 0.7373, 0.7373, 0.7608,\n",
              "           0.7529, 0.8471, 0.6667, 0.0000],\n",
              "          [0.0078, 0.0000, 0.0000, 0.0000, 0.2588, 0.7843, 0.8706, 0.9294,\n",
              "           0.9373, 0.9490, 0.9647, 0.9529, 0.9569, 0.8667, 0.8627, 0.7569,\n",
              "           0.7490, 0.7020, 0.7137, 0.7137, 0.7098, 0.6902, 0.6510, 0.6588,\n",
              "           0.3882, 0.2275, 0.0000, 0.0000],\n",
              "          [0.0000, 0.0000, 0.0000, 0.0000, 0.0000, 0.0000, 0.0000, 0.1569,\n",
              "           0.2392, 0.1725, 0.2824, 0.1608, 0.1373, 0.0000, 0.0000, 0.0000,\n",
              "           0.0000, 0.0000, 0.0000, 0.0000, 0.0000, 0.0000, 0.0000, 0.0000,\n",
              "           0.0000, 0.0000, 0.0000, 0.0000],\n",
              "          [0.0000, 0.0000, 0.0000, 0.0000, 0.0000, 0.0000, 0.0000, 0.0000,\n",
              "           0.0000, 0.0000, 0.0000, 0.0000, 0.0000, 0.0000, 0.0000, 0.0000,\n",
              "           0.0000, 0.0000, 0.0000, 0.0000, 0.0000, 0.0000, 0.0000, 0.0000,\n",
              "           0.0000, 0.0000, 0.0000, 0.0000],\n",
              "          [0.0000, 0.0000, 0.0000, 0.0000, 0.0000, 0.0000, 0.0000, 0.0000,\n",
              "           0.0000, 0.0000, 0.0000, 0.0000, 0.0000, 0.0000, 0.0000, 0.0000,\n",
              "           0.0000, 0.0000, 0.0000, 0.0000, 0.0000, 0.0000, 0.0000, 0.0000,\n",
              "           0.0000, 0.0000, 0.0000, 0.0000]]]), 9)"
            ]
          },
          "metadata": {
            "tags": []
          },
          "execution_count": 14
        }
      ]
    },
    {
      "cell_type": "code",
      "metadata": {
        "id": "1UzO6A8yh6ff"
      },
      "source": [
        "image, label = sample"
      ],
      "execution_count": 15,
      "outputs": []
    },
    {
      "cell_type": "code",
      "metadata": {
        "id": "DfzFEflZh9Sy",
        "colab": {
          "base_uri": "https://localhost:8080/"
        },
        "outputId": "a29bc63f-fdf4-4162-c841-3b77540a779e"
      },
      "source": [
        "# or\n",
        "image = sample[0]\n",
        "label = sample[1]\n",
        "\n",
        "\n",
        "image.shape, label"
      ],
      "execution_count": 16,
      "outputs": [
        {
          "output_type": "execute_result",
          "data": {
            "text/plain": [
              "(torch.Size([1, 28, 28]), 9)"
            ]
          },
          "metadata": {
            "tags": []
          },
          "execution_count": 16
        }
      ]
    },
    {
      "cell_type": "code",
      "metadata": {
        "id": "MXaMqFvEiAcn",
        "colab": {
          "base_uri": "https://localhost:8080/",
          "height": 319
        },
        "outputId": "ccf96be6-3bad-4eaf-9d6a-a976c8715074"
      },
      "source": [
        "plt.imshow(image.squeeze(), cmap='gray')\n",
        "print('label:', label)"
      ],
      "execution_count": 17,
      "outputs": [
        {
          "output_type": "stream",
          "text": [
            "label: 9\n"
          ],
          "name": "stdout"
        },
        {
          "output_type": "display_data",
          "data": {
            "image/png": "[encoded data removed]",
            "text/plain": [
              "<Figure size 432x288 with 1 Axes>"
            ]
          },
          "metadata": {
            "tags": [],
            "needs_background": "light"
          }
        },
        {
          "output_type": "stream",
          "text": [
            "\n",
            "\n"
          ],
          "name": "stdout"
        }
      ]
    },
    {
      "cell_type": "code",
      "metadata": {
        "id": "ns36RvLciFMV",
        "colab": {
          "base_uri": "https://localhost:8080/"
        },
        "outputId": "7c5029d0-91ff-48fa-d1d3-46d5e90d280d"
      },
      "source": [
        "batch = next(iter(train_loader))\n",
        "\n",
        "len(batch), type(batch)"
      ],
      "execution_count": 18,
      "outputs": [
        {
          "output_type": "execute_result",
          "data": {
            "text/plain": [
              "(2, list)"
            ]
          },
          "metadata": {
            "tags": []
          },
          "execution_count": 18
        }
      ]
    },
    {
      "cell_type": "code",
      "metadata": {
        "id": "STyJ4zrtiPMH"
      },
      "source": [
        "images, labels = batch"
      ],
      "execution_count": 19,
      "outputs": []
    },
    {
      "cell_type": "code",
      "metadata": {
        "id": "Wr_E4gmjiT6K",
        "colab": {
          "base_uri": "https://localhost:8080/"
        },
        "outputId": "52276a0b-c485-4ffc-eed3-361a0b2189a9"
      },
      "source": [
        "images.shape, labels.shape"
      ],
      "execution_count": 20,
      "outputs": [
        {
          "output_type": "execute_result",
          "data": {
            "text/plain": [
              "(torch.Size([10, 1, 28, 28]), torch.Size([10]))"
            ]
          },
          "metadata": {
            "tags": []
          },
          "execution_count": 20
        }
      ]
    },
    {
      "cell_type": "code",
      "metadata": {
        "id": "r_SKMQxOiaaS",
        "colab": {
          "base_uri": "https://localhost:8080/",
          "height": 157
        },
        "outputId": "c7ecf8f2-397e-4412-e868-66e7eee88eff"
      },
      "source": [
        "grid = torchvision.utils.make_grid(images, nrow=10)\n",
        "plt.figure(figsize=(15,15))\n",
        "plt.imshow(np.transpose(grid, (1,2,0)))\n",
        "print('labels:', labels)"
      ],
      "execution_count": 21,
      "outputs": [
        {
          "output_type": "stream",
          "text": [
            "labels: tensor([6, 4, 7, 0, 7, 9, 0, 5, 6, 8])\n"
          ],
          "name": "stdout"
        },
        {
          "output_type": "display_data",
          "data": {
            "image/png": "[encoded data removed]",
            "text/plain": [
              "<Figure size 1080x1080 with 1 Axes>"
            ]
          },
          "metadata": {
            "tags": [],
            "needs_background": "light"
          }
        }
      ]
    },
    {
      "cell_type": "markdown",
      "metadata": {
        "id": "c0I4gzudipC_"
      },
      "source": [
        "# Let's build a network\n",
        "\n",
        "Below is the basic structure of a Model"
      ]
    },
    {
      "cell_type": "code",
      "metadata": {
        "id": "IgLhjONAilMv"
      },
      "source": [
        "import torch.nn as nn\n",
        "\n",
        "class Network(nn.Module):\n",
        "    def __init__(self):\n",
        "        super().__init__()\n",
        "        self.layer = None\n",
        "\n",
        "    def forward(self, t):\n",
        "        t = self.layer(t)\n",
        "        return t"
      ],
      "execution_count": null,
      "outputs": []
    },
    {
      "cell_type": "code",
      "metadata": {
        "id": "521aVmxvirRJ"
      },
      "source": [
        "class Network(nn.Module):\n",
        "    def __init__(self):\n",
        "        super().__init__()\n",
        "        self.conv1 = nn.Conv2d(in_channels=1, out_channels=6, kernel_size=5)\n",
        "        self.conv2 = nn.Conv2d(in_channels=6, out_channels=12, kernel_size=5)\n",
        "\n",
        "        self.fc1 = nn.Linear(in_features=12 * 4 * 4, out_features=120)\n",
        "        self.fc2 = nn.Linear(in_features=120, out_features=60)\n",
        "        self.out = nn.Linear(in_features=60, out_features=10)\n",
        "\n",
        "    def forward(self, t):\n",
        "        # implement the forward pass\n",
        "        return t"
      ],
      "execution_count": null,
      "outputs": []
    },
    {
      "cell_type": "code",
      "metadata": {
        "id": "BSVVfjp6jv9e",
        "colab": {
          "base_uri": "https://localhost:8080/"
        },
        "outputId": "748dfa20-4685-45c7-832a-5d6023c127ca"
      },
      "source": [
        "network = Network()\n",
        "\n",
        "print(network)"
      ],
      "execution_count": null,
      "outputs": [
        {
          "output_type": "stream",
          "text": [
            "Network(\n",
            "  (conv1): Conv2d(1, 6, kernel_size=(5, 5), stride=(1, 1))\n",
            "  (conv2): Conv2d(6, 12, kernel_size=(5, 5), stride=(1, 1))\n",
            "  (fc1): Linear(in_features=192, out_features=120, bias=True)\n",
            "  (fc2): Linear(in_features=120, out_features=60, bias=True)\n",
            "  (out): Linear(in_features=60, out_features=10, bias=True)\n",
            ")\n"
          ],
          "name": "stdout"
        }
      ]
    },
    {
      "cell_type": "code",
      "metadata": {
        "id": "06r1kwPujxQM",
        "colab": {
          "base_uri": "https://localhost:8080/"
        },
        "outputId": "695199ad-2460-4996-f09d-19d07da0f390"
      },
      "source": [
        "# accessing the network layers\n",
        "\n",
        "network.conv1"
      ],
      "execution_count": null,
      "outputs": [
        {
          "output_type": "execute_result",
          "data": {
            "text/plain": [
              "Conv2d(1, 6, kernel_size=(5, 5), stride=(1, 1))"
            ]
          },
          "metadata": {
            "tags": []
          },
          "execution_count": 149
        }
      ]
    },
    {
      "cell_type": "code",
      "metadata": {
        "id": "jwWRBhG1j5G-",
        "colab": {
          "base_uri": "https://localhost:8080/"
        },
        "outputId": "25ad43bb-eac0-4b50-b5e9-92b7baf2b220"
      },
      "source": [
        "network.conv2"
      ],
      "execution_count": null,
      "outputs": [
        {
          "output_type": "execute_result",
          "data": {
            "text/plain": [
              "Conv2d(6, 12, kernel_size=(5, 5), stride=(1, 1))"
            ]
          },
          "metadata": {
            "tags": []
          },
          "execution_count": 150
        }
      ]
    },
    {
      "cell_type": "code",
      "metadata": {
        "id": "uuznL8wSj8HW",
        "colab": {
          "base_uri": "https://localhost:8080/"
        },
        "outputId": "5349f84f-ce1e-4158-a30d-64b17d9bcc05"
      },
      "source": [
        "network.fc1"
      ],
      "execution_count": null,
      "outputs": [
        {
          "output_type": "execute_result",
          "data": {
            "text/plain": [
              "Linear(in_features=192, out_features=120, bias=True)"
            ]
          },
          "metadata": {
            "tags": []
          },
          "execution_count": 151
        }
      ]
    },
    {
      "cell_type": "code",
      "metadata": {
        "id": "8MDzys1nj9A7",
        "colab": {
          "base_uri": "https://localhost:8080/"
        },
        "outputId": "f125d288-ef73-4d5e-e980-13f386b1278b"
      },
      "source": [
        "network.out"
      ],
      "execution_count": null,
      "outputs": [
        {
          "output_type": "execute_result",
          "data": {
            "text/plain": [
              "Linear(in_features=60, out_features=10, bias=True)"
            ]
          },
          "metadata": {
            "tags": []
          },
          "execution_count": 152
        }
      ]
    },
    {
      "cell_type": "markdown",
      "metadata": {
        "id": "P3_F-uMhkAKA"
      },
      "source": [
        "### Accessing the Layer Weights"
      ]
    },
    {
      "cell_type": "code",
      "metadata": {
        "id": "k-7JYsVfj-oH",
        "colab": {
          "base_uri": "https://localhost:8080/"
        },
        "outputId": "3d8a23b1-fd51-4bb3-caef-2146e9cc985d"
      },
      "source": [
        "network.conv1.weight"
      ],
      "execution_count": null,
      "outputs": [
        {
          "output_type": "execute_result",
          "data": {
            "text/plain": [
              "Parameter containing:\n",
              "tensor([[[[ 0.0655,  0.0496,  0.0207, -0.0258, -0.0130],\n",
              "          [-0.0570, -0.1600,  0.1990,  0.0737, -0.1548],\n",
              "          [ 0.0244, -0.0766, -0.0745,  0.1529,  0.1083],\n",
              "          [ 0.0572, -0.0860,  0.1235,  0.1482, -0.0338],\n",
              "          [ 0.0818, -0.0981,  0.1825, -0.1706,  0.1219]]],\n",
              "\n",
              "\n",
              "        [[[ 0.0351, -0.0916, -0.1603,  0.0412,  0.0744],\n",
              "          [ 0.1768,  0.0461,  0.1972,  0.1885, -0.1404],\n",
              "          [-0.0386,  0.0804, -0.1823, -0.0395, -0.0521],\n",
              "          [ 0.1092, -0.0937,  0.1192,  0.1936,  0.1003],\n",
              "          [ 0.1904,  0.1273,  0.1413, -0.1278, -0.0205]]],\n",
              "\n",
              "\n",
              "        [[[ 0.0961,  0.1669, -0.0451, -0.0749,  0.1118],\n",
              "          [-0.0849,  0.1252, -0.0868, -0.1980, -0.0279],\n",
              "          [ 0.1003,  0.1012, -0.0579, -0.0996,  0.0392],\n",
              "          [ 0.1478, -0.0094, -0.1898, -0.1990, -0.1955],\n",
              "          [ 0.0494, -0.0459, -0.0391,  0.1374, -0.0259]]],\n",
              "\n",
              "\n",
              "        [[[ 0.0091,  0.0240, -0.0681, -0.1760,  0.0457],\n",
              "          [ 0.0082,  0.0608,  0.0327, -0.1250, -0.0311],\n",
              "          [-0.0133,  0.1730, -0.0144, -0.0286,  0.0749],\n",
              "          [ 0.1575, -0.0696,  0.0897,  0.0523, -0.1860],\n",
              "          [-0.1778, -0.0789, -0.0601,  0.0591,  0.0340]]],\n",
              "\n",
              "\n",
              "        [[[-0.0497, -0.1880, -0.1693,  0.1860,  0.0886],\n",
              "          [-0.1224, -0.1003,  0.1528, -0.1798, -0.1571],\n",
              "          [ 0.1582,  0.0932, -0.0295, -0.1740,  0.1181],\n",
              "          [-0.0955,  0.0420, -0.0839,  0.0053,  0.1462],\n",
              "          [-0.0347, -0.0747,  0.0820,  0.1682,  0.1043]]],\n",
              "\n",
              "\n",
              "        [[[ 0.0156,  0.0837,  0.1270,  0.1367, -0.0060],\n",
              "          [-0.1201,  0.1450, -0.0240,  0.1880, -0.0497],\n",
              "          [ 0.1163,  0.0413,  0.0211, -0.0715, -0.0855],\n",
              "          [-0.1651, -0.1900, -0.1107, -0.1790,  0.0710],\n",
              "          [-0.0369, -0.0348,  0.1120, -0.0147,  0.1044]]]], requires_grad=True)"
            ]
          },
          "metadata": {
            "tags": []
          },
          "execution_count": 153
        }
      ]
    },
    {
      "cell_type": "code",
      "metadata": {
        "id": "_G1LZ6OqkDKe",
        "colab": {
          "base_uri": "https://localhost:8080/"
        },
        "outputId": "4daa4753-abd1-4490-d5b1-aed09ab8b308"
      },
      "source": [
        "network.fc2.weight"
      ],
      "execution_count": null,
      "outputs": [
        {
          "output_type": "execute_result",
          "data": {
            "text/plain": [
              "Parameter containing:\n",
              "tensor([[ 0.0902,  0.0569,  0.0243,  ...,  0.0711,  0.0704, -0.0236],\n",
              "        [ 0.0841,  0.0065,  0.0320,  ...,  0.0643,  0.0462, -0.0540],\n",
              "        [-0.0701, -0.0402, -0.0887,  ...,  0.0550,  0.0351,  0.0441],\n",
              "        ...,\n",
              "        [ 0.0243, -0.0685,  0.0212,  ...,  0.0665,  0.0186, -0.0675],\n",
              "        [ 0.0247, -0.0163, -0.0720,  ..., -0.0705, -0.0617,  0.0716],\n",
              "        [-0.0368,  0.0102,  0.0081,  ..., -0.0670,  0.0676, -0.0888]],\n",
              "       requires_grad=True)"
            ]
          },
          "metadata": {
            "tags": []
          },
          "execution_count": 154
        }
      ]
    },
    {
      "cell_type": "code",
      "metadata": {
        "id": "BVGg1iXQkLgF",
        "colab": {
          "base_uri": "https://localhost:8080/"
        },
        "outputId": "815b99bc-f6ba-4ba3-921b-69ded5802e40"
      },
      "source": [
        "network.fc1.weight.shape"
      ],
      "execution_count": null,
      "outputs": [
        {
          "output_type": "execute_result",
          "data": {
            "text/plain": [
              "torch.Size([120, 192])"
            ]
          },
          "metadata": {
            "tags": []
          },
          "execution_count": 155
        }
      ]
    },
    {
      "cell_type": "code",
      "metadata": {
        "id": "qQtFabPlkNjJ",
        "colab": {
          "base_uri": "https://localhost:8080/"
        },
        "outputId": "a7e5ae6f-2dc6-4cc9-9449-a46d07f369ba"
      },
      "source": [
        "network.out.weight.shape"
      ],
      "execution_count": null,
      "outputs": [
        {
          "output_type": "execute_result",
          "data": {
            "text/plain": [
              "torch.Size([10, 60])"
            ]
          },
          "metadata": {
            "tags": []
          },
          "execution_count": 156
        }
      ]
    },
    {
      "cell_type": "code",
      "metadata": {
        "id": "u88QoPNCkVMQ",
        "colab": {
          "base_uri": "https://localhost:8080/"
        },
        "outputId": "1a02502b-58f7-4fdd-95e6-e7476a4f94e5"
      },
      "source": [
        "for param in network.parameters():\n",
        "    print(param.shape)"
      ],
      "execution_count": null,
      "outputs": [
        {
          "output_type": "stream",
          "text": [
            "torch.Size([6, 1, 5, 5])\n",
            "torch.Size([6])\n",
            "torch.Size([12, 6, 5, 5])\n",
            "torch.Size([12])\n",
            "torch.Size([120, 192])\n",
            "torch.Size([120])\n",
            "torch.Size([60, 120])\n",
            "torch.Size([60])\n",
            "torch.Size([10, 60])\n",
            "torch.Size([10])\n"
          ],
          "name": "stdout"
        }
      ]
    },
    {
      "cell_type": "code",
      "metadata": {
        "id": "Hvxq3TbEkgPA",
        "colab": {
          "base_uri": "https://localhost:8080/"
        },
        "outputId": "bd9f28cf-f132-40e2-f201-0d44dbd269f3"
      },
      "source": [
        "for name, param in network.named_parameters():\n",
        "    print(name, '\\t\\t', param.shape)"
      ],
      "execution_count": null,
      "outputs": [
        {
          "output_type": "stream",
          "text": [
            "conv1.weight \t\t torch.Size([6, 1, 5, 5])\n",
            "conv1.bias \t\t torch.Size([6])\n",
            "conv2.weight \t\t torch.Size([12, 6, 5, 5])\n",
            "conv2.bias \t\t torch.Size([12])\n",
            "fc1.weight \t\t torch.Size([120, 192])\n",
            "fc1.bias \t\t torch.Size([120])\n",
            "fc2.weight \t\t torch.Size([60, 120])\n",
            "fc2.bias \t\t torch.Size([60])\n",
            "out.weight \t\t torch.Size([10, 60])\n",
            "out.bias \t\t torch.Size([10])\n"
          ],
          "name": "stdout"
        }
      ]
    },
    {
      "cell_type": "markdown",
      "metadata": {
        "id": "m_5E_No2kmh3"
      },
      "source": [
        "### Full Network"
      ]
    },
    {
      "cell_type": "code",
      "metadata": {
        "id": "-dB0pNuukimO"
      },
      "source": [
        "import torch.nn.functional as F\n",
        "class Network(nn.Module):\n",
        "    def __init__(self):\n",
        "        super().__init__()\n",
        "        self.conv1 = nn.Conv2d(in_channels=1, out_channels=6, kernel_size=5)\n",
        "        self.conv2 = nn.Conv2d(in_channels=6, out_channels=12, kernel_size=5)\n",
        "\n",
        "        self.fc1 = nn.Linear(in_features=12 * 4 * 4, out_features=120)\n",
        "        self.fc2 = nn.Linear(in_features=120, out_features=60)\n",
        "        self.out = nn.Linear(in_features=60, out_features=10)\n",
        "\n",
        "    def forward(self, t):\n",
        "        # (1) input layer\n",
        "        t = t\n",
        "\n",
        "        # (2) hidden conv layer\n",
        "        t = self.conv1(t)\n",
        "        t = F.relu(t)\n",
        "        t = F.max_pool2d(t, kernel_size=2, stride=2)\n",
        "\n",
        "        # (3) hidden conv layer\n",
        "        t = self.conv2(t)\n",
        "        t = F.relu(t)\n",
        "        t = F.max_pool2d(t, kernel_size=2, stride=2)\n",
        "\n",
        "        # (4) hidden linear layer\n",
        "        t = t.reshape(-1, 12 * 4 * 4)\n",
        "        t = self.fc1(t)\n",
        "        t = F.relu(t)\n",
        "\n",
        "        # (5) hidden linear layer\n",
        "        t = self.fc2(t)\n",
        "        t = F.relu(t)\n",
        "\n",
        "        # (6) output layer\n",
        "        t = self.out(t)\n",
        "        #t = F.softmax(t, dim=1)\n",
        "\n",
        "        return t"
      ],
      "execution_count": null,
      "outputs": []
    },
    {
      "cell_type": "code",
      "metadata": {
        "id": "tvekg6DSlJae"
      },
      "source": [
        "# We can turn the dynamic graphing/gradients \n",
        "# feature OFF, since we aren't going to be training it for sometime. It also saves memory"
      ],
      "execution_count": null,
      "outputs": []
    },
    {
      "cell_type": "code",
      "metadata": {
        "id": "dhLB8I0RlLeW",
        "colab": {
          "base_uri": "https://localhost:8080/"
        },
        "outputId": "e9a577c6-cfef-43dc-9945-64b9e55bce95"
      },
      "source": [
        "torch.set_grad_enabled(False)"
      ],
      "execution_count": null,
      "outputs": [
        {
          "output_type": "execute_result",
          "data": {
            "text/plain": [
              "<torch.autograd.grad_mode.set_grad_enabled at 0x7f8a69f4f6d8>"
            ]
          },
          "metadata": {
            "tags": []
          },
          "execution_count": 161
        }
      ]
    },
    {
      "cell_type": "code",
      "metadata": {
        "id": "i0Q4azDXlObX",
        "colab": {
          "base_uri": "https://localhost:8080/"
        },
        "outputId": "3ed7f928-b748-4575-ea00-37f789d5717f"
      },
      "source": [
        "sample = next(iter(train_set)) \n",
        "image, label = sample\n",
        "image.shape, image.unsqueeze(0).shape"
      ],
      "execution_count": null,
      "outputs": [
        {
          "output_type": "execute_result",
          "data": {
            "text/plain": [
              "(torch.Size([1, 28, 28]), torch.Size([1, 1, 28, 28]))"
            ]
          },
          "metadata": {
            "tags": []
          },
          "execution_count": 162
        }
      ]
    },
    {
      "cell_type": "code",
      "metadata": {
        "id": "Rbj9iEEolVTG"
      },
      "source": [
        "network = Network()\n",
        "pred = network(image.unsqueeze(0)) # image shape needs to be (batch_size × in_channels × H × W)\n"
      ],
      "execution_count": null,
      "outputs": []
    },
    {
      "cell_type": "code",
      "metadata": {
        "id": "QU7I7TxelgdM",
        "colab": {
          "base_uri": "https://localhost:8080/"
        },
        "outputId": "04e4edea-63c3-4b03-ed2c-e927c885ceda"
      },
      "source": [
        "pred"
      ],
      "execution_count": null,
      "outputs": [
        {
          "output_type": "execute_result",
          "data": {
            "text/plain": [
              "tensor([[ 0.1290,  0.0495,  0.0253,  0.0520,  0.0341, -0.0707,  0.0309,  0.0334,\n",
              "          0.1092, -0.0361]])"
            ]
          },
          "metadata": {
            "tags": []
          },
          "execution_count": 164
        }
      ]
    },
    {
      "cell_type": "code",
      "metadata": {
        "id": "VgDapt01liOf",
        "colab": {
          "base_uri": "https://localhost:8080/"
        },
        "outputId": "93cd547d-7ddd-434e-962b-702de73197df"
      },
      "source": [
        "pred.shape"
      ],
      "execution_count": null,
      "outputs": [
        {
          "output_type": "execute_result",
          "data": {
            "text/plain": [
              "torch.Size([1, 10])"
            ]
          },
          "metadata": {
            "tags": []
          },
          "execution_count": 165
        }
      ]
    },
    {
      "cell_type": "code",
      "metadata": {
        "id": "XDPtJ-i9lj9e",
        "colab": {
          "base_uri": "https://localhost:8080/"
        },
        "outputId": "1bb1be67-dfda-4cd1-82e1-39d845fdb9c6"
      },
      "source": [
        "label"
      ],
      "execution_count": null,
      "outputs": [
        {
          "output_type": "execute_result",
          "data": {
            "text/plain": [
              "9"
            ]
          },
          "metadata": {
            "tags": []
          },
          "execution_count": 166
        }
      ]
    },
    {
      "cell_type": "code",
      "metadata": {
        "id": "NprfoSjFlk_r",
        "colab": {
          "base_uri": "https://localhost:8080/"
        },
        "outputId": "3d17d10b-8d2d-4eb2-aad0-bbb28ce939a8"
      },
      "source": [
        "pred.argmax(dim=1)"
      ],
      "execution_count": null,
      "outputs": [
        {
          "output_type": "execute_result",
          "data": {
            "text/plain": [
              "tensor([0])"
            ]
          },
          "metadata": {
            "tags": []
          },
          "execution_count": 167
        }
      ]
    },
    {
      "cell_type": "code",
      "metadata": {
        "id": "poFah_VUlpmI",
        "colab": {
          "base_uri": "https://localhost:8080/"
        },
        "outputId": "4e8dbdd1-0125-47ad-9946-307e97fa084c"
      },
      "source": [
        "F.softmax(pred, dim=1)"
      ],
      "execution_count": null,
      "outputs": [
        {
          "output_type": "execute_result",
          "data": {
            "text/plain": [
              "tensor([[0.1096, 0.1012, 0.0988, 0.1015, 0.0997, 0.0898, 0.0994, 0.0996, 0.1075,\n",
              "         0.0929]])"
            ]
          },
          "metadata": {
            "tags": []
          },
          "execution_count": 168
        }
      ]
    },
    {
      "cell_type": "code",
      "metadata": {
        "id": "JmFUz7fFlv9Q",
        "colab": {
          "base_uri": "https://localhost:8080/"
        },
        "outputId": "56930260-75a0-48cc-80d1-85d9fffa9445"
      },
      "source": [
        "F.softmax(pred, dim=1).sum()"
      ],
      "execution_count": null,
      "outputs": [
        {
          "output_type": "execute_result",
          "data": {
            "text/plain": [
              "tensor(1.)"
            ]
          },
          "metadata": {
            "tags": []
          },
          "execution_count": 169
        }
      ]
    },
    {
      "cell_type": "code",
      "metadata": {
        "id": "YuVpqOFOl1J9",
        "colab": {
          "base_uri": "https://localhost:8080/"
        },
        "outputId": "cc1a3ea4-0ccc-4152-bdee-1a11a79daf34"
      },
      "source": [
        "data_loader = torch.utils.data.DataLoader(\n",
        "    train_set, \n",
        "    batch_size=10\n",
        ")\n",
        "\n",
        "batch = next(iter(data_loader))\n",
        "len(batch)"
      ],
      "execution_count": null,
      "outputs": [
        {
          "output_type": "execute_result",
          "data": {
            "text/plain": [
              "2"
            ]
          },
          "metadata": {
            "tags": []
          },
          "execution_count": 170
        }
      ]
    },
    {
      "cell_type": "code",
      "metadata": {
        "id": "Dt5saNaAl9T9",
        "colab": {
          "base_uri": "https://localhost:8080/"
        },
        "outputId": "055c42ef-bd07-49a0-918a-a23b220ee397"
      },
      "source": [
        "batch[1]"
      ],
      "execution_count": null,
      "outputs": [
        {
          "output_type": "execute_result",
          "data": {
            "text/plain": [
              "tensor([9, 0, 0, 3, 0, 2, 7, 2, 5, 5])"
            ]
          },
          "metadata": {
            "tags": []
          },
          "execution_count": 171
        }
      ]
    },
    {
      "cell_type": "code",
      "metadata": {
        "id": "Z5hpjFSjl_Zk"
      },
      "source": [
        "images, labels = batch"
      ],
      "execution_count": null,
      "outputs": []
    },
    {
      "cell_type": "code",
      "metadata": {
        "id": "K_zMkDG2mDeu",
        "colab": {
          "base_uri": "https://localhost:8080/"
        },
        "outputId": "63c6d060-6759-42d4-c926-8f6a725e8d93"
      },
      "source": [
        "images.shape"
      ],
      "execution_count": null,
      "outputs": [
        {
          "output_type": "execute_result",
          "data": {
            "text/plain": [
              "torch.Size([10, 1, 28, 28])"
            ]
          },
          "metadata": {
            "tags": []
          },
          "execution_count": 173
        }
      ]
    },
    {
      "cell_type": "code",
      "metadata": {
        "id": "VFOj0n0dmEsf",
        "colab": {
          "base_uri": "https://localhost:8080/"
        },
        "outputId": "7dfdfc84-c1dc-475d-893e-535f60a2b601"
      },
      "source": [
        "preds = network(images)\n",
        "\n",
        "preds.shape"
      ],
      "execution_count": null,
      "outputs": [
        {
          "output_type": "execute_result",
          "data": {
            "text/plain": [
              "torch.Size([10, 10])"
            ]
          },
          "metadata": {
            "tags": []
          },
          "execution_count": 183
        }
      ]
    },
    {
      "cell_type": "code",
      "metadata": {
        "id": "FJa5YCslmIyT",
        "colab": {
          "base_uri": "https://localhost:8080/"
        },
        "outputId": "642a88ed-1c4c-4c74-f2bb-cf257339326d"
      },
      "source": [
        "preds"
      ],
      "execution_count": null,
      "outputs": [
        {
          "output_type": "execute_result",
          "data": {
            "text/plain": [
              "tensor([[ 1.0439e-01, -9.9317e-02,  5.0016e-03,  3.8332e-02,  5.2668e-02,\n",
              "         -1.0910e-01,  1.0845e-01,  6.4876e-04, -1.0735e-02,  7.2589e-02],\n",
              "        [ 1.0026e-01, -9.5481e-02,  6.2817e-03,  4.7453e-02,  6.1176e-02,\n",
              "         -1.2439e-01,  9.8047e-02, -4.2339e-03, -1.3143e-02,  7.0798e-02],\n",
              "        [ 1.1281e-01, -9.8858e-02, -2.6634e-03,  3.9887e-02,  5.2291e-02,\n",
              "         -1.2192e-01,  1.0633e-01, -4.6892e-03, -1.2398e-02,  6.8532e-02],\n",
              "        [ 1.0741e-01, -1.0004e-01, -2.0181e-03,  3.9342e-02,  5.4467e-02,\n",
              "         -1.2319e-01,  1.0440e-01, -5.4247e-03, -1.7312e-02,  6.9334e-02],\n",
              "        [ 9.8408e-02, -9.2551e-02,  2.9901e-03,  4.8386e-02,  6.4377e-02,\n",
              "         -1.2043e-01,  9.7913e-02, -1.6940e-03, -1.8409e-02,  6.9127e-02],\n",
              "        [ 9.9687e-02, -9.5896e-02,  7.6111e-03,  3.9420e-02,  5.8963e-02,\n",
              "         -1.1987e-01,  1.0353e-01, -2.8774e-03, -1.1364e-02,  7.3141e-02],\n",
              "        [ 1.1320e-01, -9.5357e-02,  9.7997e-03,  3.6356e-02,  5.0362e-02,\n",
              "         -1.1488e-01,  1.0941e-01, -4.5356e-03, -8.7480e-03,  7.2157e-02],\n",
              "        [ 1.0114e-01, -9.8263e-02,  8.2002e-03,  3.8230e-02,  6.0103e-02,\n",
              "         -1.1452e-01,  1.0281e-01,  1.0911e-05, -1.4239e-02,  7.0488e-02],\n",
              "        [ 1.1496e-01, -1.0063e-01, -3.3312e-03,  3.3641e-02,  5.2800e-02,\n",
              "         -1.1345e-01,  1.0946e-01, -5.4544e-03, -1.6681e-02,  6.7791e-02],\n",
              "        [ 1.1001e-01, -1.0299e-01,  2.6464e-03,  3.0532e-02,  5.3394e-02,\n",
              "         -1.1374e-01,  1.0882e-01, -4.8335e-03, -1.4863e-02,  7.0255e-02]],\n",
              "       grad_fn=<AddmmBackward>)"
            ]
          },
          "metadata": {
            "tags": []
          },
          "execution_count": 184
        }
      ]
    },
    {
      "cell_type": "code",
      "metadata": {
        "id": "ky_PjNKVmKa7",
        "colab": {
          "base_uri": "https://localhost:8080/"
        },
        "outputId": "0f40e863-692e-4ffa-bdf5-66aef0887976"
      },
      "source": [
        "preds.argmax(dim=1)"
      ],
      "execution_count": null,
      "outputs": [
        {
          "output_type": "execute_result",
          "data": {
            "text/plain": [
              "tensor([6, 0, 0, 0, 0, 6, 0, 6, 0, 0])"
            ]
          },
          "metadata": {
            "tags": []
          },
          "execution_count": 185
        }
      ]
    },
    {
      "cell_type": "code",
      "metadata": {
        "id": "U83zRzzGmV-6",
        "colab": {
          "base_uri": "https://localhost:8080/"
        },
        "outputId": "56a2ca6b-9359-4ec7-ae31-2a84a20e143e"
      },
      "source": [
        "preds.argmax(dim=1).eq(labels)"
      ],
      "execution_count": null,
      "outputs": [
        {
          "output_type": "execute_result",
          "data": {
            "text/plain": [
              "tensor([False,  True,  True, False,  True, False, False, False, False, False])"
            ]
          },
          "metadata": {
            "tags": []
          },
          "execution_count": 186
        }
      ]
    },
    {
      "cell_type": "code",
      "metadata": {
        "id": "eOUfzm74mbke",
        "colab": {
          "base_uri": "https://localhost:8080/"
        },
        "outputId": "73b82255-ce47-42bb-ad59-d3398bcf85c1"
      },
      "source": [
        "preds.argmax(dim=1).eq(labels).sum()"
      ],
      "execution_count": null,
      "outputs": [
        {
          "output_type": "execute_result",
          "data": {
            "text/plain": [
              "tensor(3)"
            ]
          },
          "metadata": {
            "tags": []
          },
          "execution_count": 187
        }
      ]
    },
    {
      "cell_type": "code",
      "metadata": {
        "id": "F1nDt6WEmfIN"
      },
      "source": [
        "def get_num_correct(preds, labels):\n",
        "  return preds.argmax(dim=1).eq(labels).sum().item()"
      ],
      "execution_count": null,
      "outputs": []
    },
    {
      "cell_type": "code",
      "metadata": {
        "id": "NT3Bk8fSmmKN",
        "colab": {
          "base_uri": "https://localhost:8080/"
        },
        "outputId": "95600973-da56-4c5f-adef-7b281b1f1d4a"
      },
      "source": [
        "get_num_correct(preds, labels)"
      ],
      "execution_count": null,
      "outputs": [
        {
          "output_type": "execute_result",
          "data": {
            "text/plain": [
              "3"
            ]
          },
          "metadata": {
            "tags": []
          },
          "execution_count": 189
        }
      ]
    },
    {
      "cell_type": "markdown",
      "metadata": {
        "id": "dN33TaMompnj"
      },
      "source": [
        "# Training\n",
        "\n",
        "During the entire training process, we do as many epochs as necessary to reach our desired level of accuracy. With this, we have the following steps:\n",
        "\n",
        "Get batch from the training set.\n",
        "Pass batch to network.\n",
        "Calculate the loss (difference between the predicted values and the true values).\n",
        "Calculate the gradient of the loss function w.r.t the network's weights.\n",
        "Update the weights using the gradients to reduce the loss.\n",
        "Repeat steps 1-5 until one epoch is completed.\n",
        "Repeat steps 1-6 for as many epochs required to reach the minimum loss."
      ]
    },
    {
      "cell_type": "code",
      "metadata": {
        "id": "f2pFlmfwnZvd",
        "colab": {
          "base_uri": "https://localhost:8080/"
        },
        "outputId": "26069304-9cd4-4bd7-f885-0f9fd8aff5b9"
      },
      "source": [
        "import torch.optim as optim\n",
        "\n",
        "torch.set_grad_enabled(True)"
      ],
      "execution_count": null,
      "outputs": [
        {
          "output_type": "execute_result",
          "data": {
            "text/plain": [
              "<torch.autograd.grad_mode.set_grad_enabled at 0x7f8a69d4d7b8>"
            ]
          },
          "metadata": {
            "tags": []
          },
          "execution_count": 190
        }
      ]
    },
    {
      "cell_type": "code",
      "metadata": {
        "id": "AHDrAJY4nfzp",
        "colab": {
          "base_uri": "https://localhost:8080/"
        },
        "outputId": "e67e2a23-99e8-4596-a2a2-153d6cde56ca"
      },
      "source": [
        "preds = network(images)\n",
        "loss = F.cross_entropy(preds, labels)\n",
        "loss.item()"
      ],
      "execution_count": null,
      "outputs": [
        {
          "output_type": "execute_result",
          "data": {
            "text/plain": [
              "2.2992429733276367"
            ]
          },
          "metadata": {
            "tags": []
          },
          "execution_count": 191
        }
      ]
    },
    {
      "cell_type": "code",
      "metadata": {
        "id": "ra-MQCNpnlZd",
        "colab": {
          "base_uri": "https://localhost:8080/"
        },
        "outputId": "41c44b43-fea5-4f35-af74-951c690d040f"
      },
      "source": [
        "print(network.conv1.weight.grad) # currently there are no gradients"
      ],
      "execution_count": null,
      "outputs": [
        {
          "output_type": "stream",
          "text": [
            "None\n"
          ],
          "name": "stdout"
        }
      ]
    },
    {
      "cell_type": "code",
      "metadata": {
        "id": "_lNuzUI1nrWl"
      },
      "source": [
        "loss.backward()"
      ],
      "execution_count": null,
      "outputs": []
    },
    {
      "cell_type": "code",
      "metadata": {
        "id": "NQGLtKFenwpw",
        "colab": {
          "base_uri": "https://localhost:8080/"
        },
        "outputId": "836582af-9d10-4d3c-c9ec-6346c5be117a"
      },
      "source": [
        "print(network.conv1.weight.grad)"
      ],
      "execution_count": null,
      "outputs": [
        {
          "output_type": "stream",
          "text": [
            "tensor([[[[-2.2081e-04, -3.1950e-04, -4.3418e-04, -5.6544e-04, -7.5830e-04],\n",
            "          [ 4.1410e-04,  3.7402e-04,  2.4248e-04, -1.7869e-04, -9.2601e-04],\n",
            "          [-6.6810e-05, -1.7610e-04, -6.1569e-04, -6.7406e-04, -3.0997e-04],\n",
            "          [-5.1996e-05, -3.3729e-05, -2.9829e-04, -1.3428e-04, -9.3302e-05],\n",
            "          [-3.9066e-05, -1.4892e-04, -4.4451e-04, -3.0268e-05, -6.3391e-04]]],\n",
            "\n",
            "\n",
            "        [[[-3.2790e-04, -3.0366e-04,  7.4010e-05, -4.1626e-05, -5.7249e-05],\n",
            "          [-1.7859e-04,  3.7149e-05,  2.9044e-05,  1.1767e-04,  2.1294e-04],\n",
            "          [-8.9877e-08,  6.5340e-05,  1.5451e-04,  1.1831e-04, -2.2559e-04],\n",
            "          [ 2.2063e-04,  6.0636e-05, -2.4049e-05, -1.7254e-04, -4.2066e-04],\n",
            "          [ 3.8403e-04,  1.1711e-04, -3.4937e-05, -5.7736e-05, -2.8350e-06]]],\n",
            "\n",
            "\n",
            "        [[[-1.5273e-03, -1.6097e-03, -2.8392e-03, -3.1661e-03, -3.2281e-03],\n",
            "          [-1.1303e-03, -1.6131e-04, -1.9483e-03, -2.1402e-03, -1.7453e-03],\n",
            "          [-1.8088e-03, -7.1102e-04, -2.9880e-03, -2.0194e-03, -1.5417e-03],\n",
            "          [-2.2173e-03, -6.8837e-04, -2.9041e-03, -1.6136e-03, -2.1563e-03],\n",
            "          [-2.4479e-03, -2.0815e-03, -3.0193e-03, -2.6108e-03, -3.6049e-03]]],\n",
            "\n",
            "\n",
            "        [[[ 1.6373e-03,  1.7062e-03,  2.2464e-03,  3.4761e-03,  2.9493e-03],\n",
            "          [ 3.4041e-03,  2.5306e-03,  1.9694e-03,  3.4666e-03,  2.9517e-03],\n",
            "          [ 2.2924e-03,  6.0832e-04,  3.3651e-04,  1.9487e-03,  1.2869e-03],\n",
            "          [ 7.1197e-04, -2.6595e-04, -1.1166e-04,  1.6817e-03,  8.9402e-04],\n",
            "          [ 1.1561e-03, -6.5525e-05,  1.1622e-03,  1.2441e-03,  9.0935e-04]]],\n",
            "\n",
            "\n",
            "        [[[ 5.0976e-04,  1.5042e-03,  1.5368e-03,  2.0190e-03,  8.1676e-04],\n",
            "          [ 2.0512e-03,  3.0950e-03,  2.4355e-03,  3.0952e-03,  2.8319e-03],\n",
            "          [ 1.9709e-03,  3.6177e-03,  3.8610e-03,  4.1689e-03,  3.1427e-03],\n",
            "          [ 2.6614e-03,  4.0159e-03,  3.3718e-03,  3.9461e-03,  3.1898e-03],\n",
            "          [ 3.4553e-03,  4.6918e-03,  4.6756e-03,  4.9810e-03,  5.0535e-03]]],\n",
            "\n",
            "\n",
            "        [[[-8.9324e-05,  3.4454e-04,  2.0615e-05, -2.7921e-05, -1.4278e-04],\n",
            "          [ 2.7999e-05,  3.0593e-04,  1.5524e-05, -8.2092e-05, -3.2247e-04],\n",
            "          [ 1.6354e-04, -7.7113e-05, -2.0382e-04, -3.9795e-04,  1.6860e-04],\n",
            "          [ 2.3249e-04,  7.3993e-05, -3.6733e-05, -1.3945e-04,  5.2910e-04],\n",
            "          [ 3.8706e-04,  1.8609e-04,  1.3476e-05,  3.1193e-04,  1.7392e-04]]]])\n"
          ],
          "name": "stdout"
        }
      ]
    },
    {
      "cell_type": "code",
      "metadata": {
        "id": "WLnX4U--nxtv",
        "colab": {
          "base_uri": "https://localhost:8080/"
        },
        "outputId": "c35ba898-30f8-4803-9d00-509a6dc467f6"
      },
      "source": [
        "network.conv1.weight.grad.shape"
      ],
      "execution_count": null,
      "outputs": [
        {
          "output_type": "execute_result",
          "data": {
            "text/plain": [
              "torch.Size([6, 1, 5, 5])"
            ]
          },
          "metadata": {
            "tags": []
          },
          "execution_count": 195
        }
      ]
    },
    {
      "cell_type": "code",
      "metadata": {
        "id": "sOXNL98znzpR",
        "colab": {
          "base_uri": "https://localhost:8080/"
        },
        "outputId": "2c80c851-812a-4033-d575-4b48dbf5c4a9"
      },
      "source": [
        "optimizer = optim.SGD(network.parameters(), lr=0.01)\n",
        "\n",
        "loss.item()"
      ],
      "execution_count": null,
      "outputs": [
        {
          "output_type": "execute_result",
          "data": {
            "text/plain": [
              "2.2992429733276367"
            ]
          },
          "metadata": {
            "tags": []
          },
          "execution_count": 197
        }
      ]
    },
    {
      "cell_type": "code",
      "metadata": {
        "id": "9JBhLsxMn4a7",
        "colab": {
          "base_uri": "https://localhost:8080/"
        },
        "outputId": "298fa01d-fab5-461e-a395-3e17a20ec455"
      },
      "source": [
        "get_num_correct(preds, labels)"
      ],
      "execution_count": null,
      "outputs": [
        {
          "output_type": "execute_result",
          "data": {
            "text/plain": [
              "3"
            ]
          },
          "metadata": {
            "tags": []
          },
          "execution_count": 198
        }
      ]
    },
    {
      "cell_type": "code",
      "metadata": {
        "id": "zw1vKx1On_GO"
      },
      "source": [
        "optimizer.step()"
      ],
      "execution_count": null,
      "outputs": []
    },
    {
      "cell_type": "code",
      "metadata": {
        "id": "xjyAyqDOoEip",
        "colab": {
          "base_uri": "https://localhost:8080/"
        },
        "outputId": "2389af44-0339-4783-ce5a-a2b842055bbc"
      },
      "source": [
        "preds = network(images)\n",
        "loss = F.cross_entropy(preds, labels)\n",
        "loss.item()"
      ],
      "execution_count": null,
      "outputs": [
        {
          "output_type": "execute_result",
          "data": {
            "text/plain": [
              "2.297708034515381"
            ]
          },
          "metadata": {
            "tags": []
          },
          "execution_count": 202
        }
      ]
    },
    {
      "cell_type": "code",
      "metadata": {
        "id": "nmYgt3G6oK8W",
        "colab": {
          "base_uri": "https://localhost:8080/"
        },
        "outputId": "9059476e-cb3c-400e-a446-cec0ad99a4ea"
      },
      "source": [
        "get_num_correct(preds, labels)"
      ],
      "execution_count": null,
      "outputs": [
        {
          "output_type": "execute_result",
          "data": {
            "text/plain": [
              "3"
            ]
          },
          "metadata": {
            "tags": []
          },
          "execution_count": 203
        }
      ]
    },
    {
      "cell_type": "code",
      "metadata": {
        "id": "cUaEZJFWoPp1",
        "colab": {
          "base_uri": "https://localhost:8080/"
        },
        "outputId": "27104169-d4e7-401b-a9a2-946971e131d8"
      },
      "source": [
        "preds = network(images)\n",
        "loss = F.cross_entropy(preds, labels)\n",
        "print(loss.item(), get_num_correct(preds, labels))\n",
        "optimizer.step()"
      ],
      "execution_count": null,
      "outputs": [
        {
          "output_type": "stream",
          "text": [
            "2.297708034515381 3\n"
          ],
          "name": "stdout"
        }
      ]
    },
    {
      "cell_type": "code",
      "metadata": {
        "id": "jvSfIvo3ofSY",
        "colab": {
          "base_uri": "https://localhost:8080/"
        },
        "outputId": "f2143064-8f15-4cd9-f8f8-6acf7426af07"
      },
      "source": [
        "preds = network(images)\n",
        "loss = F.cross_entropy(preds, labels)\n",
        "print(loss.item(), get_num_correct(preds, labels))\n",
        "optimizer.step()"
      ],
      "execution_count": null,
      "outputs": [
        {
          "output_type": "stream",
          "text": [
            "2.296185255050659 3\n"
          ],
          "name": "stdout"
        }
      ]
    },
    {
      "cell_type": "code",
      "metadata": {
        "id": "yPRU5AaMojg5",
        "colab": {
          "base_uri": "https://localhost:8080/"
        },
        "outputId": "b7e30c37-5681-4655-e275-1f77cf944469"
      },
      "source": [
        "preds = network(images)\n",
        "loss = F.cross_entropy(preds, labels)\n",
        "print(loss.item(), get_num_correct(preds, labels))\n",
        "optimizer.step()"
      ],
      "execution_count": null,
      "outputs": [
        {
          "output_type": "stream",
          "text": [
            "2.29467511177063 3\n"
          ],
          "name": "stdout"
        }
      ]
    },
    {
      "cell_type": "code",
      "metadata": {
        "id": "QH71dw9hol-x",
        "colab": {
          "base_uri": "https://localhost:8080/"
        },
        "outputId": "6d966e82-53af-4647-ab82-aa969c51d893"
      },
      "source": [
        "network = Network()\n",
        "\n",
        "train_loader = torch.utils.data.DataLoader(train_set, batch_size=100)\n",
        "optimizer = optim.Adam(network.parameters(), lr=0.01)\n",
        "\n",
        "total_loss = 0\n",
        "total_correct = 0\n",
        "\n",
        "for batch in train_loader: # Get Batch\n",
        "    images, labels = batch \n",
        "\n",
        "    preds = network(images) # Pass Batch\n",
        "    loss = F.cross_entropy(preds, labels) # Calculate Loss\n",
        "\n",
        "    optimizer.zero_grad()\n",
        "    loss.backward() # Calculate Gradients\n",
        "    optimizer.step() # Update Weights\n",
        "\n",
        "    total_loss += loss.item()\n",
        "    total_correct += get_num_correct(preds, labels)\n",
        "\n",
        "print(\n",
        "    \"epoch:\", 0, \n",
        "    \"total_correct:\", total_correct, \n",
        "    \"loss:\", total_loss\n",
        ")"
      ],
      "execution_count": null,
      "outputs": [
        {
          "output_type": "stream",
          "text": [
            "epoch: 0 total_correct: 47289 loss: 339.1260364949703\n"
          ],
          "name": "stdout"
        }
      ]
    },
    {
      "cell_type": "code",
      "metadata": {
        "id": "bha6sVEWo1Wz",
        "colab": {
          "base_uri": "https://localhost:8080/"
        },
        "outputId": "c3c92f24-a998-4e2e-c0eb-9a3094e6c347"
      },
      "source": [
        "train_loader = torch.utils.data.DataLoader(train_set, batch_size=100)\n",
        "optimizer = optim.Adam(network.parameters(), lr=0.01)\n",
        "\n",
        "for epoch in range(10):\n",
        "\n",
        "    total_loss = 0\n",
        "    total_correct = 0\n",
        "\n",
        "    for batch in train_loader: # Get Batch\n",
        "        images, labels = batch \n",
        "\n",
        "        preds = network(images) # Pass Batch\n",
        "        loss = F.cross_entropy(preds, labels) # Calculate Loss\n",
        "\n",
        "        optimizer.zero_grad()\n",
        "        loss.backward() # Calculate Gradients\n",
        "        optimizer.step() # Update Weights\n",
        "\n",
        "        total_loss += loss.item()\n",
        "        total_correct += get_num_correct(preds, labels)\n",
        "\n",
        "    print(\n",
        "        \"epoch\", epoch, \n",
        "        \"total_correct:\", total_correct, \n",
        "        \"loss:\", total_loss\n",
        "    )"
      ],
      "execution_count": null,
      "outputs": [
        {
          "output_type": "stream",
          "text": [
            "epoch 0 total_correct: 51397 loss: 235.66118091344833\n",
            "epoch 1 total_correct: 52284 loss: 208.5683599859476\n",
            "epoch 2 total_correct: 52630 loss: 200.88377530872822\n",
            "epoch 3 total_correct: 52744 loss: 196.54284386336803\n",
            "epoch 4 total_correct: 53028 loss: 190.41411239653826\n",
            "epoch 5 total_correct: 53153 loss: 187.1051020771265\n",
            "epoch 6 total_correct: 53197 loss: 186.89894257485867\n",
            "epoch 7 total_correct: 53410 loss: 179.72088241577148\n",
            "epoch 8 total_correct: 53169 loss: 186.83613285422325\n",
            "epoch 9 total_correct: 53337 loss: 181.45993080735207\n"
          ],
          "name": "stdout"
        }
      ]
    },
    {
      "cell_type": "markdown",
      "metadata": {
        "id": "wOd4iyHgpRV5"
      },
      "source": [
        "Please cover this whole [PyTorch Series](https://www.youtube.com/playlist?list=PLZbbT5o_s2xrfNyHZsM6ufI0iZENK9xgG) (also the reference for our code) for even better understanding. "
      ]
    },
    {
      "cell_type": "code",
      "metadata": {
        "id": "Kz7EZ_-cpvmU",
        "colab": {
          "base_uri": "https://localhost:8080/"
        },
        "outputId": "2bfde1a6-fdc6-4bae-9772-6ed3bac1ef39"
      },
      "source": [
        "for e in range(10):\n",
        "  print(e)\n",
        "  break"
      ],
      "execution_count": null,
      "outputs": [
        {
          "output_type": "stream",
          "text": [
            "0\n"
          ],
          "name": "stdout"
        }
      ]
    },
    {
      "cell_type": "code",
      "metadata": {
        "id": "xJu6mG2mpzLG",
        "colab": {
          "base_uri": "https://localhost:8080/"
        },
        "outputId": "d9c559a7-b962-4c0e-b7c5-bb5b931c86b1"
      },
      "source": [
        "data_loader = [[1, 2, 3], [4, 5, 6], [7, 8, 9]]\n",
        "\n",
        "for batch in data_loader:\n",
        "  for img in batch:\n",
        "    print(img)\n",
        "  break"
      ],
      "execution_count": null,
      "outputs": [
        {
          "output_type": "stream",
          "text": [
            "1\n",
            "2\n",
            "3\n"
          ],
          "name": "stdout"
        }
      ]
    },
    {
      "cell_type": "code",
      "metadata": {
        "id": "kkVXbUicqC29"
      },
      "source": [
        "import torch\n",
        "import torchvision\n",
        "import torchvision.transforms as transforms\n",
        "import torch.utils as utils"
      ],
      "execution_count": 30,
      "outputs": []
    },
    {
      "cell_type": "code",
      "metadata": {
        "id": "DYVRQQ1uIEIR"
      },
      "source": [
        "train_set = torchvision.datasets.FashionMNIST(\n",
        "    './bin',\n",
        "    train = True,\n",
        "    download = True,\n",
        "    transform = transforms.ToTensor()\n",
        ")\n",
        "\n",
        "train_loader = torch.utils.data.DataLoader(\n",
        "    train_set,\n",
        "    batch_size = 32,\n",
        "    shuffle = True\n",
        ")"
      ],
      "execution_count": 31,
      "outputs": []
    },
    {
      "cell_type": "code",
      "metadata": {
        "id": "e1XSy2LLIzJX",
        "outputId": "9624becd-ba87-4b7d-9349-e187b5e5ed2f",
        "colab": {
          "base_uri": "https://localhost:8080/"
        }
      },
      "source": [
        "print(type(train_set), type(train_loader))"
      ],
      "execution_count": 32,
      "outputs": [
        {
          "output_type": "stream",
          "text": [
            "torchvision.datasets.mnist.FashionMNIST torch.utils.data.dataloader.DataLoader\n"
          ],
          "name": "stdout"
        }
      ]
    },
    {
      "cell_type": "code",
      "metadata": {
        "id": "ssu3x5MSJ7_l"
      },
      "source": [
        "for e in train_set:\n",
        "  print(e)\n",
        "  break"
      ],
      "execution_count": null,
      "outputs": []
    },
    {
      "cell_type": "code",
      "metadata": {
        "id": "iZR0omiNKHWY",
        "outputId": "eb353a3e-4bcc-4559-df6f-41555fc4a595",
        "colab": {
          "base_uri": "https://localhost:8080/"
        }
      },
      "source": [
        "print(type(train_set[0])) #Type of objects inside the Training_set, the tuple consists of the image and its label "
      ],
      "execution_count": 33,
      "outputs": [
        {
          "output_type": "stream",
          "text": [
            "<class 'tuple'>\n"
          ],
          "name": "stdout"
        }
      ]
    },
    {
      "cell_type": "code",
      "metadata": {
        "id": "1ErbftAzKNLS",
        "outputId": "9c1a8fdb-fe86-4b07-dbbe-e4b278cf2966",
        "colab": {
          "base_uri": "https://localhost:8080/"
        }
      },
      "source": [
        "print(type(train_set[0][0])) #The first object inside the tuple is the image, which is converted to a tensor."
      ],
      "execution_count": 34,
      "outputs": [
        {
          "output_type": "stream",
          "text": [
            "<class 'torch.Tensor'>\n"
          ],
          "name": "stdout"
        }
      ]
    },
    {
      "cell_type": "code",
      "metadata": {
        "id": "xqiYuYy3KXNi",
        "outputId": "b32e493b-caa5-4e26-fc7a-aefd8443e891",
        "colab": {
          "base_uri": "https://localhost:8080/"
        }
      },
      "source": [
        "print(train_set[0][0].shape) #The shape of the image tensor, the 1 in this shape represents the Channel since the images are BW"
      ],
      "execution_count": 35,
      "outputs": [
        {
          "output_type": "stream",
          "text": [
            "torch.Size([1, 28, 28])\n"
          ],
          "name": "stdout"
        }
      ]
    },
    {
      "cell_type": "code",
      "metadata": {
        "id": "Jn5F606JKaNl"
      },
      "source": [
        "import numpy as np\n",
        "import matplotlib.pyplot as plt\n",
        "%matplotlib inline"
      ],
      "execution_count": 36,
      "outputs": []
    },
    {
      "cell_type": "code",
      "metadata": {
        "id": "hjRdxS87ME-2",
        "outputId": "a0d7a888-20cc-4aca-e59e-8b8d1f736596",
        "colab": {
          "base_uri": "https://localhost:8080/"
        }
      },
      "source": [
        "print(len(train_set), len(train_loader)) #We've created 1875 batches of 32 shuffled images from the dataset each. "
      ],
      "execution_count": 37,
      "outputs": [
        {
          "output_type": "stream",
          "text": [
            "60000 1875\n"
          ],
          "name": "stdout"
        }
      ]
    },
    {
      "cell_type": "code",
      "metadata": {
        "id": "c88BF4IBMZ3T",
        "outputId": "2c732f78-6822-42ac-9b22-e9ab45e9a6a3",
        "colab": {
          "base_uri": "https://localhost:8080/"
        }
      },
      "source": [
        "print(1875 * 32)"
      ],
      "execution_count": 38,
      "outputs": [
        {
          "output_type": "stream",
          "text": [
            "60000\n"
          ],
          "name": "stdout"
        }
      ]
    },
    {
      "cell_type": "code",
      "metadata": {
        "id": "bs7W9npuMdMY",
        "outputId": "7ba71c5e-fc27-4e74-c87c-fbc1a4f04ae6",
        "colab": {
          "base_uri": "https://localhost:8080/"
        }
      },
      "source": [
        "train_set.train_labels.bincount()"
      ],
      "execution_count": 39,
      "outputs": [
        {
          "output_type": "stream",
          "text": [
            "/usr/local/lib/python3.6/dist-packages/torchvision/datasets/mnist.py:48: UserWarning: train_labels has been renamed targets\n",
            "  warnings.warn(\"train_labels has been renamed targets\")\n"
          ],
          "name": "stderr"
        },
        {
          "output_type": "execute_result",
          "data": {
            "text/plain": [
              "tensor([6000, 6000, 6000, 6000, 6000, 6000, 6000, 6000, 6000, 6000])"
            ]
          },
          "metadata": {
            "tags": []
          },
          "execution_count": 39
        }
      ]
    },
    {
      "cell_type": "code",
      "metadata": {
        "id": "luQKv7CyMwvP",
        "outputId": "21fb1904-048b-406c-dcc1-2099edb5cfef",
        "colab": {
          "base_uri": "https://localhost:8080/"
        }
      },
      "source": [
        "batch_iterator = next(iter(train_loader))\n",
        "len(batch_iterator)"
      ],
      "execution_count": 41,
      "outputs": [
        {
          "output_type": "execute_result",
          "data": {
            "text/plain": [
              "2"
            ]
          },
          "metadata": {
            "tags": []
          },
          "execution_count": 41
        }
      ]
    },
    {
      "cell_type": "code",
      "metadata": {
        "id": "8kdmguRjVpA4",
        "outputId": "109e4d31-dec1-408b-c6af-5f52320f7f15",
        "colab": {
          "base_uri": "https://localhost:8080/"
        }
      },
      "source": [
        "type(batch_iterator)"
      ],
      "execution_count": 42,
      "outputs": [
        {
          "output_type": "execute_result",
          "data": {
            "text/plain": [
              "list"
            ]
          },
          "metadata": {
            "tags": []
          },
          "execution_count": 42
        }
      ]
    },
    {
      "cell_type": "code",
      "metadata": {
        "id": "PQHzyGsRVvTQ"
      },
      "source": [
        "batch_iterator"
      ],
      "execution_count": null,
      "outputs": []
    },
    {
      "cell_type": "code",
      "metadata": {
        "id": "X1PNUw--VzP4",
        "outputId": "dc2a2fe7-ea70-4cad-a818-9eccee9a7311",
        "colab": {
          "base_uri": "https://localhost:8080/"
        }
      },
      "source": [
        "images, labels = batch_iterator\n",
        "print(images.shape, labels.shape) #images.shape shows the shape of the tensor of 1 batch that will go inside the model. "
      ],
      "execution_count": 53,
      "outputs": [
        {
          "output_type": "stream",
          "text": [
            "torch.Size([32, 1, 28, 28]) torch.Size([32])\n"
          ],
          "name": "stdout"
        }
      ]
    },
    {
      "cell_type": "code",
      "metadata": {
        "id": "r__CBEP5V6iN",
        "outputId": "5da3900d-ff40-4252-d9d8-9f3d438affd4",
        "colab": {
          "base_uri": "https://localhost:8080/"
        }
      },
      "source": [
        "print(images.reshape(32, -1).shape)"
      ],
      "execution_count": 46,
      "outputs": [
        {
          "output_type": "stream",
          "text": [
            "torch.Size([32, 784])\n"
          ],
          "name": "stdout"
        }
      ]
    },
    {
      "cell_type": "code",
      "metadata": {
        "id": "OZev1c2sWDCG",
        "outputId": "8289e4e4-c818-41d3-e7bb-e1e86e6e42b1",
        "colab": {
          "base_uri": "https://localhost:8080/"
        }
      },
      "source": [
        "print(images.reshape(32, -1))"
      ],
      "execution_count": 49,
      "outputs": [
        {
          "output_type": "stream",
          "text": [
            "tensor([[0., 0., 0.,  ..., 0., 0., 0.],\n",
            "        [0., 0., 0.,  ..., 0., 0., 0.],\n",
            "        [0., 0., 0.,  ..., 0., 0., 0.],\n",
            "        ...,\n",
            "        [0., 0., 0.,  ..., 0., 0., 0.],\n",
            "        [0., 0., 0.,  ..., 0., 0., 0.],\n",
            "        [0., 0., 0.,  ..., 0., 0., 0.]])\n"
          ],
          "name": "stdout"
        }
      ]
    },
    {
      "cell_type": "code",
      "metadata": {
        "id": "rG7tGE74WJDO"
      },
      "source": [
        "print(images.reshape(32, -1)[0])"
      ],
      "execution_count": null,
      "outputs": []
    },
    {
      "cell_type": "code",
      "metadata": {
        "id": "LQZLZJTcWS4U",
        "outputId": "c1c2d256-edc1-4977-cc3b-2e80e42b69bb",
        "colab": {
          "base_uri": "https://localhost:8080/"
        }
      },
      "source": [
        "print(images.reshape(32, -1)[0].shape)"
      ],
      "execution_count": 52,
      "outputs": [
        {
          "output_type": "stream",
          "text": [
            "torch.Size([784])\n"
          ],
          "name": "stdout"
        }
      ]
    },
    {
      "cell_type": "code",
      "metadata": {
        "id": "S8KZ2vmsWX5O",
        "outputId": "d5312f98-b5b0-4a62-c3c1-36d5cbb21a07",
        "colab": {
          "base_uri": "https://localhost:8080/",
          "height": 508
        }
      },
      "source": [
        "image_grid = torchvision.utils.make_grid(\n",
        "    images, \n",
        "    nrow = 8\n",
        ")\n",
        "\n",
        "plt.figure(figsize=(15, 15))\n",
        "plt.imshow(np.transpose(image_grid, (1, 2, 0)))\n",
        "print(\"Lables: {}\".format(labels))"
      ],
      "execution_count": 54,
      "outputs": [
        {
          "output_type": "stream",
          "text": [
            "Lables: tensor([0, 2, 9, 1, 0, 8, 6, 8, 9, 5, 1, 9, 7, 1, 0, 6, 1, 2, 2, 5, 3, 0, 6, 2,\n",
            "        4, 0, 0, 0, 4, 4, 1, 4])\n"
          ],
          "name": "stdout"
        },
        {
          "output_type": "display_data",
          "data": {
            "image/png": "[encoded data removed]",
            "text/plain": [
              "<Figure size 1080x1080 with 1 Axes>"
            ]
          },
          "metadata": {
            "tags": [],
            "needs_background": "light"
          }
        }
      ]
    },
    {
      "cell_type": "code",
      "metadata": {
        "id": "udfiRu7GX3yD"
      },
      "source": [
        "import torch.nn as nn\n",
        "import torch.nn.functional as F"
      ],
      "execution_count": 56,
      "outputs": []
    },
    {
      "cell_type": "code",
      "metadata": {
        "id": "RLGh6ZW-aFv4"
      },
      "source": [
        "class Network(nn.Module):\n",
        "  def __init__(self):\n",
        "    super().__init__() #Calling all the methods of __init__ from nn.Module\n",
        "    self.layer = None #Defining a Layer\n",
        "  \n",
        "  def forward(self, batch_tensor):\n",
        "    batch_tensor = self.layer(batch_tensor) #The input goes through the layer\n",
        "    return batch_tensor #Returning the new output, but using the same name. "
      ],
      "execution_count": 58,
      "outputs": []
    },
    {
      "cell_type": "code",
      "metadata": {
        "id": "bg_odak1ba9l"
      },
      "source": [
        "class my_network(nn.Module):\n",
        "  def __init__(self):\n",
        "    super().__init__()\n",
        "    self.conv1 = nn.Conv2d(in_channels=1, out_channels=6, kernel_size=5) #insize = (1, 28, 28), outsize = (6, 24, 24), RF = 5x5\n",
        "    self.conv2 = nn.Conv2d(in_channels=6, out_channels=12, kernel_size=5) #insize = (6, 24, 24), outsize = (12, 20, 20), RF = 9x9\n",
        "\n",
        "    self.fc1 = nn.Linear(in_features=12*20*20, out_features=120) #insize=(12*20*20), outsize=120\n",
        "    self.fc2 = nn.Linear(in_features=120, out_features=60) #insize=(120), outsize=60\n",
        "    self.fc3 = nn.Linear(in_features=60, out_features=10) #insize=60, outsize=10\n",
        "\n",
        "\n",
        "  def forward(self, batch):\n",
        "    batch = self.conv1(batch)\n",
        "    return batch"
      ],
      "execution_count": 62,
      "outputs": []
    },
    {
      "cell_type": "code",
      "metadata": {
        "id": "zH4EjOQreN-D"
      },
      "source": [
        "neural_net = my_network()"
      ],
      "execution_count": 63,
      "outputs": []
    },
    {
      "cell_type": "code",
      "metadata": {
        "id": "ZbF4g3PQeVU5",
        "outputId": "6b6d542f-6f00-4dc4-91a5-6e777fcb40a3",
        "colab": {
          "base_uri": "https://localhost:8080/"
        }
      },
      "source": [
        "print(neural_net)"
      ],
      "execution_count": 64,
      "outputs": [
        {
          "output_type": "stream",
          "text": [
            "my_network(\n",
            "  (conv1): Conv2d(1, 6, kernel_size=(5, 5), stride=(1, 1))\n",
            "  (conv2): Conv2d(6, 12, kernel_size=(5, 5), stride=(1, 1))\n",
            "  (fc1): Linear(in_features=4800, out_features=120, bias=True)\n",
            "  (fc2): Linear(in_features=120, out_features=60, bias=True)\n",
            "  (fc3): Linear(in_features=60, out_features=10, bias=True)\n",
            ")\n"
          ],
          "name": "stdout"
        }
      ]
    },
    {
      "cell_type": "code",
      "metadata": {
        "id": "BKcX1agjeuuy"
      },
      "source": [
        "neural_net.fc2.weight"
      ],
      "execution_count": null,
      "outputs": []
    },
    {
      "cell_type": "code",
      "metadata": {
        "id": "814F8OpQfak5",
        "outputId": "efc7138e-3d47-4fac-a82d-d4146d857a20",
        "colab": {
          "base_uri": "https://localhost:8080/"
        }
      },
      "source": [
        "neural_net.fc2"
      ],
      "execution_count": 68,
      "outputs": [
        {
          "output_type": "execute_result",
          "data": {
            "text/plain": [
              "Linear(in_features=120, out_features=60, bias=True)"
            ]
          },
          "metadata": {
            "tags": []
          },
          "execution_count": 68
        }
      ]
    },
    {
      "cell_type": "code",
      "metadata": {
        "id": "4mPT30vbfSvI",
        "outputId": "7e45ca75-3c61-4127-8aa4-8c6fb6dc5f76",
        "colab": {
          "base_uri": "https://localhost:8080/"
        }
      },
      "source": [
        "neural_net.fc2.weight.shape"
      ],
      "execution_count": 69,
      "outputs": [
        {
          "output_type": "execute_result",
          "data": {
            "text/plain": [
              "torch.Size([60, 120])"
            ]
          },
          "metadata": {
            "tags": []
          },
          "execution_count": 69
        }
      ]
    },
    {
      "cell_type": "code",
      "metadata": {
        "id": "zfhS66CPfV96"
      },
      "source": [
        ""
      ],
      "execution_count": null,
      "outputs": []
    }
  ]
}