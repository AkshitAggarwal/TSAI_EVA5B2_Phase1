{
  "nbformat": 4,
  "nbformat_minor": 0,
  "metadata": {
    "colab": {
      "name": "EVA4 - Session 2.ipynb",
      "provenance": [],
      "include_colab_link": true
    },
    "kernelspec": {
      "name": "python3",
      "display_name": "Python 3"
    },
    "accelerator": "GPU"
  },
  "cells": [
    {
      "cell_type": "markdown",
      "metadata": {
        "id": "view-in-github",
        "colab_type": "text"
      },
      "source": [
        "<a href=\"https://colab.research.google.com/github/AkshitAggarwal/TSAI_EVA5B2_Phase1/blob/main/Session_04/S4_Assignment.ipynb\" target=\"_parent\"><img src=\"https://colab.research.google.com/assets/colab-badge.svg\" alt=\"Open In Colab\"/></a>"
      ]
    },
    {
      "cell_type": "markdown",
      "metadata": {
        "id": "KPHO5fYXjjg2"
      },
      "source": [
        "Imports all necessary libraries and methods from Pytorch. "
      ]
    },
    {
      "cell_type": "code",
      "metadata": {
        "id": "0m2JWFliFfKT"
      },
      "source": [
        "from __future__ import print_function\n",
        "import torch\n",
        "import torch.nn as nn\n",
        "import torch.nn.functional as F\n",
        "import torch.optim as optim\n",
        "from torchvision import datasets, transforms"
      ],
      "execution_count": 1,
      "outputs": []
    },
    {
      "cell_type": "code",
      "metadata": {
        "id": "h_Cx9q2QFgM7"
      },
      "source": [
        "# class Net(nn.Module):\n",
        "#     #Constructor function initializes an object of Net() and defines all the layers. \n",
        "#     #Each layer is defined here separately and aren't connected to each other in any way yet. \n",
        "#     def __init__(self):\n",
        "#         super(Net, self).__init__()\n",
        "#         self.conv1 = nn.Conv2d(1, 32, 3, padding=1) #in_channel: 1,28,28; out_channel: 32,28,28; RF: 3 \n",
        "#         self.conv2 = nn.Conv2d(32, 64, 3, padding=1) #in_channel: 32,28,28; out_channel: 64,28,28; RF: 5 \n",
        "#         self.pool1 = nn.MaxPool2d(2, 2) #in_channel: 64,28,28; out_channel: 64,14,14; RF: 10\n",
        "#         self.conv3 = nn.Conv2d(64, 128, 3, padding=1) #in_channel: 64,14,14; out_channel: 128,14,14; RF: 12\n",
        "#         self.conv4 = nn.Conv2d(128, 256, 3, padding=1) #in_channel: 128,14,14; out_channel: 256,14,14; RF: 14\n",
        "#         self.pool2 = nn.MaxPool2d(2, 2) #in_channel: 256,14,14; out_channel: 256,7,7; RF: 28\n",
        "#         self.conv5 = nn.Conv2d(256, 512, 3) #in_channel: 256,7,7; out_channel: 512,5,5; RF: 30\n",
        "#         self.conv6 = nn.Conv2d(512, 1024, 3) #in_channel: 512,5,5; out_channel: 1024,3,3; RF: 32\n",
        "#         self.conv7 = nn.Conv2d(1024, 10, 3) #in_channel: 1024,3,3; out_channel: 10,1,1; RF: 34\n",
        "\n",
        "#     #Forward function takes an object and it passes through each layer sequentially. \n",
        "#     def forward(self, x):\n",
        "#         x = self.pool1(F.relu(self.conv2(F.relu(self.conv1(x))))) #Block 1: conv1 -> conv2 -> maxpool1\n",
        "#         x = self.pool2(F.relu(self.conv4(F.relu(self.conv3(x))))) #Block 2: conv3 -> conv4 -> maxpool2\n",
        "#         x = F.relu(self.conv6(F.relu(self.conv5(x)))) #Block 3: conv5 -> conv6\n",
        "#         x = self.conv7(x)\n",
        "#         x = x.view(-1, 10)\n",
        "#         return F.log_softmax(x)"
      ],
      "execution_count": 2,
      "outputs": []
    },
    {
      "cell_type": "code",
      "metadata": {
        "id": "suejYMax0HV5"
      },
      "source": [
        "# class Net(nn.Module):\n",
        "#     #Constructor function initializes an object of Net() and defines all the layers. \n",
        "#     #Each layer is defined here separately and aren't connected to each other in any way yet. \n",
        "#     def __init__(self):\n",
        "#         super(Net, self).__init__()\n",
        "#         self.conv1 = nn.Conv2d(1, 8, 3, padding=1) #in_channel: 1,28,28; out_channel: 32,28,28; RF: 3 \n",
        "#         self.conv2 = nn.Conv2d(8, 16, 3, padding=1) #in_channel: 32,28,28; out_channel: 64,28,28; RF: 5 \n",
        "#         self.pool1 = nn.MaxPool2d(2, 2) #in_channel: 64,28,28; out_channel: 64,14,14; RF: 10\n",
        "#         self.conv3 = nn.Conv2d(16, 32, 3, padding=1) #in_channel: 64,14,14; out_channel: 128,14,14; RF: 12\n",
        "#         self.conv4 = nn.Conv2d(32, 32, 3, padding=1) #in_channel: 128,14,14; out_channel: 256,14,14; RF: 14\n",
        "#         self.pool2 = nn.MaxPool2d(2, 2) #in_channel: 256,14,14; out_channel: 256,7,7; RF: 28\n",
        "#         self.conv5 = nn.Conv2d(32, 10, 3) #in_channel: 256,7,7; out_channel: 512,5,5; RF: 30\n",
        "#         # self.conv6 = nn.Conv2d(512, 1024, 3) #in_channel: 512,5,5; out_channel: 1024,3,3; RF: 32\n",
        "#         # self.conv7 = nn.Conv2d(1024, 10, 3) #in_channel: 1024,3,3; out_channel: 10,1,1; RF: 34\n",
        "#         self.gap = nn.AvgPool2d((5, 5))\n",
        "\n",
        "#     #Forward function takes an object and it passes through each layer sequentially. \n",
        "#     def forward(self, x):\n",
        "#         x = self.pool1(F.relu(self.conv2(F.relu(self.conv1(x))))) #Block 1: conv1 -> conv2 -> maxpool1\n",
        "#         x = self.pool2(F.relu(self.conv4(F.relu(self.conv3(x))))) #Block 2: conv3 -> conv4 -> maxpool2\n",
        "#         # x = F.relu(self.conv6(F.relu(self.conv5(x)))) #Block 3: conv5 -> conv6\n",
        "#         # x = self.conv7(x)\n",
        "#         # x = x.view(-1, 10)\n",
        "#         x = self.gap(self.conv5(x))\n",
        "#         x = x.view(-1, 10)\n",
        "#         return F.log_softmax(x)"
      ],
      "execution_count": 6,
      "outputs": []
    },
    {
      "cell_type": "code",
      "metadata": {
        "id": "VZuhpG3vr4gw"
      },
      "source": [
        "class Net(nn.Module):\n",
        "    #Constructor function initializes an object of Net() and defines all the layers. \n",
        "    #Each layer is defined here separately and aren't connected to each other in any way yet. \n",
        "    def __init__(self):\n",
        "        super(Net, self).__init__()\n",
        "        self.conv1 = nn.Conv2d(1, 8, 3, padding=1) #in_channel: 1,28,28; out_channel: 32,28,28; RF: 3 \n",
        "        self.conv2 = nn.Conv2d(8, 16, 3, padding=1) #in_channel: 32,28,28; out_channel: 64,28,28; RF: 5 \n",
        "        self.pool1 = nn.MaxPool2d(2, 2) #in_channel: 64,28,28; out_channel: 64,14,14; RF: 10\n",
        "        self.conv3 = nn.Conv2d(16, 32, 3, padding=1) #in_channel: 64,14,14; out_channel: 128,14,14; RF: 12\n",
        "        self.conv4 = nn.Conv2d(32, 32, 3, padding=1) #in_channel: 128,14,14; out_channel: 256,14,14; RF: 14\n",
        "        self.pool2 = nn.MaxPool2d(2, 2) #in_channel: 256,14,14; out_channel: 256,7,7; RF: 28\n",
        "        self.conv5 = nn.Conv2d(32, 10, 3) #in_channel: 256,7,7; out_channel: 512,5,5; RF: 30\n",
        "        # self.conv6 = nn.Conv2d(512, 1024, 3) #in_channel: 512,5,5; out_channel: 1024,3,3; RF: 32\n",
        "        # self.conv7 = nn.Conv2d(1024, 10, 3) #in_channel: 1024,3,3; out_channel: 10,1,1; RF: 34\n",
        "        self.gap = nn.AvgPool2d((5, 5))\n",
        "\n",
        "    #Forward function takes an object and it passes through each layer sequentially. \n",
        "    def forward(self, x):\n",
        "        x = self.pool1(F.relu(self.conv2(F.relu(self.conv1(x))))) #Block 1: conv1 -> conv2 -> maxpool1\n",
        "        x = self.pool2(F.relu(self.conv4(F.relu(self.conv3(x))))) #Block 2: conv3 -> conv4 -> maxpool2\n",
        "        # x = F.relu(self.conv6(F.relu(self.conv5(x)))) #Block 3: conv5 -> conv6\n",
        "        # x = self.conv7(x)\n",
        "        # x = x.view(-1, 10)\n",
        "        x = self.gap(self.conv5(x))\n",
        "        x = x.view(-1, 10)\n",
        "        # return F.log_softmax(x)"
      ],
      "execution_count": null,
      "outputs": []
    },
    {
      "cell_type": "markdown",
      "metadata": {
        "id": "ne9Q0gbLj2pF"
      },
      "source": [
        "Q1. The global receptive field of our network ends up being more than the size of the image that we input, how will that affect the results?\n",
        "\n",
        "Q2. What does -1 in Output shape signify?"
      ]
    },
    {
      "cell_type": "code",
      "metadata": {
        "id": "xdydjYTZFyi3",
        "colab": {
          "base_uri": "https://localhost:8080/"
        },
        "outputId": "257743ab-b72d-425a-d6f6-220c7b5bfb98"
      },
      "source": [
        "!pip install torchsummary\n",
        "from torchsummary import summary\n",
        "use_cuda = torch.cuda.is_available() #Boolean function checks if cuda(GPU) is available or not.\n",
        "device = torch.device(\"cuda\" if use_cuda else \"cpu\") #Assigns cuda or cpu based on availability.\n",
        "model = Net().to(device) #Converts our model into the respective device.\n",
        "summary(model, input_size=(1, 28, 28)) #Prints the summary of our model based on an input size. \n"
      ],
      "execution_count": 7,
      "outputs": [
        {
          "output_type": "stream",
          "text": [
            "Requirement already satisfied: torchsummary in /usr/local/lib/python3.6/dist-packages (1.5.1)\n",
            "----------------------------------------------------------------\n",
            "        Layer (type)               Output Shape         Param #\n",
            "================================================================\n",
            "            Conv2d-1            [-1, 8, 28, 28]              80\n",
            "            Conv2d-2           [-1, 16, 28, 28]           1,168\n",
            "         MaxPool2d-3           [-1, 16, 14, 14]               0\n",
            "            Conv2d-4           [-1, 32, 14, 14]           4,640\n",
            "            Conv2d-5           [-1, 32, 14, 14]           9,248\n",
            "         MaxPool2d-6             [-1, 32, 7, 7]               0\n",
            "            Conv2d-7             [-1, 10, 5, 5]           2,890\n",
            "         AvgPool2d-8             [-1, 10, 1, 1]               0\n",
            "================================================================\n",
            "Total params: 18,026\n",
            "Trainable params: 18,026\n",
            "Non-trainable params: 0\n",
            "----------------------------------------------------------------\n",
            "Input size (MB): 0.00\n",
            "Forward/backward pass size (MB): 0.28\n",
            "Params size (MB): 0.07\n",
            "Estimated Total Size (MB): 0.35\n",
            "----------------------------------------------------------------\n"
          ],
          "name": "stdout"
        },
        {
          "output_type": "stream",
          "text": [
            "/usr/local/lib/python3.6/dist-packages/ipykernel_launcher.py:26: UserWarning: Implicit dimension choice for log_softmax has been deprecated. Change the call to include dim=X as an argument.\n"
          ],
          "name": "stderr"
        }
      ]
    },
    {
      "cell_type": "code",
      "metadata": {
        "id": "DqTWLaM5GHgH"
      },
      "source": [
        "\n",
        "\n",
        "torch.manual_seed(1)\n",
        "batch_size = 128\n",
        "\n",
        "kwargs = {'num_workers': 1, 'pin_memory': True} if use_cuda else {}\n",
        "train_loader = torch.utils.data.DataLoader(\n",
        "    datasets.MNIST('../data', train=True, download=True,\n",
        "                    transform=transforms.Compose([\n",
        "                        transforms.ToTensor(),\n",
        "                        transforms.Normalize((0.1307,), (0.3081,))\n",
        "                    ])),\n",
        "    batch_size=batch_size, shuffle=True, **kwargs)\n",
        "test_loader = torch.utils.data.DataLoader(\n",
        "    datasets.MNIST('../data', train=False, transform=transforms.Compose([\n",
        "                        transforms.ToTensor(),\n",
        "                        transforms.Normalize((0.1307,), (0.3081,))\n",
        "                    ])),\n",
        "    batch_size=batch_size, shuffle=True, **kwargs)\n"
      ],
      "execution_count": null,
      "outputs": []
    },
    {
      "cell_type": "code",
      "metadata": {
        "id": "8fDefDhaFlwH"
      },
      "source": [
        "from tqdm import tqdm\n",
        "train_samples = len(train_loader.dataset)\n",
        "test_samples = len(test_loader.dataset)\n",
        "def train(model, device, train_loader, optimizer, epoch):\n",
        "    model.train()\n",
        "    train_loss = 0\n",
        "    train_accuracy = 0\n",
        "    total_correct = 0\n",
        "    pbar = tqdm(train_loader)\n",
        "    for batch_idx, (data, target) in enumerate(pbar):\n",
        "        data, target = data.to(device), target.to(device) #Loading the images and targets on the GPU\n",
        "        optimizer.zero_grad() \n",
        "        output = model(data)\n",
        "        loss = F.nll_loss(output, target)\n",
        "        loss.backward()\n",
        "        optimizer.step()\n",
        "        \n",
        "        train_loss += loss #Calculating the total loss for the epoch. \n",
        "        pred = output.argmax(dim=1, keepdim=True)  # get the index of the max log-probability\n",
        "        total_correct += pred.eq(target.view_as(pred)).sum().item()\n",
        "        pbar.set_description(desc= f'loss={loss.item()} batch_id={batch_idx}')\n",
        "        #print(\"\\nTrain set: Total loss: {:.4f}, Accuracy: {}/{} ({:.4f}%)\".format(\n",
        "        #       train_loss, total_correct, train_samples, \n",
        "        #      100. * total_correct / train_samples\n",
        "        # ))\n",
        "\n",
        "\n",
        "def test(model, device, test_loader):\n",
        "    model.eval()\n",
        "    test_loss = 0\n",
        "    correct = 0\n",
        "    with torch.no_grad():\n",
        "        for data, target in test_loader:\n",
        "            data, target = data.to(device), target.to(device)\n",
        "            output = model(data)\n",
        "            test_loss += F.nll_loss(output, target, reduction='sum').item()  # sum up batch loss\n",
        "            pred = output.argmax(dim=1, keepdim=True)  # get the index of the max log-probability\n",
        "            correct += pred.eq(target.view_as(pred)).sum().item()\n",
        "\n",
        "    test_loss /= len(test_loader.dataset)\n",
        "\n",
        "    print('\\nTest set: Average loss: {:.4f}, Accuracy: {}/{} ({:.4f}%)'.format(\n",
        "        test_loss, correct, len(test_loader.dataset),\n",
        "        100. * correct / len(test_loader.dataset)))"
      ],
      "execution_count": null,
      "outputs": []
    },
    {
      "cell_type": "code",
      "metadata": {
        "id": "MMWbLWO6FuHb"
      },
      "source": [
        "\n",
        "model = Net().to(device)\n",
        "optimizer = optim.SGD(model.parameters(), lr=0.01, momentum=0.9)\n",
        "\n",
        "for epoch in range(1, 5):\n",
        "    train(model, device, train_loader, optimizer, epoch)\n",
        "    test(model, device, test_loader)"
      ],
      "execution_count": null,
      "outputs": []
    },
    {
      "cell_type": "code",
      "metadata": {
        "id": "WQIKqEXah4AS"
      },
      "source": [
        ""
      ],
      "execution_count": null,
      "outputs": []
    }
  ]
}