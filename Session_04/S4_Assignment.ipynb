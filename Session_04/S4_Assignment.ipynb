{
  "nbformat": 4,
  "nbformat_minor": 0,
  "metadata": {
    "colab": {
      "name": "EVA4 - Session 2.ipynb",
      "provenance": [],
      "include_colab_link": true
    },
    "kernelspec": {
      "name": "python3",
      "display_name": "Python 3"
    },
    "accelerator": "GPU"
  },
  "cells": [
    {
      "cell_type": "markdown",
      "metadata": {
        "id": "view-in-github",
        "colab_type": "text"
      },
      "source": [
        "<a href=\"https://colab.research.google.com/github/AkshitAggarwal/TSAI_EVA5B2_Phase1/blob/main/Session_04/S4_Assignment.ipynb\" target=\"_parent\"><img src=\"https://colab.research.google.com/assets/colab-badge.svg\" alt=\"Open In Colab\"/></a>"
      ]
    },
    {
      "cell_type": "markdown",
      "metadata": {
        "id": "KPHO5fYXjjg2"
      },
      "source": [
        "Imports all necessary libraries and methods from Pytorch. "
      ]
    },
    {
      "cell_type": "code",
      "metadata": {
        "id": "0m2JWFliFfKT"
      },
      "source": [
        "from __future__ import print_function\n",
        "import torch\n",
        "import torch.nn as nn\n",
        "import torch.nn.functional as F\n",
        "import torch.optim as optim\n",
        "from torchvision import datasets, transforms"
      ],
      "execution_count": 1,
      "outputs": []
    },
    {
      "cell_type": "code",
      "metadata": {
        "id": "h_Cx9q2QFgM7"
      },
      "source": [
        "# class Net(nn.Module):\n",
        "#     #Constructor function initializes an object of Net() and defines all the layers. \n",
        "#     #Each layer is defined here separately and aren't connected to each other in any way yet. \n",
        "#     def __init__(self):\n",
        "#         super(Net, self).__init__()\n",
        "#         self.conv1 = nn.Conv2d(1, 32, 3, padding=1) #in_channel: 1,28,28; out_channel: 32,28,28; RF: 3 \n",
        "#         self.conv2 = nn.Conv2d(32, 64, 3, padding=1) #in_channel: 32,28,28; out_channel: 64,28,28; RF: 5 \n",
        "#         self.pool1 = nn.MaxPool2d(2, 2) #in_channel: 64,28,28; out_channel: 64,14,14; RF: 10\n",
        "#         self.conv3 = nn.Conv2d(64, 128, 3, padding=1) #in_channel: 64,14,14; out_channel: 128,14,14; RF: 12\n",
        "#         self.conv4 = nn.Conv2d(128, 256, 3, padding=1) #in_channel: 128,14,14; out_channel: 256,14,14; RF: 14\n",
        "#         self.pool2 = nn.MaxPool2d(2, 2) #in_channel: 256,14,14; out_channel: 256,7,7; RF: 28\n",
        "#         self.conv5 = nn.Conv2d(256, 512, 3) #in_channel: 256,7,7; out_channel: 512,5,5; RF: 30\n",
        "#         self.conv6 = nn.Conv2d(512, 1024, 3) #in_channel: 512,5,5; out_channel: 1024,3,3; RF: 32\n",
        "#         self.conv7 = nn.Conv2d(1024, 10, 3) #in_channel: 1024,3,3; out_channel: 10,1,1; RF: 34\n",
        "\n",
        "#     #Forward function takes an object and it passes through each layer sequentially. \n",
        "#     def forward(self, x):\n",
        "#         x = self.pool1(F.relu(self.conv2(F.relu(self.conv1(x))))) #Block 1: conv1 -> conv2 -> maxpool1\n",
        "#         x = self.pool2(F.relu(self.conv4(F.relu(self.conv3(x))))) #Block 2: conv3 -> conv4 -> maxpool2\n",
        "#         x = F.relu(self.conv6(F.relu(self.conv5(x)))) #Block 3: conv5 -> conv6\n",
        "#         x = self.conv7(x)\n",
        "#         x = x.view(-1, 10)\n",
        "#         return F.log_softmax(x)"
      ],
      "execution_count": 2,
      "outputs": []
    },
    {
      "cell_type": "code",
      "metadata": {
        "id": "suejYMax0HV5"
      },
      "source": [
        "# class Net(nn.Module):\n",
        "#     #Constructor function initializes an object of Net() and defines all the layers. \n",
        "#     #Each layer is defined here separately and aren't connected to each other in any way yet. \n",
        "#     def __init__(self):\n",
        "#         super(Net, self).__init__()\n",
        "#         self.conv1 = nn.Conv2d(1, 8, 3, padding=1) #in_channel: 1,28,28; out_channel: 32,28,28; RF: 3 \n",
        "#         self.conv2 = nn.Conv2d(8, 16, 3, padding=1) #in_channel: 32,28,28; out_channel: 64,28,28; RF: 5 \n",
        "#         self.pool1 = nn.MaxPool2d(2, 2) #in_channel: 64,28,28; out_channel: 64,14,14; RF: 10\n",
        "#         self.conv3 = nn.Conv2d(16, 32, 3, padding=1) #in_channel: 64,14,14; out_channel: 128,14,14; RF: 12\n",
        "#         self.conv4 = nn.Conv2d(32, 32, 3, padding=1) #in_channel: 128,14,14; out_channel: 256,14,14; RF: 14\n",
        "#         self.pool2 = nn.MaxPool2d(2, 2) #in_channel: 256,14,14; out_channel: 256,7,7; RF: 28\n",
        "#         self.conv5 = nn.Conv2d(32, 10, 3) #in_channel: 256,7,7; out_channel: 512,5,5; RF: 30\n",
        "#         # self.conv6 = nn.Conv2d(512, 1024, 3) #in_channel: 512,5,5; out_channel: 1024,3,3; RF: 32\n",
        "#         # self.conv7 = nn.Conv2d(1024, 10, 3) #in_channel: 1024,3,3; out_channel: 10,1,1; RF: 34\n",
        "#         self.gap = nn.AvgPool2d((5, 5))\n",
        "\n",
        "#     #Forward function takes an object and it passes through each layer sequentially. \n",
        "#     def forward(self, x):\n",
        "#         x = self.pool1(F.relu(self.conv2(F.relu(self.conv1(x))))) #Block 1: conv1 -> conv2 -> maxpool1\n",
        "#         x = self.pool2(F.relu(self.conv4(F.relu(self.conv3(x))))) #Block 2: conv3 -> conv4 -> maxpool2\n",
        "#         # x = F.relu(self.conv6(F.relu(self.conv5(x)))) #Block 3: conv5 -> conv6\n",
        "#         # x = self.conv7(x)\n",
        "#         # x = x.view(-1, 10)\n",
        "#         x = self.gap(self.conv5(x))\n",
        "#         x = x.view(-1, 10)\n",
        "#         return F.log_softmax(x)"
      ],
      "execution_count": 3,
      "outputs": []
    },
    {
      "cell_type": "code",
      "metadata": {
        "id": "VZuhpG3vr4gw"
      },
      "source": [
        "class Net(nn.Module):\n",
        "    #Constructor function initializes an object of Net() and defines all the layers. \n",
        "    #Each layer is defined here separately and aren't connected to each other in any way yet. \n",
        "    def __init__(self):\n",
        "        super(Net, self).__init__()\n",
        "        self.convBlock1 = nn.Sequential(\n",
        "            nn.Conv2d(1, 16, 3, padding = 1, bias = False), #in_channel: 1,28,28; out_channel: 16,28,28; RF: 3\n",
        "            nn.ReLU(),\n",
        "            nn.BatchNorm2d(16),\n",
        "            nn.Dropout(0.05)\n",
        "        )  \n",
        "        self.convBlock2 = nn.Sequential(\n",
        "            nn.Conv2d(16, 16, 3, padding = 1, bias = False), #in_channel: 16,28,28; out_channel: 16,28,28; RF: 5\n",
        "            nn.ReLU(),\n",
        "            nn.BatchNorm2d(16),\n",
        "            nn.Dropout(0.05)\n",
        "        )\n",
        "        self.pool1 = nn.MaxPool2d(2, 2) #in_channel: 16,28,28; out_channel: 16,14,14; RF: 10\n",
        "        self.convBlock3 = nn.Sequential(\n",
        "            nn.Conv2d(16, 32, 3, padding = 1, bias = False), #in_channel: 16,14,14; out_channel: 32,14,14; RF: 12\n",
        "            nn.ReLU(),\n",
        "            nn.BatchNorm2d(32),\n",
        "            nn.Dropout(0.05)\n",
        "        )\n",
        "        self.convBlock4 = nn.Sequential(\n",
        "            nn.Conv2d(32, 32, 3, padding = 1, bias = False), #in_channel: 32,14,14; out_channel: 32,14,14; RF: 14\n",
        "            nn.ReLU(),\n",
        "            nn.BatchNorm2d(32),\n",
        "            nn.Dropout(0.05)\n",
        "        )\n",
        "        self.pool2 = nn.MaxPool2d(2, 2) #in_channel: 32,14,14; out_channel: 32,7,7; RF: 28\n",
        "        self.convBlock5 = nn.Sequential(\n",
        "            nn.Conv2d(32, 10, 3, bias = False), #in_channel: 32,7,7; out_channel: 10,5,5; RF: 30\n",
        "            nn.ReLU(),\n",
        "            nn.BatchNorm2d(10),\n",
        "            nn.Dropout(0.05)\n",
        "        )\n",
        "        self.gap = nn.AvgPool2d((5, 5)) #in_channel: 10,5,5; out_channel: 10,1,1; RF: ?\n",
        "        self.convBlock6 = nn.Conv2d(10, 10, 1, bias = False) #in_channel: 10,1,1; out_channel: 10,1,1; RF: >32\n",
        "\n",
        "    #Forward function takes an object and it passes through each layer sequentially. \n",
        "    def forward(self, x):\n",
        "        x = self.convBlock1(x)\n",
        "        x = self.convBlock2(x)\n",
        "        x = self.pool1(x)\n",
        "        x = self.convBlock3(x)\n",
        "        x = self.convBlock4(x)\n",
        "        x = self.pool2(x)\n",
        "        x = self.convBlock5(x)\n",
        "        x = self.gap(x)\n",
        "        x = self.convBlock6(x)\n",
        "        x = x.view(-1, 10)\n",
        "        return F.log_softmax(x, dim = -1)"
      ],
      "execution_count": 26,
      "outputs": []
    },
    {
      "cell_type": "markdown",
      "metadata": {
        "id": "ne9Q0gbLj2pF"
      },
      "source": [
        "Q1. The global receptive field of our network ends up being more than the size of the image that we input, how will that affect the results?\n",
        "\n",
        "Q2. What does -1 in Output shape signify?"
      ]
    },
    {
      "cell_type": "code",
      "metadata": {
        "id": "xdydjYTZFyi3",
        "colab": {
          "base_uri": "https://localhost:8080/"
        },
        "outputId": "48240f0d-88bb-46b8-821b-3710c5845cde"
      },
      "source": [
        "!pip install torchsummary\n",
        "from torchsummary import summary\n",
        "use_cuda = torch.cuda.is_available() #Boolean function checks if cuda(GPU) is available or not.\n",
        "device = torch.device(\"cuda\" if use_cuda else \"cpu\") #Assigns cuda or cpu based on availability.\n",
        "model = Net().to(device) #Converts our model into the respective device.\n",
        "summary(model, input_size=(1, 28, 28)) #Prints the summary of our model based on an input size. "
      ],
      "execution_count": 27,
      "outputs": [
        {
          "output_type": "stream",
          "text": [
            "Requirement already satisfied: torchsummary in /usr/local/lib/python3.6/dist-packages (1.5.1)\n",
            "----------------------------------------------------------------\n",
            "        Layer (type)               Output Shape         Param #\n",
            "================================================================\n",
            "            Conv2d-1           [-1, 16, 28, 28]             144\n",
            "              ReLU-2           [-1, 16, 28, 28]               0\n",
            "       BatchNorm2d-3           [-1, 16, 28, 28]              32\n",
            "           Dropout-4           [-1, 16, 28, 28]               0\n",
            "            Conv2d-5           [-1, 16, 28, 28]           2,304\n",
            "              ReLU-6           [-1, 16, 28, 28]               0\n",
            "       BatchNorm2d-7           [-1, 16, 28, 28]              32\n",
            "           Dropout-8           [-1, 16, 28, 28]               0\n",
            "         MaxPool2d-9           [-1, 16, 14, 14]               0\n",
            "           Conv2d-10           [-1, 32, 14, 14]           4,608\n",
            "             ReLU-11           [-1, 32, 14, 14]               0\n",
            "      BatchNorm2d-12           [-1, 32, 14, 14]              64\n",
            "          Dropout-13           [-1, 32, 14, 14]               0\n",
            "           Conv2d-14           [-1, 32, 14, 14]           9,216\n",
            "             ReLU-15           [-1, 32, 14, 14]               0\n",
            "      BatchNorm2d-16           [-1, 32, 14, 14]              64\n",
            "          Dropout-17           [-1, 32, 14, 14]               0\n",
            "        MaxPool2d-18             [-1, 32, 7, 7]               0\n",
            "           Conv2d-19             [-1, 10, 5, 5]           2,880\n",
            "             ReLU-20             [-1, 10, 5, 5]               0\n",
            "      BatchNorm2d-21             [-1, 10, 5, 5]              20\n",
            "          Dropout-22             [-1, 10, 5, 5]               0\n",
            "        AvgPool2d-23             [-1, 10, 1, 1]               0\n",
            "           Conv2d-24             [-1, 10, 1, 1]             100\n",
            "================================================================\n",
            "Total params: 19,464\n",
            "Trainable params: 19,464\n",
            "Non-trainable params: 0\n",
            "----------------------------------------------------------------\n",
            "Input size (MB): 0.00\n",
            "Forward/backward pass size (MB): 1.19\n",
            "Params size (MB): 0.07\n",
            "Estimated Total Size (MB): 1.27\n",
            "----------------------------------------------------------------\n"
          ],
          "name": "stdout"
        }
      ]
    },
    {
      "cell_type": "code",
      "metadata": {
        "id": "DqTWLaM5GHgH"
      },
      "source": [
        "torch.manual_seed(1)\n",
        "batch_size = 128\n",
        "\n",
        "kwargs = {'num_workers': 1, 'pin_memory': True} if use_cuda else {}\n",
        "train_loader = torch.utils.data.DataLoader(\n",
        "    datasets.MNIST('../data', train=True, download=True,\n",
        "                    transform=transforms.Compose([\n",
        "                        transforms.ToTensor(),\n",
        "                        transforms.Normalize((0.1307,), (0.3081,))\n",
        "                    ])),\n",
        "    batch_size=batch_size, shuffle=True, **kwargs)\n",
        "test_loader = torch.utils.data.DataLoader(\n",
        "    datasets.MNIST('../data', train=False, transform=transforms.Compose([\n",
        "                        transforms.ToTensor(),\n",
        "                        transforms.Normalize((0.1307,), (0.3081,))\n",
        "                    ])),\n",
        "    batch_size=batch_size, shuffle=True, **kwargs)\n"
      ],
      "execution_count": 28,
      "outputs": []
    },
    {
      "cell_type": "code",
      "metadata": {
        "id": "8fDefDhaFlwH"
      },
      "source": [
        "from tqdm import tqdm\n",
        "train_samples = len(train_loader.dataset)\n",
        "test_samples = len(test_loader.dataset)\n",
        "def train(model, device, train_loader, optimizer, epoch):\n",
        "    model.train()\n",
        "    train_loss = 0\n",
        "    total_correct = 0\n",
        "    pbar = tqdm(train_loader)\n",
        "    for batch_idx, (data, target) in enumerate(pbar):\n",
        "        data, target = data.to(device), target.to(device) #Loading the images and targets on the GPU\n",
        "        optimizer.zero_grad() \n",
        "        output = model(data)\n",
        "        loss = F.nll_loss(output, target)\n",
        "        loss.backward()\n",
        "        optimizer.step()\n",
        "        train_loss += loss #Calculating the total loss for the epoch. \n",
        "        pred = output.argmax(dim=1, keepdim=True)  # get the index of the max log-probability\n",
        "        total_correct += pred.eq(target.view_as(pred)).sum().item()\n",
        "        pbar.set_description(desc= f'loss={loss.item()} batch_id={batch_idx}')\n",
        "    print(\"\\nTrain set: Total loss: {:.4f}, Accuracy: {}/{} ({:.4f}%)\".format(\n",
        "              train_loss, total_correct, train_samples, \n",
        "             100. * total_correct / train_samples\n",
        "          ))\n",
        "\n",
        "\n",
        "def test(model, device, test_loader):\n",
        "    model.eval()\n",
        "    test_loss = 0\n",
        "    correct = 0\n",
        "    with torch.no_grad():\n",
        "        for data, target in test_loader:\n",
        "            data, target = data.to(device), target.to(device)\n",
        "            output = model(data)\n",
        "            test_loss += F.nll_loss(output, target, reduction='sum').item()  # sum up batch loss\n",
        "            pred = output.argmax(dim=1, keepdim=True)  # get the index of the max log-probability\n",
        "            correct += pred.eq(target.view_as(pred)).sum().item()\n",
        "\n",
        "    test_loss /= len(test_loader.dataset)\n",
        "\n",
        "    print('\\nTest set: Average loss: {:.4f}, Accuracy: {}/{} ({:.4f}%)'.format(\n",
        "        test_loss, correct, len(test_loader.dataset),\n",
        "        100. * correct / len(test_loader.dataset)))"
      ],
      "execution_count": 29,
      "outputs": []
    },
    {
      "cell_type": "code",
      "metadata": {
        "id": "MMWbLWO6FuHb",
        "colab": {
          "base_uri": "https://localhost:8080/"
        },
        "outputId": "79b74659-4b71-4845-9cae-e0cd374ecd7f"
      },
      "source": [
        "\n",
        "model = Net().to(device)\n",
        "optimizer = optim.SGD(model.parameters(), lr=0.01, momentum=0.9)\n",
        "\n",
        "for epoch in range(20):\n",
        "    train(model, device, train_loader, optimizer, epoch)\n",
        "    test(model, device, test_loader)"
      ],
      "execution_count": 30,
      "outputs": [
        {
          "output_type": "stream",
          "text": [
            "loss=0.07472019642591476 batch_id=468: 100%|██████████| 469/469 [00:13<00:00, 35.16it/s]"
          ],
          "name": "stderr"
        },
        {
          "output_type": "stream",
          "text": [
            "\n",
            "Train set: Total loss: 238.5517, Accuracy: 52214/60000 (87.0233%)\n"
          ],
          "name": "stdout"
        },
        {
          "output_type": "stream",
          "text": [
            "\n",
            "  0%|          | 0/469 [00:00<?, ?it/s]"
          ],
          "name": "stderr"
        },
        {
          "output_type": "stream",
          "text": [
            "\n",
            "Test set: Average loss: 0.1139, Accuracy: 9716/10000 (97.1600%)\n"
          ],
          "name": "stdout"
        },
        {
          "output_type": "stream",
          "text": [
            "loss=0.06288404017686844 batch_id=468: 100%|██████████| 469/469 [00:13<00:00, 35.75it/s]"
          ],
          "name": "stderr"
        },
        {
          "output_type": "stream",
          "text": [
            "\n",
            "Train set: Total loss: 37.9532, Accuracy: 58791/60000 (97.9850%)\n"
          ],
          "name": "stdout"
        },
        {
          "output_type": "stream",
          "text": [
            "\n",
            "  0%|          | 0/469 [00:00<?, ?it/s]"
          ],
          "name": "stderr"
        },
        {
          "output_type": "stream",
          "text": [
            "\n",
            "Test set: Average loss: 0.0791, Accuracy: 9760/10000 (97.6000%)\n"
          ],
          "name": "stdout"
        },
        {
          "output_type": "stream",
          "text": [
            "loss=0.026833562180399895 batch_id=468: 100%|██████████| 469/469 [00:13<00:00, 35.21it/s]\n"
          ],
          "name": "stderr"
        },
        {
          "output_type": "stream",
          "text": [
            "\n",
            "Train set: Total loss: 25.5929, Accuracy: 59138/60000 (98.5633%)\n"
          ],
          "name": "stdout"
        },
        {
          "output_type": "stream",
          "text": [
            "\r  0%|          | 0/469 [00:00<?, ?it/s]"
          ],
          "name": "stderr"
        },
        {
          "output_type": "stream",
          "text": [
            "\n",
            "Test set: Average loss: 0.0488, Accuracy: 9853/10000 (98.5300%)\n"
          ],
          "name": "stdout"
        },
        {
          "output_type": "stream",
          "text": [
            "loss=0.07381948083639145 batch_id=468: 100%|██████████| 469/469 [00:13<00:00, 35.70it/s]"
          ],
          "name": "stderr"
        },
        {
          "output_type": "stream",
          "text": [
            "\n",
            "Train set: Total loss: 21.2608, Accuracy: 59257/60000 (98.7617%)\n"
          ],
          "name": "stdout"
        },
        {
          "output_type": "stream",
          "text": [
            "\n",
            "  0%|          | 0/469 [00:00<?, ?it/s]"
          ],
          "name": "stderr"
        },
        {
          "output_type": "stream",
          "text": [
            "\n",
            "Test set: Average loss: 0.0437, Accuracy: 9872/10000 (98.7200%)\n"
          ],
          "name": "stdout"
        },
        {
          "output_type": "stream",
          "text": [
            "loss=0.04981610178947449 batch_id=468: 100%|██████████| 469/469 [00:13<00:00, 34.76it/s]\n"
          ],
          "name": "stderr"
        },
        {
          "output_type": "stream",
          "text": [
            "\n",
            "Train set: Total loss: 17.4659, Accuracy: 59374/60000 (98.9567%)\n"
          ],
          "name": "stdout"
        },
        {
          "output_type": "stream",
          "text": [
            "\r  0%|          | 0/469 [00:00<?, ?it/s]"
          ],
          "name": "stderr"
        },
        {
          "output_type": "stream",
          "text": [
            "\n",
            "Test set: Average loss: 0.0404, Accuracy: 9881/10000 (98.8100%)\n"
          ],
          "name": "stdout"
        },
        {
          "output_type": "stream",
          "text": [
            "loss=0.014395095407962799 batch_id=468: 100%|██████████| 469/469 [00:13<00:00, 34.82it/s]\n"
          ],
          "name": "stderr"
        },
        {
          "output_type": "stream",
          "text": [
            "\n",
            "Train set: Total loss: 15.0814, Accuracy: 59449/60000 (99.0817%)\n"
          ],
          "name": "stdout"
        },
        {
          "output_type": "stream",
          "text": [
            "\r  0%|          | 0/469 [00:00<?, ?it/s]"
          ],
          "name": "stderr"
        },
        {
          "output_type": "stream",
          "text": [
            "\n",
            "Test set: Average loss: 0.0386, Accuracy: 9881/10000 (98.8100%)\n"
          ],
          "name": "stdout"
        },
        {
          "output_type": "stream",
          "text": [
            "loss=0.06447174400091171 batch_id=468: 100%|██████████| 469/469 [00:13<00:00, 35.14it/s]\n"
          ],
          "name": "stderr"
        },
        {
          "output_type": "stream",
          "text": [
            "\n",
            "Train set: Total loss: 13.4860, Accuracy: 59500/60000 (99.1667%)\n"
          ],
          "name": "stdout"
        },
        {
          "output_type": "stream",
          "text": [
            "\r  0%|          | 0/469 [00:00<?, ?it/s]"
          ],
          "name": "stderr"
        },
        {
          "output_type": "stream",
          "text": [
            "\n",
            "Test set: Average loss: 0.0279, Accuracy: 9916/10000 (99.1600%)\n"
          ],
          "name": "stdout"
        },
        {
          "output_type": "stream",
          "text": [
            "loss=0.12340594083070755 batch_id=468: 100%|██████████| 469/469 [00:13<00:00, 35.94it/s]\n"
          ],
          "name": "stderr"
        },
        {
          "output_type": "stream",
          "text": [
            "\n",
            "Train set: Total loss: 11.7996, Accuracy: 59558/60000 (99.2633%)\n"
          ],
          "name": "stdout"
        },
        {
          "output_type": "stream",
          "text": [
            "\r  0%|          | 0/469 [00:00<?, ?it/s]"
          ],
          "name": "stderr"
        },
        {
          "output_type": "stream",
          "text": [
            "\n",
            "Test set: Average loss: 0.0343, Accuracy: 9896/10000 (98.9600%)\n"
          ],
          "name": "stdout"
        },
        {
          "output_type": "stream",
          "text": [
            "loss=0.015774449333548546 batch_id=468: 100%|██████████| 469/469 [00:13<00:00, 34.95it/s]\n"
          ],
          "name": "stderr"
        },
        {
          "output_type": "stream",
          "text": [
            "\n",
            "Train set: Total loss: 11.2991, Accuracy: 59574/60000 (99.2900%)\n"
          ],
          "name": "stdout"
        },
        {
          "output_type": "stream",
          "text": [
            "\r  0%|          | 0/469 [00:00<?, ?it/s]"
          ],
          "name": "stderr"
        },
        {
          "output_type": "stream",
          "text": [
            "\n",
            "Test set: Average loss: 0.0365, Accuracy: 9884/10000 (98.8400%)\n"
          ],
          "name": "stdout"
        },
        {
          "output_type": "stream",
          "text": [
            "loss=0.005034306552261114 batch_id=468: 100%|██████████| 469/469 [00:13<00:00, 34.83it/s]\n"
          ],
          "name": "stderr"
        },
        {
          "output_type": "stream",
          "text": [
            "\n",
            "Train set: Total loss: 9.3643, Accuracy: 59661/60000 (99.4350%)\n"
          ],
          "name": "stdout"
        },
        {
          "output_type": "stream",
          "text": [
            "\r  0%|          | 0/469 [00:00<?, ?it/s]"
          ],
          "name": "stderr"
        },
        {
          "output_type": "stream",
          "text": [
            "\n",
            "Test set: Average loss: 0.0413, Accuracy: 9864/10000 (98.6400%)\n"
          ],
          "name": "stdout"
        },
        {
          "output_type": "stream",
          "text": [
            "loss=0.034961290657520294 batch_id=468: 100%|██████████| 469/469 [00:13<00:00, 34.83it/s]"
          ],
          "name": "stderr"
        },
        {
          "output_type": "stream",
          "text": [
            "\n",
            "Train set: Total loss: 9.2678, Accuracy: 59664/60000 (99.4400%)\n"
          ],
          "name": "stdout"
        },
        {
          "output_type": "stream",
          "text": [
            "\n",
            "  0%|          | 0/469 [00:00<?, ?it/s]"
          ],
          "name": "stderr"
        },
        {
          "output_type": "stream",
          "text": [
            "\n",
            "Test set: Average loss: 0.0349, Accuracy: 9876/10000 (98.7600%)\n"
          ],
          "name": "stdout"
        },
        {
          "output_type": "stream",
          "text": [
            "loss=0.017817707732319832 batch_id=468: 100%|██████████| 469/469 [00:13<00:00, 34.60it/s]\n"
          ],
          "name": "stderr"
        },
        {
          "output_type": "stream",
          "text": [
            "\n",
            "Train set: Total loss: 8.4039, Accuracy: 59684/60000 (99.4733%)\n"
          ],
          "name": "stdout"
        },
        {
          "output_type": "stream",
          "text": [
            "\r  0%|          | 0/469 [00:00<?, ?it/s]"
          ],
          "name": "stderr"
        },
        {
          "output_type": "stream",
          "text": [
            "\n",
            "Test set: Average loss: 0.0294, Accuracy: 9910/10000 (99.1000%)\n"
          ],
          "name": "stdout"
        },
        {
          "output_type": "stream",
          "text": [
            "loss=0.002823498100042343 batch_id=468: 100%|██████████| 469/469 [00:13<00:00, 35.78it/s]"
          ],
          "name": "stderr"
        },
        {
          "output_type": "stream",
          "text": [
            "\n",
            "Train set: Total loss: 7.7389, Accuracy: 59716/60000 (99.5267%)\n"
          ],
          "name": "stdout"
        },
        {
          "output_type": "stream",
          "text": [
            "\n",
            "  0%|          | 0/469 [00:00<?, ?it/s]"
          ],
          "name": "stderr"
        },
        {
          "output_type": "stream",
          "text": [
            "\n",
            "Test set: Average loss: 0.0353, Accuracy: 9881/10000 (98.8100%)\n"
          ],
          "name": "stdout"
        },
        {
          "output_type": "stream",
          "text": [
            "loss=0.013183001428842545 batch_id=468: 100%|██████████| 469/469 [00:13<00:00, 35.12it/s]"
          ],
          "name": "stderr"
        },
        {
          "output_type": "stream",
          "text": [
            "\n",
            "Train set: Total loss: 7.8248, Accuracy: 59715/60000 (99.5250%)\n"
          ],
          "name": "stdout"
        },
        {
          "output_type": "stream",
          "text": [
            "\n",
            "  0%|          | 0/469 [00:00<?, ?it/s]"
          ],
          "name": "stderr"
        },
        {
          "output_type": "stream",
          "text": [
            "\n",
            "Test set: Average loss: 0.0274, Accuracy: 9908/10000 (99.0800%)\n"
          ],
          "name": "stdout"
        },
        {
          "output_type": "stream",
          "text": [
            "loss=0.0015987054212018847 batch_id=468: 100%|██████████| 469/469 [00:13<00:00, 35.20it/s]"
          ],
          "name": "stderr"
        },
        {
          "output_type": "stream",
          "text": [
            "\n",
            "Train set: Total loss: 7.2605, Accuracy: 59725/60000 (99.5417%)\n"
          ],
          "name": "stdout"
        },
        {
          "output_type": "stream",
          "text": [
            "\n",
            "  0%|          | 0/469 [00:00<?, ?it/s]"
          ],
          "name": "stderr"
        },
        {
          "output_type": "stream",
          "text": [
            "\n",
            "Test set: Average loss: 0.0265, Accuracy: 9910/10000 (99.1000%)\n"
          ],
          "name": "stdout"
        },
        {
          "output_type": "stream",
          "text": [
            "loss=0.03127681463956833 batch_id=468: 100%|██████████| 469/469 [00:13<00:00, 35.27it/s]"
          ],
          "name": "stderr"
        },
        {
          "output_type": "stream",
          "text": [
            "\n",
            "Train set: Total loss: 5.9633, Accuracy: 59781/60000 (99.6350%)\n"
          ],
          "name": "stdout"
        },
        {
          "output_type": "stream",
          "text": [
            "\n",
            "  0%|          | 0/469 [00:00<?, ?it/s]"
          ],
          "name": "stderr"
        },
        {
          "output_type": "stream",
          "text": [
            "\n",
            "Test set: Average loss: 0.0284, Accuracy: 9898/10000 (98.9800%)\n"
          ],
          "name": "stdout"
        },
        {
          "output_type": "stream",
          "text": [
            "loss=0.025044942274689674 batch_id=468: 100%|██████████| 469/469 [00:13<00:00, 35.33it/s]"
          ],
          "name": "stderr"
        },
        {
          "output_type": "stream",
          "text": [
            "\n",
            "Train set: Total loss: 6.5159, Accuracy: 59752/60000 (99.5867%)\n"
          ],
          "name": "stdout"
        },
        {
          "output_type": "stream",
          "text": [
            "\n",
            "  0%|          | 0/469 [00:00<?, ?it/s]"
          ],
          "name": "stderr"
        },
        {
          "output_type": "stream",
          "text": [
            "\n",
            "Test set: Average loss: 0.0351, Accuracy: 9893/10000 (98.9300%)\n"
          ],
          "name": "stdout"
        },
        {
          "output_type": "stream",
          "text": [
            "loss=0.0031260161194950342 batch_id=468: 100%|██████████| 469/469 [00:13<00:00, 35.14it/s]"
          ],
          "name": "stderr"
        },
        {
          "output_type": "stream",
          "text": [
            "\n",
            "Train set: Total loss: 6.0863, Accuracy: 59784/60000 (99.6400%)\n"
          ],
          "name": "stdout"
        },
        {
          "output_type": "stream",
          "text": [
            "\n",
            "  0%|          | 0/469 [00:00<?, ?it/s]"
          ],
          "name": "stderr"
        },
        {
          "output_type": "stream",
          "text": [
            "\n",
            "Test set: Average loss: 0.0253, Accuracy: 9920/10000 (99.2000%)\n"
          ],
          "name": "stdout"
        },
        {
          "output_type": "stream",
          "text": [
            "loss=0.004374627955257893 batch_id=468: 100%|██████████| 469/469 [00:13<00:00, 35.73it/s]"
          ],
          "name": "stderr"
        },
        {
          "output_type": "stream",
          "text": [
            "\n",
            "Train set: Total loss: 5.4056, Accuracy: 59821/60000 (99.7017%)\n"
          ],
          "name": "stdout"
        },
        {
          "output_type": "stream",
          "text": [
            "\n",
            "  0%|          | 0/469 [00:00<?, ?it/s]"
          ],
          "name": "stderr"
        },
        {
          "output_type": "stream",
          "text": [
            "\n",
            "Test set: Average loss: 0.0311, Accuracy: 9897/10000 (98.9700%)\n"
          ],
          "name": "stdout"
        },
        {
          "output_type": "stream",
          "text": [
            "loss=0.001021788688376546 batch_id=468: 100%|██████████| 469/469 [00:13<00:00, 35.81it/s]"
          ],
          "name": "stderr"
        },
        {
          "output_type": "stream",
          "text": [
            "\n",
            "Train set: Total loss: 5.6713, Accuracy: 59783/60000 (99.6383%)\n"
          ],
          "name": "stdout"
        },
        {
          "output_type": "stream",
          "text": [
            "\n"
          ],
          "name": "stderr"
        },
        {
          "output_type": "stream",
          "text": [
            "\n",
            "Test set: Average loss: 0.0250, Accuracy: 9917/10000 (99.1700%)\n"
          ],
          "name": "stdout"
        }
      ]
    },
    {
      "cell_type": "code",
      "metadata": {
        "id": "KdVzgnRFCP2R"
      },
      "source": [
        ""
      ],
      "execution_count": 30,
      "outputs": []
    }
  ]
}