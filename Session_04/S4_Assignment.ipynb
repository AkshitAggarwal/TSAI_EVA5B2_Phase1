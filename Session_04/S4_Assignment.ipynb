{
  "nbformat": 4,
  "nbformat_minor": 0,
  "metadata": {
    "colab": {
      "name": "EVA4 - Session 2.ipynb",
      "provenance": [],
      "include_colab_link": true
    },
    "kernelspec": {
      "name": "python3",
      "display_name": "Python 3"
    },
    "widgets": {
      "application/vnd.jupyter.widget-state+json": {
        "01cbdbcb5efa4e1aa54abbb5832dfad7": {
          "model_module": "@jupyter-widgets/controls",
          "model_name": "HBoxModel",
          "state": {
            "_view_name": "HBoxView",
            "_dom_classes": [],
            "_model_name": "HBoxModel",
            "_view_module": "@jupyter-widgets/controls",
            "_model_module_version": "1.5.0",
            "_view_count": null,
            "_view_module_version": "1.5.0",
            "box_style": "",
            "layout": "IPY_MODEL_09ac343e2fd94849b3a733b31238160c",
            "_model_module": "@jupyter-widgets/controls",
            "children": [
              "IPY_MODEL_50a3aa088f304f468ca7b26a9effc2e6",
              "IPY_MODEL_ca73d3326c6a43728797158f06eef3fa"
            ]
          }
        },
        "09ac343e2fd94849b3a733b31238160c": {
          "model_module": "@jupyter-widgets/base",
          "model_name": "LayoutModel",
          "state": {
            "_view_name": "LayoutView",
            "grid_template_rows": null,
            "right": null,
            "justify_content": null,
            "_view_module": "@jupyter-widgets/base",
            "overflow": null,
            "_model_module_version": "1.2.0",
            "_view_count": null,
            "flex_flow": null,
            "width": null,
            "min_width": null,
            "border": null,
            "align_items": null,
            "bottom": null,
            "_model_module": "@jupyter-widgets/base",
            "top": null,
            "grid_column": null,
            "overflow_y": null,
            "overflow_x": null,
            "grid_auto_flow": null,
            "grid_area": null,
            "grid_template_columns": null,
            "flex": null,
            "_model_name": "LayoutModel",
            "justify_items": null,
            "grid_row": null,
            "max_height": null,
            "align_content": null,
            "visibility": null,
            "align_self": null,
            "height": null,
            "min_height": null,
            "padding": null,
            "grid_auto_rows": null,
            "grid_gap": null,
            "max_width": null,
            "order": null,
            "_view_module_version": "1.2.0",
            "grid_template_areas": null,
            "object_position": null,
            "object_fit": null,
            "grid_auto_columns": null,
            "margin": null,
            "display": null,
            "left": null
          }
        },
        "50a3aa088f304f468ca7b26a9effc2e6": {
          "model_module": "@jupyter-widgets/controls",
          "model_name": "FloatProgressModel",
          "state": {
            "_view_name": "ProgressView",
            "style": "IPY_MODEL_a028d3debd0848b9bcae3c05ac09612e",
            "_dom_classes": [],
            "description": "",
            "_model_name": "FloatProgressModel",
            "bar_style": "info",
            "max": 1,
            "_view_module": "@jupyter-widgets/controls",
            "_model_module_version": "1.5.0",
            "value": 1,
            "_view_count": null,
            "_view_module_version": "1.5.0",
            "orientation": "horizontal",
            "min": 0,
            "description_tooltip": null,
            "_model_module": "@jupyter-widgets/controls",
            "layout": "IPY_MODEL_412b3914f2ab4ad5837d9bc8507499f7"
          }
        },
        "ca73d3326c6a43728797158f06eef3fa": {
          "model_module": "@jupyter-widgets/controls",
          "model_name": "HTMLModel",
          "state": {
            "_view_name": "HTMLView",
            "style": "IPY_MODEL_858f7dca838241a3877c086ff022a0d4",
            "_dom_classes": [],
            "description": "",
            "_model_name": "HTMLModel",
            "placeholder": "​",
            "_view_module": "@jupyter-widgets/controls",
            "_model_module_version": "1.5.0",
            "value": " 9920512/? [00:20&lt;00:00, 950403.55it/s]",
            "_view_count": null,
            "_view_module_version": "1.5.0",
            "description_tooltip": null,
            "_model_module": "@jupyter-widgets/controls",
            "layout": "IPY_MODEL_c4e68d71802842279cf6dcf1963cb0ff"
          }
        },
        "a028d3debd0848b9bcae3c05ac09612e": {
          "model_module": "@jupyter-widgets/controls",
          "model_name": "ProgressStyleModel",
          "state": {
            "_view_name": "StyleView",
            "_model_name": "ProgressStyleModel",
            "description_width": "initial",
            "_view_module": "@jupyter-widgets/base",
            "_model_module_version": "1.5.0",
            "_view_count": null,
            "_view_module_version": "1.2.0",
            "bar_color": null,
            "_model_module": "@jupyter-widgets/controls"
          }
        },
        "412b3914f2ab4ad5837d9bc8507499f7": {
          "model_module": "@jupyter-widgets/base",
          "model_name": "LayoutModel",
          "state": {
            "_view_name": "LayoutView",
            "grid_template_rows": null,
            "right": null,
            "justify_content": null,
            "_view_module": "@jupyter-widgets/base",
            "overflow": null,
            "_model_module_version": "1.2.0",
            "_view_count": null,
            "flex_flow": null,
            "width": null,
            "min_width": null,
            "border": null,
            "align_items": null,
            "bottom": null,
            "_model_module": "@jupyter-widgets/base",
            "top": null,
            "grid_column": null,
            "overflow_y": null,
            "overflow_x": null,
            "grid_auto_flow": null,
            "grid_area": null,
            "grid_template_columns": null,
            "flex": null,
            "_model_name": "LayoutModel",
            "justify_items": null,
            "grid_row": null,
            "max_height": null,
            "align_content": null,
            "visibility": null,
            "align_self": null,
            "height": null,
            "min_height": null,
            "padding": null,
            "grid_auto_rows": null,
            "grid_gap": null,
            "max_width": null,
            "order": null,
            "_view_module_version": "1.2.0",
            "grid_template_areas": null,
            "object_position": null,
            "object_fit": null,
            "grid_auto_columns": null,
            "margin": null,
            "display": null,
            "left": null
          }
        },
        "858f7dca838241a3877c086ff022a0d4": {
          "model_module": "@jupyter-widgets/controls",
          "model_name": "DescriptionStyleModel",
          "state": {
            "_view_name": "StyleView",
            "_model_name": "DescriptionStyleModel",
            "description_width": "",
            "_view_module": "@jupyter-widgets/base",
            "_model_module_version": "1.5.0",
            "_view_count": null,
            "_view_module_version": "1.2.0",
            "_model_module": "@jupyter-widgets/controls"
          }
        },
        "c4e68d71802842279cf6dcf1963cb0ff": {
          "model_module": "@jupyter-widgets/base",
          "model_name": "LayoutModel",
          "state": {
            "_view_name": "LayoutView",
            "grid_template_rows": null,
            "right": null,
            "justify_content": null,
            "_view_module": "@jupyter-widgets/base",
            "overflow": null,
            "_model_module_version": "1.2.0",
            "_view_count": null,
            "flex_flow": null,
            "width": null,
            "min_width": null,
            "border": null,
            "align_items": null,
            "bottom": null,
            "_model_module": "@jupyter-widgets/base",
            "top": null,
            "grid_column": null,
            "overflow_y": null,
            "overflow_x": null,
            "grid_auto_flow": null,
            "grid_area": null,
            "grid_template_columns": null,
            "flex": null,
            "_model_name": "LayoutModel",
            "justify_items": null,
            "grid_row": null,
            "max_height": null,
            "align_content": null,
            "visibility": null,
            "align_self": null,
            "height": null,
            "min_height": null,
            "padding": null,
            "grid_auto_rows": null,
            "grid_gap": null,
            "max_width": null,
            "order": null,
            "_view_module_version": "1.2.0",
            "grid_template_areas": null,
            "object_position": null,
            "object_fit": null,
            "grid_auto_columns": null,
            "margin": null,
            "display": null,
            "left": null
          }
        },
        "0787fcc2d78e4af0b53481ffdbf93d3b": {
          "model_module": "@jupyter-widgets/controls",
          "model_name": "HBoxModel",
          "state": {
            "_view_name": "HBoxView",
            "_dom_classes": [],
            "_model_name": "HBoxModel",
            "_view_module": "@jupyter-widgets/controls",
            "_model_module_version": "1.5.0",
            "_view_count": null,
            "_view_module_version": "1.5.0",
            "box_style": "",
            "layout": "IPY_MODEL_16fab804d6af4a15bc2a3ba9fcf32b9d",
            "_model_module": "@jupyter-widgets/controls",
            "children": [
              "IPY_MODEL_6e62a05af5154136bb8d600526f821e5",
              "IPY_MODEL_c0900d22a51b420694d32785d9c50e18"
            ]
          }
        },
        "16fab804d6af4a15bc2a3ba9fcf32b9d": {
          "model_module": "@jupyter-widgets/base",
          "model_name": "LayoutModel",
          "state": {
            "_view_name": "LayoutView",
            "grid_template_rows": null,
            "right": null,
            "justify_content": null,
            "_view_module": "@jupyter-widgets/base",
            "overflow": null,
            "_model_module_version": "1.2.0",
            "_view_count": null,
            "flex_flow": null,
            "width": null,
            "min_width": null,
            "border": null,
            "align_items": null,
            "bottom": null,
            "_model_module": "@jupyter-widgets/base",
            "top": null,
            "grid_column": null,
            "overflow_y": null,
            "overflow_x": null,
            "grid_auto_flow": null,
            "grid_area": null,
            "grid_template_columns": null,
            "flex": null,
            "_model_name": "LayoutModel",
            "justify_items": null,
            "grid_row": null,
            "max_height": null,
            "align_content": null,
            "visibility": null,
            "align_self": null,
            "height": null,
            "min_height": null,
            "padding": null,
            "grid_auto_rows": null,
            "grid_gap": null,
            "max_width": null,
            "order": null,
            "_view_module_version": "1.2.0",
            "grid_template_areas": null,
            "object_position": null,
            "object_fit": null,
            "grid_auto_columns": null,
            "margin": null,
            "display": null,
            "left": null
          }
        },
        "6e62a05af5154136bb8d600526f821e5": {
          "model_module": "@jupyter-widgets/controls",
          "model_name": "FloatProgressModel",
          "state": {
            "_view_name": "ProgressView",
            "style": "IPY_MODEL_16a0a6fcb12d421c844427d6f01babf0",
            "_dom_classes": [],
            "description": "",
            "_model_name": "FloatProgressModel",
            "bar_style": "success",
            "max": 1,
            "_view_module": "@jupyter-widgets/controls",
            "_model_module_version": "1.5.0",
            "value": 1,
            "_view_count": null,
            "_view_module_version": "1.5.0",
            "orientation": "horizontal",
            "min": 0,
            "description_tooltip": null,
            "_model_module": "@jupyter-widgets/controls",
            "layout": "IPY_MODEL_08dfbb1a10f84d1bb79515853ef60aa0"
          }
        },
        "c0900d22a51b420694d32785d9c50e18": {
          "model_module": "@jupyter-widgets/controls",
          "model_name": "HTMLModel",
          "state": {
            "_view_name": "HTMLView",
            "style": "IPY_MODEL_7ff9129c500e42aa9318696e9808e68c",
            "_dom_classes": [],
            "description": "",
            "_model_name": "HTMLModel",
            "placeholder": "​",
            "_view_module": "@jupyter-widgets/controls",
            "_model_module_version": "1.5.0",
            "value": " 32768/? [00:01&lt;00:00, 19786.05it/s]",
            "_view_count": null,
            "_view_module_version": "1.5.0",
            "description_tooltip": null,
            "_model_module": "@jupyter-widgets/controls",
            "layout": "IPY_MODEL_bb346bb8a7ac491bae17f79501b86521"
          }
        },
        "16a0a6fcb12d421c844427d6f01babf0": {
          "model_module": "@jupyter-widgets/controls",
          "model_name": "ProgressStyleModel",
          "state": {
            "_view_name": "StyleView",
            "_model_name": "ProgressStyleModel",
            "description_width": "initial",
            "_view_module": "@jupyter-widgets/base",
            "_model_module_version": "1.5.0",
            "_view_count": null,
            "_view_module_version": "1.2.0",
            "bar_color": null,
            "_model_module": "@jupyter-widgets/controls"
          }
        },
        "08dfbb1a10f84d1bb79515853ef60aa0": {
          "model_module": "@jupyter-widgets/base",
          "model_name": "LayoutModel",
          "state": {
            "_view_name": "LayoutView",
            "grid_template_rows": null,
            "right": null,
            "justify_content": null,
            "_view_module": "@jupyter-widgets/base",
            "overflow": null,
            "_model_module_version": "1.2.0",
            "_view_count": null,
            "flex_flow": null,
            "width": null,
            "min_width": null,
            "border": null,
            "align_items": null,
            "bottom": null,
            "_model_module": "@jupyter-widgets/base",
            "top": null,
            "grid_column": null,
            "overflow_y": null,
            "overflow_x": null,
            "grid_auto_flow": null,
            "grid_area": null,
            "grid_template_columns": null,
            "flex": null,
            "_model_name": "LayoutModel",
            "justify_items": null,
            "grid_row": null,
            "max_height": null,
            "align_content": null,
            "visibility": null,
            "align_self": null,
            "height": null,
            "min_height": null,
            "padding": null,
            "grid_auto_rows": null,
            "grid_gap": null,
            "max_width": null,
            "order": null,
            "_view_module_version": "1.2.0",
            "grid_template_areas": null,
            "object_position": null,
            "object_fit": null,
            "grid_auto_columns": null,
            "margin": null,
            "display": null,
            "left": null
          }
        },
        "7ff9129c500e42aa9318696e9808e68c": {
          "model_module": "@jupyter-widgets/controls",
          "model_name": "DescriptionStyleModel",
          "state": {
            "_view_name": "StyleView",
            "_model_name": "DescriptionStyleModel",
            "description_width": "",
            "_view_module": "@jupyter-widgets/base",
            "_model_module_version": "1.5.0",
            "_view_count": null,
            "_view_module_version": "1.2.0",
            "_model_module": "@jupyter-widgets/controls"
          }
        },
        "bb346bb8a7ac491bae17f79501b86521": {
          "model_module": "@jupyter-widgets/base",
          "model_name": "LayoutModel",
          "state": {
            "_view_name": "LayoutView",
            "grid_template_rows": null,
            "right": null,
            "justify_content": null,
            "_view_module": "@jupyter-widgets/base",
            "overflow": null,
            "_model_module_version": "1.2.0",
            "_view_count": null,
            "flex_flow": null,
            "width": null,
            "min_width": null,
            "border": null,
            "align_items": null,
            "bottom": null,
            "_model_module": "@jupyter-widgets/base",
            "top": null,
            "grid_column": null,
            "overflow_y": null,
            "overflow_x": null,
            "grid_auto_flow": null,
            "grid_area": null,
            "grid_template_columns": null,
            "flex": null,
            "_model_name": "LayoutModel",
            "justify_items": null,
            "grid_row": null,
            "max_height": null,
            "align_content": null,
            "visibility": null,
            "align_self": null,
            "height": null,
            "min_height": null,
            "padding": null,
            "grid_auto_rows": null,
            "grid_gap": null,
            "max_width": null,
            "order": null,
            "_view_module_version": "1.2.0",
            "grid_template_areas": null,
            "object_position": null,
            "object_fit": null,
            "grid_auto_columns": null,
            "margin": null,
            "display": null,
            "left": null
          }
        },
        "d10e2f84d9df4960b511da176fab8af1": {
          "model_module": "@jupyter-widgets/controls",
          "model_name": "HBoxModel",
          "state": {
            "_view_name": "HBoxView",
            "_dom_classes": [],
            "_model_name": "HBoxModel",
            "_view_module": "@jupyter-widgets/controls",
            "_model_module_version": "1.5.0",
            "_view_count": null,
            "_view_module_version": "1.5.0",
            "box_style": "",
            "layout": "IPY_MODEL_0e6c4c24b52948169f0e51f89c34d0d2",
            "_model_module": "@jupyter-widgets/controls",
            "children": [
              "IPY_MODEL_07ea04a29ac9418d9e26995e413298f4",
              "IPY_MODEL_f06c0568a4d640aa836bbd8b12671ad0"
            ]
          }
        },
        "0e6c4c24b52948169f0e51f89c34d0d2": {
          "model_module": "@jupyter-widgets/base",
          "model_name": "LayoutModel",
          "state": {
            "_view_name": "LayoutView",
            "grid_template_rows": null,
            "right": null,
            "justify_content": null,
            "_view_module": "@jupyter-widgets/base",
            "overflow": null,
            "_model_module_version": "1.2.0",
            "_view_count": null,
            "flex_flow": null,
            "width": null,
            "min_width": null,
            "border": null,
            "align_items": null,
            "bottom": null,
            "_model_module": "@jupyter-widgets/base",
            "top": null,
            "grid_column": null,
            "overflow_y": null,
            "overflow_x": null,
            "grid_auto_flow": null,
            "grid_area": null,
            "grid_template_columns": null,
            "flex": null,
            "_model_name": "LayoutModel",
            "justify_items": null,
            "grid_row": null,
            "max_height": null,
            "align_content": null,
            "visibility": null,
            "align_self": null,
            "height": null,
            "min_height": null,
            "padding": null,
            "grid_auto_rows": null,
            "grid_gap": null,
            "max_width": null,
            "order": null,
            "_view_module_version": "1.2.0",
            "grid_template_areas": null,
            "object_position": null,
            "object_fit": null,
            "grid_auto_columns": null,
            "margin": null,
            "display": null,
            "left": null
          }
        },
        "07ea04a29ac9418d9e26995e413298f4": {
          "model_module": "@jupyter-widgets/controls",
          "model_name": "FloatProgressModel",
          "state": {
            "_view_name": "ProgressView",
            "style": "IPY_MODEL_6cda15398173470784e2bf286d2e5980",
            "_dom_classes": [],
            "description": "",
            "_model_name": "FloatProgressModel",
            "bar_style": "success",
            "max": 1,
            "_view_module": "@jupyter-widgets/controls",
            "_model_module_version": "1.5.0",
            "value": 1,
            "_view_count": null,
            "_view_module_version": "1.5.0",
            "orientation": "horizontal",
            "min": 0,
            "description_tooltip": null,
            "_model_module": "@jupyter-widgets/controls",
            "layout": "IPY_MODEL_4e092807a5d24de6993782eeb2bd6cca"
          }
        },
        "f06c0568a4d640aa836bbd8b12671ad0": {
          "model_module": "@jupyter-widgets/controls",
          "model_name": "HTMLModel",
          "state": {
            "_view_name": "HTMLView",
            "style": "IPY_MODEL_fd5dae5716a54fb5be77c79469e7362d",
            "_dom_classes": [],
            "description": "",
            "_model_name": "HTMLModel",
            "placeholder": "​",
            "_view_module": "@jupyter-widgets/controls",
            "_model_module_version": "1.5.0",
            "value": " 1654784/? [00:01&lt;00:00, 1233263.64it/s]",
            "_view_count": null,
            "_view_module_version": "1.5.0",
            "description_tooltip": null,
            "_model_module": "@jupyter-widgets/controls",
            "layout": "IPY_MODEL_c507f60114954814bceebd83a5370843"
          }
        },
        "6cda15398173470784e2bf286d2e5980": {
          "model_module": "@jupyter-widgets/controls",
          "model_name": "ProgressStyleModel",
          "state": {
            "_view_name": "StyleView",
            "_model_name": "ProgressStyleModel",
            "description_width": "initial",
            "_view_module": "@jupyter-widgets/base",
            "_model_module_version": "1.5.0",
            "_view_count": null,
            "_view_module_version": "1.2.0",
            "bar_color": null,
            "_model_module": "@jupyter-widgets/controls"
          }
        },
        "4e092807a5d24de6993782eeb2bd6cca": {
          "model_module": "@jupyter-widgets/base",
          "model_name": "LayoutModel",
          "state": {
            "_view_name": "LayoutView",
            "grid_template_rows": null,
            "right": null,
            "justify_content": null,
            "_view_module": "@jupyter-widgets/base",
            "overflow": null,
            "_model_module_version": "1.2.0",
            "_view_count": null,
            "flex_flow": null,
            "width": null,
            "min_width": null,
            "border": null,
            "align_items": null,
            "bottom": null,
            "_model_module": "@jupyter-widgets/base",
            "top": null,
            "grid_column": null,
            "overflow_y": null,
            "overflow_x": null,
            "grid_auto_flow": null,
            "grid_area": null,
            "grid_template_columns": null,
            "flex": null,
            "_model_name": "LayoutModel",
            "justify_items": null,
            "grid_row": null,
            "max_height": null,
            "align_content": null,
            "visibility": null,
            "align_self": null,
            "height": null,
            "min_height": null,
            "padding": null,
            "grid_auto_rows": null,
            "grid_gap": null,
            "max_width": null,
            "order": null,
            "_view_module_version": "1.2.0",
            "grid_template_areas": null,
            "object_position": null,
            "object_fit": null,
            "grid_auto_columns": null,
            "margin": null,
            "display": null,
            "left": null
          }
        },
        "fd5dae5716a54fb5be77c79469e7362d": {
          "model_module": "@jupyter-widgets/controls",
          "model_name": "DescriptionStyleModel",
          "state": {
            "_view_name": "StyleView",
            "_model_name": "DescriptionStyleModel",
            "description_width": "",
            "_view_module": "@jupyter-widgets/base",
            "_model_module_version": "1.5.0",
            "_view_count": null,
            "_view_module_version": "1.2.0",
            "_model_module": "@jupyter-widgets/controls"
          }
        },
        "c507f60114954814bceebd83a5370843": {
          "model_module": "@jupyter-widgets/base",
          "model_name": "LayoutModel",
          "state": {
            "_view_name": "LayoutView",
            "grid_template_rows": null,
            "right": null,
            "justify_content": null,
            "_view_module": "@jupyter-widgets/base",
            "overflow": null,
            "_model_module_version": "1.2.0",
            "_view_count": null,
            "flex_flow": null,
            "width": null,
            "min_width": null,
            "border": null,
            "align_items": null,
            "bottom": null,
            "_model_module": "@jupyter-widgets/base",
            "top": null,
            "grid_column": null,
            "overflow_y": null,
            "overflow_x": null,
            "grid_auto_flow": null,
            "grid_area": null,
            "grid_template_columns": null,
            "flex": null,
            "_model_name": "LayoutModel",
            "justify_items": null,
            "grid_row": null,
            "max_height": null,
            "align_content": null,
            "visibility": null,
            "align_self": null,
            "height": null,
            "min_height": null,
            "padding": null,
            "grid_auto_rows": null,
            "grid_gap": null,
            "max_width": null,
            "order": null,
            "_view_module_version": "1.2.0",
            "grid_template_areas": null,
            "object_position": null,
            "object_fit": null,
            "grid_auto_columns": null,
            "margin": null,
            "display": null,
            "left": null
          }
        },
        "e330726b19534930bab0051de24b9e6e": {
          "model_module": "@jupyter-widgets/controls",
          "model_name": "HBoxModel",
          "state": {
            "_view_name": "HBoxView",
            "_dom_classes": [],
            "_model_name": "HBoxModel",
            "_view_module": "@jupyter-widgets/controls",
            "_model_module_version": "1.5.0",
            "_view_count": null,
            "_view_module_version": "1.5.0",
            "box_style": "",
            "layout": "IPY_MODEL_e2d5dca4c28f4360a2a22e91c0108986",
            "_model_module": "@jupyter-widgets/controls",
            "children": [
              "IPY_MODEL_81120f1234f64b4a8219733464e2a953",
              "IPY_MODEL_cb153a92931048dfa83ed41b47dab22b"
            ]
          }
        },
        "e2d5dca4c28f4360a2a22e91c0108986": {
          "model_module": "@jupyter-widgets/base",
          "model_name": "LayoutModel",
          "state": {
            "_view_name": "LayoutView",
            "grid_template_rows": null,
            "right": null,
            "justify_content": null,
            "_view_module": "@jupyter-widgets/base",
            "overflow": null,
            "_model_module_version": "1.2.0",
            "_view_count": null,
            "flex_flow": null,
            "width": null,
            "min_width": null,
            "border": null,
            "align_items": null,
            "bottom": null,
            "_model_module": "@jupyter-widgets/base",
            "top": null,
            "grid_column": null,
            "overflow_y": null,
            "overflow_x": null,
            "grid_auto_flow": null,
            "grid_area": null,
            "grid_template_columns": null,
            "flex": null,
            "_model_name": "LayoutModel",
            "justify_items": null,
            "grid_row": null,
            "max_height": null,
            "align_content": null,
            "visibility": null,
            "align_self": null,
            "height": null,
            "min_height": null,
            "padding": null,
            "grid_auto_rows": null,
            "grid_gap": null,
            "max_width": null,
            "order": null,
            "_view_module_version": "1.2.0",
            "grid_template_areas": null,
            "object_position": null,
            "object_fit": null,
            "grid_auto_columns": null,
            "margin": null,
            "display": null,
            "left": null
          }
        },
        "81120f1234f64b4a8219733464e2a953": {
          "model_module": "@jupyter-widgets/controls",
          "model_name": "FloatProgressModel",
          "state": {
            "_view_name": "ProgressView",
            "style": "IPY_MODEL_1c133243431c40999183da4c2d9c0323",
            "_dom_classes": [],
            "description": "",
            "_model_name": "FloatProgressModel",
            "bar_style": "success",
            "max": 1,
            "_view_module": "@jupyter-widgets/controls",
            "_model_module_version": "1.5.0",
            "value": 1,
            "_view_count": null,
            "_view_module_version": "1.5.0",
            "orientation": "horizontal",
            "min": 0,
            "description_tooltip": null,
            "_model_module": "@jupyter-widgets/controls",
            "layout": "IPY_MODEL_ef0af892f4c04463835982c80c3faac3"
          }
        },
        "cb153a92931048dfa83ed41b47dab22b": {
          "model_module": "@jupyter-widgets/controls",
          "model_name": "HTMLModel",
          "state": {
            "_view_name": "HTMLView",
            "style": "IPY_MODEL_69f9a885e0b541839da3bbf43138cf6b",
            "_dom_classes": [],
            "description": "",
            "_model_name": "HTMLModel",
            "placeholder": "​",
            "_view_module": "@jupyter-widgets/controls",
            "_model_module_version": "1.5.0",
            "value": " 8192/? [00:00&lt;00:00, 16378.20it/s]",
            "_view_count": null,
            "_view_module_version": "1.5.0",
            "description_tooltip": null,
            "_model_module": "@jupyter-widgets/controls",
            "layout": "IPY_MODEL_cb4fdd75786d4f6c8c1334bea3c2f87a"
          }
        },
        "1c133243431c40999183da4c2d9c0323": {
          "model_module": "@jupyter-widgets/controls",
          "model_name": "ProgressStyleModel",
          "state": {
            "_view_name": "StyleView",
            "_model_name": "ProgressStyleModel",
            "description_width": "initial",
            "_view_module": "@jupyter-widgets/base",
            "_model_module_version": "1.5.0",
            "_view_count": null,
            "_view_module_version": "1.2.0",
            "bar_color": null,
            "_model_module": "@jupyter-widgets/controls"
          }
        },
        "ef0af892f4c04463835982c80c3faac3": {
          "model_module": "@jupyter-widgets/base",
          "model_name": "LayoutModel",
          "state": {
            "_view_name": "LayoutView",
            "grid_template_rows": null,
            "right": null,
            "justify_content": null,
            "_view_module": "@jupyter-widgets/base",
            "overflow": null,
            "_model_module_version": "1.2.0",
            "_view_count": null,
            "flex_flow": null,
            "width": null,
            "min_width": null,
            "border": null,
            "align_items": null,
            "bottom": null,
            "_model_module": "@jupyter-widgets/base",
            "top": null,
            "grid_column": null,
            "overflow_y": null,
            "overflow_x": null,
            "grid_auto_flow": null,
            "grid_area": null,
            "grid_template_columns": null,
            "flex": null,
            "_model_name": "LayoutModel",
            "justify_items": null,
            "grid_row": null,
            "max_height": null,
            "align_content": null,
            "visibility": null,
            "align_self": null,
            "height": null,
            "min_height": null,
            "padding": null,
            "grid_auto_rows": null,
            "grid_gap": null,
            "max_width": null,
            "order": null,
            "_view_module_version": "1.2.0",
            "grid_template_areas": null,
            "object_position": null,
            "object_fit": null,
            "grid_auto_columns": null,
            "margin": null,
            "display": null,
            "left": null
          }
        },
        "69f9a885e0b541839da3bbf43138cf6b": {
          "model_module": "@jupyter-widgets/controls",
          "model_name": "DescriptionStyleModel",
          "state": {
            "_view_name": "StyleView",
            "_model_name": "DescriptionStyleModel",
            "description_width": "",
            "_view_module": "@jupyter-widgets/base",
            "_model_module_version": "1.5.0",
            "_view_count": null,
            "_view_module_version": "1.2.0",
            "_model_module": "@jupyter-widgets/controls"
          }
        },
        "cb4fdd75786d4f6c8c1334bea3c2f87a": {
          "model_module": "@jupyter-widgets/base",
          "model_name": "LayoutModel",
          "state": {
            "_view_name": "LayoutView",
            "grid_template_rows": null,
            "right": null,
            "justify_content": null,
            "_view_module": "@jupyter-widgets/base",
            "overflow": null,
            "_model_module_version": "1.2.0",
            "_view_count": null,
            "flex_flow": null,
            "width": null,
            "min_width": null,
            "border": null,
            "align_items": null,
            "bottom": null,
            "_model_module": "@jupyter-widgets/base",
            "top": null,
            "grid_column": null,
            "overflow_y": null,
            "overflow_x": null,
            "grid_auto_flow": null,
            "grid_area": null,
            "grid_template_columns": null,
            "flex": null,
            "_model_name": "LayoutModel",
            "justify_items": null,
            "grid_row": null,
            "max_height": null,
            "align_content": null,
            "visibility": null,
            "align_self": null,
            "height": null,
            "min_height": null,
            "padding": null,
            "grid_auto_rows": null,
            "grid_gap": null,
            "max_width": null,
            "order": null,
            "_view_module_version": "1.2.0",
            "grid_template_areas": null,
            "object_position": null,
            "object_fit": null,
            "grid_auto_columns": null,
            "margin": null,
            "display": null,
            "left": null
          }
        }
      }
    },
    "accelerator": "GPU"
  },
  "cells": [
    {
      "cell_type": "markdown",
      "metadata": {
        "id": "view-in-github",
        "colab_type": "text"
      },
      "source": [
        "<a href=\"https://colab.research.google.com/github/AkshitAggarwal/TSAI_EVA5B2_Phase1/blob/main/Session_04/S4_Assignment.ipynb\" target=\"_parent\"><img src=\"https://colab.research.google.com/assets/colab-badge.svg\" alt=\"Open In Colab\"/></a>"
      ]
    },
    {
      "cell_type": "markdown",
      "metadata": {
        "id": "KPHO5fYXjjg2"
      },
      "source": [
        "Imports all necessary libraries and methods from Pytorch. "
      ]
    },
    {
      "cell_type": "code",
      "metadata": {
        "id": "0m2JWFliFfKT"
      },
      "source": [
        "from __future__ import print_function\n",
        "import torch\n",
        "import torch.nn as nn\n",
        "import torch.nn.functional as F\n",
        "import torch.optim as optim\n",
        "from torchvision import datasets, transforms"
      ],
      "execution_count": 1,
      "outputs": []
    },
    {
      "cell_type": "code",
      "metadata": {
        "id": "h_Cx9q2QFgM7"
      },
      "source": [
        "class Net(nn.Module):\n",
        "    #Constructor function initializes an object of Net() and defines all the layers. \n",
        "    #Each layer is defined here separately and aren't connected to each other in any way yet. \n",
        "    def __init__(self):\n",
        "        super(Net, self).__init__()\n",
        "        self.conv1 = nn.Conv2d(1, 32, 3, padding=1) #in_channel: 1,28,28; out_channel: 32,28,28; RF: 3 \n",
        "        self.conv2 = nn.Conv2d(32, 64, 3, padding=1) #in_channel: 32,28,28; out_channel: 64,28,28; RF: 5 \n",
        "        self.pool1 = nn.MaxPool2d(2, 2) #in_channel: 64,28,28; out_channel: 64,14,14; RF: 10\n",
        "        self.conv3 = nn.Conv2d(64, 128, 3, padding=1) #in_channel: 64,14,14; out_channel: 128,14,14; RF: 12\n",
        "        self.conv4 = nn.Conv2d(128, 256, 3, padding=1) #in_channel: 128,14,14; out_channel: 256,14,14; RF: 14\n",
        "        self.pool2 = nn.MaxPool2d(2, 2) #in_channel: 256,14,14; out_channel: 256,7,7; RF: 28\n",
        "        self.conv5 = nn.Conv2d(256, 512, 3) #in_channel: 256,7,7; out_channel: 512,5,5; RF: 30\n",
        "        self.conv6 = nn.Conv2d(512, 1024, 3) #in_channel: 512,5,5; out_channel: 1024,3,3; RF: 32\n",
        "        self.conv7 = nn.Conv2d(1024, 10, 3) #in_channel: 1024,3,3; out_channel: 10,1,1; RF: 34\n",
        "\n",
        "    #Forward function takes an object and it passes through each layer sequentially. \n",
        "    def forward(self, x):\n",
        "        x = self.pool1(F.relu(self.conv2(F.relu(self.conv1(x))))) #Block 1: conv1 -> conv2 -> maxpool1\n",
        "        x = self.pool2(F.relu(self.conv4(F.relu(self.conv3(x))))) #Block 2: conv3 -> conv4 -> maxpool2\n",
        "        x = F.relu(self.conv6(F.relu(self.conv5(x)))) #Block 3: conv5 -> conv6\n",
        "        x = self.conv7(x)\n",
        "        x = x.view(-1, 10)\n",
        "        return F.log_softmax(x)"
      ],
      "execution_count": 2,
      "outputs": []
    },
    {
      "cell_type": "markdown",
      "metadata": {
        "id": "ne9Q0gbLj2pF"
      },
      "source": [
        "Q1. The global receptive field of our network ends up being more than the size of the image that we input, how will that affect the results?\n",
        "\n",
        "Q2. What does -1 in Output shape signify?"
      ]
    },
    {
      "cell_type": "code",
      "metadata": {
        "id": "xdydjYTZFyi3",
        "colab": {
          "base_uri": "https://localhost:8080/"
        },
        "outputId": "b0c8adcf-1c25-48ba-8791-46c9088468b3"
      },
      "source": [
        "!pip install torchsummary\n",
        "from torchsummary import summary\n",
        "use_cuda = torch.cuda.is_available() #Boolean function checks if cuda(GPU) is available or not.\n",
        "device = torch.device(\"cuda\" if use_cuda else \"cpu\") #Assigns cuda or cpu based on availability.\n",
        "model = Net().to(device) #Converts our model into the respective device.\n",
        "summary(model, input_size=(1, 28, 28)) #Prints the summary of our model based on an input size. \n"
      ],
      "execution_count": 3,
      "outputs": [
        {
          "output_type": "stream",
          "text": [
            "Requirement already satisfied: torchsummary in /usr/local/lib/python3.6/dist-packages (1.5.1)\n",
            "----------------------------------------------------------------\n",
            "        Layer (type)               Output Shape         Param #\n",
            "================================================================\n",
            "            Conv2d-1           [-1, 32, 28, 28]             320\n",
            "            Conv2d-2           [-1, 64, 28, 28]          18,496\n",
            "         MaxPool2d-3           [-1, 64, 14, 14]               0\n",
            "            Conv2d-4          [-1, 128, 14, 14]          73,856\n",
            "            Conv2d-5          [-1, 256, 14, 14]         295,168\n",
            "         MaxPool2d-6            [-1, 256, 7, 7]               0\n",
            "            Conv2d-7            [-1, 512, 5, 5]       1,180,160\n",
            "            Conv2d-8           [-1, 1024, 3, 3]       4,719,616\n",
            "            Conv2d-9             [-1, 10, 1, 1]          92,170\n",
            "================================================================\n",
            "Total params: 6,379,786\n",
            "Trainable params: 6,379,786\n",
            "Non-trainable params: 0\n",
            "----------------------------------------------------------------\n",
            "Input size (MB): 0.00\n",
            "Forward/backward pass size (MB): 1.51\n",
            "Params size (MB): 24.34\n",
            "Estimated Total Size (MB): 25.85\n",
            "----------------------------------------------------------------\n"
          ],
          "name": "stdout"
        },
        {
          "output_type": "stream",
          "text": [
            "/usr/local/lib/python3.6/dist-packages/ipykernel_launcher.py:23: UserWarning: Implicit dimension choice for log_softmax has been deprecated. Change the call to include dim=X as an argument.\n"
          ],
          "name": "stderr"
        }
      ]
    },
    {
      "cell_type": "code",
      "metadata": {
        "id": "DqTWLaM5GHgH",
        "colab": {
          "base_uri": "https://localhost:8080/",
          "height": 382,
          "referenced_widgets": [
            "01cbdbcb5efa4e1aa54abbb5832dfad7",
            "09ac343e2fd94849b3a733b31238160c",
            "50a3aa088f304f468ca7b26a9effc2e6",
            "ca73d3326c6a43728797158f06eef3fa",
            "a028d3debd0848b9bcae3c05ac09612e",
            "412b3914f2ab4ad5837d9bc8507499f7",
            "858f7dca838241a3877c086ff022a0d4",
            "c4e68d71802842279cf6dcf1963cb0ff",
            "0787fcc2d78e4af0b53481ffdbf93d3b",
            "16fab804d6af4a15bc2a3ba9fcf32b9d",
            "6e62a05af5154136bb8d600526f821e5",
            "c0900d22a51b420694d32785d9c50e18",
            "16a0a6fcb12d421c844427d6f01babf0",
            "08dfbb1a10f84d1bb79515853ef60aa0",
            "7ff9129c500e42aa9318696e9808e68c",
            "bb346bb8a7ac491bae17f79501b86521",
            "d10e2f84d9df4960b511da176fab8af1",
            "0e6c4c24b52948169f0e51f89c34d0d2",
            "07ea04a29ac9418d9e26995e413298f4",
            "f06c0568a4d640aa836bbd8b12671ad0",
            "6cda15398173470784e2bf286d2e5980",
            "4e092807a5d24de6993782eeb2bd6cca",
            "fd5dae5716a54fb5be77c79469e7362d",
            "c507f60114954814bceebd83a5370843",
            "e330726b19534930bab0051de24b9e6e",
            "e2d5dca4c28f4360a2a22e91c0108986",
            "81120f1234f64b4a8219733464e2a953",
            "cb153a92931048dfa83ed41b47dab22b",
            "1c133243431c40999183da4c2d9c0323",
            "ef0af892f4c04463835982c80c3faac3",
            "69f9a885e0b541839da3bbf43138cf6b",
            "cb4fdd75786d4f6c8c1334bea3c2f87a"
          ]
        },
        "outputId": "bc58af3e-67b6-4e78-a174-2351eb116ebd"
      },
      "source": [
        "\n",
        "\n",
        "torch.manual_seed(1)\n",
        "batch_size = 128\n",
        "\n",
        "kwargs = {'num_workers': 1, 'pin_memory': True} if use_cuda else {}\n",
        "train_loader = torch.utils.data.DataLoader(\n",
        "    datasets.MNIST('../data', train=True, download=True,\n",
        "                    transform=transforms.Compose([\n",
        "                        transforms.ToTensor(),\n",
        "                        transforms.Normalize((0.1307,), (0.3081,))\n",
        "                    ])),\n",
        "    batch_size=batch_size, shuffle=True, **kwargs)\n",
        "test_loader = torch.utils.data.DataLoader(\n",
        "    datasets.MNIST('../data', train=False, transform=transforms.Compose([\n",
        "                        transforms.ToTensor(),\n",
        "                        transforms.Normalize((0.1307,), (0.3081,))\n",
        "                    ])),\n",
        "    batch_size=batch_size, shuffle=True, **kwargs)\n"
      ],
      "execution_count": 4,
      "outputs": [
        {
          "output_type": "stream",
          "text": [
            "Downloading http://yann.lecun.com/exdb/mnist/train-images-idx3-ubyte.gz to ../data/MNIST/raw/train-images-idx3-ubyte.gz\n"
          ],
          "name": "stdout"
        },
        {
          "output_type": "display_data",
          "data": {
            "application/vnd.jupyter.widget-view+json": {
              "model_id": "01cbdbcb5efa4e1aa54abbb5832dfad7",
              "version_minor": 0,
              "version_major": 2
            },
            "text/plain": [
              "HBox(children=(FloatProgress(value=1.0, bar_style='info', max=1.0), HTML(value='')))"
            ]
          },
          "metadata": {
            "tags": []
          }
        },
        {
          "output_type": "stream",
          "text": [
            "Extracting ../data/MNIST/raw/train-images-idx3-ubyte.gz to ../data/MNIST/raw\n",
            "Downloading http://yann.lecun.com/exdb/mnist/train-labels-idx1-ubyte.gz to ../data/MNIST/raw/train-labels-idx1-ubyte.gz\n"
          ],
          "name": "stdout"
        },
        {
          "output_type": "display_data",
          "data": {
            "application/vnd.jupyter.widget-view+json": {
              "model_id": "0787fcc2d78e4af0b53481ffdbf93d3b",
              "version_minor": 0,
              "version_major": 2
            },
            "text/plain": [
              "HBox(children=(FloatProgress(value=1.0, bar_style='info', max=1.0), HTML(value='')))"
            ]
          },
          "metadata": {
            "tags": []
          }
        },
        {
          "output_type": "stream",
          "text": [
            "Extracting ../data/MNIST/raw/train-labels-idx1-ubyte.gz to ../data/MNIST/raw\n",
            "Downloading http://yann.lecun.com/exdb/mnist/t10k-images-idx3-ubyte.gz to ../data/MNIST/raw/t10k-images-idx3-ubyte.gz\n"
          ],
          "name": "stdout"
        },
        {
          "output_type": "display_data",
          "data": {
            "application/vnd.jupyter.widget-view+json": {
              "model_id": "d10e2f84d9df4960b511da176fab8af1",
              "version_minor": 0,
              "version_major": 2
            },
            "text/plain": [
              "HBox(children=(FloatProgress(value=1.0, bar_style='info', max=1.0), HTML(value='')))"
            ]
          },
          "metadata": {
            "tags": []
          }
        },
        {
          "output_type": "stream",
          "text": [
            "Extracting ../data/MNIST/raw/t10k-images-idx3-ubyte.gz to ../data/MNIST/raw\n",
            "Downloading http://yann.lecun.com/exdb/mnist/t10k-labels-idx1-ubyte.gz to ../data/MNIST/raw/t10k-labels-idx1-ubyte.gz\n"
          ],
          "name": "stdout"
        },
        {
          "output_type": "display_data",
          "data": {
            "application/vnd.jupyter.widget-view+json": {
              "model_id": "e330726b19534930bab0051de24b9e6e",
              "version_minor": 0,
              "version_major": 2
            },
            "text/plain": [
              "HBox(children=(FloatProgress(value=1.0, bar_style='info', max=1.0), HTML(value='')))"
            ]
          },
          "metadata": {
            "tags": []
          }
        },
        {
          "output_type": "stream",
          "text": [
            "Extracting ../data/MNIST/raw/t10k-labels-idx1-ubyte.gz to ../data/MNIST/raw\n",
            "Processing...\n",
            "Done!\n"
          ],
          "name": "stdout"
        },
        {
          "output_type": "stream",
          "text": [
            "/usr/local/lib/python3.6/dist-packages/torchvision/datasets/mnist.py:480: UserWarning: The given NumPy array is not writeable, and PyTorch does not support non-writeable tensors. This means you can write to the underlying (supposedly non-writeable) NumPy array using the tensor. You may want to copy the array to protect its data or make it writeable before converting it to a tensor. This type of warning will be suppressed for the rest of this program. (Triggered internally at  /pytorch/torch/csrc/utils/tensor_numpy.cpp:141.)\n",
            "  return torch.from_numpy(parsed.astype(m[2], copy=False)).view(*s)\n"
          ],
          "name": "stderr"
        }
      ]
    },
    {
      "cell_type": "code",
      "metadata": {
        "id": "8fDefDhaFlwH"
      },
      "source": [
        "from tqdm import tqdm\n",
        "train_samples = len(train_loader.dataset)\n",
        "test_samples = len(test_loader.dataset)\n",
        "def train(model, device, train_loader, optimizer, epoch):\n",
        "    model.train()\n",
        "    train_loss = 0\n",
        "    train_accuracy = 0\n",
        "    total_correct = 0\n",
        "    pbar = tqdm(train_loader)\n",
        "    for batch_idx, (data, target) in enumerate(pbar):\n",
        "        data, target = data.to(device), target.to(device) #Loading the images and targets on the GPU\n",
        "        optimizer.zero_grad() \n",
        "        output = model(data)\n",
        "        loss = F.nll_loss(output, target)\n",
        "        loss.backward()\n",
        "        optimizer.step()\n",
        "        \n",
        "        train_loss += loss #Calculating the total loss for the epoch. \n",
        "        pred = output.argmax(dim=1, keepdim=True)  # get the index of the max log-probability\n",
        "        total_correct += pred.eq(target.view_as(pred)).sum().item()\n",
        "        pbar.set_description(desc= f'loss={loss.item()} batch_id={batch_idx}')\n",
        "        print(\"\\nTrain set: Total loss: {:.4f}, Accuracy: {}/{} ({:.4f}%)\".format(\n",
        "            train_loss, total_correct, train_samples, \n",
        "            100. * total_correct / train_samples\n",
        "        ))\n",
        "\n",
        "\n",
        "def test(model, device, test_loader):\n",
        "    model.eval()\n",
        "    test_loss = 0\n",
        "    correct = 0\n",
        "    with torch.no_grad():\n",
        "        for data, target in test_loader:\n",
        "            data, target = data.to(device), target.to(device)\n",
        "            output = model(data)\n",
        "            test_loss += F.nll_loss(output, target, reduction='sum').item()  # sum up batch loss\n",
        "            pred = output.argmax(dim=1, keepdim=True)  # get the index of the max log-probability\n",
        "            correct += pred.eq(target.view_as(pred)).sum().item()\n",
        "\n",
        "    test_loss /= len(test_loader.dataset)\n",
        "\n",
        "    print('\\nTest set: Average loss: {:.4f}, Accuracy: {}/{} ({:.4f}%)'.format(\n",
        "        test_loss, correct, len(test_loader.dataset),\n",
        "        100. * correct / len(test_loader.dataset)))"
      ],
      "execution_count": 8,
      "outputs": []
    },
    {
      "cell_type": "code",
      "metadata": {
        "id": "MMWbLWO6FuHb",
        "colab": {
          "base_uri": "https://localhost:8080/",
          "height": 1000
        },
        "outputId": "9d28ec60-5441-42d8-9f9b-4a4ee338f7ec"
      },
      "source": [
        "\n",
        "model = Net().to(device)\n",
        "optimizer = optim.SGD(model.parameters(), lr=0.01, momentum=0.9)\n",
        "\n",
        "for epoch in range(1, 21):\n",
        "    train(model, device, train_loader, optimizer, epoch)\n",
        "test(model, device, test_loader)"
      ],
      "execution_count": 9,
      "outputs": [
        {
          "output_type": "stream",
          "text": [
            "\n",
            "Train set: Total loss: 172.7934, Accuracy: 15413/60000 (25.6883%)\n",
            "\n",
            "Train set: Total loss: 172.9262, Accuracy: 15534/60000 (25.8900%)\n",
            "\n",
            "Train set: Total loss: 173.1244, Accuracy: 15655/60000 (26.0917%)\n",
            "\n",
            "Train set: Total loss: 173.3113, Accuracy: 15776/60000 (26.2933%)\n"
          ],
          "name": "stdout"
        },
        {
          "output_type": "stream",
          "text": [
            "\n",
            "loss=0.11512134969234467 batch_id=175:  37%|███▋      | 175/469 [00:10<00:16, 17.71it/s]\u001b[A\n",
            "loss=0.16214202344417572 batch_id=176:  37%|███▋      | 175/469 [00:10<00:16, 17.71it/s]\u001b[A\n",
            "loss=0.16214202344417572 batch_id=176:  38%|███▊      | 177/469 [00:10<00:17, 16.50it/s]\u001b[A\n",
            "loss=0.14937280118465424 batch_id=177:  38%|███▊      | 177/469 [00:10<00:17, 16.50it/s]\u001b[A\n",
            "loss=0.1322937309741974 batch_id=178:  38%|███▊      | 177/469 [00:10<00:17, 16.50it/s] \u001b[A\n",
            "loss=0.1322937309741974 batch_id=178:  38%|███▊      | 179/469 [00:10<00:16, 17.31it/s]\u001b[A"
          ],
          "name": "stderr"
        },
        {
          "output_type": "stream",
          "text": [
            "\n",
            "Train set: Total loss: 173.4264, Accuracy: 15899/60000 (26.4983%)\n",
            "\n",
            "Train set: Total loss: 173.5886, Accuracy: 16020/60000 (26.7000%)\n",
            "\n",
            "Train set: Total loss: 173.7379, Accuracy: 16143/60000 (26.9050%)\n",
            "\n",
            "Train set: Total loss: 173.8702, Accuracy: 16262/60000 (27.1033%)\n"
          ],
          "name": "stdout"
        },
        {
          "output_type": "stream",
          "text": [
            "\n",
            "loss=0.15854144096374512 batch_id=179:  38%|███▊      | 179/469 [00:10<00:16, 17.31it/s]\u001b[A\n",
            "loss=0.1646479070186615 batch_id=180:  38%|███▊      | 179/469 [00:10<00:16, 17.31it/s] \u001b[A\n",
            "loss=0.1646479070186615 batch_id=180:  39%|███▊      | 181/469 [00:10<00:17, 16.83it/s]\u001b[A\n",
            "loss=0.19349059462547302 batch_id=181:  39%|███▊      | 181/469 [00:10<00:17, 16.83it/s]\u001b[A\n",
            "loss=0.24561797082424164 batch_id=182:  39%|███▊      | 181/469 [00:10<00:17, 16.83it/s]\u001b[A\n",
            "loss=0.13652846217155457 batch_id=183:  39%|███▊      | 181/469 [00:10<00:17, 16.83it/s]"
          ],
          "name": "stderr"
        },
        {
          "output_type": "stream",
          "text": [
            "\n",
            "Train set: Total loss: 174.0288, Accuracy: 16384/60000 (27.3067%)\n",
            "\n",
            "Train set: Total loss: 174.1934, Accuracy: 16505/60000 (27.5083%)\n",
            "\n",
            "Train set: Total loss: 174.3869, Accuracy: 16625/60000 (27.7083%)\n",
            "\n",
            "Train set: Total loss: 174.6325, Accuracy: 16743/60000 (27.9050%)\n"
          ],
          "name": "stdout"
        },
        {
          "output_type": "stream",
          "text": [
            "\u001b[A\n",
            "loss=0.13652846217155457 batch_id=183:  39%|███▉      | 184/469 [00:10<00:16, 17.51it/s]\u001b[A\n",
            "loss=0.15372125804424286 batch_id=184:  39%|███▉      | 184/469 [00:10<00:16, 17.51it/s]\u001b[A\n",
            "loss=0.13996708393096924 batch_id=185:  39%|███▉      | 184/469 [00:10<00:16, 17.51it/s]\u001b[A\n",
            "loss=0.13996708393096924 batch_id=185:  40%|███▉      | 186/469 [00:10<00:16, 17.36it/s]\u001b[A\n",
            "loss=0.12524299323558807 batch_id=186:  40%|███▉      | 186/469 [00:10<00:16, 17.36it/s]\u001b[A"
          ],
          "name": "stderr"
        },
        {
          "output_type": "stream",
          "text": [
            "\n",
            "Train set: Total loss: 174.7691, Accuracy: 16867/60000 (28.1117%)\n",
            "\n",
            "Train set: Total loss: 174.9228, Accuracy: 16989/60000 (28.3150%)\n",
            "\n",
            "Train set: Total loss: 175.0627, Accuracy: 17110/60000 (28.5167%)\n",
            "\n",
            "Train set: Total loss: 175.1880, Accuracy: 17233/60000 (28.7217%)\n"
          ],
          "name": "stdout"
        },
        {
          "output_type": "stream",
          "text": [
            "\n",
            "loss=0.25165119767189026 batch_id=187:  40%|███▉      | 186/469 [00:10<00:16, 17.36it/s]\u001b[A\n",
            "loss=0.25165119767189026 batch_id=187:  40%|████      | 188/469 [00:10<00:16, 16.80it/s]\u001b[A\n",
            "loss=0.09071596711874008 batch_id=188:  40%|████      | 188/469 [00:10<00:16, 16.80it/s]\u001b[A\n",
            "loss=0.17327548563480377 batch_id=189:  40%|████      | 188/469 [00:10<00:16, 16.80it/s]\u001b[A\n",
            "loss=0.17327548563480377 batch_id=189:  41%|████      | 190/469 [00:10<00:15, 17.49it/s]\u001b[A\n",
            "loss=0.18298634886741638 batch_id=190:  41%|████      | 190/469 [00:10<00:15, 17.49it/s]\u001b[A"
          ],
          "name": "stderr"
        },
        {
          "output_type": "stream",
          "text": [
            "\n",
            "Train set: Total loss: 175.4396, Accuracy: 17349/60000 (28.9150%)\n",
            "\n",
            "Train set: Total loss: 175.5303, Accuracy: 17474/60000 (29.1233%)\n",
            "\n",
            "Train set: Total loss: 175.7036, Accuracy: 17592/60000 (29.3200%)\n",
            "\n",
            "Train set: Total loss: 175.8866, Accuracy: 17713/60000 (29.5217%)\n"
          ],
          "name": "stdout"
        },
        {
          "output_type": "stream",
          "text": [
            "\n",
            "loss=0.17581909894943237 batch_id=191:  41%|████      | 190/469 [00:10<00:15, 17.49it/s]\u001b[A\n",
            "loss=0.17581909894943237 batch_id=191:  41%|████      | 192/469 [00:10<00:15, 17.82it/s]\u001b[A\n",
            "loss=0.1603458821773529 batch_id=192:  41%|████      | 192/469 [00:11<00:15, 17.82it/s] \u001b[A\n",
            "loss=0.09616932272911072 batch_id=193:  41%|████      | 192/469 [00:11<00:15, 17.82it/s]\u001b[A\n",
            "loss=0.09616932272911072 batch_id=193:  41%|████▏     | 194/469 [00:11<00:15, 17.27it/s]\u001b[A\n",
            "loss=0.26581284403800964 batch_id=194:  41%|████▏     | 194/469 [00:11<00:15, 17.27it/s]\u001b[A"
          ],
          "name": "stderr"
        },
        {
          "output_type": "stream",
          "text": [
            "\n",
            "Train set: Total loss: 176.0624, Accuracy: 17832/60000 (29.7200%)\n",
            "\n",
            "Train set: Total loss: 176.2228, Accuracy: 17953/60000 (29.9217%)\n",
            "\n",
            "Train set: Total loss: 176.3189, Accuracy: 18078/60000 (30.1300%)\n",
            "\n",
            "Train set: Total loss: 176.5847, Accuracy: 18195/60000 (30.3250%)\n"
          ],
          "name": "stdout"
        },
        {
          "output_type": "stream",
          "text": [
            "\n",
            "loss=0.08695632964372635 batch_id=195:  41%|████▏     | 194/469 [00:11<00:15, 17.27it/s]\u001b[A\n",
            "loss=0.08695632964372635 batch_id=195:  42%|████▏     | 196/469 [00:11<00:15, 17.90it/s]\u001b[A\n",
            "loss=0.11911964416503906 batch_id=196:  42%|████▏     | 196/469 [00:11<00:15, 17.90it/s]\u001b[A\n",
            "loss=0.14897020161151886 batch_id=197:  42%|████▏     | 196/469 [00:11<00:15, 17.90it/s]\u001b[A\n",
            "loss=0.14897020161151886 batch_id=197:  42%|████▏     | 198/469 [00:11<00:16, 16.91it/s]\u001b[A\n",
            "loss=0.24450330436229706 batch_id=198:  42%|████▏     | 198/469 [00:11<00:16, 16.91it/s]\u001b[A"
          ],
          "name": "stderr"
        },
        {
          "output_type": "stream",
          "text": [
            "\n",
            "Train set: Total loss: 176.6717, Accuracy: 18319/60000 (30.5317%)\n",
            "\n",
            "Train set: Total loss: 176.7908, Accuracy: 18442/60000 (30.7367%)\n",
            "\n",
            "Train set: Total loss: 176.9398, Accuracy: 18565/60000 (30.9417%)\n",
            "\n",
            "Train set: Total loss: 177.1843, Accuracy: 18683/60000 (31.1383%)\n"
          ],
          "name": "stdout"
        },
        {
          "output_type": "stream",
          "text": [
            "\n",
            "loss=0.1617835909128189 batch_id=199:  42%|████▏     | 198/469 [00:11<00:16, 16.91it/s] \u001b[A\n",
            "loss=0.1617835909128189 batch_id=199:  43%|████▎     | 200/469 [00:11<00:15, 17.24it/s]\u001b[A\n",
            "loss=0.2754717767238617 batch_id=200:  43%|████▎     | 200/469 [00:11<00:15, 17.24it/s]\u001b[A\n",
            "loss=0.09262964129447937 batch_id=201:  43%|████▎     | 200/469 [00:11<00:15, 17.24it/s]\u001b[A\n",
            "loss=0.09262964129447937 batch_id=201:  43%|████▎     | 202/469 [00:11<00:15, 17.59it/s]\u001b[A\n",
            "loss=0.2206432819366455 batch_id=202:  43%|████▎     | 202/469 [00:11<00:15, 17.59it/s] \u001b[A"
          ],
          "name": "stderr"
        },
        {
          "output_type": "stream",
          "text": [
            "\n",
            "Train set: Total loss: 177.3461, Accuracy: 18806/60000 (31.3433%)\n",
            "\n",
            "Train set: Total loss: 177.6216, Accuracy: 18924/60000 (31.5400%)\n",
            "\n",
            "Train set: Total loss: 177.7142, Accuracy: 19049/60000 (31.7483%)\n",
            "\n",
            "Train set: Total loss: 177.9348, Accuracy: 19170/60000 (31.9500%)\n"
          ],
          "name": "stdout"
        },
        {
          "output_type": "stream",
          "text": [
            "\n",
            "loss=0.26909562945365906 batch_id=203:  43%|████▎     | 202/469 [00:11<00:15, 17.59it/s]\u001b[A\n",
            "loss=0.26909562945365906 batch_id=203:  43%|████▎     | 204/469 [00:11<00:14, 17.81it/s]\u001b[A\n",
            "loss=0.1340831220149994 batch_id=204:  43%|████▎     | 204/469 [00:11<00:14, 17.81it/s] \u001b[A\n",
            "loss=0.1348957121372223 batch_id=205:  43%|████▎     | 204/469 [00:11<00:14, 17.81it/s]\u001b[A\n",
            "loss=0.1348957121372223 batch_id=205:  44%|████▍     | 206/469 [00:11<00:14, 17.74it/s]\u001b[A\n",
            "loss=0.19392530620098114 batch_id=206:  44%|████▍     | 206/469 [00:11<00:14, 17.74it/s]\u001b[A"
          ],
          "name": "stderr"
        },
        {
          "output_type": "stream",
          "text": [
            "\n",
            "Train set: Total loss: 178.2039, Accuracy: 19289/60000 (32.1483%)\n",
            "\n",
            "Train set: Total loss: 178.3380, Accuracy: 19411/60000 (32.3517%)\n",
            "\n",
            "Train set: Total loss: 178.4729, Accuracy: 19532/60000 (32.5533%)\n",
            "\n",
            "Train set: Total loss: 178.6668, Accuracy: 19653/60000 (32.7550%)\n"
          ],
          "name": "stdout"
        },
        {
          "output_type": "stream",
          "text": [
            "\n",
            "loss=0.08566195517778397 batch_id=207:  44%|████▍     | 206/469 [00:11<00:14, 17.74it/s]\u001b[A\n",
            "loss=0.08566195517778397 batch_id=207:  44%|████▍     | 208/469 [00:11<00:14, 17.51it/s]\u001b[A\n",
            "loss=0.17369556427001953 batch_id=208:  44%|████▍     | 208/469 [00:11<00:14, 17.51it/s]\u001b[A\n",
            "loss=0.09234334528446198 batch_id=209:  44%|████▍     | 208/469 [00:11<00:14, 17.51it/s]\u001b[A\n",
            "loss=0.09234334528446198 batch_id=209:  45%|████▍     | 210/469 [00:12<00:14, 17.68it/s]\u001b[A\n",
            "loss=0.21185128390789032 batch_id=210:  45%|████▍     | 210/469 [00:12<00:14, 17.68it/s]\u001b[A"
          ],
          "name": "stderr"
        },
        {
          "output_type": "stream",
          "text": [
            "\n",
            "Train set: Total loss: 178.7525, Accuracy: 19779/60000 (32.9650%)\n",
            "\n",
            "Train set: Total loss: 178.9262, Accuracy: 19902/60000 (33.1700%)\n",
            "\n",
            "Train set: Total loss: 179.0185, Accuracy: 20028/60000 (33.3800%)\n",
            "\n",
            "Train set: Total loss: 179.2304, Accuracy: 20148/60000 (33.5800%)\n"
          ],
          "name": "stdout"
        },
        {
          "output_type": "stream",
          "text": [
            "\n",
            "loss=0.25272253155708313 batch_id=211:  45%|████▍     | 210/469 [00:12<00:14, 17.68it/s]\u001b[A\n",
            "loss=0.25272253155708313 batch_id=211:  45%|████▌     | 212/469 [00:12<00:15, 16.75it/s]\u001b[A\n",
            "loss=0.14508618414402008 batch_id=212:  45%|████▌     | 212/469 [00:12<00:15, 16.75it/s]\u001b[A\n",
            "loss=0.16207320988178253 batch_id=213:  45%|████▌     | 212/469 [00:12<00:15, 16.75it/s]\u001b[A\n",
            "loss=0.16207320988178253 batch_id=213:  46%|████▌     | 214/469 [00:12<00:14, 17.23it/s]\u001b[A\n",
            "loss=0.10317306220531464 batch_id=214:  46%|████▌     | 214/469 [00:12<00:14, 17.23it/s]\u001b[A"
          ],
          "name": "stderr"
        },
        {
          "output_type": "stream",
          "text": [
            "\n",
            "Train set: Total loss: 179.4831, Accuracy: 20269/60000 (33.7817%)\n",
            "\n",
            "Train set: Total loss: 179.6282, Accuracy: 20391/60000 (33.9850%)\n",
            "\n",
            "Train set: Total loss: 179.7903, Accuracy: 20508/60000 (34.1800%)\n",
            "\n",
            "Train set: Total loss: 179.8934, Accuracy: 20630/60000 (34.3833%)\n"
          ],
          "name": "stdout"
        },
        {
          "output_type": "stream",
          "text": [
            "\n",
            "loss=0.08676233142614365 batch_id=215:  46%|████▌     | 214/469 [00:12<00:14, 17.23it/s]\u001b[A\n",
            "loss=0.08676233142614365 batch_id=215:  46%|████▌     | 216/469 [00:12<00:14, 17.54it/s]\u001b[A\n",
            "loss=0.10349318385124207 batch_id=216:  46%|████▌     | 216/469 [00:12<00:14, 17.54it/s]\u001b[A\n",
            "loss=0.10405469685792923 batch_id=217:  46%|████▌     | 216/469 [00:12<00:14, 17.54it/s]\u001b[A\n",
            "loss=0.10405469685792923 batch_id=217:  46%|████▋     | 218/469 [00:12<00:14, 17.49it/s]\u001b[A\n",
            "loss=0.06860515475273132 batch_id=218:  46%|████▋     | 218/469 [00:12<00:14, 17.49it/s]\u001b[A"
          ],
          "name": "stderr"
        },
        {
          "output_type": "stream",
          "text": [
            "\n",
            "Train set: Total loss: 179.9802, Accuracy: 20755/60000 (34.5917%)\n",
            "\n",
            "Train set: Total loss: 180.0837, Accuracy: 20877/60000 (34.7950%)\n",
            "\n",
            "Train set: Total loss: 180.1878, Accuracy: 21001/60000 (35.0017%)\n",
            "\n",
            "Train set: Total loss: 180.2564, Accuracy: 21127/60000 (35.2117%)\n"
          ],
          "name": "stdout"
        },
        {
          "output_type": "stream",
          "text": [
            "\n",
            "loss=0.2563304603099823 batch_id=219:  46%|████▋     | 218/469 [00:12<00:14, 17.49it/s] \u001b[A\n",
            "loss=0.2563304603099823 batch_id=219:  47%|████▋     | 220/469 [00:12<00:14, 17.44it/s]\u001b[A\n",
            "loss=0.21993900835514069 batch_id=220:  47%|████▋     | 220/469 [00:12<00:14, 17.44it/s]\u001b[A\n",
            "loss=0.17033305764198303 batch_id=221:  47%|████▋     | 220/469 [00:12<00:14, 17.44it/s]\u001b[A\n",
            "loss=0.17033305764198303 batch_id=221:  47%|████▋     | 222/469 [00:12<00:14, 17.24it/s]\u001b[A\n",
            "loss=0.09912388771772385 batch_id=222:  47%|████▋     | 222/469 [00:12<00:14, 17.24it/s]\u001b[A"
          ],
          "name": "stderr"
        },
        {
          "output_type": "stream",
          "text": [
            "\n",
            "Train set: Total loss: 180.5127, Accuracy: 21247/60000 (35.4117%)\n",
            "\n",
            "Train set: Total loss: 180.7326, Accuracy: 21366/60000 (35.6100%)\n",
            "\n",
            "Train set: Total loss: 180.9030, Accuracy: 21486/60000 (35.8100%)\n",
            "\n",
            "Train set: Total loss: 181.0021, Accuracy: 21612/60000 (36.0200%)\n"
          ],
          "name": "stdout"
        },
        {
          "output_type": "stream",
          "text": [
            "\n",
            "loss=0.16271987557411194 batch_id=223:  47%|████▋     | 222/469 [00:12<00:14, 17.24it/s]\u001b[A\n",
            "loss=0.16271987557411194 batch_id=223:  48%|████▊     | 224/469 [00:12<00:13, 17.55it/s]\u001b[A\n",
            "loss=0.19293750822544098 batch_id=224:  48%|████▊     | 224/469 [00:12<00:13, 17.55it/s]\u001b[A\n",
            "loss=0.08782478421926498 batch_id=225:  48%|████▊     | 224/469 [00:12<00:13, 17.55it/s]\u001b[A\n",
            "loss=0.21738091111183167 batch_id=226:  48%|████▊     | 224/469 [00:12<00:13, 17.55it/s]\u001b[A\n",
            "loss=0.21738091111183167 batch_id=226:  48%|████▊     | 227/469 [00:12<00:13, 18.24it/s]\u001b[A"
          ],
          "name": "stderr"
        },
        {
          "output_type": "stream",
          "text": [
            "\n",
            "Train set: Total loss: 181.1648, Accuracy: 21733/60000 (36.2217%)\n",
            "\n",
            "Train set: Total loss: 181.3577, Accuracy: 21853/60000 (36.4217%)\n",
            "\n",
            "Train set: Total loss: 181.4456, Accuracy: 21978/60000 (36.6300%)\n",
            "\n",
            "Train set: Total loss: 181.6629, Accuracy: 22097/60000 (36.8283%)\n"
          ],
          "name": "stdout"
        },
        {
          "output_type": "stream",
          "text": [
            "\n",
            "loss=0.12299983948469162 batch_id=227:  48%|████▊     | 227/469 [00:13<00:13, 18.24it/s]\u001b[A\n",
            "loss=0.2548903226852417 batch_id=228:  48%|████▊     | 227/469 [00:13<00:13, 18.24it/s] \u001b[A\n",
            "loss=0.2548903226852417 batch_id=228:  49%|████▉     | 229/469 [00:13<00:13, 17.48it/s]\u001b[A\n",
            "loss=0.1984306424856186 batch_id=229:  49%|████▉     | 229/469 [00:13<00:13, 17.48it/s]\u001b[A\n",
            "loss=0.11504052579402924 batch_id=230:  49%|████▉     | 229/469 [00:13<00:13, 17.48it/s]\u001b[A\n",
            "loss=0.11504052579402924 batch_id=230:  49%|████▉     | 231/469 [00:13<00:13, 18.12it/s]\u001b[A"
          ],
          "name": "stderr"
        },
        {
          "output_type": "stream",
          "text": [
            "\n",
            "Train set: Total loss: 181.7859, Accuracy: 22220/60000 (37.0333%)\n",
            "\n",
            "Train set: Total loss: 182.0408, Accuracy: 22339/60000 (37.2317%)\n",
            "\n",
            "Train set: Total loss: 182.2393, Accuracy: 22464/60000 (37.4400%)\n",
            "\n",
            "Train set: Total loss: 182.3543, Accuracy: 22589/60000 (37.6483%)\n"
          ],
          "name": "stdout"
        },
        {
          "output_type": "stream",
          "text": [
            "\n",
            "loss=0.13204164803028107 batch_id=231:  49%|████▉     | 231/469 [00:13<00:13, 18.12it/s]\u001b[A\n",
            "loss=0.0974922627210617 batch_id=232:  49%|████▉     | 231/469 [00:13<00:13, 18.12it/s] \u001b[A\n",
            "loss=0.0974922627210617 batch_id=232:  50%|████▉     | 233/469 [00:13<00:13, 17.94it/s]\u001b[A\n",
            "loss=0.0821480005979538 batch_id=233:  50%|████▉     | 233/469 [00:13<00:13, 17.94it/s]\u001b[A\n",
            "loss=0.14561903476715088 batch_id=234:  50%|████▉     | 233/469 [00:13<00:13, 17.94it/s]\u001b[A\n",
            "loss=0.14561903476715088 batch_id=234:  50%|█████     | 235/469 [00:13<00:13, 17.72it/s]\u001b[A"
          ],
          "name": "stderr"
        },
        {
          "output_type": "stream",
          "text": [
            "\n",
            "Train set: Total loss: 182.4863, Accuracy: 22710/60000 (37.8500%)\n",
            "\n",
            "Train set: Total loss: 182.5838, Accuracy: 22833/60000 (38.0550%)\n",
            "\n",
            "Train set: Total loss: 182.6660, Accuracy: 22958/60000 (38.2633%)\n",
            "\n",
            "Train set: Total loss: 182.8116, Accuracy: 23079/60000 (38.4650%)\n"
          ],
          "name": "stdout"
        },
        {
          "output_type": "stream",
          "text": [
            "\n",
            "loss=0.15251345932483673 batch_id=235:  50%|█████     | 235/469 [00:13<00:13, 17.72it/s]\u001b[A\n",
            "loss=0.11548571288585663 batch_id=236:  50%|█████     | 235/469 [00:13<00:13, 17.72it/s]\u001b[A\n",
            "loss=0.1136942133307457 batch_id=237:  50%|█████     | 235/469 [00:13<00:13, 17.72it/s] \u001b[A\n",
            "loss=0.1136942133307457 batch_id=237:  51%|█████     | 238/469 [00:13<00:12, 18.43it/s]\u001b[A\n",
            "loss=0.11176048964262009 batch_id=238:  51%|█████     | 238/469 [00:13<00:12, 18.43it/s]\u001b[A"
          ],
          "name": "stderr"
        },
        {
          "output_type": "stream",
          "text": [
            "\n",
            "Train set: Total loss: 182.9641, Accuracy: 23204/60000 (38.6733%)\n",
            "\n",
            "Train set: Total loss: 183.0796, Accuracy: 23327/60000 (38.8783%)\n",
            "\n",
            "Train set: Total loss: 183.1933, Accuracy: 23451/60000 (39.0850%)\n",
            "\n",
            "Train set: Total loss: 183.3050, Accuracy: 23573/60000 (39.2883%)\n"
          ],
          "name": "stdout"
        },
        {
          "output_type": "stream",
          "text": [
            "\n",
            "loss=0.09412931650876999 batch_id=239:  51%|█████     | 238/469 [00:13<00:12, 18.43it/s]\u001b[A\n",
            "loss=0.09412931650876999 batch_id=239:  51%|█████     | 240/469 [00:13<00:13, 17.36it/s]\u001b[A\n",
            "loss=0.17840270698070526 batch_id=240:  51%|█████     | 240/469 [00:13<00:13, 17.36it/s]\u001b[A\n",
            "loss=0.10084492713212967 batch_id=241:  51%|█████     | 240/469 [00:13<00:13, 17.36it/s]\u001b[A\n",
            "loss=0.10084492713212967 batch_id=241:  52%|█████▏    | 242/469 [00:13<00:13, 17.39it/s]\u001b[A\n",
            "loss=0.1933426856994629 batch_id=242:  52%|█████▏    | 242/469 [00:13<00:13, 17.39it/s] \u001b[A"
          ],
          "name": "stderr"
        },
        {
          "output_type": "stream",
          "text": [
            "\n",
            "Train set: Total loss: 183.3992, Accuracy: 23697/60000 (39.4950%)\n",
            "\n",
            "Train set: Total loss: 183.5776, Accuracy: 23815/60000 (39.6917%)\n",
            "\n",
            "Train set: Total loss: 183.6784, Accuracy: 23940/60000 (39.9000%)\n",
            "\n",
            "Train set: Total loss: 183.8717, Accuracy: 24059/60000 (40.0983%)\n"
          ],
          "name": "stdout"
        },
        {
          "output_type": "stream",
          "text": [
            "\n",
            "loss=0.13508516550064087 batch_id=243:  52%|█████▏    | 242/469 [00:13<00:13, 17.39it/s]\u001b[A\n",
            "loss=0.16689778864383698 batch_id=244:  52%|█████▏    | 242/469 [00:13<00:13, 17.39it/s]\u001b[A\n",
            "loss=0.16689778864383698 batch_id=244:  52%|█████▏    | 245/469 [00:13<00:12, 18.12it/s]\u001b[A\n",
            "loss=0.1379089653491974 batch_id=245:  52%|█████▏    | 245/469 [00:14<00:12, 18.12it/s] \u001b[A\n",
            "loss=0.21683566272258759 batch_id=246:  52%|█████▏    | 245/469 [00:14<00:12, 18.12it/s]\u001b[A\n",
            "loss=0.21683566272258759 batch_id=246:  53%|█████▎    | 247/469 [00:14<00:12, 17.70it/s]\u001b[A"
          ],
          "name": "stderr"
        },
        {
          "output_type": "stream",
          "text": [
            "\n",
            "Train set: Total loss: 184.0068, Accuracy: 24183/60000 (40.3050%)\n",
            "\n",
            "Train set: Total loss: 184.1737, Accuracy: 24305/60000 (40.5083%)\n",
            "\n",
            "Train set: Total loss: 184.3116, Accuracy: 24424/60000 (40.7067%)\n",
            "\n",
            "Train set: Total loss: 184.5285, Accuracy: 24542/60000 (40.9033%)\n"
          ],
          "name": "stdout"
        },
        {
          "output_type": "stream",
          "text": [
            "\n",
            "loss=0.14226585626602173 batch_id=247:  53%|█████▎    | 247/469 [00:14<00:12, 17.70it/s]\u001b[A\n",
            "loss=0.23344647884368896 batch_id=248:  53%|█████▎    | 247/469 [00:14<00:12, 17.70it/s]\u001b[A\n",
            "loss=0.23344647884368896 batch_id=248:  53%|█████▎    | 249/469 [00:14<00:12, 17.09it/s]\u001b[A\n",
            "loss=0.09444025903940201 batch_id=249:  53%|█████▎    | 249/469 [00:14<00:12, 17.09it/s]\u001b[A\n",
            "loss=0.19934804737567902 batch_id=250:  53%|█████▎    | 249/469 [00:14<00:12, 17.09it/s]\u001b[A"
          ],
          "name": "stderr"
        },
        {
          "output_type": "stream",
          "text": [
            "\n",
            "Train set: Total loss: 184.6708, Accuracy: 24666/60000 (41.1100%)\n",
            "\n",
            "Train set: Total loss: 184.9042, Accuracy: 24786/60000 (41.3100%)\n",
            "\n",
            "Train set: Total loss: 184.9986, Accuracy: 24910/60000 (41.5167%)\n",
            "\n",
            "Train set: Total loss: 185.1980, Accuracy: 25030/60000 (41.7167%)\n"
          ],
          "name": "stdout"
        },
        {
          "output_type": "stream",
          "text": [
            "\n",
            "loss=0.15434019267559052 batch_id=251:  53%|█████▎    | 249/469 [00:14<00:12, 17.09it/s]\u001b[A\n",
            "loss=0.15434019267559052 batch_id=251:  54%|█████▎    | 252/469 [00:14<00:12, 17.97it/s]\u001b[A\n",
            "loss=0.11376086622476578 batch_id=252:  54%|█████▎    | 252/469 [00:14<00:12, 17.97it/s]\u001b[A\n",
            "loss=0.040088552981615067 batch_id=253:  54%|█████▎    | 252/469 [00:14<00:12, 17.97it/s]\u001b[A\n",
            "loss=0.040088552981615067 batch_id=253:  54%|█████▍    | 254/469 [00:14<00:12, 17.30it/s]\u001b[A\n",
            "loss=0.10833747684955597 batch_id=254:  54%|█████▍    | 254/469 [00:14<00:12, 17.30it/s] \u001b[A"
          ],
          "name": "stderr"
        },
        {
          "output_type": "stream",
          "text": [
            "\n",
            "Train set: Total loss: 185.3523, Accuracy: 25151/60000 (41.9183%)\n",
            "\n",
            "Train set: Total loss: 185.4661, Accuracy: 25276/60000 (42.1267%)\n",
            "\n",
            "Train set: Total loss: 185.5062, Accuracy: 25403/60000 (42.3383%)\n",
            "\n",
            "Train set: Total loss: 185.6145, Accuracy: 25525/60000 (42.5417%)\n"
          ],
          "name": "stdout"
        },
        {
          "output_type": "stream",
          "text": [
            "\n",
            "loss=0.12847869098186493 batch_id=255:  54%|█████▍    | 254/469 [00:14<00:12, 17.30it/s]\u001b[A\n",
            "loss=0.12847869098186493 batch_id=255:  55%|█████▍    | 256/469 [00:14<00:12, 17.55it/s]\u001b[A\n",
            "loss=0.12153906375169754 batch_id=256:  55%|█████▍    | 256/469 [00:14<00:12, 17.55it/s]\u001b[A\n",
            "loss=0.1735941767692566 batch_id=257:  55%|█████▍    | 256/469 [00:14<00:12, 17.55it/s] \u001b[A\n",
            "loss=0.1735941767692566 batch_id=257:  55%|█████▌    | 258/469 [00:14<00:11, 17.60it/s]\u001b[A\n",
            "loss=0.1138792559504509 batch_id=258:  55%|█████▌    | 258/469 [00:14<00:11, 17.60it/s]\u001b[A"
          ],
          "name": "stderr"
        },
        {
          "output_type": "stream",
          "text": [
            "\n",
            "Train set: Total loss: 185.7430, Accuracy: 25647/60000 (42.7450%)\n",
            "\n",
            "Train set: Total loss: 185.8645, Accuracy: 25770/60000 (42.9500%)\n",
            "\n",
            "Train set: Total loss: 186.0381, Accuracy: 25893/60000 (43.1550%)\n",
            "\n",
            "Train set: Total loss: 186.1520, Accuracy: 26015/60000 (43.3583%)\n"
          ],
          "name": "stdout"
        },
        {
          "output_type": "stream",
          "text": [
            "\n",
            "loss=0.10353805869817734 batch_id=259:  55%|█████▌    | 258/469 [00:14<00:11, 17.60it/s]\u001b[A\n",
            "loss=0.10353805869817734 batch_id=259:  55%|█████▌    | 260/469 [00:14<00:11, 17.79it/s]\u001b[A\n",
            "loss=0.17488993704319 batch_id=260:  55%|█████▌    | 260/469 [00:14<00:11, 17.79it/s]   \u001b[A\n",
            "loss=0.13803979754447937 batch_id=261:  55%|█████▌    | 260/469 [00:14<00:11, 17.79it/s]\u001b[A\n",
            "loss=0.13803979754447937 batch_id=261:  56%|█████▌    | 262/469 [00:14<00:11, 17.70it/s]\u001b[A\n",
            "loss=0.12610286474227905 batch_id=262:  56%|█████▌    | 262/469 [00:14<00:11, 17.70it/s]\u001b[A"
          ],
          "name": "stderr"
        },
        {
          "output_type": "stream",
          "text": [
            "\n",
            "Train set: Total loss: 186.2555, Accuracy: 26139/60000 (43.5650%)\n",
            "\n",
            "Train set: Total loss: 186.4304, Accuracy: 26261/60000 (43.7683%)\n",
            "\n",
            "Train set: Total loss: 186.5685, Accuracy: 26385/60000 (43.9750%)\n",
            "\n",
            "Train set: Total loss: 186.6946, Accuracy: 26508/60000 (44.1800%)\n"
          ],
          "name": "stdout"
        },
        {
          "output_type": "stream",
          "text": [
            "\n",
            "loss=0.08914472162723541 batch_id=263:  56%|█████▌    | 262/469 [00:15<00:11, 17.70it/s]\u001b[A\n",
            "loss=0.08914472162723541 batch_id=263:  56%|█████▋    | 264/469 [00:15<00:11, 18.01it/s]\u001b[A\n",
            "loss=0.09398172050714493 batch_id=264:  56%|█████▋    | 264/469 [00:15<00:11, 18.01it/s]\u001b[A\n",
            "loss=0.0835801213979721 batch_id=265:  56%|█████▋    | 264/469 [00:15<00:11, 18.01it/s] \u001b[A\n",
            "loss=0.0835801213979721 batch_id=265:  57%|█████▋    | 266/469 [00:15<00:11, 17.51it/s]\u001b[A\n",
            "loss=0.0900237038731575 batch_id=266:  57%|█████▋    | 266/469 [00:15<00:11, 17.51it/s]\u001b[A"
          ],
          "name": "stderr"
        },
        {
          "output_type": "stream",
          "text": [
            "\n",
            "Train set: Total loss: 186.7837, Accuracy: 26633/60000 (44.3883%)\n",
            "\n",
            "Train set: Total loss: 186.8777, Accuracy: 26758/60000 (44.5967%)\n",
            "\n",
            "Train set: Total loss: 186.9613, Accuracy: 26881/60000 (44.8017%)\n",
            "\n",
            "Train set: Total loss: 187.0513, Accuracy: 27005/60000 (45.0083%)\n"
          ],
          "name": "stdout"
        },
        {
          "output_type": "stream",
          "text": [
            "\n",
            "loss=0.12311145663261414 batch_id=267:  57%|█████▋    | 266/469 [00:15<00:11, 17.51it/s]\u001b[A\n",
            "loss=0.12311145663261414 batch_id=267:  57%|█████▋    | 268/469 [00:15<00:11, 17.79it/s]\u001b[A\n",
            "loss=0.15584276616573334 batch_id=268:  57%|█████▋    | 268/469 [00:15<00:11, 17.79it/s]\u001b[A\n",
            "loss=0.16369757056236267 batch_id=269:  57%|█████▋    | 268/469 [00:15<00:11, 17.79it/s]\u001b[A\n",
            "loss=0.16369757056236267 batch_id=269:  58%|█████▊    | 270/469 [00:15<00:11, 17.87it/s]\u001b[A\n",
            "loss=0.06540745496749878 batch_id=270:  58%|█████▊    | 270/469 [00:15<00:11, 17.87it/s]\u001b[A"
          ],
          "name": "stderr"
        },
        {
          "output_type": "stream",
          "text": [
            "\n",
            "Train set: Total loss: 187.1744, Accuracy: 27128/60000 (45.2133%)\n",
            "\n",
            "Train set: Total loss: 187.3302, Accuracy: 27248/60000 (45.4133%)\n",
            "\n",
            "Train set: Total loss: 187.4939, Accuracy: 27369/60000 (45.6150%)\n",
            "\n",
            "Train set: Total loss: 187.5594, Accuracy: 27494/60000 (45.8233%)\n"
          ],
          "name": "stdout"
        },
        {
          "output_type": "stream",
          "text": [
            "\n",
            "loss=0.1074952706694603 batch_id=271:  58%|█████▊    | 270/469 [00:15<00:11, 17.87it/s] \u001b[A\n",
            "loss=0.1074952706694603 batch_id=271:  58%|█████▊    | 272/469 [00:15<00:10, 18.22it/s]\u001b[A\n",
            "loss=0.06425027549266815 batch_id=272:  58%|█████▊    | 272/469 [00:15<00:10, 18.22it/s]\u001b[A\n",
            "loss=0.08626417815685272 batch_id=273:  58%|█████▊    | 272/469 [00:15<00:10, 18.22it/s]\u001b[A\n",
            "loss=0.08626417815685272 batch_id=273:  58%|█████▊    | 274/469 [00:15<00:10, 17.92it/s]\u001b[A\n",
            "loss=0.18532784283161163 batch_id=274:  58%|█████▊    | 274/469 [00:15<00:10, 17.92it/s]\u001b[A"
          ],
          "name": "stderr"
        },
        {
          "output_type": "stream",
          "text": [
            "\n",
            "Train set: Total loss: 187.6669, Accuracy: 27618/60000 (46.0300%)\n",
            "\n",
            "Train set: Total loss: 187.7311, Accuracy: 27743/60000 (46.2383%)\n",
            "\n",
            "Train set: Total loss: 187.8174, Accuracy: 27866/60000 (46.4433%)\n",
            "\n",
            "Train set: Total loss: 188.0027, Accuracy: 27986/60000 (46.6433%)\n"
          ],
          "name": "stdout"
        },
        {
          "output_type": "stream",
          "text": [
            "\n",
            "loss=0.052372753620147705 batch_id=275:  58%|█████▊    | 274/469 [00:15<00:10, 17.92it/s]\u001b[A\n",
            "loss=0.052372753620147705 batch_id=275:  59%|█████▉    | 276/469 [00:15<00:11, 17.52it/s]\u001b[A\n",
            "loss=0.1077057495713234 batch_id=276:  59%|█████▉    | 276/469 [00:15<00:11, 17.52it/s]  \u001b[A\n",
            "loss=0.1542513519525528 batch_id=277:  59%|█████▉    | 276/469 [00:15<00:11, 17.52it/s]\u001b[A\n",
            "loss=0.1542513519525528 batch_id=277:  59%|█████▉    | 278/469 [00:15<00:10, 17.92it/s]\u001b[A\n",
            "loss=0.1272740215063095 batch_id=278:  59%|█████▉    | 278/469 [00:15<00:10, 17.92it/s]\u001b[A"
          ],
          "name": "stderr"
        },
        {
          "output_type": "stream",
          "text": [
            "\n",
            "Train set: Total loss: 188.0551, Accuracy: 28112/60000 (46.8533%)\n",
            "\n",
            "Train set: Total loss: 188.1628, Accuracy: 28236/60000 (47.0600%)\n",
            "\n",
            "Train set: Total loss: 188.3170, Accuracy: 28357/60000 (47.2617%)\n",
            "\n",
            "Train set: Total loss: 188.4443, Accuracy: 28480/60000 (47.4667%)\n"
          ],
          "name": "stdout"
        },
        {
          "output_type": "stream",
          "text": [
            "\n",
            "loss=0.10003817081451416 batch_id=279:  59%|█████▉    | 278/469 [00:15<00:10, 17.92it/s]\u001b[A\n",
            "loss=0.10003817081451416 batch_id=279:  60%|█████▉    | 280/469 [00:15<00:10, 17.59it/s]\u001b[A\n",
            "loss=0.09050291031599045 batch_id=280:  60%|█████▉    | 280/469 [00:15<00:10, 17.59it/s]\u001b[A\n",
            "loss=0.07813068479299545 batch_id=281:  60%|█████▉    | 280/469 [00:16<00:10, 17.59it/s]\u001b[A\n",
            "loss=0.07813068479299545 batch_id=281:  60%|██████    | 282/469 [00:16<00:10, 17.89it/s]\u001b[A\n",
            "loss=0.1161523386836052 batch_id=282:  60%|██████    | 282/469 [00:16<00:10, 17.89it/s] \u001b[A"
          ],
          "name": "stderr"
        },
        {
          "output_type": "stream",
          "text": [
            "\n",
            "Train set: Total loss: 188.5443, Accuracy: 28605/60000 (47.6750%)\n",
            "\n",
            "Train set: Total loss: 188.6348, Accuracy: 28730/60000 (47.8833%)\n",
            "\n",
            "Train set: Total loss: 188.7130, Accuracy: 28854/60000 (48.0900%)\n",
            "\n",
            "Train set: Total loss: 188.8291, Accuracy: 28978/60000 (48.2967%)\n"
          ],
          "name": "stdout"
        },
        {
          "output_type": "stream",
          "text": [
            "\n",
            "loss=0.07034757733345032 batch_id=283:  60%|██████    | 282/469 [00:16<00:10, 17.89it/s]\u001b[A\n",
            "loss=0.07034757733345032 batch_id=283:  61%|██████    | 284/469 [00:16<00:10, 17.22it/s]\u001b[A\n",
            "loss=0.05477346107363701 batch_id=284:  61%|██████    | 284/469 [00:16<00:10, 17.22it/s]\u001b[A\n",
            "loss=0.24012354016304016 batch_id=285:  61%|██████    | 284/469 [00:16<00:10, 17.22it/s]\u001b[A\n",
            "loss=0.24012354016304016 batch_id=285:  61%|██████    | 286/469 [00:16<00:10, 17.88it/s]\u001b[A\n",
            "loss=0.08706092834472656 batch_id=286:  61%|██████    | 286/469 [00:16<00:10, 17.88it/s]\u001b[A"
          ],
          "name": "stderr"
        },
        {
          "output_type": "stream",
          "text": [
            "\n",
            "Train set: Total loss: 188.8995, Accuracy: 29102/60000 (48.5033%)\n",
            "\n",
            "Train set: Total loss: 188.9542, Accuracy: 29229/60000 (48.7150%)\n",
            "\n",
            "Train set: Total loss: 189.1944, Accuracy: 29346/60000 (48.9100%)\n",
            "\n",
            "Train set: Total loss: 189.2814, Accuracy: 29472/60000 (49.1200%)\n"
          ],
          "name": "stdout"
        },
        {
          "output_type": "stream",
          "text": [
            "\n",
            "loss=0.0693759098649025 batch_id=287:  61%|██████    | 286/469 [00:16<00:10, 17.88it/s] \u001b[A\n",
            "loss=0.0693759098649025 batch_id=287:  61%|██████▏   | 288/469 [00:16<00:10, 17.61it/s]\u001b[A\n",
            "loss=0.05967305973172188 batch_id=288:  61%|██████▏   | 288/469 [00:16<00:10, 17.61it/s]\u001b[A\n",
            "loss=0.08130866289138794 batch_id=289:  61%|██████▏   | 288/469 [00:16<00:10, 17.61it/s]\u001b[A\n",
            "loss=0.08130866289138794 batch_id=289:  62%|██████▏   | 290/469 [00:16<00:10, 17.88it/s]\u001b[A\n",
            "loss=0.07357439398765564 batch_id=290:  62%|██████▏   | 290/469 [00:16<00:10, 17.88it/s]\u001b[A\n"
          ],
          "name": "stderr"
        },
        {
          "output_type": "stream",
          "text": [
            "\n",
            "Train set: Total loss: 189.3508, Accuracy: 29597/60000 (49.3283%)\n",
            "\n",
            "Train set: Total loss: 189.4105, Accuracy: 29721/60000 (49.5350%)\n",
            "\n",
            "Train set: Total loss: 189.4918, Accuracy: 29846/60000 (49.7433%)\n",
            "\n",
            "Train set: Total loss: 189.5654, Accuracy: 29969/60000 (49.9483%)\n"
          ],
          "name": "stdout"
        },
        {
          "output_type": "stream",
          "text": [
            "loss=0.1579524427652359 batch_id=291:  62%|██████▏   | 290/469 [00:16<00:10, 17.88it/s] \u001b[A\n",
            "loss=0.1579524427652359 batch_id=291:  62%|██████▏   | 292/469 [00:16<00:09, 18.11it/s]\u001b[A\n",
            "loss=0.16172167658805847 batch_id=292:  62%|██████▏   | 292/469 [00:16<00:09, 18.11it/s]\u001b[A\n",
            "loss=0.17823515832424164 batch_id=293:  62%|██████▏   | 292/469 [00:16<00:09, 18.11it/s]\u001b[A\n",
            "loss=0.17823515832424164 batch_id=293:  63%|██████▎   | 294/469 [00:16<00:09, 18.53it/s]\u001b[A\n",
            "loss=0.17055658996105194 batch_id=294:  63%|██████▎   | 294/469 [00:16<00:09, 18.53it/s]\u001b[A"
          ],
          "name": "stderr"
        },
        {
          "output_type": "stream",
          "text": [
            "\n",
            "Train set: Total loss: 189.7233, Accuracy: 30091/60000 (50.1517%)\n",
            "\n",
            "Train set: Total loss: 189.8851, Accuracy: 30212/60000 (50.3533%)\n",
            "\n",
            "Train set: Total loss: 190.0633, Accuracy: 30335/60000 (50.5583%)\n",
            "\n",
            "Train set: Total loss: 190.2339, Accuracy: 30453/60000 (50.7550%)\n"
          ],
          "name": "stdout"
        },
        {
          "output_type": "stream",
          "text": [
            "\n",
            "loss=0.03825721517205238 batch_id=295:  63%|██████▎   | 294/469 [00:16<00:09, 18.53it/s]\u001b[A\n",
            "loss=0.03825721517205238 batch_id=295:  63%|██████▎   | 296/469 [00:16<00:09, 18.41it/s]\u001b[A\n",
            "loss=0.06811949610710144 batch_id=296:  63%|██████▎   | 296/469 [00:16<00:09, 18.41it/s]\u001b[A\n",
            "loss=0.1538296937942505 batch_id=297:  63%|██████▎   | 296/469 [00:16<00:09, 18.41it/s] \u001b[A\n",
            "loss=0.1538296937942505 batch_id=297:  64%|██████▎   | 298/469 [00:16<00:09, 18.20it/s]\u001b[A\n",
            "loss=0.11291685700416565 batch_id=298:  64%|██████▎   | 298/469 [00:16<00:09, 18.20it/s]\u001b[A"
          ],
          "name": "stderr"
        },
        {
          "output_type": "stream",
          "text": [
            "\n",
            "Train set: Total loss: 190.2721, Accuracy: 30581/60000 (50.9683%)\n",
            "\n",
            "Train set: Total loss: 190.3402, Accuracy: 30707/60000 (51.1783%)\n",
            "\n",
            "Train set: Total loss: 190.4941, Accuracy: 30830/60000 (51.3833%)\n",
            "\n",
            "Train set: Total loss: 190.6070, Accuracy: 30955/60000 (51.5917%)\n"
          ],
          "name": "stdout"
        },
        {
          "output_type": "stream",
          "text": [
            "\n",
            "loss=0.09472248703241348 batch_id=299:  64%|██████▎   | 298/469 [00:17<00:09, 18.20it/s]\u001b[A\n",
            "loss=0.09472248703241348 batch_id=299:  64%|██████▍   | 300/469 [00:17<00:09, 18.18it/s]\u001b[A\n",
            "loss=0.0911838561296463 batch_id=300:  64%|██████▍   | 300/469 [00:17<00:09, 18.18it/s] \u001b[A\n",
            "loss=0.10135435312986374 batch_id=301:  64%|██████▍   | 300/469 [00:17<00:09, 18.18it/s]\u001b[A\n",
            "loss=0.10135435312986374 batch_id=301:  64%|██████▍   | 302/469 [00:17<00:09, 17.33it/s]\u001b[A\n",
            "loss=0.10383981466293335 batch_id=302:  64%|██████▍   | 302/469 [00:17<00:09, 17.33it/s]\u001b[A"
          ],
          "name": "stderr"
        },
        {
          "output_type": "stream",
          "text": [
            "\n",
            "Train set: Total loss: 190.7017, Accuracy: 31079/60000 (51.7983%)\n",
            "\n",
            "Train set: Total loss: 190.7929, Accuracy: 31204/60000 (52.0067%)\n",
            "\n",
            "Train set: Total loss: 190.8942, Accuracy: 31329/60000 (52.2150%)\n",
            "\n",
            "Train set: Total loss: 190.9981, Accuracy: 31452/60000 (52.4200%)\n"
          ],
          "name": "stdout"
        },
        {
          "output_type": "stream",
          "text": [
            "\n",
            "loss=0.06863318383693695 batch_id=303:  64%|██████▍   | 302/469 [00:17<00:09, 17.33it/s]\u001b[A\n",
            "loss=0.06863318383693695 batch_id=303:  65%|██████▍   | 304/469 [00:17<00:09, 17.38it/s]\u001b[A\n",
            "loss=0.08132625371217728 batch_id=304:  65%|██████▍   | 304/469 [00:17<00:09, 17.38it/s]\u001b[A\n",
            "loss=0.026266105473041534 batch_id=305:  65%|██████▍   | 304/469 [00:17<00:09, 17.38it/s]\u001b[A\n",
            "loss=0.026266105473041534 batch_id=305:  65%|██████▌   | 306/469 [00:17<00:09, 17.76it/s]\u001b[A\n",
            "loss=0.11569110304117203 batch_id=306:  65%|██████▌   | 306/469 [00:17<00:09, 17.76it/s] \u001b[A"
          ],
          "name": "stderr"
        },
        {
          "output_type": "stream",
          "text": [
            "\n",
            "Train set: Total loss: 191.0667, Accuracy: 31575/60000 (52.6250%)\n",
            "\n",
            "Train set: Total loss: 191.1480, Accuracy: 31700/60000 (52.8333%)\n",
            "\n",
            "Train set: Total loss: 191.1743, Accuracy: 31828/60000 (53.0467%)\n",
            "\n",
            "Train set: Total loss: 191.2900, Accuracy: 31953/60000 (53.2550%)\n"
          ],
          "name": "stdout"
        },
        {
          "output_type": "stream",
          "text": [
            "\n",
            "loss=0.02776792086660862 batch_id=307:  65%|██████▌   | 306/469 [00:17<00:09, 17.76it/s]\u001b[A\n",
            "loss=0.02776792086660862 batch_id=307:  66%|██████▌   | 308/469 [00:17<00:08, 17.94it/s]\u001b[A\n",
            "loss=0.17637673020362854 batch_id=308:  66%|██████▌   | 308/469 [00:17<00:08, 17.94it/s]\u001b[A\n",
            "loss=0.15237756073474884 batch_id=309:  66%|██████▌   | 308/469 [00:17<00:08, 17.94it/s]\u001b[A\n",
            "loss=0.15237756073474884 batch_id=309:  66%|██████▌   | 310/469 [00:17<00:08, 17.72it/s]\u001b[A\n",
            "loss=0.18512389063835144 batch_id=310:  66%|██████▌   | 310/469 [00:17<00:08, 17.72it/s]\u001b[A"
          ],
          "name": "stderr"
        },
        {
          "output_type": "stream",
          "text": [
            "\n",
            "Train set: Total loss: 191.3178, Accuracy: 32080/60000 (53.4667%)\n",
            "\n",
            "Train set: Total loss: 191.4941, Accuracy: 32201/60000 (53.6683%)\n",
            "\n",
            "Train set: Total loss: 191.6465, Accuracy: 32325/60000 (53.8750%)\n",
            "\n",
            "Train set: Total loss: 191.8316, Accuracy: 32447/60000 (54.0783%)\n"
          ],
          "name": "stdout"
        },
        {
          "output_type": "stream",
          "text": [
            "\n",
            "loss=0.05287355184555054 batch_id=311:  66%|██████▌   | 310/469 [00:17<00:08, 17.72it/s]\u001b[A\n",
            "loss=0.05287355184555054 batch_id=311:  67%|██████▋   | 312/469 [00:17<00:08, 17.51it/s]\u001b[A\n",
            "loss=0.06180109828710556 batch_id=312:  67%|██████▋   | 312/469 [00:17<00:08, 17.51it/s]\u001b[A\n",
            "loss=0.06074278801679611 batch_id=313:  67%|██████▋   | 312/469 [00:17<00:08, 17.51it/s]\u001b[A\n",
            "loss=0.06074278801679611 batch_id=313:  67%|██████▋   | 314/469 [00:17<00:08, 17.66it/s]\u001b[A\n",
            "loss=0.057192642241716385 batch_id=314:  67%|██████▋   | 314/469 [00:17<00:08, 17.66it/s]\u001b[A"
          ],
          "name": "stderr"
        },
        {
          "output_type": "stream",
          "text": [
            "\n",
            "Train set: Total loss: 191.8845, Accuracy: 32571/60000 (54.2850%)\n",
            "\n",
            "Train set: Total loss: 191.9463, Accuracy: 32696/60000 (54.4933%)\n",
            "\n",
            "Train set: Total loss: 192.0070, Accuracy: 32822/60000 (54.7033%)\n",
            "\n",
            "Train set: Total loss: 192.0642, Accuracy: 32948/60000 (54.9133%)\n"
          ],
          "name": "stdout"
        },
        {
          "output_type": "stream",
          "text": [
            "\n",
            "loss=0.045982684940099716 batch_id=315:  67%|██████▋   | 314/469 [00:17<00:08, 17.66it/s]\u001b[A\n",
            "loss=0.045982684940099716 batch_id=315:  67%|██████▋   | 316/469 [00:17<00:08, 17.76it/s]\u001b[A\n",
            "loss=0.060280609875917435 batch_id=316:  67%|██████▋   | 316/469 [00:18<00:08, 17.76it/s]\u001b[A\n",
            "loss=0.15359747409820557 batch_id=317:  67%|██████▋   | 316/469 [00:18<00:08, 17.76it/s] \u001b[A\n",
            "loss=0.15359747409820557 batch_id=317:  68%|██████▊   | 318/469 [00:18<00:08, 18.11it/s]\u001b[A\n",
            "loss=0.09510160982608795 batch_id=318:  68%|██████▊   | 318/469 [00:18<00:08, 18.11it/s]\u001b[A"
          ],
          "name": "stderr"
        },
        {
          "output_type": "stream",
          "text": [
            "\n",
            "Train set: Total loss: 192.1102, Accuracy: 33073/60000 (55.1217%)\n",
            "\n",
            "Train set: Total loss: 192.1705, Accuracy: 33197/60000 (55.3283%)\n",
            "\n",
            "Train set: Total loss: 192.3241, Accuracy: 33321/60000 (55.5350%)\n",
            "\n",
            "Train set: Total loss: 192.4192, Accuracy: 33447/60000 (55.7450%)\n"
          ],
          "name": "stdout"
        },
        {
          "output_type": "stream",
          "text": [
            "\n",
            "loss=0.06465990096330643 batch_id=319:  68%|██████▊   | 318/469 [00:18<00:08, 18.11it/s]\u001b[A\n",
            "loss=0.06465990096330643 batch_id=319:  68%|██████▊   | 320/469 [00:18<00:08, 17.75it/s]\u001b[A\n",
            "loss=0.08304620534181595 batch_id=320:  68%|██████▊   | 320/469 [00:18<00:08, 17.75it/s]\u001b[A\n",
            "loss=0.25941911339759827 batch_id=321:  68%|██████▊   | 320/469 [00:18<00:08, 17.75it/s]\u001b[A\n",
            "loss=0.25941911339759827 batch_id=321:  69%|██████▊   | 322/469 [00:18<00:08, 17.19it/s]\u001b[A\n",
            "loss=0.0980200543999672 batch_id=322:  69%|██████▊   | 322/469 [00:18<00:08, 17.19it/s] \u001b[A"
          ],
          "name": "stderr"
        },
        {
          "output_type": "stream",
          "text": [
            "\n",
            "Train set: Total loss: 192.4839, Accuracy: 33574/60000 (55.9567%)\n",
            "\n",
            "Train set: Total loss: 192.5669, Accuracy: 33698/60000 (56.1633%)\n",
            "\n",
            "Train set: Total loss: 192.8264, Accuracy: 33817/60000 (56.3617%)\n",
            "\n",
            "Train set: Total loss: 192.9244, Accuracy: 33941/60000 (56.5683%)\n"
          ],
          "name": "stdout"
        },
        {
          "output_type": "stream",
          "text": [
            "\n",
            "loss=0.08987900614738464 batch_id=323:  69%|██████▊   | 322/469 [00:18<00:08, 17.19it/s]\u001b[A\n",
            "loss=0.08987900614738464 batch_id=323:  69%|██████▉   | 324/469 [00:18<00:08, 17.07it/s]\u001b[A\n",
            "loss=0.1103043258190155 batch_id=324:  69%|██████▉   | 324/469 [00:18<00:08, 17.07it/s] \u001b[A\n",
            "loss=0.12614981830120087 batch_id=325:  69%|██████▉   | 324/469 [00:18<00:08, 17.07it/s]\u001b[A\n",
            "loss=0.12614981830120087 batch_id=325:  70%|██████▉   | 326/469 [00:18<00:08, 17.72it/s]\u001b[A\n",
            "loss=0.11762338131666183 batch_id=326:  70%|██████▉   | 326/469 [00:18<00:08, 17.72it/s]\u001b[A"
          ],
          "name": "stderr"
        },
        {
          "output_type": "stream",
          "text": [
            "\n",
            "Train set: Total loss: 193.0143, Accuracy: 34063/60000 (56.7717%)\n",
            "\n",
            "Train set: Total loss: 193.1246, Accuracy: 34185/60000 (56.9750%)\n",
            "\n",
            "Train set: Total loss: 193.2507, Accuracy: 34307/60000 (57.1783%)\n",
            "\n",
            "Train set: Total loss: 193.3683, Accuracy: 34431/60000 (57.3850%)\n"
          ],
          "name": "stdout"
        },
        {
          "output_type": "stream",
          "text": [
            "\n",
            "loss=0.12203167378902435 batch_id=327:  70%|██████▉   | 326/469 [00:18<00:08, 17.72it/s]\u001b[A\n",
            "loss=0.12203167378902435 batch_id=327:  70%|██████▉   | 328/469 [00:18<00:07, 17.78it/s]\u001b[A"
          ],
          "name": "stderr"
        },
        {
          "output_type": "stream",
          "text": [
            "\n",
            "Train set: Total loss: 193.4904, Accuracy: 34554/60000 (57.5900%)\n"
          ],
          "name": "stdout"
        },
        {
          "output_type": "error",
          "ename": "KeyboardInterrupt",
          "evalue": "ignored",
          "traceback": [
            "\u001b[0;31m---------------------------------------------------------------------------\u001b[0m",
            "\u001b[0;31mKeyboardInterrupt\u001b[0m                         Traceback (most recent call last)",
            "\u001b[0;32m<ipython-input-9-a3d8e4f5ba2a>\u001b[0m in \u001b[0;36m<module>\u001b[0;34m()\u001b[0m\n\u001b[1;32m      4\u001b[0m \u001b[0;34m\u001b[0m\u001b[0m\n\u001b[1;32m      5\u001b[0m \u001b[0;32mfor\u001b[0m \u001b[0mepoch\u001b[0m \u001b[0;32min\u001b[0m \u001b[0mrange\u001b[0m\u001b[0;34m(\u001b[0m\u001b[0;36m1\u001b[0m\u001b[0;34m,\u001b[0m \u001b[0;36m21\u001b[0m\u001b[0;34m)\u001b[0m\u001b[0;34m:\u001b[0m\u001b[0;34m\u001b[0m\u001b[0;34m\u001b[0m\u001b[0m\n\u001b[0;32m----> 6\u001b[0;31m     \u001b[0mtrain\u001b[0m\u001b[0;34m(\u001b[0m\u001b[0mmodel\u001b[0m\u001b[0;34m,\u001b[0m \u001b[0mdevice\u001b[0m\u001b[0;34m,\u001b[0m \u001b[0mtrain_loader\u001b[0m\u001b[0;34m,\u001b[0m \u001b[0moptimizer\u001b[0m\u001b[0;34m,\u001b[0m \u001b[0mepoch\u001b[0m\u001b[0;34m)\u001b[0m\u001b[0;34m\u001b[0m\u001b[0;34m\u001b[0m\u001b[0m\n\u001b[0m\u001b[1;32m      7\u001b[0m \u001b[0mtest\u001b[0m\u001b[0;34m(\u001b[0m\u001b[0mmodel\u001b[0m\u001b[0;34m,\u001b[0m \u001b[0mdevice\u001b[0m\u001b[0;34m,\u001b[0m \u001b[0mtest_loader\u001b[0m\u001b[0;34m)\u001b[0m\u001b[0;34m\u001b[0m\u001b[0;34m\u001b[0m\u001b[0m\n",
            "\u001b[0;32m<ipython-input-8-d6c23db0fa03>\u001b[0m in \u001b[0;36mtrain\u001b[0;34m(model, device, train_loader, optimizer, epoch)\u001b[0m\n\u001b[1;32m      8\u001b[0m     \u001b[0mtotal_correct\u001b[0m \u001b[0;34m=\u001b[0m \u001b[0;36m0\u001b[0m\u001b[0;34m\u001b[0m\u001b[0;34m\u001b[0m\u001b[0m\n\u001b[1;32m      9\u001b[0m     \u001b[0mpbar\u001b[0m \u001b[0;34m=\u001b[0m \u001b[0mtqdm\u001b[0m\u001b[0;34m(\u001b[0m\u001b[0mtrain_loader\u001b[0m\u001b[0;34m)\u001b[0m\u001b[0;34m\u001b[0m\u001b[0;34m\u001b[0m\u001b[0m\n\u001b[0;32m---> 10\u001b[0;31m     \u001b[0;32mfor\u001b[0m \u001b[0mbatch_idx\u001b[0m\u001b[0;34m,\u001b[0m \u001b[0;34m(\u001b[0m\u001b[0mdata\u001b[0m\u001b[0;34m,\u001b[0m \u001b[0mtarget\u001b[0m\u001b[0;34m)\u001b[0m \u001b[0;32min\u001b[0m \u001b[0menumerate\u001b[0m\u001b[0;34m(\u001b[0m\u001b[0mpbar\u001b[0m\u001b[0;34m)\u001b[0m\u001b[0;34m:\u001b[0m\u001b[0;34m\u001b[0m\u001b[0;34m\u001b[0m\u001b[0m\n\u001b[0m\u001b[1;32m     11\u001b[0m         \u001b[0mdata\u001b[0m\u001b[0;34m,\u001b[0m \u001b[0mtarget\u001b[0m \u001b[0;34m=\u001b[0m \u001b[0mdata\u001b[0m\u001b[0;34m.\u001b[0m\u001b[0mto\u001b[0m\u001b[0;34m(\u001b[0m\u001b[0mdevice\u001b[0m\u001b[0;34m)\u001b[0m\u001b[0;34m,\u001b[0m \u001b[0mtarget\u001b[0m\u001b[0;34m.\u001b[0m\u001b[0mto\u001b[0m\u001b[0;34m(\u001b[0m\u001b[0mdevice\u001b[0m\u001b[0;34m)\u001b[0m \u001b[0;31m#Loading the images and targets on the GPU\u001b[0m\u001b[0;34m\u001b[0m\u001b[0;34m\u001b[0m\u001b[0m\n\u001b[1;32m     12\u001b[0m         \u001b[0moptimizer\u001b[0m\u001b[0;34m.\u001b[0m\u001b[0mzero_grad\u001b[0m\u001b[0;34m(\u001b[0m\u001b[0;34m)\u001b[0m\u001b[0;34m\u001b[0m\u001b[0;34m\u001b[0m\u001b[0m\n",
            "\u001b[0;32m/usr/local/lib/python3.6/dist-packages/tqdm/std.py\u001b[0m in \u001b[0;36m__iter__\u001b[0;34m(self)\u001b[0m\n\u001b[1;32m   1102\u001b[0m                 fp_write=getattr(self.fp, 'write', sys.stderr.write))\n\u001b[1;32m   1103\u001b[0m \u001b[0;34m\u001b[0m\u001b[0m\n\u001b[0;32m-> 1104\u001b[0;31m         \u001b[0;32mfor\u001b[0m \u001b[0mobj\u001b[0m \u001b[0;32min\u001b[0m \u001b[0miterable\u001b[0m\u001b[0;34m:\u001b[0m\u001b[0;34m\u001b[0m\u001b[0;34m\u001b[0m\u001b[0m\n\u001b[0m\u001b[1;32m   1105\u001b[0m             \u001b[0;32myield\u001b[0m \u001b[0mobj\u001b[0m\u001b[0;34m\u001b[0m\u001b[0;34m\u001b[0m\u001b[0m\n\u001b[1;32m   1106\u001b[0m             \u001b[0;31m# Update and possibly print the progressbar.\u001b[0m\u001b[0;34m\u001b[0m\u001b[0;34m\u001b[0m\u001b[0;34m\u001b[0m\u001b[0m\n",
            "\u001b[0;32m/usr/local/lib/python3.6/dist-packages/torch/utils/data/dataloader.py\u001b[0m in \u001b[0;36m__next__\u001b[0;34m(self)\u001b[0m\n\u001b[1;32m    433\u001b[0m         \u001b[0;32mif\u001b[0m \u001b[0mself\u001b[0m\u001b[0;34m.\u001b[0m\u001b[0m_sampler_iter\u001b[0m \u001b[0;32mis\u001b[0m \u001b[0;32mNone\u001b[0m\u001b[0;34m:\u001b[0m\u001b[0;34m\u001b[0m\u001b[0;34m\u001b[0m\u001b[0m\n\u001b[1;32m    434\u001b[0m             \u001b[0mself\u001b[0m\u001b[0;34m.\u001b[0m\u001b[0m_reset\u001b[0m\u001b[0;34m(\u001b[0m\u001b[0;34m)\u001b[0m\u001b[0;34m\u001b[0m\u001b[0;34m\u001b[0m\u001b[0m\n\u001b[0;32m--> 435\u001b[0;31m         \u001b[0mdata\u001b[0m \u001b[0;34m=\u001b[0m \u001b[0mself\u001b[0m\u001b[0;34m.\u001b[0m\u001b[0m_next_data\u001b[0m\u001b[0;34m(\u001b[0m\u001b[0;34m)\u001b[0m\u001b[0;34m\u001b[0m\u001b[0;34m\u001b[0m\u001b[0m\n\u001b[0m\u001b[1;32m    436\u001b[0m         \u001b[0mself\u001b[0m\u001b[0;34m.\u001b[0m\u001b[0m_num_yielded\u001b[0m \u001b[0;34m+=\u001b[0m \u001b[0;36m1\u001b[0m\u001b[0;34m\u001b[0m\u001b[0;34m\u001b[0m\u001b[0m\n\u001b[1;32m    437\u001b[0m         \u001b[0;32mif\u001b[0m \u001b[0mself\u001b[0m\u001b[0;34m.\u001b[0m\u001b[0m_dataset_kind\u001b[0m \u001b[0;34m==\u001b[0m \u001b[0m_DatasetKind\u001b[0m\u001b[0;34m.\u001b[0m\u001b[0mIterable\u001b[0m \u001b[0;32mand\u001b[0m\u001b[0;31m \u001b[0m\u001b[0;31m\\\u001b[0m\u001b[0;34m\u001b[0m\u001b[0;34m\u001b[0m\u001b[0m\n",
            "\u001b[0;32m/usr/local/lib/python3.6/dist-packages/torch/utils/data/dataloader.py\u001b[0m in \u001b[0;36m_next_data\u001b[0;34m(self)\u001b[0m\n\u001b[1;32m   1066\u001b[0m \u001b[0;34m\u001b[0m\u001b[0m\n\u001b[1;32m   1067\u001b[0m             \u001b[0;32massert\u001b[0m \u001b[0;32mnot\u001b[0m \u001b[0mself\u001b[0m\u001b[0;34m.\u001b[0m\u001b[0m_shutdown\u001b[0m \u001b[0;32mand\u001b[0m \u001b[0mself\u001b[0m\u001b[0;34m.\u001b[0m\u001b[0m_tasks_outstanding\u001b[0m \u001b[0;34m>\u001b[0m \u001b[0;36m0\u001b[0m\u001b[0;34m\u001b[0m\u001b[0;34m\u001b[0m\u001b[0m\n\u001b[0;32m-> 1068\u001b[0;31m             \u001b[0midx\u001b[0m\u001b[0;34m,\u001b[0m \u001b[0mdata\u001b[0m \u001b[0;34m=\u001b[0m \u001b[0mself\u001b[0m\u001b[0;34m.\u001b[0m\u001b[0m_get_data\u001b[0m\u001b[0;34m(\u001b[0m\u001b[0;34m)\u001b[0m\u001b[0;34m\u001b[0m\u001b[0;34m\u001b[0m\u001b[0m\n\u001b[0m\u001b[1;32m   1069\u001b[0m             \u001b[0mself\u001b[0m\u001b[0;34m.\u001b[0m\u001b[0m_tasks_outstanding\u001b[0m \u001b[0;34m-=\u001b[0m \u001b[0;36m1\u001b[0m\u001b[0;34m\u001b[0m\u001b[0;34m\u001b[0m\u001b[0m\n\u001b[1;32m   1070\u001b[0m             \u001b[0;32mif\u001b[0m \u001b[0mself\u001b[0m\u001b[0;34m.\u001b[0m\u001b[0m_dataset_kind\u001b[0m \u001b[0;34m==\u001b[0m \u001b[0m_DatasetKind\u001b[0m\u001b[0;34m.\u001b[0m\u001b[0mIterable\u001b[0m\u001b[0;34m:\u001b[0m\u001b[0;34m\u001b[0m\u001b[0;34m\u001b[0m\u001b[0m\n",
            "\u001b[0;32m/usr/local/lib/python3.6/dist-packages/torch/utils/data/dataloader.py\u001b[0m in \u001b[0;36m_get_data\u001b[0;34m(self)\u001b[0m\n\u001b[1;32m   1022\u001b[0m         \u001b[0;32melif\u001b[0m \u001b[0mself\u001b[0m\u001b[0;34m.\u001b[0m\u001b[0m_pin_memory\u001b[0m\u001b[0;34m:\u001b[0m\u001b[0;34m\u001b[0m\u001b[0;34m\u001b[0m\u001b[0m\n\u001b[1;32m   1023\u001b[0m             \u001b[0;32mwhile\u001b[0m \u001b[0mself\u001b[0m\u001b[0;34m.\u001b[0m\u001b[0m_pin_memory_thread\u001b[0m\u001b[0;34m.\u001b[0m\u001b[0mis_alive\u001b[0m\u001b[0;34m(\u001b[0m\u001b[0;34m)\u001b[0m\u001b[0;34m:\u001b[0m\u001b[0;34m\u001b[0m\u001b[0;34m\u001b[0m\u001b[0m\n\u001b[0;32m-> 1024\u001b[0;31m                 \u001b[0msuccess\u001b[0m\u001b[0;34m,\u001b[0m \u001b[0mdata\u001b[0m \u001b[0;34m=\u001b[0m \u001b[0mself\u001b[0m\u001b[0;34m.\u001b[0m\u001b[0m_try_get_data\u001b[0m\u001b[0;34m(\u001b[0m\u001b[0;34m)\u001b[0m\u001b[0;34m\u001b[0m\u001b[0;34m\u001b[0m\u001b[0m\n\u001b[0m\u001b[1;32m   1025\u001b[0m                 \u001b[0;32mif\u001b[0m \u001b[0msuccess\u001b[0m\u001b[0;34m:\u001b[0m\u001b[0;34m\u001b[0m\u001b[0;34m\u001b[0m\u001b[0m\n\u001b[1;32m   1026\u001b[0m                     \u001b[0;32mreturn\u001b[0m \u001b[0mdata\u001b[0m\u001b[0;34m\u001b[0m\u001b[0;34m\u001b[0m\u001b[0m\n",
            "\u001b[0;32m/usr/local/lib/python3.6/dist-packages/torch/utils/data/dataloader.py\u001b[0m in \u001b[0;36m_try_get_data\u001b[0;34m(self, timeout)\u001b[0m\n\u001b[1;32m    870\u001b[0m         \u001b[0;31m#   (bool: whether successfully get data, any: data if successful else None)\u001b[0m\u001b[0;34m\u001b[0m\u001b[0;34m\u001b[0m\u001b[0;34m\u001b[0m\u001b[0m\n\u001b[1;32m    871\u001b[0m         \u001b[0;32mtry\u001b[0m\u001b[0;34m:\u001b[0m\u001b[0;34m\u001b[0m\u001b[0;34m\u001b[0m\u001b[0m\n\u001b[0;32m--> 872\u001b[0;31m             \u001b[0mdata\u001b[0m \u001b[0;34m=\u001b[0m \u001b[0mself\u001b[0m\u001b[0;34m.\u001b[0m\u001b[0m_data_queue\u001b[0m\u001b[0;34m.\u001b[0m\u001b[0mget\u001b[0m\u001b[0;34m(\u001b[0m\u001b[0mtimeout\u001b[0m\u001b[0;34m=\u001b[0m\u001b[0mtimeout\u001b[0m\u001b[0;34m)\u001b[0m\u001b[0;34m\u001b[0m\u001b[0;34m\u001b[0m\u001b[0m\n\u001b[0m\u001b[1;32m    873\u001b[0m             \u001b[0;32mreturn\u001b[0m \u001b[0;34m(\u001b[0m\u001b[0;32mTrue\u001b[0m\u001b[0;34m,\u001b[0m \u001b[0mdata\u001b[0m\u001b[0;34m)\u001b[0m\u001b[0;34m\u001b[0m\u001b[0;34m\u001b[0m\u001b[0m\n\u001b[1;32m    874\u001b[0m         \u001b[0;32mexcept\u001b[0m \u001b[0mException\u001b[0m \u001b[0;32mas\u001b[0m \u001b[0me\u001b[0m\u001b[0;34m:\u001b[0m\u001b[0;34m\u001b[0m\u001b[0;34m\u001b[0m\u001b[0m\n",
            "\u001b[0;32m/usr/lib/python3.6/queue.py\u001b[0m in \u001b[0;36mget\u001b[0;34m(self, block, timeout)\u001b[0m\n\u001b[1;32m    171\u001b[0m                     \u001b[0;32mif\u001b[0m \u001b[0mremaining\u001b[0m \u001b[0;34m<=\u001b[0m \u001b[0;36m0.0\u001b[0m\u001b[0;34m:\u001b[0m\u001b[0;34m\u001b[0m\u001b[0;34m\u001b[0m\u001b[0m\n\u001b[1;32m    172\u001b[0m                         \u001b[0;32mraise\u001b[0m \u001b[0mEmpty\u001b[0m\u001b[0;34m\u001b[0m\u001b[0;34m\u001b[0m\u001b[0m\n\u001b[0;32m--> 173\u001b[0;31m                     \u001b[0mself\u001b[0m\u001b[0;34m.\u001b[0m\u001b[0mnot_empty\u001b[0m\u001b[0;34m.\u001b[0m\u001b[0mwait\u001b[0m\u001b[0;34m(\u001b[0m\u001b[0mremaining\u001b[0m\u001b[0;34m)\u001b[0m\u001b[0;34m\u001b[0m\u001b[0;34m\u001b[0m\u001b[0m\n\u001b[0m\u001b[1;32m    174\u001b[0m             \u001b[0mitem\u001b[0m \u001b[0;34m=\u001b[0m \u001b[0mself\u001b[0m\u001b[0;34m.\u001b[0m\u001b[0m_get\u001b[0m\u001b[0;34m(\u001b[0m\u001b[0;34m)\u001b[0m\u001b[0;34m\u001b[0m\u001b[0;34m\u001b[0m\u001b[0m\n\u001b[1;32m    175\u001b[0m             \u001b[0mself\u001b[0m\u001b[0;34m.\u001b[0m\u001b[0mnot_full\u001b[0m\u001b[0;34m.\u001b[0m\u001b[0mnotify\u001b[0m\u001b[0;34m(\u001b[0m\u001b[0;34m)\u001b[0m\u001b[0;34m\u001b[0m\u001b[0;34m\u001b[0m\u001b[0m\n",
            "\u001b[0;32m/usr/lib/python3.6/threading.py\u001b[0m in \u001b[0;36mwait\u001b[0;34m(self, timeout)\u001b[0m\n\u001b[1;32m    297\u001b[0m             \u001b[0;32melse\u001b[0m\u001b[0;34m:\u001b[0m\u001b[0;34m\u001b[0m\u001b[0;34m\u001b[0m\u001b[0m\n\u001b[1;32m    298\u001b[0m                 \u001b[0;32mif\u001b[0m \u001b[0mtimeout\u001b[0m \u001b[0;34m>\u001b[0m \u001b[0;36m0\u001b[0m\u001b[0;34m:\u001b[0m\u001b[0;34m\u001b[0m\u001b[0;34m\u001b[0m\u001b[0m\n\u001b[0;32m--> 299\u001b[0;31m                     \u001b[0mgotit\u001b[0m \u001b[0;34m=\u001b[0m \u001b[0mwaiter\u001b[0m\u001b[0;34m.\u001b[0m\u001b[0macquire\u001b[0m\u001b[0;34m(\u001b[0m\u001b[0;32mTrue\u001b[0m\u001b[0;34m,\u001b[0m \u001b[0mtimeout\u001b[0m\u001b[0;34m)\u001b[0m\u001b[0;34m\u001b[0m\u001b[0;34m\u001b[0m\u001b[0m\n\u001b[0m\u001b[1;32m    300\u001b[0m                 \u001b[0;32melse\u001b[0m\u001b[0;34m:\u001b[0m\u001b[0;34m\u001b[0m\u001b[0;34m\u001b[0m\u001b[0m\n\u001b[1;32m    301\u001b[0m                     \u001b[0mgotit\u001b[0m \u001b[0;34m=\u001b[0m \u001b[0mwaiter\u001b[0m\u001b[0;34m.\u001b[0m\u001b[0macquire\u001b[0m\u001b[0;34m(\u001b[0m\u001b[0;32mFalse\u001b[0m\u001b[0;34m)\u001b[0m\u001b[0;34m\u001b[0m\u001b[0;34m\u001b[0m\u001b[0m\n",
            "\u001b[0;31mKeyboardInterrupt\u001b[0m: "
          ]
        }
      ]
    },
    {
      "cell_type": "code",
      "metadata": {
        "id": "WQIKqEXah4AS"
      },
      "source": [
        ""
      ],
      "execution_count": null,
      "outputs": []
    }
  ]
}