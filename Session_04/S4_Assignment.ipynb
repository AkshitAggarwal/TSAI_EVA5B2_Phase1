{
  "nbformat": 4,
  "nbformat_minor": 0,
  "metadata": {
    "colab": {
      "name": "EVA4 - Session 2.ipynb",
      "provenance": [],
      "include_colab_link": true
    },
    "kernelspec": {
      "name": "python3",
      "display_name": "Python 3"
    },
    "accelerator": "GPU"
  },
  "cells": [
    {
      "cell_type": "markdown",
      "metadata": {
        "id": "view-in-github",
        "colab_type": "text"
      },
      "source": [
        "<a href=\"https://colab.research.google.com/github/AkshitAggarwal/TSAI_EVA5B2_Phase1/blob/main/Session_04/S4_Assignment.ipynb\" target=\"_parent\"><img src=\"https://colab.research.google.com/assets/colab-badge.svg\" alt=\"Open In Colab\"/></a>"
      ]
    },
    {
      "cell_type": "markdown",
      "metadata": {
        "id": "KPHO5fYXjjg2"
      },
      "source": [
        "Imports all necessary libraries and methods from Pytorch. "
      ]
    },
    {
      "cell_type": "code",
      "metadata": {
        "id": "0m2JWFliFfKT"
      },
      "source": [
        "from __future__ import print_function\n",
        "import torch\n",
        "import torch.nn as nn\n",
        "import torch.nn.functional as F\n",
        "import torch.optim as optim\n",
        "from torchvision import datasets, transforms"
      ],
      "execution_count": 1,
      "outputs": []
    },
    {
      "cell_type": "code",
      "metadata": {
        "id": "VZuhpG3vr4gw"
      },
      "source": [
        "class Net(nn.Module):\n",
        "    #Constructor function initializes an object of Net() and defines all the layers. \n",
        "    #Each layer is defined here separately and aren't connected to each other in any way yet. \n",
        "    def __init__(self):\n",
        "        super(Net, self).__init__()\n",
        "        self.convBlock1 = nn.Sequential(\n",
        "            nn.Conv2d(1, 16, 3, bias = False), #in_channel: 1,28,28; out_channel: 16,26,26; RF: 3\n",
        "            nn.ReLU(),\n",
        "            nn.BatchNorm2d(16),\n",
        "            nn.Dropout(0.1)\n",
        "        )  \n",
        "        self.convBlock2 = nn.Sequential(\n",
        "            nn.Conv2d(16, 16, 3, bias = False), #in_channel: 16,26,26; out_channel: 16,24,24; RF: 5\n",
        "            nn.ReLU(),\n",
        "            nn.BatchNorm2d(16),\n",
        "            nn.Dropout(0.1)\n",
        "        )\n",
        "        self.convBlock3 = nn.Sequential(\n",
        "            nn.Conv2d(16, 32, 3, bias = False), #in_channel: 16,24,24; out_channel: 32,22,22; RF: 12\n",
        "            nn.ReLU(),\n",
        "            nn.BatchNorm2d(32),\n",
        "            nn.Dropout(0.05)\n",
        "        )\n",
        "        self.pool1 = nn.MaxPool2d(2, 2) #in_channel: 32,22,22; out_channel: 32,11,11; RF: 10\n",
        "        self.convBlock4 = nn.Sequential(\n",
        "            nn.Conv2d(32, 32, 3, bias = False), #in_channel: 32,11,11; out_channel: 32,9,9; RF: 14\n",
        "            nn.ReLU(),\n",
        "            nn.BatchNorm2d(32),\n",
        "            nn.Dropout(0.05)\n",
        "        )\n",
        "        self.convBlock5 = nn.Sequential(\n",
        "            nn.Conv2d(32, 10, 3, bias = False), #in_channel: 32,9,9; out_channel: 10,7,7; RF: 30\n",
        "            nn.ReLU(),\n",
        "            nn.BatchNorm2d(10),\n",
        "            nn.Dropout(0.1)\n",
        "        )\n",
        "        self.gap = nn.AvgPool2d((7, 7)) #in_channel: 10,7,7; out_channel: 10,1,1; RF: ?\n",
        "        self.convBlock6 = nn.Conv2d(10, 20, 1, bias = False) #in_channel: 10,1,1; out_channel: 20,1,1; \n",
        "        self.convBlock7 = nn.Conv2d(20, 10, 1, bias = False) #in_channel: 20,1,1; out_channel: 10,1,1; \n",
        "\n",
        "    #Forward function takes an object and it passes through each layer sequentially. \n",
        "    def forward(self, x):\n",
        "        x = self.convBlock1(x)\n",
        "        x = self.convBlock2(x)\n",
        "        x = self.convBlock3(x)\n",
        "        x = self.pool1(x)\n",
        "        x = self.convBlock4(x)\n",
        "        x = self.convBlock5(x)\n",
        "        x = self.gap(x)\n",
        "        x = F.relu(self.convBlock6(x))\n",
        "        x = self.convBlock7(x)\n",
        "        x = x.view(-1, 10)\n",
        "        return F.log_softmax(x, dim = -1)"
      ],
      "execution_count": 45,
      "outputs": []
    },
    {
      "cell_type": "markdown",
      "metadata": {
        "id": "ne9Q0gbLj2pF"
      },
      "source": [
        "Q1. The global receptive field of our network ends up being more than the size of the image that we input, how will that affect the results?\n",
        "\n",
        "Q2. What does -1 in Output shape signify?"
      ]
    },
    {
      "cell_type": "code",
      "metadata": {
        "id": "xdydjYTZFyi3",
        "colab": {
          "base_uri": "https://localhost:8080/"
        },
        "outputId": "2658c505-47eb-41ec-cc5e-090928dc6c0d"
      },
      "source": [
        "!pip install torchsummary\n",
        "from torchsummary import summary\n",
        "use_cuda = torch.cuda.is_available() #Boolean function checks if cuda(GPU) is available or not.\n",
        "device = torch.device(\"cuda\" if use_cuda else \"cpu\") #Assigns cuda or cpu based on availability.\n",
        "model = Net().to(device) #Converts our model into the respective device.\n",
        "summary(model, input_size=(1, 28, 28)) #Prints the summary of our model based on an input size. "
      ],
      "execution_count": 46,
      "outputs": [
        {
          "output_type": "stream",
          "text": [
            "Requirement already satisfied: torchsummary in /usr/local/lib/python3.6/dist-packages (1.5.1)\n",
            "----------------------------------------------------------------\n",
            "        Layer (type)               Output Shape         Param #\n",
            "================================================================\n",
            "            Conv2d-1           [-1, 16, 26, 26]             144\n",
            "              ReLU-2           [-1, 16, 26, 26]               0\n",
            "       BatchNorm2d-3           [-1, 16, 26, 26]              32\n",
            "           Dropout-4           [-1, 16, 26, 26]               0\n",
            "            Conv2d-5           [-1, 16, 24, 24]           2,304\n",
            "              ReLU-6           [-1, 16, 24, 24]               0\n",
            "       BatchNorm2d-7           [-1, 16, 24, 24]              32\n",
            "           Dropout-8           [-1, 16, 24, 24]               0\n",
            "            Conv2d-9           [-1, 32, 22, 22]           4,608\n",
            "             ReLU-10           [-1, 32, 22, 22]               0\n",
            "      BatchNorm2d-11           [-1, 32, 22, 22]              64\n",
            "          Dropout-12           [-1, 32, 22, 22]               0\n",
            "        MaxPool2d-13           [-1, 32, 11, 11]               0\n",
            "           Conv2d-14             [-1, 32, 9, 9]           9,216\n",
            "             ReLU-15             [-1, 32, 9, 9]               0\n",
            "      BatchNorm2d-16             [-1, 32, 9, 9]              64\n",
            "          Dropout-17             [-1, 32, 9, 9]               0\n",
            "           Conv2d-18             [-1, 10, 7, 7]           2,880\n",
            "             ReLU-19             [-1, 10, 7, 7]               0\n",
            "      BatchNorm2d-20             [-1, 10, 7, 7]              20\n",
            "          Dropout-21             [-1, 10, 7, 7]               0\n",
            "        AvgPool2d-22             [-1, 10, 1, 1]               0\n",
            "           Conv2d-23             [-1, 20, 1, 1]             200\n",
            "           Conv2d-24             [-1, 10, 1, 1]             200\n",
            "================================================================\n",
            "Total params: 19,764\n",
            "Trainable params: 19,764\n",
            "Non-trainable params: 0\n",
            "----------------------------------------------------------------\n",
            "Input size (MB): 0.00\n",
            "Forward/backward pass size (MB): 1.21\n",
            "Params size (MB): 0.08\n",
            "Estimated Total Size (MB): 1.29\n",
            "----------------------------------------------------------------\n"
          ],
          "name": "stdout"
        }
      ]
    },
    {
      "cell_type": "code",
      "metadata": {
        "id": "DqTWLaM5GHgH"
      },
      "source": [
        "torch.manual_seed(1)\n",
        "batch_size = 128\n",
        "\n",
        "kwargs = {'num_workers': 1, 'pin_memory': True} if use_cuda else {}\n",
        "train_loader = torch.utils.data.DataLoader(\n",
        "    datasets.MNIST('../data', train=True, download=True,\n",
        "                    transform=transforms.Compose([\n",
        "                        transforms.ToTensor(),\n",
        "                        transforms.Normalize((0.1307,), (0.3081,))\n",
        "                    ])),\n",
        "    batch_size=batch_size, shuffle=True, **kwargs)\n",
        "test_loader = torch.utils.data.DataLoader(\n",
        "    datasets.MNIST('../data', train=False, transform=transforms.Compose([\n",
        "                        transforms.ToTensor(),\n",
        "                        transforms.Normalize((0.1307,), (0.3081,))\n",
        "                    ])),\n",
        "    batch_size=batch_size, shuffle=True, **kwargs)\n"
      ],
      "execution_count": 47,
      "outputs": []
    },
    {
      "cell_type": "code",
      "metadata": {
        "id": "8fDefDhaFlwH"
      },
      "source": [
        "from tqdm import tqdm\n",
        "train_samples = len(train_loader.dataset)\n",
        "test_samples = len(test_loader.dataset)\n",
        "def train(model, device, train_loader, optimizer, epoch):\n",
        "    model.train()\n",
        "    train_loss = 0\n",
        "    total_correct = 0\n",
        "    pbar = tqdm(train_loader)\n",
        "    for batch_idx, (data, target) in enumerate(pbar):\n",
        "        data, target = data.to(device), target.to(device) #Loading the images and targets on the GPU\n",
        "        optimizer.zero_grad() \n",
        "        output = model(data)\n",
        "        loss = F.nll_loss(output, target)\n",
        "        loss.backward()\n",
        "        optimizer.step()\n",
        "        train_loss += loss #Calculating the total loss for the epoch. \n",
        "        pred = output.argmax(dim=1, keepdim=True)  # get the index of the max log-probability\n",
        "        total_correct += pred.eq(target.view_as(pred)).sum().item()\n",
        "        pbar.set_description(desc= f'loss={loss.item()} batch_id={batch_idx}')\n",
        "    print(\"\\nTrain set: Total loss: {:.4f}, Accuracy: {}/{} ({:.4f}%)\".format(\n",
        "              train_loss, total_correct, train_samples, \n",
        "             100. * total_correct / train_samples\n",
        "          ))\n",
        "\n",
        "\n",
        "def test(model, device, test_loader):\n",
        "    model.eval()\n",
        "    test_loss = 0\n",
        "    correct = 0\n",
        "    with torch.no_grad():\n",
        "        for data, target in test_loader:\n",
        "            data, target = data.to(device), target.to(device)\n",
        "            output = model(data)\n",
        "            test_loss += F.nll_loss(output, target, reduction='sum').item()  # sum up batch loss\n",
        "            pred = output.argmax(dim=1, keepdim=True)  # get the index of the max log-probability\n",
        "            correct += pred.eq(target.view_as(pred)).sum().item()\n",
        "\n",
        "    test_loss /= len(test_loader.dataset)\n",
        "\n",
        "    print('\\nTest set: Average loss: {:.4f}, Accuracy: {}/{} ({:.4f}%)'.format(\n",
        "        test_loss, correct, len(test_loader.dataset),\n",
        "        100. * correct / len(test_loader.dataset)))"
      ],
      "execution_count": 48,
      "outputs": []
    },
    {
      "cell_type": "code",
      "metadata": {
        "id": "MMWbLWO6FuHb",
        "colab": {
          "base_uri": "https://localhost:8080/"
        },
        "outputId": "0ed2c0ca-49c1-4f52-f9d7-f5bdaf099bde"
      },
      "source": [
        "\n",
        "model = Net().to(device)\n",
        "optimizer = optim.SGD(model.parameters(), lr=0.01, momentum=0.9)\n",
        "\n",
        "for epoch in range(20):\n",
        "    train(model, device, train_loader, optimizer, epoch)\n",
        "    test(model, device, test_loader)"
      ],
      "execution_count": 49,
      "outputs": [
        {
          "output_type": "stream",
          "text": [
            "loss=0.19758190214633942 batch_id=468: 100%|██████████| 469/469 [00:15<00:00, 30.91it/s]"
          ],
          "name": "stderr"
        },
        {
          "output_type": "stream",
          "text": [
            "\n",
            "Train set: Total loss: 382.1597, Accuracy: 44728/60000 (74.5467%)\n"
          ],
          "name": "stdout"
        },
        {
          "output_type": "stream",
          "text": [
            "\n",
            "  0%|          | 0/469 [00:00<?, ?it/s]"
          ],
          "name": "stderr"
        },
        {
          "output_type": "stream",
          "text": [
            "\n",
            "Test set: Average loss: 0.1251, Accuracy: 9670/10000 (96.7000%)\n"
          ],
          "name": "stdout"
        },
        {
          "output_type": "stream",
          "text": [
            "loss=0.10283025354146957 batch_id=468: 100%|██████████| 469/469 [00:15<00:00, 30.83it/s]"
          ],
          "name": "stderr"
        },
        {
          "output_type": "stream",
          "text": [
            "\n",
            "Train set: Total loss: 47.9651, Accuracy: 58244/60000 (97.0733%)\n"
          ],
          "name": "stdout"
        },
        {
          "output_type": "stream",
          "text": [
            "\n",
            "  0%|          | 0/469 [00:00<?, ?it/s]"
          ],
          "name": "stderr"
        },
        {
          "output_type": "stream",
          "text": [
            "\n",
            "Test set: Average loss: 0.0626, Accuracy: 9812/10000 (98.1200%)\n"
          ],
          "name": "stdout"
        },
        {
          "output_type": "stream",
          "text": [
            "loss=0.06361395120620728 batch_id=468: 100%|██████████| 469/469 [00:14<00:00, 31.58it/s]"
          ],
          "name": "stderr"
        },
        {
          "output_type": "stream",
          "text": [
            "\n",
            "Train set: Total loss: 30.8260, Accuracy: 58839/60000 (98.0650%)\n"
          ],
          "name": "stdout"
        },
        {
          "output_type": "stream",
          "text": [
            "\n",
            "  0%|          | 0/469 [00:00<?, ?it/s]"
          ],
          "name": "stderr"
        },
        {
          "output_type": "stream",
          "text": [
            "\n",
            "Test set: Average loss: 0.0434, Accuracy: 9872/10000 (98.7200%)\n"
          ],
          "name": "stdout"
        },
        {
          "output_type": "stream",
          "text": [
            "loss=0.049251556396484375 batch_id=468: 100%|██████████| 469/469 [00:14<00:00, 32.43it/s]\n"
          ],
          "name": "stderr"
        },
        {
          "output_type": "stream",
          "text": [
            "\n",
            "Train set: Total loss: 24.7066, Accuracy: 59069/60000 (98.4483%)\n"
          ],
          "name": "stdout"
        },
        {
          "output_type": "stream",
          "text": [
            "\r  0%|          | 0/469 [00:00<?, ?it/s]"
          ],
          "name": "stderr"
        },
        {
          "output_type": "stream",
          "text": [
            "\n",
            "Test set: Average loss: 0.0409, Accuracy: 9886/10000 (98.8600%)\n"
          ],
          "name": "stdout"
        },
        {
          "output_type": "stream",
          "text": [
            "loss=0.03182230517268181 batch_id=468: 100%|██████████| 469/469 [00:14<00:00, 33.07it/s]"
          ],
          "name": "stderr"
        },
        {
          "output_type": "stream",
          "text": [
            "\n",
            "Train set: Total loss: 21.3062, Accuracy: 59207/60000 (98.6783%)\n"
          ],
          "name": "stdout"
        },
        {
          "output_type": "stream",
          "text": [
            "\n",
            "  0%|          | 0/469 [00:00<?, ?it/s]"
          ],
          "name": "stderr"
        },
        {
          "output_type": "stream",
          "text": [
            "\n",
            "Test set: Average loss: 0.0378, Accuracy: 9881/10000 (98.8100%)\n"
          ],
          "name": "stdout"
        },
        {
          "output_type": "stream",
          "text": [
            "loss=0.014592682011425495 batch_id=468: 100%|██████████| 469/469 [00:14<00:00, 31.90it/s]"
          ],
          "name": "stderr"
        },
        {
          "output_type": "stream",
          "text": [
            "\n",
            "Train set: Total loss: 19.0342, Accuracy: 59266/60000 (98.7767%)\n"
          ],
          "name": "stdout"
        },
        {
          "output_type": "stream",
          "text": [
            "\n",
            "  0%|          | 0/469 [00:00<?, ?it/s]"
          ],
          "name": "stderr"
        },
        {
          "output_type": "stream",
          "text": [
            "\n",
            "Test set: Average loss: 0.0362, Accuracy: 9887/10000 (98.8700%)\n"
          ],
          "name": "stdout"
        },
        {
          "output_type": "stream",
          "text": [
            "loss=0.01271322276443243 batch_id=468: 100%|██████████| 469/469 [00:14<00:00, 32.40it/s]"
          ],
          "name": "stderr"
        },
        {
          "output_type": "stream",
          "text": [
            "\n",
            "Train set: Total loss: 16.6868, Accuracy: 59338/60000 (98.8967%)\n"
          ],
          "name": "stdout"
        },
        {
          "output_type": "stream",
          "text": [
            "\n",
            "  0%|          | 0/469 [00:00<?, ?it/s]"
          ],
          "name": "stderr"
        },
        {
          "output_type": "stream",
          "text": [
            "\n",
            "Test set: Average loss: 0.0317, Accuracy: 9905/10000 (99.0500%)\n"
          ],
          "name": "stdout"
        },
        {
          "output_type": "stream",
          "text": [
            "loss=0.025804735720157623 batch_id=468: 100%|██████████| 469/469 [00:14<00:00, 32.96it/s]"
          ],
          "name": "stderr"
        },
        {
          "output_type": "stream",
          "text": [
            "\n",
            "Train set: Total loss: 15.9083, Accuracy: 59366/60000 (98.9433%)\n"
          ],
          "name": "stdout"
        },
        {
          "output_type": "stream",
          "text": [
            "\n",
            "  0%|          | 0/469 [00:00<?, ?it/s]"
          ],
          "name": "stderr"
        },
        {
          "output_type": "stream",
          "text": [
            "\n",
            "Test set: Average loss: 0.0332, Accuracy: 9906/10000 (99.0600%)\n"
          ],
          "name": "stdout"
        },
        {
          "output_type": "stream",
          "text": [
            "loss=0.015168488025665283 batch_id=468: 100%|██████████| 469/469 [00:13<00:00, 34.15it/s]"
          ],
          "name": "stderr"
        },
        {
          "output_type": "stream",
          "text": [
            "\n",
            "Train set: Total loss: 14.7795, Accuracy: 59403/60000 (99.0050%)\n"
          ],
          "name": "stdout"
        },
        {
          "output_type": "stream",
          "text": [
            "\n",
            "  0%|          | 0/469 [00:00<?, ?it/s]"
          ],
          "name": "stderr"
        },
        {
          "output_type": "stream",
          "text": [
            "\n",
            "Test set: Average loss: 0.0243, Accuracy: 9918/10000 (99.1800%)\n"
          ],
          "name": "stdout"
        },
        {
          "output_type": "stream",
          "text": [
            "loss=0.001634366693906486 batch_id=468: 100%|██████████| 469/469 [00:13<00:00, 33.66it/s]"
          ],
          "name": "stderr"
        },
        {
          "output_type": "stream",
          "text": [
            "\n",
            "Train set: Total loss: 13.4858, Accuracy: 59471/60000 (99.1183%)\n"
          ],
          "name": "stdout"
        },
        {
          "output_type": "stream",
          "text": [
            "\n",
            "  0%|          | 0/469 [00:00<?, ?it/s]"
          ],
          "name": "stderr"
        },
        {
          "output_type": "stream",
          "text": [
            "\n",
            "Test set: Average loss: 0.0283, Accuracy: 9908/10000 (99.0800%)\n"
          ],
          "name": "stdout"
        },
        {
          "output_type": "stream",
          "text": [
            "loss=0.013769066892564297 batch_id=468: 100%|██████████| 469/469 [00:13<00:00, 33.95it/s]"
          ],
          "name": "stderr"
        },
        {
          "output_type": "stream",
          "text": [
            "\n",
            "Train set: Total loss: 13.4295, Accuracy: 59469/60000 (99.1150%)\n"
          ],
          "name": "stdout"
        },
        {
          "output_type": "stream",
          "text": [
            "\n",
            "  0%|          | 0/469 [00:00<?, ?it/s]"
          ],
          "name": "stderr"
        },
        {
          "output_type": "stream",
          "text": [
            "\n",
            "Test set: Average loss: 0.0332, Accuracy: 9897/10000 (98.9700%)\n"
          ],
          "name": "stdout"
        },
        {
          "output_type": "stream",
          "text": [
            "loss=0.05933346971869469 batch_id=468: 100%|██████████| 469/469 [00:13<00:00, 34.18it/s]"
          ],
          "name": "stderr"
        },
        {
          "output_type": "stream",
          "text": [
            "\n",
            "Train set: Total loss: 12.5002, Accuracy: 59492/60000 (99.1533%)\n"
          ],
          "name": "stdout"
        },
        {
          "output_type": "stream",
          "text": [
            "\n",
            "  0%|          | 0/469 [00:00<?, ?it/s]"
          ],
          "name": "stderr"
        },
        {
          "output_type": "stream",
          "text": [
            "\n",
            "Test set: Average loss: 0.0225, Accuracy: 9928/10000 (99.2800%)\n"
          ],
          "name": "stdout"
        },
        {
          "output_type": "stream",
          "text": [
            "loss=0.0038457217160612345 batch_id=468: 100%|██████████| 469/469 [00:13<00:00, 34.98it/s]\n"
          ],
          "name": "stderr"
        },
        {
          "output_type": "stream",
          "text": [
            "\n",
            "Train set: Total loss: 11.3029, Accuracy: 59547/60000 (99.2450%)\n"
          ],
          "name": "stdout"
        },
        {
          "output_type": "stream",
          "text": [
            "\r  0%|          | 0/469 [00:00<?, ?it/s]"
          ],
          "name": "stderr"
        },
        {
          "output_type": "stream",
          "text": [
            "\n",
            "Test set: Average loss: 0.0285, Accuracy: 9912/10000 (99.1200%)\n"
          ],
          "name": "stdout"
        },
        {
          "output_type": "stream",
          "text": [
            "loss=0.03090699017047882 batch_id=468: 100%|██████████| 469/469 [00:13<00:00, 33.88it/s]\n"
          ],
          "name": "stderr"
        },
        {
          "output_type": "stream",
          "text": [
            "\n",
            "Train set: Total loss: 11.1376, Accuracy: 59572/60000 (99.2867%)\n"
          ],
          "name": "stdout"
        },
        {
          "output_type": "stream",
          "text": [
            "\r  0%|          | 0/469 [00:00<?, ?it/s]"
          ],
          "name": "stderr"
        },
        {
          "output_type": "stream",
          "text": [
            "\n",
            "Test set: Average loss: 0.0217, Accuracy: 9935/10000 (99.3500%)\n"
          ],
          "name": "stdout"
        },
        {
          "output_type": "stream",
          "text": [
            "loss=0.05430188402533531 batch_id=468: 100%|██████████| 469/469 [00:13<00:00, 33.97it/s]"
          ],
          "name": "stderr"
        },
        {
          "output_type": "stream",
          "text": [
            "\n",
            "Train set: Total loss: 10.9813, Accuracy: 59568/60000 (99.2800%)\n"
          ],
          "name": "stdout"
        },
        {
          "output_type": "stream",
          "text": [
            "\n",
            "  0%|          | 0/469 [00:00<?, ?it/s]"
          ],
          "name": "stderr"
        },
        {
          "output_type": "stream",
          "text": [
            "\n",
            "Test set: Average loss: 0.0235, Accuracy: 9925/10000 (99.2500%)\n"
          ],
          "name": "stdout"
        },
        {
          "output_type": "stream",
          "text": [
            "loss=0.014443804509937763 batch_id=468: 100%|██████████| 469/469 [00:13<00:00, 34.62it/s]"
          ],
          "name": "stderr"
        },
        {
          "output_type": "stream",
          "text": [
            "\n",
            "Train set: Total loss: 10.6065, Accuracy: 59550/60000 (99.2500%)\n"
          ],
          "name": "stdout"
        },
        {
          "output_type": "stream",
          "text": [
            "\n",
            "  0%|          | 0/469 [00:00<?, ?it/s]"
          ],
          "name": "stderr"
        },
        {
          "output_type": "stream",
          "text": [
            "\n",
            "Test set: Average loss: 0.0238, Accuracy: 9916/10000 (99.1600%)\n"
          ],
          "name": "stdout"
        },
        {
          "output_type": "stream",
          "text": [
            "loss=0.002653570845723152 batch_id=468: 100%|██████████| 469/469 [00:13<00:00, 34.66it/s]\n"
          ],
          "name": "stderr"
        },
        {
          "output_type": "stream",
          "text": [
            "\n",
            "Train set: Total loss: 10.2616, Accuracy: 59577/60000 (99.2950%)\n"
          ],
          "name": "stdout"
        },
        {
          "output_type": "stream",
          "text": [
            "\r  0%|          | 0/469 [00:00<?, ?it/s]"
          ],
          "name": "stderr"
        },
        {
          "output_type": "stream",
          "text": [
            "\n",
            "Test set: Average loss: 0.0223, Accuracy: 9930/10000 (99.3000%)\n"
          ],
          "name": "stdout"
        },
        {
          "output_type": "stream",
          "text": [
            "loss=0.004802843555808067 batch_id=468: 100%|██████████| 469/469 [00:13<00:00, 34.50it/s]\n"
          ],
          "name": "stderr"
        },
        {
          "output_type": "stream",
          "text": [
            "\n",
            "Train set: Total loss: 9.7754, Accuracy: 59595/60000 (99.3250%)\n"
          ],
          "name": "stdout"
        },
        {
          "output_type": "stream",
          "text": [
            "\r  0%|          | 0/469 [00:00<?, ?it/s]"
          ],
          "name": "stderr"
        },
        {
          "output_type": "stream",
          "text": [
            "\n",
            "Test set: Average loss: 0.0244, Accuracy: 9921/10000 (99.2100%)\n"
          ],
          "name": "stdout"
        },
        {
          "output_type": "stream",
          "text": [
            "loss=0.0399097241461277 batch_id=468: 100%|██████████| 469/469 [00:13<00:00, 34.29it/s]"
          ],
          "name": "stderr"
        },
        {
          "output_type": "stream",
          "text": [
            "\n",
            "Train set: Total loss: 9.1059, Accuracy: 59625/60000 (99.3750%)\n"
          ],
          "name": "stdout"
        },
        {
          "output_type": "stream",
          "text": [
            "\n",
            "  0%|          | 0/469 [00:00<?, ?it/s]"
          ],
          "name": "stderr"
        },
        {
          "output_type": "stream",
          "text": [
            "\n",
            "Test set: Average loss: 0.0238, Accuracy: 9918/10000 (99.1800%)\n"
          ],
          "name": "stdout"
        },
        {
          "output_type": "stream",
          "text": [
            "loss=0.022754015401005745 batch_id=468: 100%|██████████| 469/469 [00:13<00:00, 34.29it/s]\n"
          ],
          "name": "stderr"
        },
        {
          "output_type": "stream",
          "text": [
            "\n",
            "Train set: Total loss: 8.7116, Accuracy: 59650/60000 (99.4167%)\n",
            "\n",
            "Test set: Average loss: 0.0230, Accuracy: 9924/10000 (99.2400%)\n"
          ],
          "name": "stdout"
        }
      ]
    },
    {
      "cell_type": "code",
      "metadata": {
        "id": "KdVzgnRFCP2R"
      },
      "source": [
        ""
      ],
      "execution_count": 49,
      "outputs": []
    }
  ]
}