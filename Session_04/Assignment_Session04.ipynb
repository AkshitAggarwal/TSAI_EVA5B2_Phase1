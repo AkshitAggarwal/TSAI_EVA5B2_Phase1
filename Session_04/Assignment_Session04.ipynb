{
  "nbformat": 4,
  "nbformat_minor": 0,
  "metadata": {
    "colab": {
      "name": "Assignment_Session04.ipynb",
      "provenance": [],
      "collapsed_sections": [
        "X1BWwfDCBk2D"
      ],
      "authorship_tag": "ABX9TyPkRAt7EQIvrJYvrZeGywbx",
      "include_colab_link": true
    },
    "kernelspec": {
      "name": "python3",
      "display_name": "Python 3"
    },
    "widgets": {
      "application/vnd.jupyter.widget-state+json": {
        "d88606fdd0974dc9a9314d0c189bc7c6": {
          "model_module": "@jupyter-widgets/controls",
          "model_name": "HBoxModel",
          "state": {
            "_view_name": "HBoxView",
            "_dom_classes": [],
            "_model_name": "HBoxModel",
            "_view_module": "@jupyter-widgets/controls",
            "_model_module_version": "1.5.0",
            "_view_count": null,
            "_view_module_version": "1.5.0",
            "box_style": "",
            "layout": "IPY_MODEL_6376ccbf3db6495f8ed3583d66bdb2da",
            "_model_module": "@jupyter-widgets/controls",
            "children": [
              "IPY_MODEL_28e09e5992774acd9e76964bf990fa8f",
              "IPY_MODEL_8e51cc551b3542ffbae8acd526a33875"
            ]
          }
        },
        "6376ccbf3db6495f8ed3583d66bdb2da": {
          "model_module": "@jupyter-widgets/base",
          "model_name": "LayoutModel",
          "state": {
            "_view_name": "LayoutView",
            "grid_template_rows": null,
            "right": null,
            "justify_content": null,
            "_view_module": "@jupyter-widgets/base",
            "overflow": null,
            "_model_module_version": "1.2.0",
            "_view_count": null,
            "flex_flow": null,
            "width": null,
            "min_width": null,
            "border": null,
            "align_items": null,
            "bottom": null,
            "_model_module": "@jupyter-widgets/base",
            "top": null,
            "grid_column": null,
            "overflow_y": null,
            "overflow_x": null,
            "grid_auto_flow": null,
            "grid_area": null,
            "grid_template_columns": null,
            "flex": null,
            "_model_name": "LayoutModel",
            "justify_items": null,
            "grid_row": null,
            "max_height": null,
            "align_content": null,
            "visibility": null,
            "align_self": null,
            "height": null,
            "min_height": null,
            "padding": null,
            "grid_auto_rows": null,
            "grid_gap": null,
            "max_width": null,
            "order": null,
            "_view_module_version": "1.2.0",
            "grid_template_areas": null,
            "object_position": null,
            "object_fit": null,
            "grid_auto_columns": null,
            "margin": null,
            "display": null,
            "left": null
          }
        },
        "28e09e5992774acd9e76964bf990fa8f": {
          "model_module": "@jupyter-widgets/controls",
          "model_name": "FloatProgressModel",
          "state": {
            "_view_name": "ProgressView",
            "style": "IPY_MODEL_de31d978c1644bfab21335affd3e428d",
            "_dom_classes": [],
            "description": "",
            "_model_name": "FloatProgressModel",
            "bar_style": "info",
            "max": 1,
            "_view_module": "@jupyter-widgets/controls",
            "_model_module_version": "1.5.0",
            "value": 1,
            "_view_count": null,
            "_view_module_version": "1.5.0",
            "orientation": "horizontal",
            "min": 0,
            "description_tooltip": null,
            "_model_module": "@jupyter-widgets/controls",
            "layout": "IPY_MODEL_eacc4f6cfa074494a7980ae398b46356"
          }
        },
        "8e51cc551b3542ffbae8acd526a33875": {
          "model_module": "@jupyter-widgets/controls",
          "model_name": "HTMLModel",
          "state": {
            "_view_name": "HTMLView",
            "style": "IPY_MODEL_33a2e7ee51584726be8df3c3088d920b",
            "_dom_classes": [],
            "description": "",
            "_model_name": "HTMLModel",
            "placeholder": "​",
            "_view_module": "@jupyter-widgets/controls",
            "_model_module_version": "1.5.0",
            "value": " 561758208/? [01:00&lt;00:00, 4957050.80it/s]",
            "_view_count": null,
            "_view_module_version": "1.5.0",
            "description_tooltip": null,
            "_model_module": "@jupyter-widgets/controls",
            "layout": "IPY_MODEL_3ae4560dfaa540f6be8e6e35c9205e08"
          }
        },
        "de31d978c1644bfab21335affd3e428d": {
          "model_module": "@jupyter-widgets/controls",
          "model_name": "ProgressStyleModel",
          "state": {
            "_view_name": "StyleView",
            "_model_name": "ProgressStyleModel",
            "description_width": "initial",
            "_view_module": "@jupyter-widgets/base",
            "_model_module_version": "1.5.0",
            "_view_count": null,
            "_view_module_version": "1.2.0",
            "bar_color": null,
            "_model_module": "@jupyter-widgets/controls"
          }
        },
        "eacc4f6cfa074494a7980ae398b46356": {
          "model_module": "@jupyter-widgets/base",
          "model_name": "LayoutModel",
          "state": {
            "_view_name": "LayoutView",
            "grid_template_rows": null,
            "right": null,
            "justify_content": null,
            "_view_module": "@jupyter-widgets/base",
            "overflow": null,
            "_model_module_version": "1.2.0",
            "_view_count": null,
            "flex_flow": null,
            "width": null,
            "min_width": null,
            "border": null,
            "align_items": null,
            "bottom": null,
            "_model_module": "@jupyter-widgets/base",
            "top": null,
            "grid_column": null,
            "overflow_y": null,
            "overflow_x": null,
            "grid_auto_flow": null,
            "grid_area": null,
            "grid_template_columns": null,
            "flex": null,
            "_model_name": "LayoutModel",
            "justify_items": null,
            "grid_row": null,
            "max_height": null,
            "align_content": null,
            "visibility": null,
            "align_self": null,
            "height": null,
            "min_height": null,
            "padding": null,
            "grid_auto_rows": null,
            "grid_gap": null,
            "max_width": null,
            "order": null,
            "_view_module_version": "1.2.0",
            "grid_template_areas": null,
            "object_position": null,
            "object_fit": null,
            "grid_auto_columns": null,
            "margin": null,
            "display": null,
            "left": null
          }
        },
        "33a2e7ee51584726be8df3c3088d920b": {
          "model_module": "@jupyter-widgets/controls",
          "model_name": "DescriptionStyleModel",
          "state": {
            "_view_name": "StyleView",
            "_model_name": "DescriptionStyleModel",
            "description_width": "",
            "_view_module": "@jupyter-widgets/base",
            "_model_module_version": "1.5.0",
            "_view_count": null,
            "_view_module_version": "1.2.0",
            "_model_module": "@jupyter-widgets/controls"
          }
        },
        "3ae4560dfaa540f6be8e6e35c9205e08": {
          "model_module": "@jupyter-widgets/base",
          "model_name": "LayoutModel",
          "state": {
            "_view_name": "LayoutView",
            "grid_template_rows": null,
            "right": null,
            "justify_content": null,
            "_view_module": "@jupyter-widgets/base",
            "overflow": null,
            "_model_module_version": "1.2.0",
            "_view_count": null,
            "flex_flow": null,
            "width": null,
            "min_width": null,
            "border": null,
            "align_items": null,
            "bottom": null,
            "_model_module": "@jupyter-widgets/base",
            "top": null,
            "grid_column": null,
            "overflow_y": null,
            "overflow_x": null,
            "grid_auto_flow": null,
            "grid_area": null,
            "grid_template_columns": null,
            "flex": null,
            "_model_name": "LayoutModel",
            "justify_items": null,
            "grid_row": null,
            "max_height": null,
            "align_content": null,
            "visibility": null,
            "align_self": null,
            "height": null,
            "min_height": null,
            "padding": null,
            "grid_auto_rows": null,
            "grid_gap": null,
            "max_width": null,
            "order": null,
            "_view_module_version": "1.2.0",
            "grid_template_areas": null,
            "object_position": null,
            "object_fit": null,
            "grid_auto_columns": null,
            "margin": null,
            "display": null,
            "left": null
          }
        }
      }
    },
    "accelerator": "GPU"
  },
  "cells": [
    {
      "cell_type": "markdown",
      "metadata": {
        "id": "view-in-github",
        "colab_type": "text"
      },
      "source": [
        "<a href=\"https://colab.research.google.com/github/AkshitAggarwal/TSAI_EVA5B2_Phase1/blob/main/Session_04/Assignment_Session04.ipynb\" target=\"_parent\"><img src=\"https://colab.research.google.com/assets/colab-badge.svg\" alt=\"Open In Colab\"/></a>"
      ]
    },
    {
      "cell_type": "code",
      "metadata": {
        "id": "nnTac1BO85Yn"
      },
      "source": [
        "import os\n",
        "import numpy as np\n",
        "import matplotlib.pyplot as plt\n",
        "import torch\n",
        "import torchvision\n",
        "import torch.nn as nn\n",
        "import torch.nn.functional as F\n",
        "import torch.utils as utils \n",
        "import torch.autograd\n",
        "import torch.optim as optim\n",
        "import torchvision.transforms as transforms"
      ],
      "execution_count": 1,
      "outputs": []
    },
    {
      "cell_type": "markdown",
      "metadata": {
        "id": "X1BWwfDCBk2D"
      },
      "source": [
        "#Train Dataset and Train Dataloader"
      ]
    },
    {
      "cell_type": "code",
      "metadata": {
        "colab": {
          "base_uri": "https://localhost:8080/",
          "height": 286,
          "referenced_widgets": [
            "d88606fdd0974dc9a9314d0c189bc7c6",
            "6376ccbf3db6495f8ed3583d66bdb2da",
            "28e09e5992774acd9e76964bf990fa8f",
            "8e51cc551b3542ffbae8acd526a33875",
            "de31d978c1644bfab21335affd3e428d",
            "eacc4f6cfa074494a7980ae398b46356",
            "33a2e7ee51584726be8df3c3088d920b",
            "3ae4560dfaa540f6be8e6e35c9205e08"
          ]
        },
        "id": "dDdFZpohGLQP",
        "outputId": "8892ffd1-3afc-4ef2-b835-a8eae57a7b2d"
      },
      "source": [
        "train_data = torchvision.datasets.EMNIST(\n",
        "    root ='\\.bin',\n",
        "    download = True,\n",
        "    train = True,\n",
        "    split = 'byclass',\n",
        "    transform = transforms.ToTensor()\n",
        ")\n",
        "\n",
        "train_loader = torch.utils.data.DataLoader(\n",
        "    train_data,\n",
        "    batch_size = 32,\n",
        "    shuffle = True,\n",
        ")"
      ],
      "execution_count": 2,
      "outputs": [
        {
          "output_type": "stream",
          "text": [
            "Downloading and extracting zip archive\n",
            "Downloading http://www.itl.nist.gov/iaui/vip/cs_links/EMNIST/gzip.zip to \\.bin/EMNIST/raw/emnist.zip\n"
          ],
          "name": "stdout"
        },
        {
          "output_type": "display_data",
          "data": {
            "application/vnd.jupyter.widget-view+json": {
              "model_id": "d88606fdd0974dc9a9314d0c189bc7c6",
              "version_minor": 0,
              "version_major": 2
            },
            "text/plain": [
              "HBox(children=(FloatProgress(value=1.0, bar_style='info', max=1.0), HTML(value='')))"
            ]
          },
          "metadata": {
            "tags": []
          }
        },
        {
          "output_type": "stream",
          "text": [
            "Extracting \\.bin/EMNIST/raw/emnist.zip to \\.bin/EMNIST/raw\n",
            "Processing byclass\n"
          ],
          "name": "stdout"
        },
        {
          "output_type": "stream",
          "text": [
            "/usr/local/lib/python3.6/dist-packages/torchvision/datasets/mnist.py:480: UserWarning: The given NumPy array is not writeable, and PyTorch does not support non-writeable tensors. This means you can write to the underlying (supposedly non-writeable) NumPy array using the tensor. You may want to copy the array to protect its data or make it writeable before converting it to a tensor. This type of warning will be suppressed for the rest of this program. (Triggered internally at  /pytorch/torch/csrc/utils/tensor_numpy.cpp:141.)\n",
            "  return torch.from_numpy(parsed.astype(m[2], copy=False)).view(*s)\n"
          ],
          "name": "stderr"
        },
        {
          "output_type": "stream",
          "text": [
            "Processing bymerge\n",
            "Processing balanced\n",
            "Processing letters\n",
            "Processing digits\n",
            "Processing mnist\n",
            "Done!\n"
          ],
          "name": "stdout"
        }
      ]
    },
    {
      "cell_type": "code",
      "metadata": {
        "colab": {
          "base_uri": "https://localhost:8080/"
        },
        "id": "Me2CIEMVIKFy",
        "outputId": "38c934c5-d0b1-4013-844f-e24e05d077b1"
      },
      "source": [
        "print(len(train_data), len(train_loader)) #Total no. of Training images and Training batches(Each batch has 32 images)"
      ],
      "execution_count": 3,
      "outputs": [
        {
          "output_type": "stream",
          "text": [
            "697932 21811\n"
          ],
          "name": "stdout"
        }
      ]
    },
    {
      "cell_type": "code",
      "metadata": {
        "colab": {
          "base_uri": "https://localhost:8080/"
        },
        "id": "UgZYcRkXIOfm",
        "outputId": "80306bff-b2f5-44c8-efde-be0e22d8816e"
      },
      "source": [
        "print(train_data.train_labels.bincount()) #Individual counts of all classes. Total classes: 62"
      ],
      "execution_count": 4,
      "outputs": [
        {
          "output_type": "stream",
          "text": [
            "tensor([34585, 38374, 34203, 35143, 33535, 31416, 34232, 35754, 33946, 33847,\n",
            "         6407,  3878, 10094,  4562,  4934,  9182,  2517,  3152, 11946,  3762,\n",
            "         2468,  5076,  9002,  8237, 24983,  8347,  2605,  5073, 20764,  9820,\n",
            "        12602,  4637,  4695,  2771,  4743,  2701, 10033,  5159,  2854, 10177,\n",
            "        24631,  2561,  3687,  8738,  2725,  1896,  2491, 15318,  2645, 11418,\n",
            "         2749,  2448,  2994, 14105,  2699, 18262,  2830,  2910,  2697,  2822,\n",
            "         2365,  2725])\n"
          ],
          "name": "stdout"
        },
        {
          "output_type": "stream",
          "text": [
            "/usr/local/lib/python3.6/dist-packages/torchvision/datasets/mnist.py:48: UserWarning: train_labels has been renamed targets\n",
            "  warnings.warn(\"train_labels has been renamed targets\")\n"
          ],
          "name": "stderr"
        }
      ]
    },
    {
      "cell_type": "code",
      "metadata": {
        "colab": {
          "base_uri": "https://localhost:8080/"
        },
        "id": "7Lv-sMe2IYE6",
        "outputId": "382d2630-3e45-4ee6-b688-c4576548299e"
      },
      "source": [
        "type(train_data)"
      ],
      "execution_count": 5,
      "outputs": [
        {
          "output_type": "execute_result",
          "data": {
            "text/plain": [
              "torchvision.datasets.mnist.EMNIST"
            ]
          },
          "metadata": {
            "tags": []
          },
          "execution_count": 5
        }
      ]
    },
    {
      "cell_type": "code",
      "metadata": {
        "colab": {
          "base_uri": "https://localhost:8080/"
        },
        "id": "gao2qubQJcTO",
        "outputId": "3b0d8420-4365-456d-d42c-1fad04f95374"
      },
      "source": [
        "batch_iterator = next(iter(train_loader))\n",
        "type(batch_iterator)"
      ],
      "execution_count": 6,
      "outputs": [
        {
          "output_type": "execute_result",
          "data": {
            "text/plain": [
              "list"
            ]
          },
          "metadata": {
            "tags": []
          },
          "execution_count": 6
        }
      ]
    },
    {
      "cell_type": "code",
      "metadata": {
        "colab": {
          "base_uri": "https://localhost:8080/"
        },
        "id": "juiccpLAJ10z",
        "outputId": "8e4e5bd2-ae5b-4773-fd07-e4e044bca0d3"
      },
      "source": [
        "images, labels = batch_iterator\n",
        "print(images.shape, labels.shape)"
      ],
      "execution_count": 7,
      "outputs": [
        {
          "output_type": "stream",
          "text": [
            "torch.Size([32, 1, 28, 28]) torch.Size([32])\n"
          ],
          "name": "stdout"
        }
      ]
    },
    {
      "cell_type": "code",
      "metadata": {
        "colab": {
          "base_uri": "https://localhost:8080/"
        },
        "id": "Xy4ni2iP4M4u",
        "outputId": "2d3368e5-9578-4090-e8bd-af2192881c95"
      },
      "source": [
        "sample = next(iter(train_data))\n",
        "print(type(sample))\n",
        "image, label = sample\n",
        "print(image.shape, label)"
      ],
      "execution_count": 8,
      "outputs": [
        {
          "output_type": "stream",
          "text": [
            "<class 'tuple'>\n",
            "torch.Size([1, 28, 28]) 35\n"
          ],
          "name": "stdout"
        }
      ]
    },
    {
      "cell_type": "markdown",
      "metadata": {
        "id": "K6Z93FwABq1w"
      },
      "source": [
        "#Network Architecture"
      ]
    },
    {
      "cell_type": "code",
      "metadata": {
        "id": "JaKL1APJAPX7"
      },
      "source": [
        "class neural_net(nn.Module):\n",
        "  def __init__(self):\n",
        "    super(neural_net, self).__init__()\n",
        "    self.conv1 = nn.Conv2d(in_channels=1, out_channels=10, kernel_size=3) #insize= 1x28x28; outsize= 10x26x26; RF= 3\n",
        "    self.conv2 = nn.Conv2d(in_channels=10, out_channels=10, kernel_size=3) #insize= 10x26x26; outsize= 10x24x24; RF= 5\n",
        "    self.maxp1 = nn.MaxPool2d(kernel_size = 2, stride = 2) #insize= 10x24x24; outsize= 10x12x12; RF= 10\n",
        "    self.conv3 = nn.Conv2d(in_channels=10, out_channels=20, kernel_size=3) #insize= 10x12x12; outsize= 20x10x10; RF= 12\n",
        "    self.conv4 = nn.Conv2d(in_channels=20, out_channels=20, kernel_size=3) #insize= 20x10x10; outsize= 20x8x8; RF= 14\n",
        "    self.maxp2 = nn.MaxPool2d(kernel_size = 2, stride = 2) #insize= 20x8x8; outsize= 20x4x4; RF= 28\n",
        "    self.conv5 = nn.Conv2d(in_channels=20, out_channels=30, kernel_size=3) #insize= 20x4x4; outsize= 30x2x2; RF= 30\n",
        "    self.outconv = nn.Conv2d(in_channels=30, out_channels=62, kernel_size=1) #insize = 30x2x2; outsize= 62x2x2; RF= 30\n",
        "    self.avgpool = nn.AdaptiveAvgPool2d((1, 1)) #insize = 62x2x2; outsize= 62x1x1; RF=?\n",
        "  \n",
        "  def forward(self, t):\n",
        "    t = self.maxp1(F.relu(self.conv2(F.relu(self.conv1(t)))))\n",
        "    t = self.maxp2(F.relu(self.conv4(F.relu(self.conv3(t)))))\n",
        "    t = self.outconv(F.relu(self.conv5(t)))\n",
        "    t = self.avgpool(t)\n",
        "    # t = t.view(-1, 62)\n",
        "    return F.softmax(t, dim = 1)"
      ],
      "execution_count": 9,
      "outputs": []
    },
    {
      "cell_type": "code",
      "metadata": {
        "colab": {
          "base_uri": "https://localhost:8080/"
        },
        "id": "1a0k86nLQ-Cc",
        "outputId": "c8be3c53-60ac-434e-eb92-3339ef48f9d9"
      },
      "source": [
        "network = neural_net()\n",
        "print(network)"
      ],
      "execution_count": 10,
      "outputs": [
        {
          "output_type": "stream",
          "text": [
            "neural_net(\n",
            "  (conv1): Conv2d(1, 10, kernel_size=(3, 3), stride=(1, 1))\n",
            "  (conv2): Conv2d(10, 10, kernel_size=(3, 3), stride=(1, 1))\n",
            "  (maxp1): MaxPool2d(kernel_size=2, stride=2, padding=0, dilation=1, ceil_mode=False)\n",
            "  (conv3): Conv2d(10, 20, kernel_size=(3, 3), stride=(1, 1))\n",
            "  (conv4): Conv2d(20, 20, kernel_size=(3, 3), stride=(1, 1))\n",
            "  (maxp2): MaxPool2d(kernel_size=2, stride=2, padding=0, dilation=1, ceil_mode=False)\n",
            "  (conv5): Conv2d(20, 30, kernel_size=(3, 3), stride=(1, 1))\n",
            "  (outconv): Conv2d(30, 62, kernel_size=(1, 1), stride=(1, 1))\n",
            "  (avgpool): AdaptiveAvgPool2d(output_size=(1, 1))\n",
            ")\n"
          ],
          "name": "stdout"
        }
      ]
    },
    {
      "cell_type": "code",
      "metadata": {
        "colab": {
          "base_uri": "https://localhost:8080/"
        },
        "id": "XrZZl8U5G5Yf",
        "outputId": "7fce547f-c0f8-49fe-e11a-e9a1f1d7ef08"
      },
      "source": [
        "torch.set_grad_enabled(False)"
      ],
      "execution_count": 11,
      "outputs": [
        {
          "output_type": "execute_result",
          "data": {
            "text/plain": [
              "<torch.autograd.grad_mode.set_grad_enabled at 0x7f5cb357b550>"
            ]
          },
          "metadata": {
            "tags": []
          },
          "execution_count": 11
        }
      ]
    },
    {
      "cell_type": "code",
      "metadata": {
        "id": "4704sYFb4rSa"
      },
      "source": [
        "pred = network(image.unsqueeze(dim=0)) #Image is a rank-3 tensor, but our model expects a rank-4 'batch-like' tensor.\n",
        "# print(pred.squeeze().shape) "
      ],
      "execution_count": 12,
      "outputs": []
    },
    {
      "cell_type": "code",
      "metadata": {
        "colab": {
          "base_uri": "https://localhost:8080/"
        },
        "id": "d0EkZAFLGnv1",
        "outputId": "1cfe9924-d447-4682-fe64-92e400da15f2"
      },
      "source": [
        "print(pred.shape)\n",
        "# pred.eq(label)\n",
        "print(pred.squeeze())"
      ],
      "execution_count": 13,
      "outputs": [
        {
          "output_type": "stream",
          "text": [
            "torch.Size([1, 62, 1, 1])\n",
            "tensor([0.0178, 0.0137, 0.0162, 0.0162, 0.0144, 0.0195, 0.0191, 0.0148, 0.0151,\n",
            "        0.0139, 0.0155, 0.0173, 0.0159, 0.0177, 0.0166, 0.0141, 0.0149, 0.0145,\n",
            "        0.0142, 0.0172, 0.0142, 0.0149, 0.0135, 0.0166, 0.0187, 0.0156, 0.0154,\n",
            "        0.0152, 0.0182, 0.0193, 0.0176, 0.0153, 0.0130, 0.0165, 0.0168, 0.0188,\n",
            "        0.0159, 0.0195, 0.0177, 0.0155, 0.0154, 0.0151, 0.0176, 0.0133, 0.0191,\n",
            "        0.0181, 0.0137, 0.0192, 0.0131, 0.0139, 0.0132, 0.0183, 0.0138, 0.0139,\n",
            "        0.0189, 0.0172, 0.0195, 0.0154, 0.0179, 0.0147, 0.0149, 0.0168])\n"
          ],
          "name": "stdout"
        }
      ]
    },
    {
      "cell_type": "code",
      "metadata": {
        "colab": {
          "base_uri": "https://localhost:8080/"
        },
        "id": "zcar7edzFdxq",
        "outputId": "87eedbf9-3c82-46fa-a74e-db06d1f6a9c2"
      },
      "source": [
        "print(torch.sum(pred.squeeze()))"
      ],
      "execution_count": 14,
      "outputs": [
        {
          "output_type": "stream",
          "text": [
            "tensor(1.)\n"
          ],
          "name": "stdout"
        }
      ]
    },
    {
      "cell_type": "code",
      "metadata": {
        "colab": {
          "base_uri": "https://localhost:8080/"
        },
        "id": "vXgCsk3rHf5A",
        "outputId": "3a671a16-de53-4368-f754-75fbf9f78216"
      },
      "source": [
        "pred.argmax(dim=1).squeeze() == label"
      ],
      "execution_count": 15,
      "outputs": [
        {
          "output_type": "execute_result",
          "data": {
            "text/plain": [
              "tensor(False)"
            ]
          },
          "metadata": {
            "tags": []
          },
          "execution_count": 15
        }
      ]
    },
    {
      "cell_type": "markdown",
      "metadata": {
        "id": "02jVVLkMIBkx"
      },
      "source": [
        "Testing with a bunch of images. "
      ]
    },
    {
      "cell_type": "code",
      "metadata": {
        "colab": {
          "base_uri": "https://localhost:8080/"
        },
        "id": "E72s4EkTIHw4",
        "outputId": "2cb129a6-b070-423e-b308-f8598e6ad7b3"
      },
      "source": [
        "batch = next(iter(train_loader))\n",
        "print(type(batch), len(batch))\n",
        "images, labels = batch\n",
        "print(images.shape, labels.shape)"
      ],
      "execution_count": 16,
      "outputs": [
        {
          "output_type": "stream",
          "text": [
            "<class 'list'> 2\n",
            "torch.Size([32, 1, 28, 28]) torch.Size([32])\n"
          ],
          "name": "stdout"
        }
      ]
    },
    {
      "cell_type": "code",
      "metadata": {
        "id": "alo49fvTIXxu"
      },
      "source": [
        "preds = network(images)\n",
        "print(preds.shape)\n",
        "preds = preds.argmax(dim=1)\n",
        "print(preds.shape, preds)\n",
        "print(preds.squeeze().eq(labels))"
      ],
      "execution_count": null,
      "outputs": []
    },
    {
      "cell_type": "code",
      "metadata": {
        "colab": {
          "base_uri": "https://localhost:8080/"
        },
        "id": "giniFrhDBzUw",
        "outputId": "fd4cf6af-0af0-4fc3-bdae-fa02015a8181"
      },
      "source": [
        "# for param in network.parameters():\n",
        "  # print(param.shape)\n",
        "for name, param in network.named_parameters():\n",
        "  print(name, '\\t\\t', param.shape)"
      ],
      "execution_count": 18,
      "outputs": [
        {
          "output_type": "stream",
          "text": [
            "conv1.weight \t\t torch.Size([10, 1, 3, 3])\n",
            "conv1.bias \t\t torch.Size([10])\n",
            "conv2.weight \t\t torch.Size([10, 10, 3, 3])\n",
            "conv2.bias \t\t torch.Size([10])\n",
            "conv3.weight \t\t torch.Size([20, 10, 3, 3])\n",
            "conv3.bias \t\t torch.Size([20])\n",
            "conv4.weight \t\t torch.Size([20, 20, 3, 3])\n",
            "conv4.bias \t\t torch.Size([20])\n",
            "conv5.weight \t\t torch.Size([30, 20, 3, 3])\n",
            "conv5.bias \t\t torch.Size([30])\n",
            "outconv.weight \t\t torch.Size([62, 30, 1, 1])\n",
            "outconv.bias \t\t torch.Size([62])\n"
          ],
          "name": "stdout"
        }
      ]
    },
    {
      "cell_type": "markdown",
      "metadata": {
        "id": "H3KUXmfpIxV_"
      },
      "source": [
        "#Shifting the model onto a GPU"
      ]
    },
    {
      "cell_type": "code",
      "metadata": {
        "colab": {
          "base_uri": "https://localhost:8080/"
        },
        "id": "S9WEM0TtDBdC",
        "outputId": "5e18ba5c-f90c-425c-affa-17a3be0a48af"
      },
      "source": [
        "from torchsummary import summary\n",
        "device = torch.device(\"cuda\" if torch.cuda.is_available() else \"cpu\")\n",
        "model = neural_net().to(device)\n",
        "summary(model, input_size=(1, 28, 28))"
      ],
      "execution_count": 19,
      "outputs": [
        {
          "output_type": "stream",
          "text": [
            "----------------------------------------------------------------\n",
            "        Layer (type)               Output Shape         Param #\n",
            "================================================================\n",
            "            Conv2d-1           [-1, 10, 26, 26]             100\n",
            "            Conv2d-2           [-1, 10, 24, 24]             910\n",
            "         MaxPool2d-3           [-1, 10, 12, 12]               0\n",
            "            Conv2d-4           [-1, 20, 10, 10]           1,820\n",
            "            Conv2d-5             [-1, 20, 8, 8]           3,620\n",
            "         MaxPool2d-6             [-1, 20, 4, 4]               0\n",
            "            Conv2d-7             [-1, 30, 2, 2]           5,430\n",
            "            Conv2d-8             [-1, 62, 2, 2]           1,922\n",
            " AdaptiveAvgPool2d-9             [-1, 62, 1, 1]               0\n",
            "================================================================\n",
            "Total params: 13,802\n",
            "Trainable params: 13,802\n",
            "Non-trainable params: 0\n",
            "----------------------------------------------------------------\n",
            "Input size (MB): 0.00\n",
            "Forward/backward pass size (MB): 0.14\n",
            "Params size (MB): 0.05\n",
            "Estimated Total Size (MB): 0.19\n",
            "----------------------------------------------------------------\n"
          ],
          "name": "stdout"
        }
      ]
    },
    {
      "cell_type": "markdown",
      "metadata": {
        "id": "SqgpMnL8hRRY"
      },
      "source": [
        "#Training Phase"
      ]
    },
    {
      "cell_type": "code",
      "metadata": {
        "colab": {
          "base_uri": "https://localhost:8080/"
        },
        "id": "zv6qGRG_J4xw",
        "outputId": "9bd43693-17ca-41b1-c4ff-0c16f36b0213"
      },
      "source": [
        "#Changing Autograd Universally back to True\n",
        "torch.set_grad_enabled(True)"
      ],
      "execution_count": 20,
      "outputs": [
        {
          "output_type": "execute_result",
          "data": {
            "text/plain": [
              "<torch.autograd.grad_mode.set_grad_enabled at 0x7f5cb4ae4898>"
            ]
          },
          "metadata": {
            "tags": []
          },
          "execution_count": 20
        }
      ]
    },
    {
      "cell_type": "code",
      "metadata": {
        "colab": {
          "base_uri": "https://localhost:8080/"
        },
        "id": "UvTrfNxC2Bai",
        "outputId": "33e24c00-dd0c-40ac-cd7e-0614c32aee87"
      },
      "source": [
        "train_loader = torch.utils.data.DataLoader(\n",
        "    train_data,\n",
        "    batch_size = 32,\n",
        "    shuffle = True\n",
        ")\n",
        "\n",
        "# train_loader = train_loader.to(device)\n",
        "batch = next(iter(train_loader))\n",
        "images, labels = batch\n",
        "images = images.to(device)\n",
        "labels = labels.to(device)\n",
        "print(type(images), type(labels))\n",
        "print(images.shape,labels.shape)\n",
        "preds = model(images)\n",
        "print(\"Predictions shape:\", preds.shape)"
      ],
      "execution_count": 43,
      "outputs": [
        {
          "output_type": "stream",
          "text": [
            "<class 'torch.Tensor'> <class 'torch.Tensor'>\n",
            "torch.Size([32, 1, 28, 28]) torch.Size([32])\n",
            "Predictions shape: torch.Size([32, 62, 1, 1])\n"
          ],
          "name": "stdout"
        }
      ]
    },
    {
      "cell_type": "code",
      "metadata": {
        "colab": {
          "base_uri": "https://localhost:8080/"
        },
        "id": "b26CqcANKl_H",
        "outputId": "2aa3f83f-7d16-4f97-f481-e262d4f06a53"
      },
      "source": [
        "loss = F.cross_entropy(preds, labels.reshape(32, 1, 1))\n",
        "print(type(loss))\n",
        "# loss.backward()\n",
        "print(model.conv1.weight.grad.shape)\n",
        "loss.item()"
      ],
      "execution_count": 49,
      "outputs": [
        {
          "output_type": "stream",
          "text": [
            "<class 'torch.Tensor'>\n",
            "torch.Size([10, 1, 3, 3])\n"
          ],
          "name": "stdout"
        },
        {
          "output_type": "execute_result",
          "data": {
            "text/plain": [
              "4.127843379974365"
            ]
          },
          "metadata": {
            "tags": []
          },
          "execution_count": 49
        }
      ]
    },
    {
      "cell_type": "code",
      "metadata": {
        "id": "JiS8YIAe0v-4"
      },
      "source": [
        "optimizer = optim.SGD(model.parameters(), lr=0.1)\n",
        "optimizer.step()"
      ],
      "execution_count": 55,
      "outputs": []
    },
    {
      "cell_type": "code",
      "metadata": {
        "colab": {
          "base_uri": "https://localhost:8080/"
        },
        "id": "Zhmd1a8q8csX",
        "outputId": "90628dde-3421-469a-e694-f70a359d94d6"
      },
      "source": [
        "preds = model(images)\n",
        "loss = F.cross_entropy(preds, labels.reshape(32, 1, 1))\n",
        "print(loss.item())\n",
        "optimizer.step()"
      ],
      "execution_count": 56,
      "outputs": [
        {
          "output_type": "stream",
          "text": [
            "4.127841949462891\n"
          ],
          "name": "stdout"
        }
      ]
    },
    {
      "cell_type": "markdown",
      "metadata": {
        "id": "cSA1l6OA9wmu"
      },
      "source": [
        "#Training Loop"
      ]
    },
    {
      "cell_type": "code",
      "metadata": {
        "id": "xgKhTYSm-5Fu"
      },
      "source": [
        "def total_correct_predictions(preds, labels):\n",
        "  return preds.argmax(dim=1).eq(labels).sum().item()"
      ],
      "execution_count": 60,
      "outputs": []
    },
    {
      "cell_type": "code",
      "metadata": {
        "colab": {
          "base_uri": "https://localhost:8080/"
        },
        "id": "GopU_z6-AgEl",
        "outputId": "f5cc3df6-2198-49e8-93ec-c952bf6393ce"
      },
      "source": [
        "train_loader = torch.utils.data.DataLoader(\n",
        "    train_data,\n",
        "    batch_size = 32,\n",
        "    shuffle = True\n",
        ")\n",
        "\n",
        "optimizer = optim.SGD(model.parameters(), lr = 0.01)\n",
        "\n",
        "total_preds = len(train_data)\n",
        "for epoch in range(25):\n",
        "  \n",
        "  total_loss = 0\n",
        "  total_correct = 0\n",
        "\n",
        "  for batch in train_loader: #Iterate over all the batches\n",
        "    images, labels = batch #Get images and labels from the batch\n",
        "    images = images.to(device) #Load images onto the GPU\n",
        "    labels = labels.to(device).reshape(-1, 1, 1)\n",
        "    # labels = labels.reshape(32, 1, 1) #Reshape labels tensor to fit the model\n",
        "    \n",
        "\n",
        "    preds = model(images) #Get Predictions.\n",
        "    loss = F.cross_entropy(preds, labels) #Calculate Loss. \n",
        "\n",
        "    optimizer.zero_grad()\n",
        "    loss.backward()\n",
        "    optimizer.step()\n",
        "\n",
        "    total_loss += loss.item()\n",
        "    total_correct += total_correct_predictions(preds, labels)\n",
        "\n",
        "  acc = total_correct / total_preds\n",
        "  print(\n",
        "      \"Epoch:\",epoch,\n",
        "      \", Loss:\",total_loss,\n",
        "      \", Total_correct_Predictions:\",total_correct,\n",
        "      \", Accuracy:\",acc * 100\n",
        "  )"
      ],
      "execution_count": 73,
      "outputs": [
        {
          "output_type": "stream",
          "text": [
            "Epoch: 0 , Loss: 80602.93272471428 , Total_correct_Predictions: 320233 , Accuracy: 45.8831232842168\n",
            "Epoch: 1 , Loss: 80566.5214908123 , Total_correct_Predictions: 321414 , Accuracy: 46.05233747700349\n",
            "Epoch: 2 , Loss: 80541.80327248573 , Total_correct_Predictions: 322160 , Accuracy: 46.15922468091448\n",
            "Epoch: 3 , Loss: 80521.23784279823 , Total_correct_Predictions: 322784 , Accuracy: 46.24863167185342\n",
            "Epoch: 4 , Loss: 80053.75758481026 , Total_correct_Predictions: 337825 , Accuracy: 48.40371268261091\n",
            "Epoch: 5 , Loss: 79761.11775064468 , Total_correct_Predictions: 347152 , Accuracy: 49.74008929236659\n",
            "Epoch: 6 , Loss: 79743.74388456345 , Total_correct_Predictions: 347656 , Accuracy: 49.812302631201895\n",
            "Epoch: 7 , Loss: 79730.86010718346 , Total_correct_Predictions: 348044 , Accuracy: 49.86789543967034\n",
            "Epoch: 8 , Loss: 79719.75215864182 , Total_correct_Predictions: 348394 , Accuracy: 49.9180435916393\n",
            "Epoch: 9 , Loss: 79710.43782401085 , Total_correct_Predictions: 348658 , Accuracy: 49.955869626267315\n",
            "Epoch: 10 , Loss: 79667.08829927444 , Total_correct_Predictions: 350027 , Accuracy: 50.152020540683054\n",
            "Epoch: 11 , Loss: 79192.04411840439 , Total_correct_Predictions: 365397 , Accuracy: 52.354240814291366\n",
            "Epoch: 12 , Loss: 79166.07037162781 , Total_correct_Predictions: 366158 , Accuracy: 52.4632772247153\n",
            "Epoch: 13 , Loss: 79155.13535165787 , Total_correct_Predictions: 366475 , Accuracy: 52.50869712235576\n",
            "Epoch: 14 , Loss: 79080.48223376274 , Total_correct_Predictions: 368942 , Accuracy: 52.862169953519825\n",
            "Epoch: 15 , Loss: 78916.78737664223 , Total_correct_Predictions: 374178 , Accuracy: 53.612386306975466\n",
            "Epoch: 16 , Loss: 78896.6075489521 , Total_correct_Predictions: 374788 , Accuracy: 53.69978737183565\n",
            "Epoch: 17 , Loss: 78884.68666577339 , Total_correct_Predictions: 375163 , Accuracy: 53.75351753465954\n",
            "Epoch: 18 , Loss: 78878.3919327259 , Total_correct_Predictions: 375291 , Accuracy: 53.77185743023676\n",
            "Epoch: 19 , Loss: 78871.58545017242 , Total_correct_Predictions: 375520 , Accuracy: 53.804668649667875\n",
            "Epoch: 20 , Loss: 78866.1402232647 , Total_correct_Predictions: 375716 , Accuracy: 53.832751614770494\n",
            "Epoch: 21 , Loss: 78859.4014070034 , Total_correct_Predictions: 375911 , Accuracy: 53.86069129943891\n",
            "Epoch: 22 , Loss: 78750.74803209305 , Total_correct_Predictions: 379405 , Accuracy: 54.36131313652333\n",
            "Epoch: 23 , Loss: 78610.83516216278 , Total_correct_Predictions: 383915 , Accuracy: 55.007507894751924\n",
            "Epoch: 24 , Loss: 78601.73775434494 , Total_correct_Predictions: 384151 , Accuracy: 55.04132207722242\n"
          ],
          "name": "stdout"
        }
      ]
    }
  ]
}