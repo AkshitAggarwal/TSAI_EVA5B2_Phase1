{
  "nbformat": 4,
  "nbformat_minor": 0,
  "metadata": {
    "colab": {
      "name": "Assignment_Session04.ipynb",
      "provenance": [],
      "collapsed_sections": [
        "X1BWwfDCBk2D"
      ],
      "authorship_tag": "ABX9TyNcjmu44bToAl8shgLQVzuK",
      "include_colab_link": true
    },
    "kernelspec": {
      "name": "python3",
      "display_name": "Python 3"
    },
    "widgets": {
      "application/vnd.jupyter.widget-state+json": {
        "983f13f8bc9a43db8e3ea7f6446245b4": {
          "model_module": "@jupyter-widgets/controls",
          "model_name": "HBoxModel",
          "state": {
            "_view_name": "HBoxView",
            "_dom_classes": [],
            "_model_name": "HBoxModel",
            "_view_module": "@jupyter-widgets/controls",
            "_model_module_version": "1.5.0",
            "_view_count": null,
            "_view_module_version": "1.5.0",
            "box_style": "",
            "layout": "IPY_MODEL_d06a671ca61f427398dfbd75afd0b6fb",
            "_model_module": "@jupyter-widgets/controls",
            "children": [
              "IPY_MODEL_417a5194171d44f0befe9ee6d47ee6eb",
              "IPY_MODEL_b93033e29c3d4304ae0cd53ae765963d"
            ]
          }
        },
        "d06a671ca61f427398dfbd75afd0b6fb": {
          "model_module": "@jupyter-widgets/base",
          "model_name": "LayoutModel",
          "state": {
            "_view_name": "LayoutView",
            "grid_template_rows": null,
            "right": null,
            "justify_content": null,
            "_view_module": "@jupyter-widgets/base",
            "overflow": null,
            "_model_module_version": "1.2.0",
            "_view_count": null,
            "flex_flow": null,
            "width": null,
            "min_width": null,
            "border": null,
            "align_items": null,
            "bottom": null,
            "_model_module": "@jupyter-widgets/base",
            "top": null,
            "grid_column": null,
            "overflow_y": null,
            "overflow_x": null,
            "grid_auto_flow": null,
            "grid_area": null,
            "grid_template_columns": null,
            "flex": null,
            "_model_name": "LayoutModel",
            "justify_items": null,
            "grid_row": null,
            "max_height": null,
            "align_content": null,
            "visibility": null,
            "align_self": null,
            "height": null,
            "min_height": null,
            "padding": null,
            "grid_auto_rows": null,
            "grid_gap": null,
            "max_width": null,
            "order": null,
            "_view_module_version": "1.2.0",
            "grid_template_areas": null,
            "object_position": null,
            "object_fit": null,
            "grid_auto_columns": null,
            "margin": null,
            "display": null,
            "left": null
          }
        },
        "417a5194171d44f0befe9ee6d47ee6eb": {
          "model_module": "@jupyter-widgets/controls",
          "model_name": "FloatProgressModel",
          "state": {
            "_view_name": "ProgressView",
            "style": "IPY_MODEL_702fef43b1de451dad22516d268e201a",
            "_dom_classes": [],
            "description": "",
            "_model_name": "FloatProgressModel",
            "bar_style": "info",
            "max": 1,
            "_view_module": "@jupyter-widgets/controls",
            "_model_module_version": "1.5.0",
            "value": 1,
            "_view_count": null,
            "_view_module_version": "1.5.0",
            "orientation": "horizontal",
            "min": 0,
            "description_tooltip": null,
            "_model_module": "@jupyter-widgets/controls",
            "layout": "IPY_MODEL_0a4cdb988cd44f9ebf6a7222c7ce3988"
          }
        },
        "b93033e29c3d4304ae0cd53ae765963d": {
          "model_module": "@jupyter-widgets/controls",
          "model_name": "HTMLModel",
          "state": {
            "_view_name": "HTMLView",
            "style": "IPY_MODEL_3838485a17a2451b9d5baa711c9e0148",
            "_dom_classes": [],
            "description": "",
            "_model_name": "HTMLModel",
            "placeholder": "​",
            "_view_module": "@jupyter-widgets/controls",
            "_model_module_version": "1.5.0",
            "value": " 561758208/? [01:50&lt;00:00, 5386292.25it/s]",
            "_view_count": null,
            "_view_module_version": "1.5.0",
            "description_tooltip": null,
            "_model_module": "@jupyter-widgets/controls",
            "layout": "IPY_MODEL_2fa22787ac6847fa87866c0668c75a02"
          }
        },
        "702fef43b1de451dad22516d268e201a": {
          "model_module": "@jupyter-widgets/controls",
          "model_name": "ProgressStyleModel",
          "state": {
            "_view_name": "StyleView",
            "_model_name": "ProgressStyleModel",
            "description_width": "initial",
            "_view_module": "@jupyter-widgets/base",
            "_model_module_version": "1.5.0",
            "_view_count": null,
            "_view_module_version": "1.2.0",
            "bar_color": null,
            "_model_module": "@jupyter-widgets/controls"
          }
        },
        "0a4cdb988cd44f9ebf6a7222c7ce3988": {
          "model_module": "@jupyter-widgets/base",
          "model_name": "LayoutModel",
          "state": {
            "_view_name": "LayoutView",
            "grid_template_rows": null,
            "right": null,
            "justify_content": null,
            "_view_module": "@jupyter-widgets/base",
            "overflow": null,
            "_model_module_version": "1.2.0",
            "_view_count": null,
            "flex_flow": null,
            "width": null,
            "min_width": null,
            "border": null,
            "align_items": null,
            "bottom": null,
            "_model_module": "@jupyter-widgets/base",
            "top": null,
            "grid_column": null,
            "overflow_y": null,
            "overflow_x": null,
            "grid_auto_flow": null,
            "grid_area": null,
            "grid_template_columns": null,
            "flex": null,
            "_model_name": "LayoutModel",
            "justify_items": null,
            "grid_row": null,
            "max_height": null,
            "align_content": null,
            "visibility": null,
            "align_self": null,
            "height": null,
            "min_height": null,
            "padding": null,
            "grid_auto_rows": null,
            "grid_gap": null,
            "max_width": null,
            "order": null,
            "_view_module_version": "1.2.0",
            "grid_template_areas": null,
            "object_position": null,
            "object_fit": null,
            "grid_auto_columns": null,
            "margin": null,
            "display": null,
            "left": null
          }
        },
        "3838485a17a2451b9d5baa711c9e0148": {
          "model_module": "@jupyter-widgets/controls",
          "model_name": "DescriptionStyleModel",
          "state": {
            "_view_name": "StyleView",
            "_model_name": "DescriptionStyleModel",
            "description_width": "",
            "_view_module": "@jupyter-widgets/base",
            "_model_module_version": "1.5.0",
            "_view_count": null,
            "_view_module_version": "1.2.0",
            "_model_module": "@jupyter-widgets/controls"
          }
        },
        "2fa22787ac6847fa87866c0668c75a02": {
          "model_module": "@jupyter-widgets/base",
          "model_name": "LayoutModel",
          "state": {
            "_view_name": "LayoutView",
            "grid_template_rows": null,
            "right": null,
            "justify_content": null,
            "_view_module": "@jupyter-widgets/base",
            "overflow": null,
            "_model_module_version": "1.2.0",
            "_view_count": null,
            "flex_flow": null,
            "width": null,
            "min_width": null,
            "border": null,
            "align_items": null,
            "bottom": null,
            "_model_module": "@jupyter-widgets/base",
            "top": null,
            "grid_column": null,
            "overflow_y": null,
            "overflow_x": null,
            "grid_auto_flow": null,
            "grid_area": null,
            "grid_template_columns": null,
            "flex": null,
            "_model_name": "LayoutModel",
            "justify_items": null,
            "grid_row": null,
            "max_height": null,
            "align_content": null,
            "visibility": null,
            "align_self": null,
            "height": null,
            "min_height": null,
            "padding": null,
            "grid_auto_rows": null,
            "grid_gap": null,
            "max_width": null,
            "order": null,
            "_view_module_version": "1.2.0",
            "grid_template_areas": null,
            "object_position": null,
            "object_fit": null,
            "grid_auto_columns": null,
            "margin": null,
            "display": null,
            "left": null
          }
        }
      }
    },
    "accelerator": "GPU"
  },
  "cells": [
    {
      "cell_type": "markdown",
      "metadata": {
        "id": "view-in-github",
        "colab_type": "text"
      },
      "source": [
        "<a href=\"https://colab.research.google.com/github/AkshitAggarwal/TSAI_EVA5B2_Phase1/blob/main/Session_04/Assignment_Session04.ipynb\" target=\"_parent\"><img src=\"https://colab.research.google.com/assets/colab-badge.svg\" alt=\"Open In Colab\"/></a>"
      ]
    },
    {
      "cell_type": "code",
      "metadata": {
        "id": "nnTac1BO85Yn"
      },
      "source": [
        "import os\n",
        "import numpy as np\n",
        "import matplotlib.pyplot as plt\n",
        "import torch\n",
        "import torchvision\n",
        "import torch.nn as nn\n",
        "import torch.nn.functional as F\n",
        "import torch.utils as utils \n",
        "import torch.autograd\n",
        "import torch.optim as optim\n",
        "import torchvision.transforms as transforms"
      ],
      "execution_count": 1,
      "outputs": []
    },
    {
      "cell_type": "markdown",
      "metadata": {
        "id": "X1BWwfDCBk2D"
      },
      "source": [
        "#Train Dataset and Train Dataloader"
      ]
    },
    {
      "cell_type": "code",
      "metadata": {
        "colab": {
          "base_uri": "https://localhost:8080/",
          "height": 286,
          "referenced_widgets": [
            "983f13f8bc9a43db8e3ea7f6446245b4",
            "d06a671ca61f427398dfbd75afd0b6fb",
            "417a5194171d44f0befe9ee6d47ee6eb",
            "b93033e29c3d4304ae0cd53ae765963d",
            "702fef43b1de451dad22516d268e201a",
            "0a4cdb988cd44f9ebf6a7222c7ce3988",
            "3838485a17a2451b9d5baa711c9e0148",
            "2fa22787ac6847fa87866c0668c75a02"
          ]
        },
        "id": "dDdFZpohGLQP",
        "outputId": "f432ae8f-319e-4f8f-a0b2-2a56fded9650"
      },
      "source": [
        "train_data = torchvision.datasets.EMNIST(\n",
        "    root ='.\\bin',\n",
        "    download = True,\n",
        "    train = True,\n",
        "    split = 'byclass',\n",
        "    transform = transforms.ToTensor()\n",
        ")\n",
        "\n",
        "train_loader = torch.utils.data.DataLoader(\n",
        "    train_data,\n",
        "    batch_size = 32,\n",
        "    shuffle = True,\n",
        ")"
      ],
      "execution_count": 2,
      "outputs": [
        {
          "output_type": "stream",
          "text": [
            "Downloading and extracting zip archive\n",
            "Downloading http://www.itl.nist.gov/iaui/vip/cs_links/EMNIST/gzip.zip to .\bin/EMNIST/raw/emnist.zip\n"
          ],
          "name": "stdout"
        },
        {
          "output_type": "display_data",
          "data": {
            "application/vnd.jupyter.widget-view+json": {
              "model_id": "983f13f8bc9a43db8e3ea7f6446245b4",
              "version_minor": 0,
              "version_major": 2
            },
            "text/plain": [
              "HBox(children=(FloatProgress(value=1.0, bar_style='info', max=1.0), HTML(value='')))"
            ]
          },
          "metadata": {
            "tags": []
          }
        },
        {
          "output_type": "stream",
          "text": [
            "Extracting .\bin/EMNIST/raw/emnist.zip to .\bin/EMNIST/raw\n",
            "Processing byclass\n"
          ],
          "name": "stdout"
        },
        {
          "output_type": "stream",
          "text": [
            "/usr/local/lib/python3.6/dist-packages/torchvision/datasets/mnist.py:480: UserWarning: The given NumPy array is not writeable, and PyTorch does not support non-writeable tensors. This means you can write to the underlying (supposedly non-writeable) NumPy array using the tensor. You may want to copy the array to protect its data or make it writeable before converting it to a tensor. This type of warning will be suppressed for the rest of this program. (Triggered internally at  /pytorch/torch/csrc/utils/tensor_numpy.cpp:141.)\n",
            "  return torch.from_numpy(parsed.astype(m[2], copy=False)).view(*s)\n"
          ],
          "name": "stderr"
        },
        {
          "output_type": "stream",
          "text": [
            "Processing bymerge\n",
            "Processing balanced\n",
            "Processing letters\n",
            "Processing digits\n",
            "Processing mnist\n",
            "Done!\n"
          ],
          "name": "stdout"
        }
      ]
    },
    {
      "cell_type": "code",
      "metadata": {
        "colab": {
          "base_uri": "https://localhost:8080/"
        },
        "id": "Me2CIEMVIKFy",
        "outputId": "784c3485-e546-4c6e-cbd9-ac63b0136554"
      },
      "source": [
        "print(len(train_data), len(train_loader)) #Total no. of Training images and Training batches(Each batch has 32 images)"
      ],
      "execution_count": 3,
      "outputs": [
        {
          "output_type": "stream",
          "text": [
            "697932 21811\n"
          ],
          "name": "stdout"
        }
      ]
    },
    {
      "cell_type": "code",
      "metadata": {
        "colab": {
          "base_uri": "https://localhost:8080/"
        },
        "id": "UgZYcRkXIOfm",
        "outputId": "d178ef92-eed6-48ed-bc3f-bf7ca3e3f208"
      },
      "source": [
        "print(train_data.train_labels.bincount()) #Individual counts of all classes. Total classes: 62"
      ],
      "execution_count": 4,
      "outputs": [
        {
          "output_type": "stream",
          "text": [
            "tensor([34585, 38374, 34203, 35143, 33535, 31416, 34232, 35754, 33946, 33847,\n",
            "         6407,  3878, 10094,  4562,  4934,  9182,  2517,  3152, 11946,  3762,\n",
            "         2468,  5076,  9002,  8237, 24983,  8347,  2605,  5073, 20764,  9820,\n",
            "        12602,  4637,  4695,  2771,  4743,  2701, 10033,  5159,  2854, 10177,\n",
            "        24631,  2561,  3687,  8738,  2725,  1896,  2491, 15318,  2645, 11418,\n",
            "         2749,  2448,  2994, 14105,  2699, 18262,  2830,  2910,  2697,  2822,\n",
            "         2365,  2725])\n"
          ],
          "name": "stdout"
        },
        {
          "output_type": "stream",
          "text": [
            "/usr/local/lib/python3.6/dist-packages/torchvision/datasets/mnist.py:48: UserWarning: train_labels has been renamed targets\n",
            "  warnings.warn(\"train_labels has been renamed targets\")\n"
          ],
          "name": "stderr"
        }
      ]
    },
    {
      "cell_type": "code",
      "metadata": {
        "colab": {
          "base_uri": "https://localhost:8080/"
        },
        "id": "gao2qubQJcTO",
        "outputId": "20c822d7-7fea-4d63-be6a-0414756533b9"
      },
      "source": [
        "batch_iterator = next(iter(train_loader))\n",
        "type(batch_iterator)"
      ],
      "execution_count": 5,
      "outputs": [
        {
          "output_type": "execute_result",
          "data": {
            "text/plain": [
              "list"
            ]
          },
          "metadata": {
            "tags": []
          },
          "execution_count": 5
        }
      ]
    },
    {
      "cell_type": "code",
      "metadata": {
        "colab": {
          "base_uri": "https://localhost:8080/"
        },
        "id": "juiccpLAJ10z",
        "outputId": "b0d1fb3d-7133-4c16-fb05-76573f69373e"
      },
      "source": [
        "images, labels = batch_iterator\n",
        "print(images.shape, labels.shape)"
      ],
      "execution_count": 6,
      "outputs": [
        {
          "output_type": "stream",
          "text": [
            "torch.Size([32, 1, 28, 28]) torch.Size([32])\n"
          ],
          "name": "stdout"
        }
      ]
    },
    {
      "cell_type": "code",
      "metadata": {
        "colab": {
          "base_uri": "https://localhost:8080/"
        },
        "id": "Xy4ni2iP4M4u",
        "outputId": "2fc198a3-5f36-49fe-ee54-46d7b8197ec4"
      },
      "source": [
        "sample = next(iter(train_data))\n",
        "print(type(sample))\n",
        "image, label = sample\n",
        "print(image.shape, label)"
      ],
      "execution_count": 7,
      "outputs": [
        {
          "output_type": "stream",
          "text": [
            "<class 'tuple'>\n",
            "torch.Size([1, 28, 28]) 35\n"
          ],
          "name": "stdout"
        }
      ]
    },
    {
      "cell_type": "markdown",
      "metadata": {
        "id": "K6Z93FwABq1w"
      },
      "source": [
        "#Network Architecture"
      ]
    },
    {
      "cell_type": "code",
      "metadata": {
        "id": "JaKL1APJAPX7"
      },
      "source": [
        "class neural_net(nn.Module):\n",
        "  def __init__(self):\n",
        "    super(neural_net, self).__init__()\n",
        "    self.conv1 = nn.Conv2d(in_channels=1, out_channels=10, kernel_size=3) #insize= 1x28x28; outsize= 10x26x26; RF= 3\n",
        "    self.conv2 = nn.Conv2d(in_channels=10, out_channels=10, kernel_size=3) #insize= 10x26x26; outsize= 10x24x24; RF= 5\n",
        "    self.maxp1 = nn.MaxPool2d(kernel_size = 2, stride = 2) #insize= 10x24x24; outsize= 10x12x12; RF= 10\n",
        "    self.conv3 = nn.Conv2d(in_channels=10, out_channels=20, kernel_size=3) #insize= 10x12x12; outsize= 20x10x10; RF= 12\n",
        "    self.conv4 = nn.Conv2d(in_channels=20, out_channels=20, kernel_size=3) #insize= 20x10x10; outsize= 20x8x8; RF= 14\n",
        "    self.maxp2 = nn.MaxPool2d(kernel_size = 2, stride = 2) #insize= 20x8x8; outsize= 20x4x4; RF= 28\n",
        "    self.conv5 = nn.Conv2d(in_channels=20, out_channels=30, kernel_size=3) #insize= 20x4x4; outsize= 30x2x2; RF= 30\n",
        "    self.outconv = nn.Conv2d(in_channels=30, out_channels=62, kernel_size=1) #insize = 30x2x2; outsize= 62x2x2; RF= 30\n",
        "    self.avgpool = nn.AvgPool2d((2, 2)) #insize = 62x2x2; outsize= 62x1x1; RF=?\n",
        "  \n",
        "  def forward(self, t):\n",
        "    t = self.maxp1(F.relu(self.conv2(F.relu(self.conv1(t)))))\n",
        "    t = self.maxp2(F.relu(self.conv4(F.relu(self.conv3(t)))))\n",
        "    t = self.outconv(F.relu(self.conv5(t)))\n",
        "    t = self.avgpool(t)\n",
        "    # t = t.view(-1, 62)\n",
        "    return F.log_softmax(t, dim = 1)"
      ],
      "execution_count": 23,
      "outputs": []
    },
    {
      "cell_type": "code",
      "metadata": {
        "colab": {
          "base_uri": "https://localhost:8080/"
        },
        "id": "1a0k86nLQ-Cc",
        "outputId": "4a7ae2d8-21b8-49c0-f264-a1b8d38f670a"
      },
      "source": [
        "network = neural_net()\n",
        "print(network)"
      ],
      "execution_count": 24,
      "outputs": [
        {
          "output_type": "stream",
          "text": [
            "neural_net(\n",
            "  (conv1): Conv2d(1, 10, kernel_size=(3, 3), stride=(1, 1))\n",
            "  (conv2): Conv2d(10, 10, kernel_size=(3, 3), stride=(1, 1))\n",
            "  (maxp1): MaxPool2d(kernel_size=2, stride=2, padding=0, dilation=1, ceil_mode=False)\n",
            "  (conv3): Conv2d(10, 20, kernel_size=(3, 3), stride=(1, 1))\n",
            "  (conv4): Conv2d(20, 20, kernel_size=(3, 3), stride=(1, 1))\n",
            "  (maxp2): MaxPool2d(kernel_size=2, stride=2, padding=0, dilation=1, ceil_mode=False)\n",
            "  (conv5): Conv2d(20, 30, kernel_size=(3, 3), stride=(1, 1))\n",
            "  (outconv): Conv2d(30, 62, kernel_size=(1, 1), stride=(1, 1))\n",
            "  (avgpool): AvgPool2d(kernel_size=(2, 2), stride=(2, 2), padding=0)\n",
            ")\n"
          ],
          "name": "stdout"
        }
      ]
    },
    {
      "cell_type": "code",
      "metadata": {
        "colab": {
          "base_uri": "https://localhost:8080/"
        },
        "id": "XrZZl8U5G5Yf",
        "outputId": "165bcd22-f94d-495e-bb6f-892561104053"
      },
      "source": [
        "torch.set_grad_enabled(False)"
      ],
      "execution_count": 25,
      "outputs": [
        {
          "output_type": "execute_result",
          "data": {
            "text/plain": [
              "<torch.autograd.grad_mode.set_grad_enabled at 0x7f49456202e8>"
            ]
          },
          "metadata": {
            "tags": []
          },
          "execution_count": 25
        }
      ]
    },
    {
      "cell_type": "code",
      "metadata": {
        "id": "4704sYFb4rSa"
      },
      "source": [
        "pred = network(image.unsqueeze(dim=0)) #Image is a rank-3 tensor, but our model expects a rank-4 'batch-like' tensor.\n",
        "# print(pred.squeeze().shape) "
      ],
      "execution_count": 26,
      "outputs": []
    },
    {
      "cell_type": "code",
      "metadata": {
        "colab": {
          "base_uri": "https://localhost:8080/"
        },
        "id": "d0EkZAFLGnv1",
        "outputId": "06ef9372-f2d5-4032-97ca-a737a745248e"
      },
      "source": [
        "print(pred.shape)\n",
        "# pred.eq(label)\n",
        "print(pred.squeeze())"
      ],
      "execution_count": 27,
      "outputs": [
        {
          "output_type": "stream",
          "text": [
            "torch.Size([1, 62, 1, 1])\n",
            "tensor([-4.1715, -4.0697, -3.9500, -3.9759, -4.1669, -4.0453, -4.1893, -4.2776,\n",
            "        -3.9955, -4.0737, -4.1719, -4.2936, -4.1734, -4.2621, -4.1470, -4.2765,\n",
            "        -4.0425, -3.9706, -4.0809, -4.1030, -4.0616, -4.2361, -4.0710, -4.2208,\n",
            "        -4.1982, -4.1315, -4.1912, -4.2521, -4.1194, -4.1513, -3.9368, -3.9284,\n",
            "        -4.1212, -3.9105, -4.1546, -3.9758, -3.9991, -4.2799, -4.2057, -4.1863,\n",
            "        -4.2252, -4.0607, -4.1531, -4.2505, -4.2059, -3.9906, -4.2317, -3.9749,\n",
            "        -4.2255, -4.2103, -4.1789, -4.1372, -4.2097, -3.9928, -3.9708, -4.2551,\n",
            "        -4.2676, -4.2037, -4.2624, -4.0639, -4.1283, -4.2764])\n"
          ],
          "name": "stdout"
        }
      ]
    },
    {
      "cell_type": "markdown",
      "metadata": {
        "id": "02jVVLkMIBkx"
      },
      "source": [
        "Testing with a bunch of images. "
      ]
    },
    {
      "cell_type": "code",
      "metadata": {
        "colab": {
          "base_uri": "https://localhost:8080/"
        },
        "id": "E72s4EkTIHw4",
        "outputId": "9757e9da-ce6c-4499-afca-bc3f944aeb18"
      },
      "source": [
        "batch = next(iter(train_loader))\n",
        "print(type(batch), len(batch))\n",
        "images, labels = batch\n",
        "print(images.shape, labels.shape)"
      ],
      "execution_count": 28,
      "outputs": [
        {
          "output_type": "stream",
          "text": [
            "<class 'list'> 2\n",
            "torch.Size([32, 1, 28, 28]) torch.Size([32])\n"
          ],
          "name": "stdout"
        }
      ]
    },
    {
      "cell_type": "code",
      "metadata": {
        "id": "alo49fvTIXxu",
        "outputId": "0c8d22a1-2404-4af2-d483-5dd8dc159efa",
        "colab": {
          "base_uri": "https://localhost:8080/"
        }
      },
      "source": [
        "preds = network(images)\n",
        "print(preds.shape)\n",
        "preds = preds.argmax(dim=1)\n",
        "print(preds.shape, preds)\n",
        "print(preds.squeeze().eq(labels))"
      ],
      "execution_count": 29,
      "outputs": [
        {
          "output_type": "stream",
          "text": [
            "torch.Size([32, 62, 1, 1])\n",
            "torch.Size([32, 1, 1]) tensor([[[33]],\n",
            "\n",
            "        [[33]],\n",
            "\n",
            "        [[33]],\n",
            "\n",
            "        [[33]],\n",
            "\n",
            "        [[33]],\n",
            "\n",
            "        [[33]],\n",
            "\n",
            "        [[33]],\n",
            "\n",
            "        [[33]],\n",
            "\n",
            "        [[33]],\n",
            "\n",
            "        [[33]],\n",
            "\n",
            "        [[33]],\n",
            "\n",
            "        [[33]],\n",
            "\n",
            "        [[33]],\n",
            "\n",
            "        [[33]],\n",
            "\n",
            "        [[33]],\n",
            "\n",
            "        [[33]],\n",
            "\n",
            "        [[33]],\n",
            "\n",
            "        [[33]],\n",
            "\n",
            "        [[33]],\n",
            "\n",
            "        [[33]],\n",
            "\n",
            "        [[33]],\n",
            "\n",
            "        [[33]],\n",
            "\n",
            "        [[33]],\n",
            "\n",
            "        [[33]],\n",
            "\n",
            "        [[33]],\n",
            "\n",
            "        [[33]],\n",
            "\n",
            "        [[33]],\n",
            "\n",
            "        [[33]],\n",
            "\n",
            "        [[33]],\n",
            "\n",
            "        [[33]],\n",
            "\n",
            "        [[33]],\n",
            "\n",
            "        [[33]]])\n",
            "tensor([False, False, False, False, False, False, False, False, False, False,\n",
            "        False, False, False, False, False, False, False, False, False, False,\n",
            "        False, False, False, False, False, False, False, False, False, False,\n",
            "        False, False])\n"
          ],
          "name": "stdout"
        }
      ]
    },
    {
      "cell_type": "code",
      "metadata": {
        "colab": {
          "base_uri": "https://localhost:8080/"
        },
        "id": "giniFrhDBzUw",
        "outputId": "9c1477aa-88f6-4f0b-ed10-8968103c7220"
      },
      "source": [
        "# for param in network.parameters():\n",
        "  # print(param.shape)\n",
        "for name, param in network.named_parameters():\n",
        "  print(name, '\\t\\t', param.shape)"
      ],
      "execution_count": 30,
      "outputs": [
        {
          "output_type": "stream",
          "text": [
            "conv1.weight \t\t torch.Size([10, 1, 3, 3])\n",
            "conv1.bias \t\t torch.Size([10])\n",
            "conv2.weight \t\t torch.Size([10, 10, 3, 3])\n",
            "conv2.bias \t\t torch.Size([10])\n",
            "conv3.weight \t\t torch.Size([20, 10, 3, 3])\n",
            "conv3.bias \t\t torch.Size([20])\n",
            "conv4.weight \t\t torch.Size([20, 20, 3, 3])\n",
            "conv4.bias \t\t torch.Size([20])\n",
            "conv5.weight \t\t torch.Size([30, 20, 3, 3])\n",
            "conv5.bias \t\t torch.Size([30])\n",
            "outconv.weight \t\t torch.Size([62, 30, 1, 1])\n",
            "outconv.bias \t\t torch.Size([62])\n"
          ],
          "name": "stdout"
        }
      ]
    },
    {
      "cell_type": "markdown",
      "metadata": {
        "id": "H3KUXmfpIxV_"
      },
      "source": [
        "#Shifting the model onto a GPU"
      ]
    },
    {
      "cell_type": "code",
      "metadata": {
        "colab": {
          "base_uri": "https://localhost:8080/"
        },
        "id": "S9WEM0TtDBdC",
        "outputId": "047676e7-94f9-4262-a134-03797c0defc2"
      },
      "source": [
        "from torchsummary import summary\n",
        "device = torch.device(\"cuda\" if torch.cuda.is_available() else \"cpu\")\n",
        "model = neural_net().to(device)\n",
        "summary(model, input_size=(1, 28, 28))"
      ],
      "execution_count": 31,
      "outputs": [
        {
          "output_type": "stream",
          "text": [
            "----------------------------------------------------------------\n",
            "        Layer (type)               Output Shape         Param #\n",
            "================================================================\n",
            "            Conv2d-1           [-1, 10, 26, 26]             100\n",
            "            Conv2d-2           [-1, 10, 24, 24]             910\n",
            "         MaxPool2d-3           [-1, 10, 12, 12]               0\n",
            "            Conv2d-4           [-1, 20, 10, 10]           1,820\n",
            "            Conv2d-5             [-1, 20, 8, 8]           3,620\n",
            "         MaxPool2d-6             [-1, 20, 4, 4]               0\n",
            "            Conv2d-7             [-1, 30, 2, 2]           5,430\n",
            "            Conv2d-8             [-1, 62, 2, 2]           1,922\n",
            "         AvgPool2d-9             [-1, 62, 1, 1]               0\n",
            "================================================================\n",
            "Total params: 13,802\n",
            "Trainable params: 13,802\n",
            "Non-trainable params: 0\n",
            "----------------------------------------------------------------\n",
            "Input size (MB): 0.00\n",
            "Forward/backward pass size (MB): 0.14\n",
            "Params size (MB): 0.05\n",
            "Estimated Total Size (MB): 0.19\n",
            "----------------------------------------------------------------\n"
          ],
          "name": "stdout"
        }
      ]
    },
    {
      "cell_type": "markdown",
      "metadata": {
        "id": "SqgpMnL8hRRY"
      },
      "source": [
        "#Training Phase"
      ]
    },
    {
      "cell_type": "code",
      "metadata": {
        "colab": {
          "base_uri": "https://localhost:8080/"
        },
        "id": "zv6qGRG_J4xw",
        "outputId": "718e1da3-753c-4411-86cd-f6f9c22f01c8"
      },
      "source": [
        "#Changing Autograd Universally back to True\n",
        "torch.set_grad_enabled(True)"
      ],
      "execution_count": 32,
      "outputs": [
        {
          "output_type": "execute_result",
          "data": {
            "text/plain": [
              "<torch.autograd.grad_mode.set_grad_enabled at 0x7f4946c14748>"
            ]
          },
          "metadata": {
            "tags": []
          },
          "execution_count": 32
        }
      ]
    },
    {
      "cell_type": "markdown",
      "metadata": {
        "id": "cSA1l6OA9wmu"
      },
      "source": [
        "#Training Loop"
      ]
    },
    {
      "cell_type": "code",
      "metadata": {
        "id": "xgKhTYSm-5Fu"
      },
      "source": [
        "def total_correct_predictions(preds, labels):\n",
        "  return preds.argmax(dim=1).eq(labels).sum().item()"
      ],
      "execution_count": 33,
      "outputs": []
    },
    {
      "cell_type": "markdown",
      "metadata": {
        "id": "0SJI9H2vSTt3"
      },
      "source": [
        "#Defining training loop as a function for extra training.\n",
        "\n",
        "The train function takes in as arguments:\n",
        "1. Train Data Loader\n",
        "2. The device on which the model is being trained on.\n",
        "3. Optimizer(SGD in our case)\n",
        "4. Total No. of predictions for Accuracy metric\n",
        "5. No of epochs"
      ]
    },
    {
      "cell_type": "code",
      "metadata": {
        "id": "xn5uvM-5STKA"
      },
      "source": [
        "def train_func(train_loader, device, optimizer, total_preds, epochs):\n",
        "  for epoch in range(epochs):\n",
        "  \n",
        "    total_loss = 0\n",
        "    total_correct = 0\n",
        "\n",
        "    for batch in train_loader: #Iterate over all the batches\n",
        "      images, labels = batch #Get images and labels from the batch\n",
        "      images = images.to(device) #Load images onto the GPU\n",
        "      labels = labels.to(device).reshape(-1, 1, 1) #Reshape labels tensor to fit the model      \n",
        "\n",
        "      preds = model(images) #Get Predictions.\n",
        "      loss = F.cross_entropy(preds, labels) #Calculate Loss. \n",
        "\n",
        "      optimizer.zero_grad() #Setting the gradient value to 0, so as to not accumulate it over and over.\n",
        "      loss.backward()\n",
        "      optimizer.step()\n",
        "\n",
        "      total_loss += loss.item()\n",
        "      total_correct += total_correct_predictions(preds, labels)\n",
        "\n",
        "    acc = total_correct / total_preds\n",
        "    print(\n",
        "        \"Epoch:\",epoch,\n",
        "        \", Loss:\",total_loss,\n",
        "        \", Total_correct_Predictions:\",total_correct,\n",
        "        \", Accuracy:\",acc * 100\n",
        "    )"
      ],
      "execution_count": 34,
      "outputs": []
    },
    {
      "cell_type": "code",
      "metadata": {
        "id": "bXwZsyDmS1s9"
      },
      "source": [
        "# data_loader = utils.data.DataLoader(\n",
        "    # train_data, \n",
        "    # batch_size = 128,\n",
        "    # shuffle = True\n",
        "# )\n",
        "\n",
        "optimizer = optim.SGD(model.parameters(), lr = 0.1)\n",
        "\n",
        "total_preds = len(train_data)\n",
        "# \n",
        "# train_func(data_loader, device, optimizer, total_preds, 5)"
      ],
      "execution_count": 38,
      "outputs": []
    },
    {
      "cell_type": "code",
      "metadata": {
        "colab": {
          "base_uri": "https://localhost:8080/"
        },
        "id": "wejMdIGbTsJG",
        "outputId": "6f5cac66-72fc-4478-d1f6-50f48eedd4e8"
      },
      "source": [
        "data_loader = utils.data.DataLoader(train_data, batch_size = 256, shuffle = True)\n",
        "\n",
        "train_func(data_loader, device, optimizer, total_preds, 20)"
      ],
      "execution_count": 39,
      "outputs": [
        {
          "output_type": "stream",
          "text": [
            "Epoch: 0 , Loss: 2807.6059895157814 , Total_correct_Predictions: 486977 , Accuracy: 69.77427600396601\n",
            "Epoch: 1 , Loss: 1394.5725757479668 , Total_correct_Predictions: 574354 , Accuracy: 82.2936905027997\n",
            "Epoch: 2 , Loss: 1293.2642947733402 , Total_correct_Predictions: 581681 , Accuracy: 83.34350624416132\n",
            "Epoch: 3 , Loss: 1238.5196934640408 , Total_correct_Predictions: 585898 , Accuracy: 83.94771983517019\n",
            "Epoch: 4 , Loss: 1202.541843086481 , Total_correct_Predictions: 588489 , Accuracy: 84.3189594401747\n",
            "Epoch: 5 , Loss: 1178.7424369305372 , Total_correct_Predictions: 590105 , Accuracy: 84.55050062183709\n",
            "Epoch: 6 , Loss: 1158.2486118674278 , Total_correct_Predictions: 591914 , Accuracy: 84.8096949272995\n",
            "Epoch: 7 , Loss: 1142.4311785399914 , Total_correct_Predictions: 592930 , Accuracy: 84.95526784844368\n",
            "Epoch: 8 , Loss: 1128.7998144179583 , Total_correct_Predictions: 594151 , Accuracy: 85.13021325859826\n",
            "Epoch: 9 , Loss: 1117.230924665928 , Total_correct_Predictions: 594953 , Accuracy: 85.24512416682427\n",
            "Epoch: 10 , Loss: 1107.322582140565 , Total_correct_Predictions: 595822 , Accuracy: 85.3696348641415\n",
            "Epoch: 11 , Loss: 1099.3588547855616 , Total_correct_Predictions: 596392 , Accuracy: 85.4513047116338\n",
            "Epoch: 12 , Loss: 1091.8232917189598 , Total_correct_Predictions: 596918 , Accuracy: 85.52667022002144\n",
            "Epoch: 13 , Loss: 1084.5815757364035 , Total_correct_Predictions: 597340 , Accuracy: 85.58713456325258\n",
            "Epoch: 14 , Loss: 1077.893413066864 , Total_correct_Predictions: 597743 , Accuracy: 85.64487657823399\n",
            "Epoch: 15 , Loss: 1072.2024827450514 , Total_correct_Predictions: 598366 , Accuracy: 85.73414028873873\n",
            "Epoch: 16 , Loss: 1067.0196171551943 , Total_correct_Predictions: 598692 , Accuracy: 85.78084971028697\n",
            "Epoch: 17 , Loss: 1061.9755468666553 , Total_correct_Predictions: 598950 , Accuracy: 85.81781606230979\n",
            "Epoch: 18 , Loss: 1057.992002427578 , Total_correct_Predictions: 599424 , Accuracy: 85.88573098811919\n",
            "Epoch: 19 , Loss: 1053.8715470582247 , Total_correct_Predictions: 599812 , Accuracy: 85.94132379658762\n"
          ],
          "name": "stdout"
        }
      ]
    },
    {
      "cell_type": "code",
      "metadata": {
        "colab": {
          "base_uri": "https://localhost:8080/"
        },
        "id": "eNkzC9KtVn1e",
        "outputId": "acc678f8-9561-4d3a-8a8d-ef033b966d72"
      },
      "source": [
        "optimizer = optim.SGD(model.parameters(), lr = 0.01) #Experimenting with larger LR due to extremely slow accuracy climb. \n",
        "\n",
        "train_func(data_loader, device, optimizer, total_preds, 10)"
      ],
      "execution_count": 40,
      "outputs": [
        {
          "output_type": "stream",
          "text": [
            "Epoch: 0 , Loss: 1013.139549061656 , Total_correct_Predictions: 603090 , Accuracy: 86.41099705988549\n",
            "Epoch: 1 , Loss: 1009.9137730449438 , Total_correct_Predictions: 603532 , Accuracy: 86.47432701180058\n",
            "Epoch: 2 , Loss: 1008.6723053455353 , Total_correct_Predictions: 603508 , Accuracy: 86.47088828137984\n",
            "Epoch: 3 , Loss: 1007.8622366786003 , Total_correct_Predictions: 603563 , Accuracy: 86.47876870526069\n",
            "Epoch: 4 , Loss: 1007.1349303871393 , Total_correct_Predictions: 603608 , Accuracy: 86.48521632479955\n",
            "Epoch: 5 , Loss: 1006.4741647988558 , Total_correct_Predictions: 603707 , Accuracy: 86.49940108778506\n",
            "Epoch: 6 , Loss: 1005.818158686161 , Total_correct_Predictions: 603734 , Accuracy: 86.50326965950838\n",
            "Epoch: 7 , Loss: 1005.407583758235 , Total_correct_Predictions: 603680 , Accuracy: 86.49553251606173\n",
            "Epoch: 8 , Loss: 1004.9339700341225 , Total_correct_Predictions: 603647 , Accuracy: 86.49080426173323\n",
            "Epoch: 9 , Loss: 1004.4717433303595 , Total_correct_Predictions: 603866 , Accuracy: 86.52218267682238\n"
          ],
          "name": "stdout"
        }
      ]
    },
    {
      "cell_type": "code",
      "metadata": {
        "id": "BbYUf2xZbhTr"
      },
      "source": [
        "torch.save(model.state_dict(), '/content/model_param_86')"
      ],
      "execution_count": 43,
      "outputs": []
    },
    {
      "cell_type": "code",
      "metadata": {
        "id": "ZvovWED5J-6P",
        "outputId": "9cd13645-c678-4b8b-d267-0a565eefdb51",
        "colab": {
          "base_uri": "https://localhost:8080/"
        }
      },
      "source": [
        "!pwd"
      ],
      "execution_count": 42,
      "outputs": [
        {
          "output_type": "stream",
          "text": [
            "/content\n"
          ],
          "name": "stdout"
        }
      ]
    },
    {
      "cell_type": "code",
      "metadata": {
        "id": "5TT5na7bKGA0"
      },
      "source": [
        ""
      ],
      "execution_count": null,
      "outputs": []
    }
  ]
}