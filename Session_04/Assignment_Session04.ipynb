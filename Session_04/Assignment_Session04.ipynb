{
  "nbformat": 4,
  "nbformat_minor": 0,
  "metadata": {
    "colab": {
      "name": "Assignment_Session04.ipynb",
      "provenance": [],
      "collapsed_sections": [
        "X1BWwfDCBk2D"
      ],
      "authorship_tag": "ABX9TyM5wTLhmUwI5H7/0cMLk2sn",
      "include_colab_link": true
    },
    "kernelspec": {
      "name": "python3",
      "display_name": "Python 3"
    },
    "widgets": {
      "application/vnd.jupyter.widget-state+json": {
        "fdcc8ac638ae4244a412d6c87ba87d5d": {
          "model_module": "@jupyter-widgets/controls",
          "model_name": "HBoxModel",
          "state": {
            "_view_name": "HBoxView",
            "_dom_classes": [],
            "_model_name": "HBoxModel",
            "_view_module": "@jupyter-widgets/controls",
            "_model_module_version": "1.5.0",
            "_view_count": null,
            "_view_module_version": "1.5.0",
            "box_style": "",
            "layout": "IPY_MODEL_506015da45a24ba9b43bf6d294283b97",
            "_model_module": "@jupyter-widgets/controls",
            "children": [
              "IPY_MODEL_086fa67f36ea4e94a542d45fd15f90fe",
              "IPY_MODEL_cbe71344051448168cefcadc05848e9d"
            ]
          }
        },
        "506015da45a24ba9b43bf6d294283b97": {
          "model_module": "@jupyter-widgets/base",
          "model_name": "LayoutModel",
          "state": {
            "_view_name": "LayoutView",
            "grid_template_rows": null,
            "right": null,
            "justify_content": null,
            "_view_module": "@jupyter-widgets/base",
            "overflow": null,
            "_model_module_version": "1.2.0",
            "_view_count": null,
            "flex_flow": null,
            "width": null,
            "min_width": null,
            "border": null,
            "align_items": null,
            "bottom": null,
            "_model_module": "@jupyter-widgets/base",
            "top": null,
            "grid_column": null,
            "overflow_y": null,
            "overflow_x": null,
            "grid_auto_flow": null,
            "grid_area": null,
            "grid_template_columns": null,
            "flex": null,
            "_model_name": "LayoutModel",
            "justify_items": null,
            "grid_row": null,
            "max_height": null,
            "align_content": null,
            "visibility": null,
            "align_self": null,
            "height": null,
            "min_height": null,
            "padding": null,
            "grid_auto_rows": null,
            "grid_gap": null,
            "max_width": null,
            "order": null,
            "_view_module_version": "1.2.0",
            "grid_template_areas": null,
            "object_position": null,
            "object_fit": null,
            "grid_auto_columns": null,
            "margin": null,
            "display": null,
            "left": null
          }
        },
        "086fa67f36ea4e94a542d45fd15f90fe": {
          "model_module": "@jupyter-widgets/controls",
          "model_name": "FloatProgressModel",
          "state": {
            "_view_name": "ProgressView",
            "style": "IPY_MODEL_701c647d73d74bcc8582081a43882c0e",
            "_dom_classes": [],
            "description": "",
            "_model_name": "FloatProgressModel",
            "bar_style": "info",
            "max": 1,
            "_view_module": "@jupyter-widgets/controls",
            "_model_module_version": "1.5.0",
            "value": 1,
            "_view_count": null,
            "_view_module_version": "1.5.0",
            "orientation": "horizontal",
            "min": 0,
            "description_tooltip": null,
            "_model_module": "@jupyter-widgets/controls",
            "layout": "IPY_MODEL_06e6ec874c924eeb8bec4ce2a3d2ad5a"
          }
        },
        "cbe71344051448168cefcadc05848e9d": {
          "model_module": "@jupyter-widgets/controls",
          "model_name": "HTMLModel",
          "state": {
            "_view_name": "HTMLView",
            "style": "IPY_MODEL_aa716196e092439ba141edc2999b4093",
            "_dom_classes": [],
            "description": "",
            "_model_name": "HTMLModel",
            "placeholder": "​",
            "_view_module": "@jupyter-widgets/controls",
            "_model_module_version": "1.5.0",
            "value": " 561758208/? [03:10&lt;00:00, 4334043.45it/s]",
            "_view_count": null,
            "_view_module_version": "1.5.0",
            "description_tooltip": null,
            "_model_module": "@jupyter-widgets/controls",
            "layout": "IPY_MODEL_13b982670250424a82c1715f7a98a077"
          }
        },
        "701c647d73d74bcc8582081a43882c0e": {
          "model_module": "@jupyter-widgets/controls",
          "model_name": "ProgressStyleModel",
          "state": {
            "_view_name": "StyleView",
            "_model_name": "ProgressStyleModel",
            "description_width": "initial",
            "_view_module": "@jupyter-widgets/base",
            "_model_module_version": "1.5.0",
            "_view_count": null,
            "_view_module_version": "1.2.0",
            "bar_color": null,
            "_model_module": "@jupyter-widgets/controls"
          }
        },
        "06e6ec874c924eeb8bec4ce2a3d2ad5a": {
          "model_module": "@jupyter-widgets/base",
          "model_name": "LayoutModel",
          "state": {
            "_view_name": "LayoutView",
            "grid_template_rows": null,
            "right": null,
            "justify_content": null,
            "_view_module": "@jupyter-widgets/base",
            "overflow": null,
            "_model_module_version": "1.2.0",
            "_view_count": null,
            "flex_flow": null,
            "width": null,
            "min_width": null,
            "border": null,
            "align_items": null,
            "bottom": null,
            "_model_module": "@jupyter-widgets/base",
            "top": null,
            "grid_column": null,
            "overflow_y": null,
            "overflow_x": null,
            "grid_auto_flow": null,
            "grid_area": null,
            "grid_template_columns": null,
            "flex": null,
            "_model_name": "LayoutModel",
            "justify_items": null,
            "grid_row": null,
            "max_height": null,
            "align_content": null,
            "visibility": null,
            "align_self": null,
            "height": null,
            "min_height": null,
            "padding": null,
            "grid_auto_rows": null,
            "grid_gap": null,
            "max_width": null,
            "order": null,
            "_view_module_version": "1.2.0",
            "grid_template_areas": null,
            "object_position": null,
            "object_fit": null,
            "grid_auto_columns": null,
            "margin": null,
            "display": null,
            "left": null
          }
        },
        "aa716196e092439ba141edc2999b4093": {
          "model_module": "@jupyter-widgets/controls",
          "model_name": "DescriptionStyleModel",
          "state": {
            "_view_name": "StyleView",
            "_model_name": "DescriptionStyleModel",
            "description_width": "",
            "_view_module": "@jupyter-widgets/base",
            "_model_module_version": "1.5.0",
            "_view_count": null,
            "_view_module_version": "1.2.0",
            "_model_module": "@jupyter-widgets/controls"
          }
        },
        "13b982670250424a82c1715f7a98a077": {
          "model_module": "@jupyter-widgets/base",
          "model_name": "LayoutModel",
          "state": {
            "_view_name": "LayoutView",
            "grid_template_rows": null,
            "right": null,
            "justify_content": null,
            "_view_module": "@jupyter-widgets/base",
            "overflow": null,
            "_model_module_version": "1.2.0",
            "_view_count": null,
            "flex_flow": null,
            "width": null,
            "min_width": null,
            "border": null,
            "align_items": null,
            "bottom": null,
            "_model_module": "@jupyter-widgets/base",
            "top": null,
            "grid_column": null,
            "overflow_y": null,
            "overflow_x": null,
            "grid_auto_flow": null,
            "grid_area": null,
            "grid_template_columns": null,
            "flex": null,
            "_model_name": "LayoutModel",
            "justify_items": null,
            "grid_row": null,
            "max_height": null,
            "align_content": null,
            "visibility": null,
            "align_self": null,
            "height": null,
            "min_height": null,
            "padding": null,
            "grid_auto_rows": null,
            "grid_gap": null,
            "max_width": null,
            "order": null,
            "_view_module_version": "1.2.0",
            "grid_template_areas": null,
            "object_position": null,
            "object_fit": null,
            "grid_auto_columns": null,
            "margin": null,
            "display": null,
            "left": null
          }
        }
      }
    },
    "accelerator": "GPU"
  },
  "cells": [
    {
      "cell_type": "markdown",
      "metadata": {
        "id": "view-in-github",
        "colab_type": "text"
      },
      "source": [
        "<a href=\"https://colab.research.google.com/github/AkshitAggarwal/TSAI_EVA5B2_Phase1/blob/main/Session_04/Assignment_Session04.ipynb\" target=\"_parent\"><img src=\"https://colab.research.google.com/assets/colab-badge.svg\" alt=\"Open In Colab\"/></a>"
      ]
    },
    {
      "cell_type": "code",
      "metadata": {
        "id": "nnTac1BO85Yn"
      },
      "source": [
        "import os\n",
        "import numpy as np\n",
        "import matplotlib.pyplot as plt\n",
        "import torch\n",
        "import torchvision\n",
        "import torch.nn as nn\n",
        "import torch.nn.functional as F\n",
        "import torch.utils as utils \n",
        "import torch.autograd\n",
        "import torch.optim as optim\n",
        "import torchvision.transforms as transforms"
      ],
      "execution_count": 1,
      "outputs": []
    },
    {
      "cell_type": "markdown",
      "metadata": {
        "id": "X1BWwfDCBk2D"
      },
      "source": [
        "#Train Dataset and Train Dataloader"
      ]
    },
    {
      "cell_type": "code",
      "metadata": {
        "colab": {
          "base_uri": "https://localhost:8080/",
          "height": 286,
          "referenced_widgets": [
            "fdcc8ac638ae4244a412d6c87ba87d5d",
            "506015da45a24ba9b43bf6d294283b97",
            "086fa67f36ea4e94a542d45fd15f90fe",
            "cbe71344051448168cefcadc05848e9d",
            "701c647d73d74bcc8582081a43882c0e",
            "06e6ec874c924eeb8bec4ce2a3d2ad5a",
            "aa716196e092439ba141edc2999b4093",
            "13b982670250424a82c1715f7a98a077"
          ]
        },
        "id": "dDdFZpohGLQP",
        "outputId": "fb0d95b9-65f2-4d7f-fc7f-550ef98402ae"
      },
      "source": [
        "train_data = torchvision.datasets.EMNIST(\n",
        "    root ='\\.bin',\n",
        "    download = True,\n",
        "    train = True,\n",
        "    split = 'byclass',\n",
        "    transform = transforms.ToTensor()\n",
        ")\n",
        "\n",
        "train_loader = torch.utils.data.DataLoader(\n",
        "    train_data,\n",
        "    batch_size = 32,\n",
        "    shuffle = True,\n",
        ")"
      ],
      "execution_count": 2,
      "outputs": [
        {
          "output_type": "stream",
          "text": [
            "Downloading and extracting zip archive\n",
            "Downloading http://www.itl.nist.gov/iaui/vip/cs_links/EMNIST/gzip.zip to \\.bin/EMNIST/raw/emnist.zip\n"
          ],
          "name": "stdout"
        },
        {
          "output_type": "display_data",
          "data": {
            "application/vnd.jupyter.widget-view+json": {
              "model_id": "fdcc8ac638ae4244a412d6c87ba87d5d",
              "version_minor": 0,
              "version_major": 2
            },
            "text/plain": [
              "HBox(children=(FloatProgress(value=1.0, bar_style='info', max=1.0), HTML(value='')))"
            ]
          },
          "metadata": {
            "tags": []
          }
        },
        {
          "output_type": "stream",
          "text": [
            "Extracting \\.bin/EMNIST/raw/emnist.zip to \\.bin/EMNIST/raw\n",
            "Processing byclass\n"
          ],
          "name": "stdout"
        },
        {
          "output_type": "stream",
          "text": [
            "/usr/local/lib/python3.6/dist-packages/torchvision/datasets/mnist.py:480: UserWarning: The given NumPy array is not writeable, and PyTorch does not support non-writeable tensors. This means you can write to the underlying (supposedly non-writeable) NumPy array using the tensor. You may want to copy the array to protect its data or make it writeable before converting it to a tensor. This type of warning will be suppressed for the rest of this program. (Triggered internally at  /pytorch/torch/csrc/utils/tensor_numpy.cpp:141.)\n",
            "  return torch.from_numpy(parsed.astype(m[2], copy=False)).view(*s)\n"
          ],
          "name": "stderr"
        },
        {
          "output_type": "stream",
          "text": [
            "Processing bymerge\n",
            "Processing balanced\n",
            "Processing letters\n",
            "Processing digits\n",
            "Processing mnist\n",
            "Done!\n"
          ],
          "name": "stdout"
        }
      ]
    },
    {
      "cell_type": "code",
      "metadata": {
        "colab": {
          "base_uri": "https://localhost:8080/"
        },
        "id": "Me2CIEMVIKFy",
        "outputId": "d280091e-b584-46ef-d057-d56e8fe20fcd"
      },
      "source": [
        "print(len(train_data), len(train_loader)) #Total no. of Training images and Training batches(Each batch has 32 images)"
      ],
      "execution_count": 3,
      "outputs": [
        {
          "output_type": "stream",
          "text": [
            "697932 21811\n"
          ],
          "name": "stdout"
        }
      ]
    },
    {
      "cell_type": "code",
      "metadata": {
        "colab": {
          "base_uri": "https://localhost:8080/"
        },
        "id": "UgZYcRkXIOfm",
        "outputId": "d23e70e1-af69-4ae6-8e25-22b779537f87"
      },
      "source": [
        "print(train_data.train_labels.bincount()) #Individual counts of all classes. Total classes: 62"
      ],
      "execution_count": 4,
      "outputs": [
        {
          "output_type": "stream",
          "text": [
            "tensor([34585, 38374, 34203, 35143, 33535, 31416, 34232, 35754, 33946, 33847,\n",
            "         6407,  3878, 10094,  4562,  4934,  9182,  2517,  3152, 11946,  3762,\n",
            "         2468,  5076,  9002,  8237, 24983,  8347,  2605,  5073, 20764,  9820,\n",
            "        12602,  4637,  4695,  2771,  4743,  2701, 10033,  5159,  2854, 10177,\n",
            "        24631,  2561,  3687,  8738,  2725,  1896,  2491, 15318,  2645, 11418,\n",
            "         2749,  2448,  2994, 14105,  2699, 18262,  2830,  2910,  2697,  2822,\n",
            "         2365,  2725])\n"
          ],
          "name": "stdout"
        },
        {
          "output_type": "stream",
          "text": [
            "/usr/local/lib/python3.6/dist-packages/torchvision/datasets/mnist.py:48: UserWarning: train_labels has been renamed targets\n",
            "  warnings.warn(\"train_labels has been renamed targets\")\n"
          ],
          "name": "stderr"
        }
      ]
    },
    {
      "cell_type": "code",
      "metadata": {
        "colab": {
          "base_uri": "https://localhost:8080/"
        },
        "id": "7Lv-sMe2IYE6",
        "outputId": "f51ec7c6-b419-4c4e-b4cb-ad8e04af6752"
      },
      "source": [
        "type(train_data)"
      ],
      "execution_count": 5,
      "outputs": [
        {
          "output_type": "execute_result",
          "data": {
            "text/plain": [
              "torchvision.datasets.mnist.EMNIST"
            ]
          },
          "metadata": {
            "tags": []
          },
          "execution_count": 5
        }
      ]
    },
    {
      "cell_type": "code",
      "metadata": {
        "colab": {
          "base_uri": "https://localhost:8080/"
        },
        "id": "gao2qubQJcTO",
        "outputId": "73268241-05eb-4e0d-e133-8f9a9799ea76"
      },
      "source": [
        "batch_iterator = next(iter(train_loader))\n",
        "type(batch_iterator)"
      ],
      "execution_count": 6,
      "outputs": [
        {
          "output_type": "execute_result",
          "data": {
            "text/plain": [
              "list"
            ]
          },
          "metadata": {
            "tags": []
          },
          "execution_count": 6
        }
      ]
    },
    {
      "cell_type": "code",
      "metadata": {
        "colab": {
          "base_uri": "https://localhost:8080/"
        },
        "id": "juiccpLAJ10z",
        "outputId": "6ec67ecf-69bc-4b20-e3dc-34530e18fa5e"
      },
      "source": [
        "images, labels = batch_iterator\n",
        "print(images.shape, labels.shape)"
      ],
      "execution_count": 7,
      "outputs": [
        {
          "output_type": "stream",
          "text": [
            "torch.Size([32, 1, 28, 28]) torch.Size([32])\n"
          ],
          "name": "stdout"
        }
      ]
    },
    {
      "cell_type": "code",
      "metadata": {
        "colab": {
          "base_uri": "https://localhost:8080/"
        },
        "id": "Xy4ni2iP4M4u",
        "outputId": "2b055477-75c7-4722-d197-7df77836baf5"
      },
      "source": [
        "sample = next(iter(train_data))\n",
        "print(type(sample))\n",
        "image, label = sample\n",
        "print(image.shape, label)"
      ],
      "execution_count": 8,
      "outputs": [
        {
          "output_type": "stream",
          "text": [
            "<class 'tuple'>\n",
            "torch.Size([1, 28, 28]) 35\n"
          ],
          "name": "stdout"
        }
      ]
    },
    {
      "cell_type": "markdown",
      "metadata": {
        "id": "K6Z93FwABq1w"
      },
      "source": [
        "#Network Architecture"
      ]
    },
    {
      "cell_type": "code",
      "metadata": {
        "id": "JaKL1APJAPX7"
      },
      "source": [
        "class neural_net(nn.Module):\n",
        "  def __init__(self):\n",
        "    super(neural_net, self).__init__()\n",
        "    self.conv1 = nn.Conv2d(in_channels=1, out_channels=10, kernel_size=3) #insize= 1x28x28; outsize= 10x26x26; RF= 3\n",
        "    self.conv2 = nn.Conv2d(in_channels=10, out_channels=10, kernel_size=3) #insize= 10x26x26; outsize= 10x24x24; RF= 5\n",
        "    self.maxp1 = nn.MaxPool2d(kernel_size = 2, stride = 2) #insize= 10x24x24; outsize= 10x12x12; RF= 10\n",
        "    self.conv3 = nn.Conv2d(in_channels=10, out_channels=20, kernel_size=3) #insize= 10x12x12; outsize= 20x10x10; RF= 12\n",
        "    self.conv4 = nn.Conv2d(in_channels=20, out_channels=20, kernel_size=3) #insize= 20x10x10; outsize= 20x8x8; RF= 14\n",
        "    self.maxp2 = nn.MaxPool2d(kernel_size = 2, stride = 2) #insize= 20x8x8; outsize= 20x4x4; RF= 28\n",
        "    self.conv5 = nn.Conv2d(in_channels=20, out_channels=30, kernel_size=3) #insize= 20x4x4; outsize= 30x2x2; RF= 30\n",
        "    self.outconv = nn.Conv2d(in_channels=30, out_channels=62, kernel_size=1) #insize = 30x2x2; outsize= 62x2x2; RF= 30\n",
        "    self.avgpool = nn.AdaptiveAvgPool2d((1, 1)) #insize = 62x2x2; outsize= 62x1x1; RF=?\n",
        "  \n",
        "  def forward(self, t):\n",
        "    t = self.maxp1(F.relu(self.conv2(F.relu(self.conv1(t)))))\n",
        "    t = self.maxp2(F.relu(self.conv4(F.relu(self.conv3(t)))))\n",
        "    t = self.outconv(F.relu(self.conv5(t)))\n",
        "    t = self.avgpool(t)\n",
        "    # t = t.view(-1, 62)\n",
        "    return F.softmax(t, dim = 1)"
      ],
      "execution_count": 20,
      "outputs": []
    },
    {
      "cell_type": "code",
      "metadata": {
        "colab": {
          "base_uri": "https://localhost:8080/"
        },
        "id": "1a0k86nLQ-Cc",
        "outputId": "bc5eeb3f-a602-44db-c049-24cca0d49a4c"
      },
      "source": [
        "network = neural_net()\n",
        "print(network)"
      ],
      "execution_count": 21,
      "outputs": [
        {
          "output_type": "stream",
          "text": [
            "neural_net(\n",
            "  (conv1): Conv2d(1, 10, kernel_size=(3, 3), stride=(1, 1))\n",
            "  (conv2): Conv2d(10, 10, kernel_size=(3, 3), stride=(1, 1))\n",
            "  (maxp1): MaxPool2d(kernel_size=2, stride=2, padding=0, dilation=1, ceil_mode=False)\n",
            "  (conv3): Conv2d(10, 20, kernel_size=(3, 3), stride=(1, 1))\n",
            "  (conv4): Conv2d(20, 20, kernel_size=(3, 3), stride=(1, 1))\n",
            "  (maxp2): MaxPool2d(kernel_size=2, stride=2, padding=0, dilation=1, ceil_mode=False)\n",
            "  (conv5): Conv2d(20, 30, kernel_size=(3, 3), stride=(1, 1))\n",
            "  (outconv): Conv2d(30, 62, kernel_size=(1, 1), stride=(1, 1))\n",
            "  (avgpool): AdaptiveAvgPool2d(output_size=(1, 1))\n",
            ")\n"
          ],
          "name": "stdout"
        }
      ]
    },
    {
      "cell_type": "code",
      "metadata": {
        "colab": {
          "base_uri": "https://localhost:8080/"
        },
        "id": "XrZZl8U5G5Yf",
        "outputId": "c3e3b977-f1c2-482b-f21e-e0400029655d"
      },
      "source": [
        "torch.set_grad_enabled(False)"
      ],
      "execution_count": 22,
      "outputs": [
        {
          "output_type": "execute_result",
          "data": {
            "text/plain": [
              "<torch.autograd.grad_mode.set_grad_enabled at 0x7fa9525f50b8>"
            ]
          },
          "metadata": {
            "tags": []
          },
          "execution_count": 22
        }
      ]
    },
    {
      "cell_type": "code",
      "metadata": {
        "id": "4704sYFb4rSa"
      },
      "source": [
        "pred = network(image.unsqueeze(dim=0)) #Image is a rank-3 tensor, but our model expects a rank-4 'batch-like' tensor.\n",
        "# print(pred.squeeze().shape) "
      ],
      "execution_count": 23,
      "outputs": []
    },
    {
      "cell_type": "code",
      "metadata": {
        "colab": {
          "base_uri": "https://localhost:8080/"
        },
        "id": "d0EkZAFLGnv1",
        "outputId": "399cb412-b0e5-4ea9-b1ae-4e7199341b9c"
      },
      "source": [
        "print(pred.shape)\n",
        "# pred.eq(label)\n",
        "print(pred.squeeze())"
      ],
      "execution_count": 24,
      "outputs": [
        {
          "output_type": "stream",
          "text": [
            "torch.Size([1, 62, 1, 1])\n",
            "tensor([0.0192, 0.0179, 0.0180, 0.0160, 0.0176, 0.0145, 0.0134, 0.0173, 0.0174,\n",
            "        0.0136, 0.0165, 0.0162, 0.0185, 0.0174, 0.0186, 0.0152, 0.0134, 0.0164,\n",
            "        0.0191, 0.0162, 0.0165, 0.0186, 0.0166, 0.0135, 0.0195, 0.0142, 0.0142,\n",
            "        0.0164, 0.0139, 0.0172, 0.0168, 0.0149, 0.0170, 0.0182, 0.0170, 0.0148,\n",
            "        0.0179, 0.0141, 0.0176, 0.0145, 0.0133, 0.0141, 0.0152, 0.0135, 0.0165,\n",
            "        0.0180, 0.0143, 0.0175, 0.0182, 0.0148, 0.0172, 0.0157, 0.0145, 0.0191,\n",
            "        0.0164, 0.0139, 0.0150, 0.0174, 0.0141, 0.0141, 0.0166, 0.0151])\n"
          ],
          "name": "stdout"
        }
      ]
    },
    {
      "cell_type": "code",
      "metadata": {
        "colab": {
          "base_uri": "https://localhost:8080/"
        },
        "id": "zcar7edzFdxq",
        "outputId": "a65d9745-e811-41be-a036-6562da1169a0"
      },
      "source": [
        "print(torch.sum(pred.squeeze()))"
      ],
      "execution_count": 25,
      "outputs": [
        {
          "output_type": "stream",
          "text": [
            "tensor(1.)\n"
          ],
          "name": "stdout"
        }
      ]
    },
    {
      "cell_type": "code",
      "metadata": {
        "colab": {
          "base_uri": "https://localhost:8080/"
        },
        "id": "vXgCsk3rHf5A",
        "outputId": "14442103-c63d-49df-f0f3-ff84b836f2f2"
      },
      "source": [
        "pred.argmax(dim=1).squeeze() == label"
      ],
      "execution_count": 32,
      "outputs": [
        {
          "output_type": "execute_result",
          "data": {
            "text/plain": [
              "tensor(False)"
            ]
          },
          "metadata": {
            "tags": []
          },
          "execution_count": 32
        }
      ]
    },
    {
      "cell_type": "markdown",
      "metadata": {
        "id": "02jVVLkMIBkx"
      },
      "source": [
        "Testing with a bunch of images. "
      ]
    },
    {
      "cell_type": "code",
      "metadata": {
        "colab": {
          "base_uri": "https://localhost:8080/"
        },
        "id": "E72s4EkTIHw4",
        "outputId": "69054609-a2a4-4af4-ec95-585b280d526e"
      },
      "source": [
        "batch = next(iter(train_loader))\n",
        "print(type(batch), len(batch))\n",
        "images, labels = batch\n",
        "print(images.shape, labels.shape)"
      ],
      "execution_count": 33,
      "outputs": [
        {
          "output_type": "stream",
          "text": [
            "<class 'list'> 2\n",
            "torch.Size([32, 1, 28, 28]) torch.Size([32])\n"
          ],
          "name": "stdout"
        }
      ]
    },
    {
      "cell_type": "code",
      "metadata": {
        "colab": {
          "base_uri": "https://localhost:8080/"
        },
        "id": "alo49fvTIXxu",
        "outputId": "d4878ba1-002a-4c28-fd70-8a9c55a17cc4"
      },
      "source": [
        "preds = network(images)\n",
        "print(preds.shape)"
      ],
      "execution_count": 34,
      "outputs": [
        {
          "output_type": "stream",
          "text": [
            "torch.Size([32, 62, 1, 1])\n"
          ],
          "name": "stdout"
        }
      ]
    },
    {
      "cell_type": "code",
      "metadata": {
        "colab": {
          "base_uri": "https://localhost:8080/"
        },
        "id": "giniFrhDBzUw",
        "outputId": "4cb03630-290d-4548-e12d-d9483353ce3e"
      },
      "source": [
        "# for param in network.parameters():\n",
        "  # print(param.shape)\n",
        "for name, param in network.named_parameters():\n",
        "  print(name, '\\t\\t', param.shape)"
      ],
      "execution_count": 36,
      "outputs": [
        {
          "output_type": "stream",
          "text": [
            "conv1.weight \t\t torch.Size([10, 1, 3, 3])\n",
            "conv1.bias \t\t torch.Size([10])\n",
            "conv2.weight \t\t torch.Size([10, 10, 3, 3])\n",
            "conv2.bias \t\t torch.Size([10])\n",
            "conv3.weight \t\t torch.Size([20, 10, 3, 3])\n",
            "conv3.bias \t\t torch.Size([20])\n",
            "conv4.weight \t\t torch.Size([20, 20, 3, 3])\n",
            "conv4.bias \t\t torch.Size([20])\n",
            "conv5.weight \t\t torch.Size([30, 20, 3, 3])\n",
            "conv5.bias \t\t torch.Size([30])\n",
            "outconv.weight \t\t torch.Size([62, 30, 1, 1])\n",
            "outconv.bias \t\t torch.Size([62])\n"
          ],
          "name": "stdout"
        }
      ]
    },
    {
      "cell_type": "markdown",
      "metadata": {
        "id": "H3KUXmfpIxV_"
      },
      "source": [
        "#Shifting the model onto a GPU"
      ]
    },
    {
      "cell_type": "code",
      "metadata": {
        "colab": {
          "base_uri": "https://localhost:8080/"
        },
        "id": "S9WEM0TtDBdC",
        "outputId": "bbdbdc49-8b7d-439a-c1c7-8d2d4d935f1f"
      },
      "source": [
        "from torchsummary import summary\n",
        "device = torch.device(\"cuda\" if torch.cuda.is_available() else \"cpu\")\n",
        "model = neural_net().to(device)\n",
        "summary(model, input_size=(1, 28, 28))"
      ],
      "execution_count": 40,
      "outputs": [
        {
          "output_type": "stream",
          "text": [
            "----------------------------------------------------------------\n",
            "        Layer (type)               Output Shape         Param #\n",
            "================================================================\n",
            "            Conv2d-1           [-1, 10, 26, 26]             100\n",
            "            Conv2d-2           [-1, 10, 24, 24]             910\n",
            "         MaxPool2d-3           [-1, 10, 12, 12]               0\n",
            "            Conv2d-4           [-1, 20, 10, 10]           1,820\n",
            "            Conv2d-5             [-1, 20, 8, 8]           3,620\n",
            "         MaxPool2d-6             [-1, 20, 4, 4]               0\n",
            "            Conv2d-7             [-1, 30, 2, 2]           5,430\n",
            "            Conv2d-8             [-1, 62, 2, 2]           1,922\n",
            " AdaptiveAvgPool2d-9             [-1, 62, 1, 1]               0\n",
            "================================================================\n",
            "Total params: 13,802\n",
            "Trainable params: 13,802\n",
            "Non-trainable params: 0\n",
            "----------------------------------------------------------------\n",
            "Input size (MB): 0.00\n",
            "Forward/backward pass size (MB): 0.14\n",
            "Params size (MB): 0.05\n",
            "Estimated Total Size (MB): 0.19\n",
            "----------------------------------------------------------------\n"
          ],
          "name": "stdout"
        }
      ]
    },
    {
      "cell_type": "code",
      "metadata": {
        "colab": {
          "base_uri": "https://localhost:8080/"
        },
        "id": "zv6qGRG_J4xw",
        "outputId": "ec7b1792-5566-4a11-bcee-655c154ba66f"
      },
      "source": [
        "#Changing Autograd Universally back to True\n",
        "torch.set_grad_enabled(True)"
      ],
      "execution_count": 41,
      "outputs": [
        {
          "output_type": "execute_result",
          "data": {
            "text/plain": [
              "<torch.autograd.grad_mode.set_grad_enabled at 0x7fa94a4cedd8>"
            ]
          },
          "metadata": {
            "tags": []
          },
          "execution_count": 41
        }
      ]
    },
    {
      "cell_type": "code",
      "metadata": {
        "id": "b26CqcANKl_H"
      },
      "source": [
        ""
      ],
      "execution_count": null,
      "outputs": []
    }
  ]
}